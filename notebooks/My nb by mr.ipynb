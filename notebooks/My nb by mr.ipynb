{
 "cells": [
  {
   "cell_type": "markdown",
   "metadata": {
    "tags": [
     "essential_load_on_startup"
    ]
   },
   "source": [
    "# Introduction"
   ]
  },
  {
   "cell_type": "markdown",
   "metadata": {
    "tags": [
     "essential_load_on_startup"
    ]
   },
   "source": [
    "## Imports"
   ]
  },
  {
   "cell_type": "code",
   "execution_count": 1,
   "metadata": {
    "tags": [
     "essential_load_on_startup"
    ]
   },
   "outputs": [],
   "source": [
    "import pandas as pd\n",
    "\n",
    "import numpy as np\n",
    "\n",
    "import os"
   ]
  },
  {
   "cell_type": "code",
   "execution_count": 2,
   "metadata": {},
   "outputs": [],
   "source": [
    "# This will allow you to see all column names & rows when you are doing .head(). None of the column name will be truncated.\n",
    "# source: https://stackoverflow.com/questions/49188960/how-to-show-all-of-columns-name-on-pandas-dataframe\n",
    "\n",
    "pd.set_option('display.max_columns', None)\n",
    "# pd.set_option('display.max_rows', None)"
   ]
  },
  {
   "cell_type": "markdown",
   "metadata": {},
   "source": [
    "## Data info"
   ]
  },
  {
   "cell_type": "code",
   "execution_count": 3,
   "metadata": {
    "tags": [
     "essential_load_on_startup"
    ]
   },
   "outputs": [
    {
     "name": "stdout",
     "output_type": "stream",
     "text": [
      "auctions.csv\t\t\t\t\t\t2412.11824\n",
      ".ipynb_checkpoints\t\t\t\t\t\t0.004096\n",
      "target_competencia_ids.csv\t\t\t\t\t\t0.200915\n",
      "installs.csv\t\t\t\t\t\t123.502317\n",
      "desc.json\t\t\t\t\t\t0.009146\n",
      "Recomendaciones y aclaraciones.docx\t\t\t\t\t\t0.006909\n",
      "clicks.csv\t\t\t\t\t\t16.147446\n",
      "events.csv\t\t\t\t\t\t2252.988966\n"
     ]
    }
   ],
   "source": [
    "for file in os.listdir('../data/'):\n",
    "    print(file + '\\t\\t\\t\\t\\t\\t' + str(os.stat(\"../data/\" + file).st_size/1000000))"
   ]
  },
  {
   "cell_type": "markdown",
   "metadata": {},
   "source": [
    "# Useful functions"
   ]
  },
  {
   "cell_type": "markdown",
   "metadata": {},
   "source": [
    "## General"
   ]
  },
  {
   "cell_type": "code",
   "execution_count": 4,
   "metadata": {
    "tags": [
     "essential_load_on_startup"
    ]
   },
   "outputs": [],
   "source": [
    "# days to consider\n",
    "all_days = [18,19,20,21,22,23,24,25,26]"
   ]
  },
  {
   "cell_type": "markdown",
   "metadata": {},
   "source": [
    "### Target related"
   ]
  },
  {
   "cell_type": "code",
   "execution_count": 5,
   "metadata": {
    "tags": [
     "essential_load_on_startup"
    ]
   },
   "outputs": [],
   "source": [
    "# load target\n",
    "def load_target():\n",
    "    target = pd.read_csv('../data/target_competencia_ids.csv')\n",
    "\n",
    "    # to avoid misunderstandings with data when predicting, and avoid accidentally predicting value zero\n",
    "#     target.obj = np.nan\n",
    "    \n",
    "    return target\n",
    "\n",
    "# para que quede cargado desde el principio\n",
    "target = load_target()\n",
    "\n",
    "# target ids related\n",
    "def get_target_ids():\n",
    "    \"\"\" get all target ids \"\"\"\n",
    "    return target['ref_hash'].apply(lambda x: x[:-3]).unique()\n",
    "\n",
    "def get_target_ids_chunk(chunk_num):\n",
    "    \"\"\" chunk num can go from 1 to 41 \"\"\"\n",
    "    chunk_size = 100\n",
    "    start = (chunk_num - 1) * chunk_size\n",
    "    stop = chunk_size * chunk_num\n",
    "    return get_target_ids()[start:stop]"
   ]
  },
  {
   "cell_type": "markdown",
   "metadata": {},
   "source": [
    "### Predictions related"
   ]
  },
  {
   "cell_type": "code",
   "execution_count": 6,
   "metadata": {
    "tags": [
     "essential_load_on_startup"
    ]
   },
   "outputs": [],
   "source": [
    "# para guardar predicciones\n",
    "import time\n",
    "def _get_filename(my_name, timestamp):\n",
    "    return \"../predictions/\" + timestamp + \" by \" + my_name + \".csv\"\n",
    "\n",
    "def _save_description(authors_name, timestamp, submission_description):\n",
    "    f = open(\"../predictions/\" + authors_name + \".txt\",\"a\")\n",
    "    f.write(timestamp + \": \" + submission_description + '\\n')\n",
    "    f.close()\n",
    "\n",
    "def save_submission(submission_df, authors_name=\"mati\", description = \"no description\"):\n",
    "    timestamp = time.strftime(\"%Y.%m.%d - %H:%M:%S\")\n",
    "    submission_df.to_csv(_get_filename(authors_name, timestamp), index=False)\n",
    "    _save_description(authors_name, timestamp, description)"
   ]
  },
  {
   "cell_type": "code",
   "execution_count": 7,
   "metadata": {},
   "outputs": [],
   "source": [
    "def update_predictions(target_df, new_values, value_column_name, suffix):\n",
    "    \"\"\"\n",
    "    adds predictions from value_column_name from new_values df\n",
    "    to target_df merging by ref_hash and the given suffix \n",
    "    suffix: \"_st\" for auction prediction\n",
    "            \"_sc\" for conversion prediction\n",
    "    \"\"\"\n",
    "    new_values['ref_hash'] = new_values['ref_hash'] + suffix\n",
    "    \n",
    "    target_df = target_df.merge(new_values[['ref_hash',value_column_name]], how='left', on='ref_hash')\n",
    "    \n",
    "    target_df.fillna(0, inplace=True)\n",
    "    \n",
    "#     assign values to 'obj' column and remove the column added on merge.\n",
    "#     after sum, fillna is needed because there are values which are left as NaNs.\n",
    "    target_df['obj'] = target_df['obj'] + target_df[value_column_name]\n",
    "    \n",
    "    target_df.drop([value_column_name], axis='columns', inplace=True)\n",
    "    return target_df"
   ]
  },
  {
   "cell_type": "code",
   "execution_count": 8,
   "metadata": {
    "tags": [
     "essential_load_on_startup"
    ]
   },
   "outputs": [],
   "source": [
    "# play a sound\n",
    "import os\n",
    "def ring(duration = 1, freq = 1500):\n",
    "    \"\"\" play tone of duration in seconds and freq in Hz. \"\"\"\n",
    "    os.system('play --no-show-progress --null --channels 1 synth %s sine %f' % (duration, freq))"
   ]
  },
  {
   "cell_type": "markdown",
   "metadata": {},
   "source": [
    "## Dfs loading functions"
   ]
  },
  {
   "cell_type": "markdown",
   "metadata": {},
   "source": [
    "### Clicks"
   ]
  },
  {
   "cell_type": "code",
   "execution_count": 9,
   "metadata": {
    "tags": [
     "essential_load_on_startup"
    ]
   },
   "outputs": [],
   "source": [
    "clicks_dtypes = {'advertiser_id':'category',\n",
    "                 'action_id':'category',\n",
    "                 'source_id':'category',\n",
    "                 'country_code':'category',\n",
    "                 'latitude':'float64',\n",
    "                 'longitude':'float64',\n",
    "                 'wifi_connection':'bool',\n",
    "                 'carrier_id':'category',\n",
    "                 'trans_id':'category',\n",
    "                 'os_minor':'category',\n",
    "                 'agent_device':'category',\n",
    "                 'os_major':'category',\n",
    "                 'specs_brand':'category',\n",
    "                 'brand':'category',\n",
    "                 'timeToClick':'float64',\n",
    "                 'touchX':'object',\n",
    "                 'touchY':'object',\n",
    "                 'ref_type':'category',\n",
    "                 'ref_hash':'category'}\n",
    "\n",
    "def load_clicks(users=get_target_ids(), days=all_days):\n",
    "    \"\"\"\n",
    "    load clicks csv, only users and days specified in users and days lists.\n",
    "    If lists left empty, consider whole set of users and days respectively.\n",
    "    \"\"\"\n",
    "    \n",
    "    iter_clicks = pd.read_csv('../data/clicks.csv', engine='c', dtype=clicks_dtypes, parse_dates=['created'], chunksize=10000)\n",
    "    \n",
    "    def load_condition(chunk):\n",
    "        return chunk['ref_hash'].isin(users) & chunk['created'].dt.day.isin(days)\n",
    "    \n",
    "    df = pd.concat(chunk.loc[load_condition(chunk)] for chunk in iter_clicks)\n",
    "    \n",
    "    df.rename(columns={'created':'date'}, inplace=True)\n",
    "    \n",
    "    df['date'] = df['date'].dt.tz_localize(None)\n",
    "    \n",
    "    return df"
   ]
  },
  {
   "cell_type": "markdown",
   "metadata": {},
   "source": [
    "### Installs"
   ]
  },
  {
   "cell_type": "code",
   "execution_count": 10,
   "metadata": {
    "tags": [
     "essential_load_on_startup"
    ]
   },
   "outputs": [],
   "source": [
    "installs_dtypes = {\"application_id\":          \"category\",\n",
    "                   \"ref_type\":                \"category\",\n",
    "                   \"ref_hash\":                \"object\",\n",
    "                   \"click_hash\":             \"category\",\n",
    "                   \"attributed\":               \"bool\",\n",
    "                   \"implicit\":                 \"bool\",\n",
    "                   \"device_countrycode\":      \"category\",\n",
    "                   \"device_brand\":          \"category\",\n",
    "                   \"device_model\":          \"category\",\n",
    "                   \"session_user_agent\":     \"category\",\n",
    "                   \"user_agent\":             \"category\",\n",
    "                   \"event_uuid\":             \"category\",\n",
    "                   \"kind\":                   \"category\",\n",
    "                   \"wifi\":                   \"category\",\n",
    "                   \"trans_id\":               \"category\",\n",
    "                   \"ip_address\":              \"category\",\n",
    "                   \"device_language\":       \"category\"}\n",
    "\n",
    "def load_installs(users=get_target_ids(), days=all_days):\n",
    "    \"\"\"\n",
    "    load installs csv, only users and days specified in users and days lists.\n",
    "    If lists left empty, consider whole set of users and days respectively.\n",
    "    \"\"\"\n",
    "    \n",
    "    df_installs = pd.read_csv('../data/installs.csv', engine='c', dtype=installs_dtypes, parse_dates=['created'])\n",
    "    \n",
    "    def load_condition(df):\n",
    "        return df['ref_hash'].isin(users) & df['created'].dt.day.isin(days)\n",
    "    \n",
    "    df = df_installs.loc[load_condition(df_installs)].copy()\n",
    "    \n",
    "    df.rename(columns={'created':'date'}, inplace=True)\n",
    "    \n",
    "    return df"
   ]
  },
  {
   "cell_type": "markdown",
   "metadata": {},
   "source": [
    "### Events"
   ]
  },
  {
   "cell_type": "code",
   "execution_count": 11,
   "metadata": {
    "tags": [
     "essential_load_on_startup"
    ]
   },
   "outputs": [],
   "source": [
    "events_dtypes = {\"index\":                   \"category\",\n",
    "                 \"event_id\":                \"category\",\n",
    "                 \"ref_type\":                \"category\",\n",
    "                 \"ref_hash\":                \"category\",\n",
    "                 \"application_id\":          \"category\",\n",
    "                 \"attributed\":               \"bool\",\n",
    "                 \"device_countrycode\":      \"category\",\n",
    "                 \"device_os_version\":     \"category\",\n",
    "                 \"device_brand\":          \"category\",\n",
    "                 \"device_model\":          \"category\",\n",
    "                 \"device_city\":           \"category\",\n",
    "                 \"session_user_agent\":    \"category\",\n",
    "                 \"trans_id\":               \"category\",\n",
    "                 \"user_agent\":            \"category\",\n",
    "                 \"event_uuid\":             \"category\",\n",
    "                 \"carrier\":               \"category\",\n",
    "                 \"kind\":                  \"category\",\n",
    "                 \"device_os\":             \"category\",\n",
    "                 \"wifi\":                     \"bool\",\n",
    "                 \"connection_type\":        \"category\",\n",
    "                 \"ip_address\":              \"category\",\n",
    "                 \"device_language\":       \"category\"}\n",
    "\n",
    "def load_events(users=get_target_ids(), days=all_days):\n",
    "    \"\"\"\n",
    "    load events csv, only users and days specified in users and days lists.\n",
    "    If lists left empty, consider whole set of users and days respectively.\n",
    "    \"\"\"\n",
    "    \n",
    "    iter_events = pd.read_csv('../data/events.csv', engine='c', dtype=events_dtypes, parse_dates=['date'], chunksize=10000)\n",
    "    \n",
    "    def load_condition(chunk):\n",
    "        return chunk['ref_hash'].isin(users) & chunk['date'].dt.day.isin(days)\n",
    "    \n",
    "    df = pd.concat(chunk.loc[load_condition(chunk)] for chunk in iter_events)\n",
    "    \n",
    "    return df"
   ]
  },
  {
   "cell_type": "markdown",
   "metadata": {},
   "source": [
    "### Auctions"
   ]
  },
  {
   "cell_type": "code",
   "execution_count": 12,
   "metadata": {
    "tags": [
     "essential_load_on_startup"
    ]
   },
   "outputs": [],
   "source": [
    "auctions_dtypes = {'device_id':'category',\n",
    "                 'ref_type_id':'category',\n",
    "                 'source_id':'category'}\n",
    "\n",
    "def load_auctions(users=get_target_ids(), days=all_days):\n",
    "    \"\"\" load auctions csv, only users and days specified in users and days lists.\n",
    "    If lists left empty, consider whole set of users and days respectively.\"\"\"\n",
    "    iter_auctions = pd.read_csv('../data/auctions.csv', engine='c', dtype=auctions_dtypes, parse_dates=['date'], chunksize=10000)\n",
    "    def load_condition(chunk):\n",
    "        return chunk['device_id'].isin(users) & chunk['date'].dt.day.isin(days)\n",
    "    df = pd.concat(chunk.loc[load_condition(chunk)] for chunk in iter_auctions)\n",
    "    \n",
    "    df.rename(columns={'device_id':'ref_hash'}, inplace=True)\n",
    "    \n",
    "    return df"
   ]
  },
  {
   "cell_type": "markdown",
   "metadata": {},
   "source": [
    "# Recommended bibliography"
   ]
  },
  {
   "cell_type": "markdown",
   "metadata": {},
   "source": [
    "- [Lifelines: Survival Analysis in Python](https://www.youtube.com/watch?v=XQfxndJH4UA): Introduction to survival analysis and the lifelines lib in python. Shows simple example (aka, theres code!!)\n",
    "- [Tristan Boudreault | Survival analysis for conversion rates](https://www.youtube.com/watch?v=oui1hx2bM2o): Estudio de caso: Shopify. From pyData conference in Amsterdam\n",
    "- [Introduction to survival analysis](https://lifelines.readthedocs.io/en/latest/Survival%20Analysis%20intro.html#introduction-to-survival-analysis): by lifelines"
   ]
  },
  {
   "cell_type": "markdown",
   "metadata": {},
   "source": [
    "#### Pseudo resumen de cosas utiles para aplicar\n",
    "Para survival analysis se necesitan dos cosas:\n",
    "- an array of durations\n",
    "- either a boolean or binary array representing whether the “death” was observed or not (alternatively an individual can be censored)."
   ]
  },
  {
   "cell_type": "markdown",
   "metadata": {},
   "source": [
    "# Un vistazo sobre los dfs"
   ]
  },
  {
   "cell_type": "markdown",
   "metadata": {},
   "source": [
    "## Clicks"
   ]
  },
  {
   "cell_type": "code",
   "execution_count": 136,
   "metadata": {},
   "outputs": [],
   "source": [
    "df = load_clicks(get_target_ids_chunk(1), all_days[:3])"
   ]
  },
  {
   "cell_type": "code",
   "execution_count": 137,
   "metadata": {},
   "outputs": [
    {
     "data": {
      "text/html": [
       "<div>\n",
       "<style scoped>\n",
       "    .dataframe tbody tr th:only-of-type {\n",
       "        vertical-align: middle;\n",
       "    }\n",
       "\n",
       "    .dataframe tbody tr th {\n",
       "        vertical-align: top;\n",
       "    }\n",
       "\n",
       "    .dataframe thead th {\n",
       "        text-align: right;\n",
       "    }\n",
       "</style>\n",
       "<table border=\"1\" class=\"dataframe\">\n",
       "  <thead>\n",
       "    <tr style=\"text-align: right;\">\n",
       "      <th></th>\n",
       "      <th>advertiser_id</th>\n",
       "      <th>action_id</th>\n",
       "      <th>source_id</th>\n",
       "      <th>created</th>\n",
       "      <th>country_code</th>\n",
       "      <th>latitude</th>\n",
       "      <th>longitude</th>\n",
       "      <th>wifi_connection</th>\n",
       "      <th>carrier_id</th>\n",
       "      <th>trans_id</th>\n",
       "      <th>os_minor</th>\n",
       "      <th>agent_device</th>\n",
       "      <th>os_major</th>\n",
       "      <th>specs_brand</th>\n",
       "      <th>brand</th>\n",
       "      <th>timeToClick</th>\n",
       "      <th>touchX</th>\n",
       "      <th>touchY</th>\n",
       "      <th>ref_type</th>\n",
       "      <th>ref_hash</th>\n",
       "    </tr>\n",
       "  </thead>\n",
       "  <tbody>\n",
       "    <tr>\n",
       "      <th>11899</th>\n",
       "      <td>2</td>\n",
       "      <td>NaN</td>\n",
       "      <td>1</td>\n",
       "      <td>2019-04-20 04:23:39.214000+00:00</td>\n",
       "      <td>6287817205707153877</td>\n",
       "      <td>1.771786</td>\n",
       "      <td>0.850556</td>\n",
       "      <td>True</td>\n",
       "      <td>1.0</td>\n",
       "      <td>2erPcX11IzP-xXiSiUTEOtMKiIKd9lQ</td>\n",
       "      <td>1.5176438893491397e+18</td>\n",
       "      <td>NaN</td>\n",
       "      <td>5.131615556736863e+18</td>\n",
       "      <td>3576558787748411622</td>\n",
       "      <td>NaN</td>\n",
       "      <td>NaN</td>\n",
       "      <td>NaN</td>\n",
       "      <td>NaN</td>\n",
       "      <td>1891515180541284343</td>\n",
       "      <td>1102680423242413676</td>\n",
       "    </tr>\n",
       "    <tr>\n",
       "      <th>11922</th>\n",
       "      <td>2</td>\n",
       "      <td>NaN</td>\n",
       "      <td>1</td>\n",
       "      <td>2019-04-20 04:30:28.785000+00:00</td>\n",
       "      <td>6287817205707153877</td>\n",
       "      <td>1.771786</td>\n",
       "      <td>0.850556</td>\n",
       "      <td>True</td>\n",
       "      <td>1.0</td>\n",
       "      <td>xXnQL1gGPzqGs-BFn45NS9i5gkZsIqU</td>\n",
       "      <td>1.5176438893491397e+18</td>\n",
       "      <td>NaN</td>\n",
       "      <td>5.131615556736863e+18</td>\n",
       "      <td>3576558787748411622</td>\n",
       "      <td>NaN</td>\n",
       "      <td>403.314</td>\n",
       "      <td>0.933</td>\n",
       "      <td>1.093</td>\n",
       "      <td>1891515180541284343</td>\n",
       "      <td>1102680423242413676</td>\n",
       "    </tr>\n",
       "    <tr>\n",
       "      <th>25085</th>\n",
       "      <td>2</td>\n",
       "      <td>NaN</td>\n",
       "      <td>1</td>\n",
       "      <td>2019-04-18 16:55:31.227000+00:00</td>\n",
       "      <td>6287817205707153877</td>\n",
       "      <td>1.791655</td>\n",
       "      <td>0.855685</td>\n",
       "      <td>True</td>\n",
       "      <td>1.0</td>\n",
       "      <td>2nebL7UP8AoozSeLGQW1p6f78TATevg</td>\n",
       "      <td>1.5176438893491397e+18</td>\n",
       "      <td>NaN</td>\n",
       "      <td>5.131615556736863e+18</td>\n",
       "      <td>3576558787748411622</td>\n",
       "      <td>NaN</td>\n",
       "      <td>115.522</td>\n",
       "      <td>0.579</td>\n",
       "      <td>1.407</td>\n",
       "      <td>1891515180541284343</td>\n",
       "      <td>1102680423242413676</td>\n",
       "    </tr>\n",
       "    <tr>\n",
       "      <th>61291</th>\n",
       "      <td>1</td>\n",
       "      <td>NaN</td>\n",
       "      <td>1</td>\n",
       "      <td>2019-04-20 19:53:18.984000+00:00</td>\n",
       "      <td>6287817205707153877</td>\n",
       "      <td>1.714538</td>\n",
       "      <td>0.871000</td>\n",
       "      <td>False</td>\n",
       "      <td>11.0</td>\n",
       "      <td>pXaVgJhWiXXTvNY3H0OgmA5V1HOjmWI</td>\n",
       "      <td>1.5176438893491397e+18</td>\n",
       "      <td>NaN</td>\n",
       "      <td>5.131615556736863e+18</td>\n",
       "      <td>71913840936116953</td>\n",
       "      <td>NaN</td>\n",
       "      <td>0.838</td>\n",
       "      <td>0.118</td>\n",
       "      <td>0.020</td>\n",
       "      <td>1891515180541284343</td>\n",
       "      <td>1058525390691423513</td>\n",
       "    </tr>\n",
       "    <tr>\n",
       "      <th>63806</th>\n",
       "      <td>1</td>\n",
       "      <td>NaN</td>\n",
       "      <td>1</td>\n",
       "      <td>2019-04-19 12:46:43.763000+00:00</td>\n",
       "      <td>6287817205707153877</td>\n",
       "      <td>1.713614</td>\n",
       "      <td>0.870279</td>\n",
       "      <td>True</td>\n",
       "      <td>1.0</td>\n",
       "      <td>-USvZQZBbN-CmUmaxwghWUUJA1dNnx4</td>\n",
       "      <td>1.5176438893491397e+18</td>\n",
       "      <td>NaN</td>\n",
       "      <td>5.131615556736863e+18</td>\n",
       "      <td>71913840936116953</td>\n",
       "      <td>NaN</td>\n",
       "      <td>17.752</td>\n",
       "      <td>0.359</td>\n",
       "      <td>1.247</td>\n",
       "      <td>1891515180541284343</td>\n",
       "      <td>1058525390691423513</td>\n",
       "    </tr>\n",
       "  </tbody>\n",
       "</table>\n",
       "</div>"
      ],
      "text/plain": [
       "      advertiser_id action_id source_id                          created  \\\n",
       "11899             2       NaN         1 2019-04-20 04:23:39.214000+00:00   \n",
       "11922             2       NaN         1 2019-04-20 04:30:28.785000+00:00   \n",
       "25085             2       NaN         1 2019-04-18 16:55:31.227000+00:00   \n",
       "61291             1       NaN         1 2019-04-20 19:53:18.984000+00:00   \n",
       "63806             1       NaN         1 2019-04-19 12:46:43.763000+00:00   \n",
       "\n",
       "              country_code  latitude  longitude  wifi_connection carrier_id  \\\n",
       "11899  6287817205707153877  1.771786   0.850556             True        1.0   \n",
       "11922  6287817205707153877  1.771786   0.850556             True        1.0   \n",
       "25085  6287817205707153877  1.791655   0.855685             True        1.0   \n",
       "61291  6287817205707153877  1.714538   0.871000            False       11.0   \n",
       "63806  6287817205707153877  1.713614   0.870279             True        1.0   \n",
       "\n",
       "                              trans_id                os_minor agent_device  \\\n",
       "11899  2erPcX11IzP-xXiSiUTEOtMKiIKd9lQ  1.5176438893491397e+18          NaN   \n",
       "11922  xXnQL1gGPzqGs-BFn45NS9i5gkZsIqU  1.5176438893491397e+18          NaN   \n",
       "25085  2nebL7UP8AoozSeLGQW1p6f78TATevg  1.5176438893491397e+18          NaN   \n",
       "61291  pXaVgJhWiXXTvNY3H0OgmA5V1HOjmWI  1.5176438893491397e+18          NaN   \n",
       "63806  -USvZQZBbN-CmUmaxwghWUUJA1dNnx4  1.5176438893491397e+18          NaN   \n",
       "\n",
       "                    os_major          specs_brand brand  timeToClick touchX  \\\n",
       "11899  5.131615556736863e+18  3576558787748411622   NaN          NaN    NaN   \n",
       "11922  5.131615556736863e+18  3576558787748411622   NaN      403.314  0.933   \n",
       "25085  5.131615556736863e+18  3576558787748411622   NaN      115.522  0.579   \n",
       "61291  5.131615556736863e+18    71913840936116953   NaN        0.838  0.118   \n",
       "63806  5.131615556736863e+18    71913840936116953   NaN       17.752  0.359   \n",
       "\n",
       "      touchY             ref_type             ref_hash  \n",
       "11899    NaN  1891515180541284343  1102680423242413676  \n",
       "11922  1.093  1891515180541284343  1102680423242413676  \n",
       "25085  1.407  1891515180541284343  1102680423242413676  \n",
       "61291  0.020  1891515180541284343  1058525390691423513  \n",
       "63806  1.247  1891515180541284343  1058525390691423513  "
      ]
     },
     "execution_count": 137,
     "metadata": {},
     "output_type": "execute_result"
    }
   ],
   "source": [
    "df.head()"
   ]
  },
  {
   "cell_type": "markdown",
   "metadata": {},
   "source": [
    "## Installs"
   ]
  },
  {
   "cell_type": "code",
   "execution_count": 141,
   "metadata": {},
   "outputs": [],
   "source": [
    "df = load_installs(get_target_ids_chunk(1), all_days[:3])"
   ]
  },
  {
   "cell_type": "code",
   "execution_count": 142,
   "metadata": {},
   "outputs": [
    {
     "data": {
      "text/html": [
       "<div>\n",
       "<style scoped>\n",
       "    .dataframe tbody tr th:only-of-type {\n",
       "        vertical-align: middle;\n",
       "    }\n",
       "\n",
       "    .dataframe tbody tr th {\n",
       "        vertical-align: top;\n",
       "    }\n",
       "\n",
       "    .dataframe thead th {\n",
       "        text-align: right;\n",
       "    }\n",
       "</style>\n",
       "<table border=\"1\" class=\"dataframe\">\n",
       "  <thead>\n",
       "    <tr style=\"text-align: right;\">\n",
       "      <th></th>\n",
       "      <th>created</th>\n",
       "      <th>application_id</th>\n",
       "      <th>ref_type</th>\n",
       "      <th>ref_hash</th>\n",
       "      <th>click_hash</th>\n",
       "      <th>attributed</th>\n",
       "      <th>implicit</th>\n",
       "      <th>device_countrycode</th>\n",
       "      <th>device_brand</th>\n",
       "      <th>device_model</th>\n",
       "      <th>session_user_agent</th>\n",
       "      <th>user_agent</th>\n",
       "      <th>event_uuid</th>\n",
       "      <th>kind</th>\n",
       "      <th>wifi</th>\n",
       "      <th>trans_id</th>\n",
       "      <th>ip_address</th>\n",
       "      <th>device_language</th>\n",
       "    </tr>\n",
       "  </thead>\n",
       "  <tbody>\n",
       "    <tr>\n",
       "      <th>7016</th>\n",
       "      <td>2019-04-19 02:37:34.033</td>\n",
       "      <td>14</td>\n",
       "      <td>1891515180541284343</td>\n",
       "      <td>1128814228344083814</td>\n",
       "      <td>NaN</td>\n",
       "      <td>False</td>\n",
       "      <td>False</td>\n",
       "      <td>6287817205707153877</td>\n",
       "      <td>2.208834667126999e+18</td>\n",
       "      <td>4.445013666528814e+18</td>\n",
       "      <td>NaN</td>\n",
       "      <td>NaN</td>\n",
       "      <td>NaN</td>\n",
       "      <td>NaN</td>\n",
       "      <td>NaN</td>\n",
       "      <td>NaN</td>\n",
       "      <td>2514363106721953847</td>\n",
       "      <td>3.3013777759776993e+18</td>\n",
       "    </tr>\n",
       "    <tr>\n",
       "      <th>7022</th>\n",
       "      <td>2019-04-19 02:37:34.101</td>\n",
       "      <td>14</td>\n",
       "      <td>1891515180541284343</td>\n",
       "      <td>1128814228344083814</td>\n",
       "      <td>NaN</td>\n",
       "      <td>False</td>\n",
       "      <td>True</td>\n",
       "      <td>6287817205707153877</td>\n",
       "      <td>2.208834667126999e+18</td>\n",
       "      <td>4.445013666528814e+18</td>\n",
       "      <td>HasOffers Mobile AppTracking v1.0</td>\n",
       "      <td>NaN</td>\n",
       "      <td>f4714013-b8aa-415e-aa58-fa98ebf64d23</td>\n",
       "      <td>Open</td>\n",
       "      <td>NaN</td>\n",
       "      <td>NaN</td>\n",
       "      <td>2514363106721953847</td>\n",
       "      <td>3.3013777759776993e+18</td>\n",
       "    </tr>\n",
       "    <tr>\n",
       "      <th>28381</th>\n",
       "      <td>2019-04-18 22:23:29.656</td>\n",
       "      <td>49</td>\n",
       "      <td>1494519392962156891</td>\n",
       "      <td>1048782984015604883</td>\n",
       "      <td>NaN</td>\n",
       "      <td>False</td>\n",
       "      <td>True</td>\n",
       "      <td>6287817205707153877</td>\n",
       "      <td>NaN</td>\n",
       "      <td>6.794880020077885e+18</td>\n",
       "      <td>http-kit/2.0</td>\n",
       "      <td>SinDelantal/1 CFNetwork/976 Darwin/18.2.0</td>\n",
       "      <td>834549e2-52f8-4d83-afd5-4dace2a4c50d</td>\n",
       "      <td>af_app_opened</td>\n",
       "      <td>true</td>\n",
       "      <td>NaN</td>\n",
       "      <td>7869038058745259581</td>\n",
       "      <td>8.441417429938962e+18</td>\n",
       "    </tr>\n",
       "    <tr>\n",
       "      <th>48676</th>\n",
       "      <td>2019-04-20 12:35:20.625</td>\n",
       "      <td>77</td>\n",
       "      <td>1891515180541284343</td>\n",
       "      <td>1054881396892383323</td>\n",
       "      <td>NaN</td>\n",
       "      <td>False</td>\n",
       "      <td>False</td>\n",
       "      <td>6287817205707153877</td>\n",
       "      <td>NaN</td>\n",
       "      <td>1.3445980799392305e+18</td>\n",
       "      <td>adjust.com</td>\n",
       "      <td>NaN</td>\n",
       "      <td>NaN</td>\n",
       "      <td>NaN</td>\n",
       "      <td>NaN</td>\n",
       "      <td>NaN</td>\n",
       "      <td>154615607683715141</td>\n",
       "      <td>4.060929664968129e+18</td>\n",
       "    </tr>\n",
       "    <tr>\n",
       "      <th>50673</th>\n",
       "      <td>2019-04-20 02:31:26.269</td>\n",
       "      <td>78</td>\n",
       "      <td>1891515180541284343</td>\n",
       "      <td>1010265377387765028</td>\n",
       "      <td>NaN</td>\n",
       "      <td>False</td>\n",
       "      <td>False</td>\n",
       "      <td>6287817205707153877</td>\n",
       "      <td>6.115025880051902e+18</td>\n",
       "      <td>1.670346184923358e+18</td>\n",
       "      <td>http-kit/2.0</td>\n",
       "      <td>Dalvik/2.1.0 (Linux; U; Android 8.1.0; JKM-LX3...</td>\n",
       "      <td>NaN</td>\n",
       "      <td>NaN</td>\n",
       "      <td>true</td>\n",
       "      <td>NaN</td>\n",
       "      <td>9101982838620332898</td>\n",
       "      <td>6.977049253562486e+18</td>\n",
       "    </tr>\n",
       "  </tbody>\n",
       "</table>\n",
       "</div>"
      ],
      "text/plain": [
       "                      created application_id             ref_type  \\\n",
       "7016  2019-04-19 02:37:34.033             14  1891515180541284343   \n",
       "7022  2019-04-19 02:37:34.101             14  1891515180541284343   \n",
       "28381 2019-04-18 22:23:29.656             49  1494519392962156891   \n",
       "48676 2019-04-20 12:35:20.625             77  1891515180541284343   \n",
       "50673 2019-04-20 02:31:26.269             78  1891515180541284343   \n",
       "\n",
       "                  ref_hash click_hash  attributed  implicit  \\\n",
       "7016   1128814228344083814        NaN       False     False   \n",
       "7022   1128814228344083814        NaN       False      True   \n",
       "28381  1048782984015604883        NaN       False      True   \n",
       "48676  1054881396892383323        NaN       False     False   \n",
       "50673  1010265377387765028        NaN       False     False   \n",
       "\n",
       "        device_countrycode           device_brand            device_model  \\\n",
       "7016   6287817205707153877  2.208834667126999e+18   4.445013666528814e+18   \n",
       "7022   6287817205707153877  2.208834667126999e+18   4.445013666528814e+18   \n",
       "28381  6287817205707153877                    NaN   6.794880020077885e+18   \n",
       "48676  6287817205707153877                    NaN  1.3445980799392305e+18   \n",
       "50673  6287817205707153877  6.115025880051902e+18   1.670346184923358e+18   \n",
       "\n",
       "                      session_user_agent  \\\n",
       "7016                                 NaN   \n",
       "7022   HasOffers Mobile AppTracking v1.0   \n",
       "28381                       http-kit/2.0   \n",
       "48676                         adjust.com   \n",
       "50673                       http-kit/2.0   \n",
       "\n",
       "                                              user_agent  \\\n",
       "7016                                                 NaN   \n",
       "7022                                                 NaN   \n",
       "28381          SinDelantal/1 CFNetwork/976 Darwin/18.2.0   \n",
       "48676                                                NaN   \n",
       "50673  Dalvik/2.1.0 (Linux; U; Android 8.1.0; JKM-LX3...   \n",
       "\n",
       "                                 event_uuid           kind  wifi trans_id  \\\n",
       "7016                                    NaN            NaN   NaN      NaN   \n",
       "7022   f4714013-b8aa-415e-aa58-fa98ebf64d23           Open   NaN      NaN   \n",
       "28381  834549e2-52f8-4d83-afd5-4dace2a4c50d  af_app_opened  true      NaN   \n",
       "48676                                   NaN            NaN   NaN      NaN   \n",
       "50673                                   NaN            NaN  true      NaN   \n",
       "\n",
       "                ip_address         device_language  \n",
       "7016   2514363106721953847  3.3013777759776993e+18  \n",
       "7022   2514363106721953847  3.3013777759776993e+18  \n",
       "28381  7869038058745259581   8.441417429938962e+18  \n",
       "48676   154615607683715141   4.060929664968129e+18  \n",
       "50673  9101982838620332898   6.977049253562486e+18  "
      ]
     },
     "execution_count": 142,
     "metadata": {},
     "output_type": "execute_result"
    }
   ],
   "source": [
    "df.head()"
   ]
  },
  {
   "cell_type": "markdown",
   "metadata": {},
   "source": [
    "## Events"
   ]
  },
  {
   "cell_type": "code",
   "execution_count": 143,
   "metadata": {},
   "outputs": [],
   "source": [
    "df = load_events(get_target_ids_chunk(1), all_days[:3])"
   ]
  },
  {
   "cell_type": "code",
   "execution_count": 144,
   "metadata": {},
   "outputs": [
    {
     "data": {
      "text/html": [
       "<div>\n",
       "<style scoped>\n",
       "    .dataframe tbody tr th:only-of-type {\n",
       "        vertical-align: middle;\n",
       "    }\n",
       "\n",
       "    .dataframe tbody tr th {\n",
       "        vertical-align: top;\n",
       "    }\n",
       "\n",
       "    .dataframe thead th {\n",
       "        text-align: right;\n",
       "    }\n",
       "</style>\n",
       "<table border=\"1\" class=\"dataframe\">\n",
       "  <thead>\n",
       "    <tr style=\"text-align: right;\">\n",
       "      <th></th>\n",
       "      <th>index</th>\n",
       "      <th>date</th>\n",
       "      <th>event_id</th>\n",
       "      <th>ref_type</th>\n",
       "      <th>ref_hash</th>\n",
       "      <th>application_id</th>\n",
       "      <th>attributed</th>\n",
       "      <th>device_countrycode</th>\n",
       "      <th>device_os_version</th>\n",
       "      <th>device_brand</th>\n",
       "      <th>...</th>\n",
       "      <th>trans_id</th>\n",
       "      <th>user_agent</th>\n",
       "      <th>event_uuid</th>\n",
       "      <th>carrier</th>\n",
       "      <th>kind</th>\n",
       "      <th>device_os</th>\n",
       "      <th>wifi</th>\n",
       "      <th>connection_type</th>\n",
       "      <th>ip_address</th>\n",
       "      <th>device_language</th>\n",
       "    </tr>\n",
       "  </thead>\n",
       "  <tbody>\n",
       "    <tr>\n",
       "      <th>170519</th>\n",
       "      <td>177561</td>\n",
       "      <td>2019-04-18 03:43:09.185</td>\n",
       "      <td>13</td>\n",
       "      <td>1891515180541284343</td>\n",
       "      <td>1106971792117053344</td>\n",
       "      <td>65</td>\n",
       "      <td>False</td>\n",
       "      <td>6287817205707153877</td>\n",
       "      <td>NaN</td>\n",
       "      <td>2.208834667126999e+18</td>\n",
       "      <td>...</td>\n",
       "      <td>NaN</td>\n",
       "      <td>4.0670089932515717e+18</td>\n",
       "      <td>a27f9076-4e31-42a4-8e28-bcf17e58fa98</td>\n",
       "      <td>NaN</td>\n",
       "      <td>4.853173252142275e+18</td>\n",
       "      <td>NaN</td>\n",
       "      <td>True</td>\n",
       "      <td>NaN</td>\n",
       "      <td>7209709704711395089</td>\n",
       "      <td>6.977049253562486e+18</td>\n",
       "    </tr>\n",
       "    <tr>\n",
       "      <th>170521</th>\n",
       "      <td>177563</td>\n",
       "      <td>2019-04-18 03:43:25.436</td>\n",
       "      <td>13</td>\n",
       "      <td>1891515180541284343</td>\n",
       "      <td>1106971792117053344</td>\n",
       "      <td>65</td>\n",
       "      <td>False</td>\n",
       "      <td>6287817205707153877</td>\n",
       "      <td>NaN</td>\n",
       "      <td>2.208834667126999e+18</td>\n",
       "      <td>...</td>\n",
       "      <td>NaN</td>\n",
       "      <td>4.0670089932515717e+18</td>\n",
       "      <td>ad49682d-5bd2-47b4-aaaa-6196ac417503</td>\n",
       "      <td>NaN</td>\n",
       "      <td>4.853173252142275e+18</td>\n",
       "      <td>NaN</td>\n",
       "      <td>True</td>\n",
       "      <td>NaN</td>\n",
       "      <td>7209709704711395089</td>\n",
       "      <td>6.977049253562486e+18</td>\n",
       "    </tr>\n",
       "    <tr>\n",
       "      <th>170525</th>\n",
       "      <td>177577</td>\n",
       "      <td>2019-04-18 03:43:21.320</td>\n",
       "      <td>13</td>\n",
       "      <td>1891515180541284343</td>\n",
       "      <td>1106971792117053344</td>\n",
       "      <td>65</td>\n",
       "      <td>False</td>\n",
       "      <td>6287817205707153877</td>\n",
       "      <td>NaN</td>\n",
       "      <td>2.208834667126999e+18</td>\n",
       "      <td>...</td>\n",
       "      <td>NaN</td>\n",
       "      <td>4.0670089932515717e+18</td>\n",
       "      <td>1e67b319-e2dd-4ac9-b6e6-879576320bd8</td>\n",
       "      <td>NaN</td>\n",
       "      <td>4.853173252142275e+18</td>\n",
       "      <td>NaN</td>\n",
       "      <td>True</td>\n",
       "      <td>NaN</td>\n",
       "      <td>7209709704711395089</td>\n",
       "      <td>6.977049253562486e+18</td>\n",
       "    </tr>\n",
       "    <tr>\n",
       "      <th>170529</th>\n",
       "      <td>177589</td>\n",
       "      <td>2019-04-18 03:43:08.996</td>\n",
       "      <td>13</td>\n",
       "      <td>1891515180541284343</td>\n",
       "      <td>1106971792117053344</td>\n",
       "      <td>65</td>\n",
       "      <td>False</td>\n",
       "      <td>6287817205707153877</td>\n",
       "      <td>NaN</td>\n",
       "      <td>2.208834667126999e+18</td>\n",
       "      <td>...</td>\n",
       "      <td>NaN</td>\n",
       "      <td>4.0670089932515717e+18</td>\n",
       "      <td>44e56660-8642-4541-8724-5a1503c23542</td>\n",
       "      <td>NaN</td>\n",
       "      <td>4.853173252142275e+18</td>\n",
       "      <td>NaN</td>\n",
       "      <td>True</td>\n",
       "      <td>NaN</td>\n",
       "      <td>7209709704711395089</td>\n",
       "      <td>6.977049253562486e+18</td>\n",
       "    </tr>\n",
       "    <tr>\n",
       "      <th>171835</th>\n",
       "      <td>180801</td>\n",
       "      <td>2019-04-19 17:01:38.181</td>\n",
       "      <td>15</td>\n",
       "      <td>1891515180541284343</td>\n",
       "      <td>1117811498061299916</td>\n",
       "      <td>65</td>\n",
       "      <td>False</td>\n",
       "      <td>6287817205707153877</td>\n",
       "      <td>NaN</td>\n",
       "      <td>2.208834667126999e+18</td>\n",
       "      <td>...</td>\n",
       "      <td>NaN</td>\n",
       "      <td>8.237820697921044e+18</td>\n",
       "      <td>ce425a21-4271-4b8f-89cb-371e67a128c5</td>\n",
       "      <td>NaN</td>\n",
       "      <td>5.500848327478996e+18</td>\n",
       "      <td>NaN</td>\n",
       "      <td>True</td>\n",
       "      <td>NaN</td>\n",
       "      <td>3382054713307838865</td>\n",
       "      <td>6.977049253562486e+18</td>\n",
       "    </tr>\n",
       "  </tbody>\n",
       "</table>\n",
       "<p>5 rows × 23 columns</p>\n",
       "</div>"
      ],
      "text/plain": [
       "         index                    date event_id             ref_type  \\\n",
       "170519  177561 2019-04-18 03:43:09.185       13  1891515180541284343   \n",
       "170521  177563 2019-04-18 03:43:25.436       13  1891515180541284343   \n",
       "170525  177577 2019-04-18 03:43:21.320       13  1891515180541284343   \n",
       "170529  177589 2019-04-18 03:43:08.996       13  1891515180541284343   \n",
       "171835  180801 2019-04-19 17:01:38.181       15  1891515180541284343   \n",
       "\n",
       "                   ref_hash application_id  attributed   device_countrycode  \\\n",
       "170519  1106971792117053344             65       False  6287817205707153877   \n",
       "170521  1106971792117053344             65       False  6287817205707153877   \n",
       "170525  1106971792117053344             65       False  6287817205707153877   \n",
       "170529  1106971792117053344             65       False  6287817205707153877   \n",
       "171835  1117811498061299916             65       False  6287817205707153877   \n",
       "\n",
       "       device_os_version           device_brand  ... trans_id  \\\n",
       "170519               NaN  2.208834667126999e+18  ...      NaN   \n",
       "170521               NaN  2.208834667126999e+18  ...      NaN   \n",
       "170525               NaN  2.208834667126999e+18  ...      NaN   \n",
       "170529               NaN  2.208834667126999e+18  ...      NaN   \n",
       "171835               NaN  2.208834667126999e+18  ...      NaN   \n",
       "\n",
       "                    user_agent                            event_uuid carrier  \\\n",
       "170519  4.0670089932515717e+18  a27f9076-4e31-42a4-8e28-bcf17e58fa98     NaN   \n",
       "170521  4.0670089932515717e+18  ad49682d-5bd2-47b4-aaaa-6196ac417503     NaN   \n",
       "170525  4.0670089932515717e+18  1e67b319-e2dd-4ac9-b6e6-879576320bd8     NaN   \n",
       "170529  4.0670089932515717e+18  44e56660-8642-4541-8724-5a1503c23542     NaN   \n",
       "171835   8.237820697921044e+18  ce425a21-4271-4b8f-89cb-371e67a128c5     NaN   \n",
       "\n",
       "                         kind device_os  wifi connection_type  \\\n",
       "170519  4.853173252142275e+18       NaN  True             NaN   \n",
       "170521  4.853173252142275e+18       NaN  True             NaN   \n",
       "170525  4.853173252142275e+18       NaN  True             NaN   \n",
       "170529  4.853173252142275e+18       NaN  True             NaN   \n",
       "171835  5.500848327478996e+18       NaN  True             NaN   \n",
       "\n",
       "                 ip_address        device_language  \n",
       "170519  7209709704711395089  6.977049253562486e+18  \n",
       "170521  7209709704711395089  6.977049253562486e+18  \n",
       "170525  7209709704711395089  6.977049253562486e+18  \n",
       "170529  7209709704711395089  6.977049253562486e+18  \n",
       "171835  3382054713307838865  6.977049253562486e+18  \n",
       "\n",
       "[5 rows x 23 columns]"
      ]
     },
     "execution_count": 144,
     "metadata": {},
     "output_type": "execute_result"
    }
   ],
   "source": [
    "df.head()"
   ]
  },
  {
   "cell_type": "markdown",
   "metadata": {},
   "source": [
    "## Auctions"
   ]
  },
  {
   "cell_type": "code",
   "execution_count": 147,
   "metadata": {},
   "outputs": [],
   "source": [
    "df = load_auctions(get_target_ids_chunk(1), all_days[:3])"
   ]
  },
  {
   "cell_type": "code",
   "execution_count": 148,
   "metadata": {},
   "outputs": [
    {
     "data": {
      "text/html": [
       "<div>\n",
       "<style scoped>\n",
       "    .dataframe tbody tr th:only-of-type {\n",
       "        vertical-align: middle;\n",
       "    }\n",
       "\n",
       "    .dataframe tbody tr th {\n",
       "        vertical-align: top;\n",
       "    }\n",
       "\n",
       "    .dataframe thead th {\n",
       "        text-align: right;\n",
       "    }\n",
       "</style>\n",
       "<table border=\"1\" class=\"dataframe\">\n",
       "  <thead>\n",
       "    <tr style=\"text-align: right;\">\n",
       "      <th></th>\n",
       "      <th>date</th>\n",
       "      <th>device_id</th>\n",
       "      <th>ref_type_id</th>\n",
       "      <th>source_id</th>\n",
       "    </tr>\n",
       "  </thead>\n",
       "  <tbody>\n",
       "    <tr>\n",
       "      <th>289649</th>\n",
       "      <td>2019-04-18 19:58:47.826462</td>\n",
       "      <td>1114026657194419748</td>\n",
       "      <td>1</td>\n",
       "      <td>0</td>\n",
       "    </tr>\n",
       "    <tr>\n",
       "      <th>317697</th>\n",
       "      <td>2019-04-18 23:34:28.216676</td>\n",
       "      <td>1102680423242413676</td>\n",
       "      <td>1</td>\n",
       "      <td>1</td>\n",
       "    </tr>\n",
       "    <tr>\n",
       "      <th>317713</th>\n",
       "      <td>2019-04-18 23:34:36.035822</td>\n",
       "      <td>1102680423242413676</td>\n",
       "      <td>1</td>\n",
       "      <td>1</td>\n",
       "    </tr>\n",
       "    <tr>\n",
       "      <th>317978</th>\n",
       "      <td>2019-04-18 23:42:35.347774</td>\n",
       "      <td>1102680423242413676</td>\n",
       "      <td>1</td>\n",
       "      <td>1</td>\n",
       "    </tr>\n",
       "    <tr>\n",
       "      <th>318297</th>\n",
       "      <td>2019-04-18 23:44:54.822177</td>\n",
       "      <td>1102680423242413676</td>\n",
       "      <td>1</td>\n",
       "      <td>1</td>\n",
       "    </tr>\n",
       "  </tbody>\n",
       "</table>\n",
       "</div>"
      ],
      "text/plain": [
       "                             date            device_id ref_type_id source_id\n",
       "289649 2019-04-18 19:58:47.826462  1114026657194419748           1         0\n",
       "317697 2019-04-18 23:34:28.216676  1102680423242413676           1         1\n",
       "317713 2019-04-18 23:34:36.035822  1102680423242413676           1         1\n",
       "317978 2019-04-18 23:42:35.347774  1102680423242413676           1         1\n",
       "318297 2019-04-18 23:44:54.822177  1102680423242413676           1         1"
      ]
     },
     "execution_count": 148,
     "metadata": {},
     "output_type": "execute_result"
    }
   ],
   "source": [
    "df.head()"
   ]
  },
  {
   "cell_type": "markdown",
   "metadata": {},
   "source": [
    "# ML"
   ]
  },
  {
   "cell_type": "code",
   "execution_count": 13,
   "metadata": {},
   "outputs": [],
   "source": [
    "def set_source_col(df, source):\n",
    "    \"\"\"\n",
    "    for a given dataframe, create a column indicating\n",
    "    from which csv file it originated\n",
    "    \"\"\"\n",
    "    df['source_csv'] = source\n",
    "\n",
    "def process_time_diffs(df):\n",
    "    \"\"\"\n",
    "    create column indicating difference between two\n",
    "    consecutive registers for each device id\n",
    "    \"\"\"\n",
    "    asdf = df\n",
    "    \n",
    "    asdf = asdf.sort_values(['date'])\n",
    "    \n",
    "    asdf['diff'] = asdf.groupby(['ref_hash'])['date'].diff()\n",
    "\n",
    "    asdf['diff'].fillna(value=asdf['date']-asdf['date'].dt.floor('d'), inplace=True)\n",
    "\n",
    "    asdf['diff_in_sec'] = asdf['diff'].dt.total_seconds()\n",
    "\n",
    "    asdf.drop('diff', axis='columns', inplace=True)\n",
    "    \n",
    "    return asdf\n",
    "\n",
    "def process_time_diffs(df, start_time):\n",
    "    \"\"\"\n",
    "    create column indicating difference between\n",
    "    time in registers and given start_time\n",
    "    \"\"\"\n",
    "    asdf = df\n",
    "    \n",
    "    asdf = asdf.sort_values(['date'])\n",
    "    \n",
    "    asdf['diff'] = asdf.groupby(['ref_hash'])['date'].diff()\n",
    "\n",
    "    asdf['diff'].fillna(value=asdf['date']-asdf['date'].dt.floor('d'), inplace=True)\n",
    "\n",
    "    asdf['diff_in_sec'] = asdf['diff'].dt.total_seconds()\n",
    "\n",
    "    asdf.drop('diff', axis='columns', inplace=True)\n",
    "    \n",
    "    return asdf\n",
    "\n",
    "def set_observed_column(df, csv_source_that_defines_death, inplace=False):\n",
    "    \"\"\"\n",
    "    create column indicating if death has been observed or not.\n",
    "    \"\"\"\n",
    "    asdf = df\n",
    "    \n",
    "    asdf['observed'] = asdf.source_csv == csv_source_that_defines_death\n",
    "    \n",
    "    return asdf"
   ]
  },
  {
   "cell_type": "markdown",
   "metadata": {
    "toc-hr-collapsed": false
   },
   "source": [
    "## Approach 1: mean value per device"
   ]
  },
  {
   "cell_type": "markdown",
   "metadata": {},
   "source": [
    "### Auctions"
   ]
  },
  {
   "cell_type": "code",
   "execution_count": 48,
   "metadata": {},
   "outputs": [],
   "source": [
    "df_auctions = load_auctions()\n",
    "\n",
    "df_auctions2 = process_time_diffs(df_auctions)\n",
    "\n",
    "current_predictions = df_auctions2.groupby('ref_hash', as_index=False)[['diff_in_sec']].mean()\n",
    "\n",
    "target = update_predictions(target_df=target, new_values=current_predictions, value_column_name='diff_in_sec', suffix='_st')"
   ]
  },
  {
   "cell_type": "code",
   "execution_count": 49,
   "metadata": {},
   "outputs": [],
   "source": [
    "del df_auctions\n",
    "del df_auctions2"
   ]
  },
  {
   "cell_type": "markdown",
   "metadata": {},
   "source": [
    "### Installs"
   ]
  },
  {
   "cell_type": "code",
   "execution_count": 51,
   "metadata": {},
   "outputs": [],
   "source": [
    "df_installs = load_installs()\n",
    "\n",
    "df_installs2 = process_time_diffs(df_installs)\n",
    "\n",
    "current_predictions = df_installs2[['ref_hash','diff_in_sec']].groupby('ref_hash', as_index=False).mean()\n",
    "\n",
    "target = update_predictions(target_df=target, new_values=current_predictions, value_column_name='diff_in_sec', suffix='_sc')"
   ]
  },
  {
   "cell_type": "code",
   "execution_count": 50,
   "metadata": {},
   "outputs": [],
   "source": [
    "del df_installs\n",
    "del df_installs2"
   ]
  },
  {
   "cell_type": "code",
   "execution_count": 57,
   "metadata": {},
   "outputs": [],
   "source": [
    "save_submission(target, description=\"por cada grupo, avg. de los tiempos entre cada registro.\")"
   ]
  },
  {
   "cell_type": "markdown",
   "metadata": {},
   "source": [
    "## End of Approach 1: mean value per device"
   ]
  },
  {
   "cell_type": "markdown",
   "metadata": {},
   "source": [
    "## Approach 2: mean value per device considerando un tiempo inicial unico"
   ]
  },
  {
   "cell_type": "markdown",
   "metadata": {},
   "source": [
    "### Auctions"
   ]
  },
  {
   "cell_type": "code",
   "execution_count": 48,
   "metadata": {},
   "outputs": [],
   "source": [
    "df_auctions = load_auctions()\n",
    "\n",
    "df_auctions2 = process_time_diffs(df_auctions)\n",
    "\n",
    "current_predictions = df_auctions2.groupby('ref_hash', as_index=False)[['diff_in_sec']].mean()\n",
    "\n",
    "target = update_predictions(target_df=target, new_values=current_predictions, value_column_name='diff_in_sec', suffix='_st')"
   ]
  },
  {
   "cell_type": "code",
   "execution_count": 49,
   "metadata": {},
   "outputs": [],
   "source": [
    "del df_auctions\n",
    "del df_auctions2"
   ]
  },
  {
   "cell_type": "markdown",
   "metadata": {},
   "source": [
    "### Installs"
   ]
  },
  {
   "cell_type": "code",
   "execution_count": 51,
   "metadata": {},
   "outputs": [],
   "source": [
    "df_installs = load_installs()\n",
    "\n",
    "df_installs2 = process_time_diffs(df_installs)\n",
    "\n",
    "current_predictions = df_installs2[['ref_hash','diff_in_sec']].groupby('ref_hash', as_index=False).mean()\n",
    "\n",
    "target = update_predictions(target_df=target, new_values=current_predictions, value_column_name='diff_in_sec', suffix='_sc')"
   ]
  },
  {
   "cell_type": "code",
   "execution_count": 50,
   "metadata": {},
   "outputs": [],
   "source": [
    "del df_installs\n",
    "del df_installs2"
   ]
  },
  {
   "cell_type": "code",
   "execution_count": 57,
   "metadata": {},
   "outputs": [],
   "source": [
    "save_submission(target, description=\"por cada grupo, avg. de los tiempos entre cada registro.\")"
   ]
  },
  {
   "cell_type": "markdown",
   "metadata": {},
   "source": [
    "## End of Approach 2: mean value per device considerando un tiempo inicial unico"
   ]
  },
  {
   "cell_type": "markdown",
   "metadata": {},
   "source": [
    "### Define current users/days"
   ]
  },
  {
   "cell_type": "code",
   "execution_count": 14,
   "metadata": {},
   "outputs": [],
   "source": [
    "current_users = get_target_ids_chunk(1)\n",
    "current_days = all_days"
   ]
  },
  {
   "cell_type": "markdown",
   "metadata": {},
   "source": [
    "## Load dfs"
   ]
  },
  {
   "cell_type": "code",
   "execution_count": 61,
   "metadata": {},
   "outputs": [],
   "source": [
    "df_clicks = load_clicks(current_users, current_days)\n",
    "df_installs = load_installs(current_users, current_days)\n",
    "df_events = load_events(current_users, current_days)\n",
    "df_auctions = load_auctions(current_users, current_days)"
   ]
  },
  {
   "cell_type": "code",
   "execution_count": 65,
   "metadata": {},
   "outputs": [
    {
     "name": "stdout",
     "output_type": "stream",
     "text": [
      "0.006099\n",
      "92.5559\n",
      "0.497716\n",
      "0.316221\n"
     ]
    }
   ],
   "source": [
    "print(df_clicks.memory_usage(deep=True).sum()/1e6)\n",
    "print(df_installs.memory_usage(deep=True).sum()/1e6)\n",
    "print(df_events.memory_usage(deep=True).sum()/1e6)\n",
    "print(df_auctions.memory_usage(deep=True).sum()/1e6)"
   ]
  },
  {
   "cell_type": "markdown",
   "metadata": {},
   "source": [
    "## Merge"
   ]
  },
  {
   "cell_type": "code",
   "execution_count": 113,
   "metadata": {},
   "outputs": [],
   "source": [
    "set_source_col(df_clicks, \"clicks\")\n",
    "set_source_col(df_installs, \"installs\")\n",
    "set_source_col(df_events, \"events\")\n",
    "set_source_col(df_auctions, \"auctions\")"
   ]
  },
  {
   "cell_type": "code",
   "execution_count": 118,
   "metadata": {},
   "outputs": [],
   "source": [
    "appended = df_clicks.append(df_installs, sort=False).append(df_events, sort=False).append(df_auctions, sort=False)\n",
    "\n",
    "appended.sort_values(['date'], inplace=True)"
   ]
  },
  {
   "cell_type": "code",
   "execution_count": 121,
   "metadata": {},
   "outputs": [
    {
     "data": {
      "text/html": [
       "<div>\n",
       "<style scoped>\n",
       "    .dataframe tbody tr th:only-of-type {\n",
       "        vertical-align: middle;\n",
       "    }\n",
       "\n",
       "    .dataframe tbody tr th {\n",
       "        vertical-align: top;\n",
       "    }\n",
       "\n",
       "    .dataframe thead th {\n",
       "        text-align: right;\n",
       "    }\n",
       "</style>\n",
       "<table border=\"1\" class=\"dataframe\">\n",
       "  <thead>\n",
       "    <tr style=\"text-align: right;\">\n",
       "      <th></th>\n",
       "      <th>advertiser_id</th>\n",
       "      <th>action_id</th>\n",
       "      <th>source_id</th>\n",
       "      <th>date</th>\n",
       "      <th>country_code</th>\n",
       "      <th>latitude</th>\n",
       "      <th>longitude</th>\n",
       "      <th>wifi_connection</th>\n",
       "      <th>carrier_id</th>\n",
       "      <th>trans_id</th>\n",
       "      <th>os_minor</th>\n",
       "      <th>agent_device</th>\n",
       "      <th>os_major</th>\n",
       "      <th>specs_brand</th>\n",
       "      <th>brand</th>\n",
       "      <th>timeToClick</th>\n",
       "      <th>touchX</th>\n",
       "      <th>touchY</th>\n",
       "      <th>ref_type</th>\n",
       "      <th>ref_hash</th>\n",
       "      <th>source_csv</th>\n",
       "      <th>application_id</th>\n",
       "      <th>click_hash</th>\n",
       "      <th>attributed</th>\n",
       "      <th>implicit</th>\n",
       "      <th>device_countrycode</th>\n",
       "      <th>device_brand</th>\n",
       "      <th>device_model</th>\n",
       "      <th>session_user_agent</th>\n",
       "      <th>user_agent</th>\n",
       "      <th>event_uuid</th>\n",
       "      <th>kind</th>\n",
       "      <th>wifi</th>\n",
       "      <th>ip_address</th>\n",
       "      <th>device_language</th>\n",
       "      <th>index</th>\n",
       "      <th>event_id</th>\n",
       "      <th>device_os_version</th>\n",
       "      <th>device_city</th>\n",
       "      <th>carrier</th>\n",
       "      <th>device_os</th>\n",
       "      <th>connection_type</th>\n",
       "      <th>ref_type_id</th>\n",
       "    </tr>\n",
       "  </thead>\n",
       "  <tbody>\n",
       "    <tr>\n",
       "      <th>4133166</th>\n",
       "      <td>NaN</td>\n",
       "      <td>NaN</td>\n",
       "      <td>7</td>\n",
       "      <td>2019-04-18 00:33:30.799937</td>\n",
       "      <td>NaN</td>\n",
       "      <td>NaN</td>\n",
       "      <td>NaN</td>\n",
       "      <td>NaN</td>\n",
       "      <td>NaN</td>\n",
       "      <td>NaN</td>\n",
       "      <td>NaN</td>\n",
       "      <td>NaN</td>\n",
       "      <td>NaN</td>\n",
       "      <td>NaN</td>\n",
       "      <td>NaN</td>\n",
       "      <td>NaN</td>\n",
       "      <td>NaN</td>\n",
       "      <td>NaN</td>\n",
       "      <td>NaN</td>\n",
       "      <td>1108571703275362862</td>\n",
       "      <td>auctions</td>\n",
       "      <td>NaN</td>\n",
       "      <td>NaN</td>\n",
       "      <td>NaN</td>\n",
       "      <td>NaN</td>\n",
       "      <td>NaN</td>\n",
       "      <td>NaN</td>\n",
       "      <td>NaN</td>\n",
       "      <td>NaN</td>\n",
       "      <td>NaN</td>\n",
       "      <td>NaN</td>\n",
       "      <td>NaN</td>\n",
       "      <td>NaN</td>\n",
       "      <td>NaN</td>\n",
       "      <td>NaN</td>\n",
       "      <td>NaN</td>\n",
       "      <td>NaN</td>\n",
       "      <td>NaN</td>\n",
       "      <td>NaN</td>\n",
       "      <td>NaN</td>\n",
       "      <td>NaN</td>\n",
       "      <td>NaN</td>\n",
       "      <td>1</td>\n",
       "    </tr>\n",
       "    <tr>\n",
       "      <th>16185986</th>\n",
       "      <td>NaN</td>\n",
       "      <td>NaN</td>\n",
       "      <td>1</td>\n",
       "      <td>2019-04-18 00:45:33.293093</td>\n",
       "      <td>NaN</td>\n",
       "      <td>NaN</td>\n",
       "      <td>NaN</td>\n",
       "      <td>NaN</td>\n",
       "      <td>NaN</td>\n",
       "      <td>NaN</td>\n",
       "      <td>NaN</td>\n",
       "      <td>NaN</td>\n",
       "      <td>NaN</td>\n",
       "      <td>NaN</td>\n",
       "      <td>NaN</td>\n",
       "      <td>NaN</td>\n",
       "      <td>NaN</td>\n",
       "      <td>NaN</td>\n",
       "      <td>NaN</td>\n",
       "      <td>1102680423242413676</td>\n",
       "      <td>auctions</td>\n",
       "      <td>NaN</td>\n",
       "      <td>NaN</td>\n",
       "      <td>NaN</td>\n",
       "      <td>NaN</td>\n",
       "      <td>NaN</td>\n",
       "      <td>NaN</td>\n",
       "      <td>NaN</td>\n",
       "      <td>NaN</td>\n",
       "      <td>NaN</td>\n",
       "      <td>NaN</td>\n",
       "      <td>NaN</td>\n",
       "      <td>NaN</td>\n",
       "      <td>NaN</td>\n",
       "      <td>NaN</td>\n",
       "      <td>NaN</td>\n",
       "      <td>NaN</td>\n",
       "      <td>NaN</td>\n",
       "      <td>NaN</td>\n",
       "      <td>NaN</td>\n",
       "      <td>NaN</td>\n",
       "      <td>NaN</td>\n",
       "      <td>1</td>\n",
       "    </tr>\n",
       "    <tr>\n",
       "      <th>41379007</th>\n",
       "      <td>NaN</td>\n",
       "      <td>NaN</td>\n",
       "      <td>1</td>\n",
       "      <td>2019-04-18 00:45:48.503984</td>\n",
       "      <td>NaN</td>\n",
       "      <td>NaN</td>\n",
       "      <td>NaN</td>\n",
       "      <td>NaN</td>\n",
       "      <td>NaN</td>\n",
       "      <td>NaN</td>\n",
       "      <td>NaN</td>\n",
       "      <td>NaN</td>\n",
       "      <td>NaN</td>\n",
       "      <td>NaN</td>\n",
       "      <td>NaN</td>\n",
       "      <td>NaN</td>\n",
       "      <td>NaN</td>\n",
       "      <td>NaN</td>\n",
       "      <td>NaN</td>\n",
       "      <td>1102680423242413676</td>\n",
       "      <td>auctions</td>\n",
       "      <td>NaN</td>\n",
       "      <td>NaN</td>\n",
       "      <td>NaN</td>\n",
       "      <td>NaN</td>\n",
       "      <td>NaN</td>\n",
       "      <td>NaN</td>\n",
       "      <td>NaN</td>\n",
       "      <td>NaN</td>\n",
       "      <td>NaN</td>\n",
       "      <td>NaN</td>\n",
       "      <td>NaN</td>\n",
       "      <td>NaN</td>\n",
       "      <td>NaN</td>\n",
       "      <td>NaN</td>\n",
       "      <td>NaN</td>\n",
       "      <td>NaN</td>\n",
       "      <td>NaN</td>\n",
       "      <td>NaN</td>\n",
       "      <td>NaN</td>\n",
       "      <td>NaN</td>\n",
       "      <td>NaN</td>\n",
       "      <td>1</td>\n",
       "    </tr>\n",
       "    <tr>\n",
       "      <th>9328153</th>\n",
       "      <td>NaN</td>\n",
       "      <td>NaN</td>\n",
       "      <td>1</td>\n",
       "      <td>2019-04-18 00:45:52.584006</td>\n",
       "      <td>NaN</td>\n",
       "      <td>NaN</td>\n",
       "      <td>NaN</td>\n",
       "      <td>NaN</td>\n",
       "      <td>NaN</td>\n",
       "      <td>NaN</td>\n",
       "      <td>NaN</td>\n",
       "      <td>NaN</td>\n",
       "      <td>NaN</td>\n",
       "      <td>NaN</td>\n",
       "      <td>NaN</td>\n",
       "      <td>NaN</td>\n",
       "      <td>NaN</td>\n",
       "      <td>NaN</td>\n",
       "      <td>NaN</td>\n",
       "      <td>1102680423242413676</td>\n",
       "      <td>auctions</td>\n",
       "      <td>NaN</td>\n",
       "      <td>NaN</td>\n",
       "      <td>NaN</td>\n",
       "      <td>NaN</td>\n",
       "      <td>NaN</td>\n",
       "      <td>NaN</td>\n",
       "      <td>NaN</td>\n",
       "      <td>NaN</td>\n",
       "      <td>NaN</td>\n",
       "      <td>NaN</td>\n",
       "      <td>NaN</td>\n",
       "      <td>NaN</td>\n",
       "      <td>NaN</td>\n",
       "      <td>NaN</td>\n",
       "      <td>NaN</td>\n",
       "      <td>NaN</td>\n",
       "      <td>NaN</td>\n",
       "      <td>NaN</td>\n",
       "      <td>NaN</td>\n",
       "      <td>NaN</td>\n",
       "      <td>NaN</td>\n",
       "      <td>1</td>\n",
       "    </tr>\n",
       "    <tr>\n",
       "      <th>2139841</th>\n",
       "      <td>NaN</td>\n",
       "      <td>NaN</td>\n",
       "      <td>NaN</td>\n",
       "      <td>2019-04-18 00:55:56.527000</td>\n",
       "      <td>NaN</td>\n",
       "      <td>NaN</td>\n",
       "      <td>NaN</td>\n",
       "      <td>NaN</td>\n",
       "      <td>NaN</td>\n",
       "      <td>NaN</td>\n",
       "      <td>NaN</td>\n",
       "      <td>NaN</td>\n",
       "      <td>NaN</td>\n",
       "      <td>NaN</td>\n",
       "      <td>NaN</td>\n",
       "      <td>NaN</td>\n",
       "      <td>NaN</td>\n",
       "      <td>NaN</td>\n",
       "      <td>1891515180541284343</td>\n",
       "      <td>1106971792117053344</td>\n",
       "      <td>events</td>\n",
       "      <td>65</td>\n",
       "      <td>NaN</td>\n",
       "      <td>False</td>\n",
       "      <td>NaN</td>\n",
       "      <td>6287817205707153877</td>\n",
       "      <td>2.208834667126999e+18</td>\n",
       "      <td>5.186986602616849e+18</td>\n",
       "      <td>3.819516403548394e+18</td>\n",
       "      <td>4.0670089932515717e+18</td>\n",
       "      <td>28d1d146-362d-4a8b-a3a8-c25367aa755f</td>\n",
       "      <td>5.500848327478996e+18</td>\n",
       "      <td>True</td>\n",
       "      <td>7209709704711395089</td>\n",
       "      <td>6.977049253562486e+18</td>\n",
       "      <td>137754</td>\n",
       "      <td>15</td>\n",
       "      <td>NaN</td>\n",
       "      <td>NaN</td>\n",
       "      <td>NaN</td>\n",
       "      <td>NaN</td>\n",
       "      <td>NaN</td>\n",
       "      <td>NaN</td>\n",
       "    </tr>\n",
       "  </tbody>\n",
       "</table>\n",
       "</div>"
      ],
      "text/plain": [
       "         advertiser_id action_id source_id                       date  \\\n",
       "4133166            NaN       NaN         7 2019-04-18 00:33:30.799937   \n",
       "16185986           NaN       NaN         1 2019-04-18 00:45:33.293093   \n",
       "41379007           NaN       NaN         1 2019-04-18 00:45:48.503984   \n",
       "9328153            NaN       NaN         1 2019-04-18 00:45:52.584006   \n",
       "2139841            NaN       NaN       NaN 2019-04-18 00:55:56.527000   \n",
       "\n",
       "         country_code  latitude  longitude wifi_connection carrier_id  \\\n",
       "4133166           NaN       NaN        NaN             NaN        NaN   \n",
       "16185986          NaN       NaN        NaN             NaN        NaN   \n",
       "41379007          NaN       NaN        NaN             NaN        NaN   \n",
       "9328153           NaN       NaN        NaN             NaN        NaN   \n",
       "2139841           NaN       NaN        NaN             NaN        NaN   \n",
       "\n",
       "         trans_id os_minor agent_device os_major specs_brand brand  \\\n",
       "4133166       NaN      NaN          NaN      NaN         NaN   NaN   \n",
       "16185986      NaN      NaN          NaN      NaN         NaN   NaN   \n",
       "41379007      NaN      NaN          NaN      NaN         NaN   NaN   \n",
       "9328153       NaN      NaN          NaN      NaN         NaN   NaN   \n",
       "2139841       NaN      NaN          NaN      NaN         NaN   NaN   \n",
       "\n",
       "          timeToClick touchX touchY             ref_type             ref_hash  \\\n",
       "4133166           NaN    NaN    NaN                  NaN  1108571703275362862   \n",
       "16185986          NaN    NaN    NaN                  NaN  1102680423242413676   \n",
       "41379007          NaN    NaN    NaN                  NaN  1102680423242413676   \n",
       "9328153           NaN    NaN    NaN                  NaN  1102680423242413676   \n",
       "2139841           NaN    NaN    NaN  1891515180541284343  1106971792117053344   \n",
       "\n",
       "         source_csv application_id click_hash attributed implicit  \\\n",
       "4133166    auctions            NaN        NaN        NaN      NaN   \n",
       "16185986   auctions            NaN        NaN        NaN      NaN   \n",
       "41379007   auctions            NaN        NaN        NaN      NaN   \n",
       "9328153    auctions            NaN        NaN        NaN      NaN   \n",
       "2139841      events             65        NaN      False      NaN   \n",
       "\n",
       "           device_countrycode           device_brand           device_model  \\\n",
       "4133166                   NaN                    NaN                    NaN   \n",
       "16185986                  NaN                    NaN                    NaN   \n",
       "41379007                  NaN                    NaN                    NaN   \n",
       "9328153                   NaN                    NaN                    NaN   \n",
       "2139841   6287817205707153877  2.208834667126999e+18  5.186986602616849e+18   \n",
       "\n",
       "             session_user_agent              user_agent  \\\n",
       "4133166                     NaN                     NaN   \n",
       "16185986                    NaN                     NaN   \n",
       "41379007                    NaN                     NaN   \n",
       "9328153                     NaN                     NaN   \n",
       "2139841   3.819516403548394e+18  4.0670089932515717e+18   \n",
       "\n",
       "                                    event_uuid                   kind  wifi  \\\n",
       "4133166                                    NaN                    NaN   NaN   \n",
       "16185986                                   NaN                    NaN   NaN   \n",
       "41379007                                   NaN                    NaN   NaN   \n",
       "9328153                                    NaN                    NaN   NaN   \n",
       "2139841   28d1d146-362d-4a8b-a3a8-c25367aa755f  5.500848327478996e+18  True   \n",
       "\n",
       "                   ip_address        device_language   index event_id  \\\n",
       "4133166                   NaN                    NaN     NaN      NaN   \n",
       "16185986                  NaN                    NaN     NaN      NaN   \n",
       "41379007                  NaN                    NaN     NaN      NaN   \n",
       "9328153                   NaN                    NaN     NaN      NaN   \n",
       "2139841   7209709704711395089  6.977049253562486e+18  137754       15   \n",
       "\n",
       "         device_os_version device_city carrier device_os connection_type  \\\n",
       "4133166                NaN         NaN     NaN       NaN             NaN   \n",
       "16185986               NaN         NaN     NaN       NaN             NaN   \n",
       "41379007               NaN         NaN     NaN       NaN             NaN   \n",
       "9328153                NaN         NaN     NaN       NaN             NaN   \n",
       "2139841                NaN         NaN     NaN       NaN             NaN   \n",
       "\n",
       "         ref_type_id  \n",
       "4133166            1  \n",
       "16185986           1  \n",
       "41379007           1  \n",
       "9328153            1  \n",
       "2139841          NaN  "
      ]
     },
     "execution_count": 121,
     "metadata": {},
     "output_type": "execute_result"
    }
   ],
   "source": [
    "appended.head()"
   ]
  },
  {
   "cell_type": "code",
   "execution_count": null,
   "metadata": {},
   "outputs": [],
   "source": [
    "appended.groupby('ref_hash')['date'].diff"
   ]
  },
  {
   "cell_type": "code",
   "execution_count": 195,
   "metadata": {},
   "outputs": [],
   "source": [
    "a = process_time_diffs(appended)"
   ]
  },
  {
   "cell_type": "code",
   "execution_count": 198,
   "metadata": {},
   "outputs": [],
   "source": [
    "a = set_observed_column(a, \"auctions\")"
   ]
  },
  {
   "cell_type": "code",
   "execution_count": 199,
   "metadata": {},
   "outputs": [],
   "source": [
    "a = a.loc[a['ref_hash'] == '1108571703275362862']"
   ]
  },
  {
   "cell_type": "markdown",
   "metadata": {},
   "source": [
    "### Probando cosas con subastas..."
   ]
  },
  {
   "cell_type": "code",
   "execution_count": 40,
   "metadata": {},
   "outputs": [],
   "source": [
    "df_auctions = process_time_diffs(df_auctions)\n",
    "df_auctions = set_observed_column(df_auctions, \"auctions\")"
   ]
  },
  {
   "cell_type": "code",
   "execution_count": 53,
   "metadata": {},
   "outputs": [],
   "source": [
    "df = load_auctions(get_target_ids_chunk(1), all_days[:3])"
   ]
  },
  {
   "cell_type": "code",
   "execution_count": 54,
   "metadata": {},
   "outputs": [
    {
     "data": {
      "text/html": [
       "<div>\n",
       "<style scoped>\n",
       "    .dataframe tbody tr th:only-of-type {\n",
       "        vertical-align: middle;\n",
       "    }\n",
       "\n",
       "    .dataframe tbody tr th {\n",
       "        vertical-align: top;\n",
       "    }\n",
       "\n",
       "    .dataframe thead th {\n",
       "        text-align: right;\n",
       "    }\n",
       "</style>\n",
       "<table border=\"1\" class=\"dataframe\">\n",
       "  <thead>\n",
       "    <tr style=\"text-align: right;\">\n",
       "      <th></th>\n",
       "      <th>date</th>\n",
       "      <th>device_id</th>\n",
       "      <th>ref_type_id</th>\n",
       "      <th>source_id</th>\n",
       "    </tr>\n",
       "  </thead>\n",
       "  <tbody>\n",
       "    <tr>\n",
       "      <th>289649</th>\n",
       "      <td>2019-04-18 19:58:47.826462</td>\n",
       "      <td>1114026657194419748</td>\n",
       "      <td>1</td>\n",
       "      <td>0</td>\n",
       "    </tr>\n",
       "    <tr>\n",
       "      <th>317697</th>\n",
       "      <td>2019-04-18 23:34:28.216676</td>\n",
       "      <td>1102680423242413676</td>\n",
       "      <td>1</td>\n",
       "      <td>1</td>\n",
       "    </tr>\n",
       "    <tr>\n",
       "      <th>317713</th>\n",
       "      <td>2019-04-18 23:34:36.035822</td>\n",
       "      <td>1102680423242413676</td>\n",
       "      <td>1</td>\n",
       "      <td>1</td>\n",
       "    </tr>\n",
       "    <tr>\n",
       "      <th>317978</th>\n",
       "      <td>2019-04-18 23:42:35.347774</td>\n",
       "      <td>1102680423242413676</td>\n",
       "      <td>1</td>\n",
       "      <td>1</td>\n",
       "    </tr>\n",
       "    <tr>\n",
       "      <th>318297</th>\n",
       "      <td>2019-04-18 23:44:54.822177</td>\n",
       "      <td>1102680423242413676</td>\n",
       "      <td>1</td>\n",
       "      <td>1</td>\n",
       "    </tr>\n",
       "  </tbody>\n",
       "</table>\n",
       "</div>"
      ],
      "text/plain": [
       "                             date            device_id ref_type_id source_id\n",
       "289649 2019-04-18 19:58:47.826462  1114026657194419748           1         0\n",
       "317697 2019-04-18 23:34:28.216676  1102680423242413676           1         1\n",
       "317713 2019-04-18 23:34:36.035822  1102680423242413676           1         1\n",
       "317978 2019-04-18 23:42:35.347774  1102680423242413676           1         1\n",
       "318297 2019-04-18 23:44:54.822177  1102680423242413676           1         1"
      ]
     },
     "execution_count": 54,
     "metadata": {},
     "output_type": "execute_result"
    }
   ],
   "source": [
    "df.head()"
   ]
  },
  {
   "cell_type": "code",
   "execution_count": 58,
   "metadata": {},
   "outputs": [
    {
     "data": {
      "text/plain": [
       "[1, 7]\n",
       "Categories (2, object): [1, 7]"
      ]
     },
     "execution_count": 58,
     "metadata": {},
     "output_type": "execute_result"
    }
   ],
   "source": [
    "df.ref_type_id.get_dummies"
   ]
  },
  {
   "cell_type": "code",
   "execution_count": 57,
   "metadata": {},
   "outputs": [],
   "source": [
    "prepared = prepare_auctions_df(df)"
   ]
  },
  {
   "cell_type": "code",
   "execution_count": 56,
   "metadata": {},
   "outputs": [],
   "source": [
    "prepare_auctions_df"
   ]
  },
  {
   "cell_type": "markdown",
   "metadata": {},
   "source": [
    "### Probando Lifelines..."
   ]
  },
  {
   "cell_type": "code",
   "execution_count": 160,
   "metadata": {},
   "outputs": [],
   "source": [
    "T = a['diff_in_sec']\n",
    "E = a['observed']"
   ]
  },
  {
   "cell_type": "markdown",
   "metadata": {},
   "source": [
    "#### Kaplan Meier"
   ]
  },
  {
   "cell_type": "code",
   "execution_count": 161,
   "metadata": {},
   "outputs": [
    {
     "data": {
      "text/plain": [
       "<lifelines.KaplanMeierFitter: fitted with 26 observations, 8 censored>"
      ]
     },
     "execution_count": 161,
     "metadata": {},
     "output_type": "execute_result"
    }
   ],
   "source": [
    "from lifelines import KaplanMeierFitter\n",
    "kmf = KaplanMeierFitter()\n",
    "kmf.fit(T, event_observed=E)  # or, more succinctly, kmf.fit(T, E)"
   ]
  },
  {
   "cell_type": "code",
   "execution_count": 163,
   "metadata": {},
   "outputs": [
    {
     "data": {
      "image/png": "[encoded data removed]",
      "text/plain": [
       "<Figure size 432x288 with 1 Axes>"
      ]
     },
     "metadata": {
      "needs_background": "light"
     },
     "output_type": "display_data"
    }
   ],
   "source": [
    "kmf.survival_function_\n",
    "kmf.cumulative_density_\n",
    "kmf.median_\n",
    "kmf.plot_survival_function(); # or just kmf.plot()"
   ]
  },
  {
   "cell_type": "code",
   "execution_count": 164,
   "metadata": {},
   "outputs": [
    {
     "data": {
      "image/png": "[encoded data removed]",
      "text/plain": [
       "<Figure size 432x288 with 1 Axes>"
      ]
     },
     "metadata": {
      "needs_background": "light"
     },
     "output_type": "display_data"
    }
   ],
   "source": [
    "kmf.plot_cumulative_density();"
   ]
  },
  {
   "cell_type": "code",
   "execution_count": 181,
   "metadata": {},
   "outputs": [
    {
     "data": {
      "image/png": "[encoded data removed]",
      "text/plain": [
       "<Figure size 432x288 with 1 Axes>"
      ]
     },
     "metadata": {
      "needs_background": "light"
     },
     "output_type": "display_data"
    }
   ],
   "source": [
    "import lifelines\n",
    "import matplotlib.pyplot as plt\n",
    "\n",
    "durations = T\n",
    "events = E\n",
    "\n",
    "ax = lifelines.plotting.plot_lifetimes(durations=a.diff_in_sec.values,\n",
    "                                       event_observed=a.observed.values)\n",
    "ax.set_xlim(0, 60000)\n",
    "ax.grid(axis='x')\n",
    "ax.set_xlabel(\"Time in Months\")\n",
    "ax.set_title(\"Lifelines for Survival of Leukemia Patients\");\n",
    "plt.plot();"
   ]
  },
  {
   "cell_type": "markdown",
   "metadata": {},
   "source": [
    "#### CoxPHFitter"
   ]
  },
  {
   "cell_type": "code",
   "execution_count": 222,
   "metadata": {},
   "outputs": [],
   "source": [
    "from lifelines import CoxPHFitter\n",
    "cph = CoxPHFitter(penalizer=0.1)"
   ]
  },
  {
   "cell_type": "code",
   "execution_count": 224,
   "metadata": {},
   "outputs": [
    {
     "data": {
      "text/plain": [
       "Index(['advertiser_id', 'action_id', 'source_id', 'date', 'country_code',\n",
       "       'latitude', 'longitude', 'wifi_connection', 'carrier_id', 'trans_id',\n",
       "       'os_minor', 'agent_device', 'os_major', 'specs_brand', 'brand',\n",
       "       'timeToClick', 'touchX', 'touchY', 'ref_type', 'ref_hash', 'source_csv',\n",
       "       'application_id', 'click_hash', 'attributed', 'implicit',\n",
       "       'device_countrycode', 'device_brand', 'device_model',\n",
       "       'session_user_agent', 'user_agent', 'event_uuid', 'kind', 'wifi',\n",
       "       'ip_address', 'device_language', 'index', 'event_id',\n",
       "       'device_os_version', 'device_city', 'carrier', 'device_os',\n",
       "       'connection_type', 'ref_type_id', 'diff_in_sec', 'observed'],\n",
       "      dtype='object')"
      ]
     },
     "execution_count": 224,
     "metadata": {},
     "output_type": "execute_result"
    }
   ],
   "source": [
    "a.columns"
   ]
  },
  {
   "cell_type": "code",
   "execution_count": 236,
   "metadata": {},
   "outputs": [
    {
     "data": {
      "text/plain": [
       "4133166     7.531669329342818e+18\n",
       "38164052    7.531669329342818e+18\n",
       "24638943    7.531669329342818e+18\n",
       "41292132    7.531669329342818e+18\n",
       "11761997    7.531669329342818e+18\n",
       "3430037     7.531669329342818e+18\n",
       "41248198    7.531669329342818e+18\n",
       "38051047    7.531669329342818e+18\n",
       "22152351    7.531669329342818e+18\n",
       "126491      7.531669329342818e+18\n",
       "32193270    7.531669329342818e+18\n",
       "829931      7.531669329342818e+18\n",
       "30635601    7.531669329342818e+18\n",
       "22713922    7.531669329342818e+18\n",
       "17080256    7.531669329342818e+18\n",
       "7107004     7.531669329342818e+18\n",
       "1339234     7.531669329342818e+18\n",
       "9151597     7.531669329342818e+18\n",
       "9101198     7.531669329342818e+18\n",
       "26760610    7.531669329342818e+18\n",
       "6749310     7.531669329342818e+18\n",
       "466591      7.531669329342818e+18\n",
       "3956471     7.531669329342818e+18\n",
       "12181884    7.531669329342818e+18\n",
       "2912361     7.531669329342818e+18\n",
       "3956359     7.531669329342818e+18\n",
       "Name: device_os, dtype: object"
      ]
     },
     "execution_count": 236,
     "metadata": {},
     "output_type": "execute_result"
    }
   ],
   "source": [
    "a.device_os.fillna('7.531669329342818e+18')"
   ]
  },
  {
   "cell_type": "code",
   "execution_count": 220,
   "metadata": {},
   "outputs": [
    {
     "data": {
      "text/html": [
       "<div>\n",
       "<style scoped>\n",
       "    .dataframe tbody tr th:only-of-type {\n",
       "        vertical-align: middle;\n",
       "    }\n",
       "\n",
       "    .dataframe tbody tr th {\n",
       "        vertical-align: top;\n",
       "    }\n",
       "\n",
       "    .dataframe thead th {\n",
       "        text-align: right;\n",
       "    }\n",
       "</style>\n",
       "<table border=\"1\" class=\"dataframe\">\n",
       "  <thead>\n",
       "    <tr style=\"text-align: right;\">\n",
       "      <th></th>\n",
       "      <th>wifi</th>\n",
       "      <th>observed</th>\n",
       "      <th>diff_in_sec</th>\n",
       "    </tr>\n",
       "  </thead>\n",
       "  <tbody>\n",
       "    <tr>\n",
       "      <th>4133166</th>\n",
       "      <td>False</td>\n",
       "      <td>True</td>\n",
       "      <td>2010.799937</td>\n",
       "    </tr>\n",
       "    <tr>\n",
       "      <th>38164052</th>\n",
       "      <td>False</td>\n",
       "      <td>True</td>\n",
       "      <td>1660.348313</td>\n",
       "    </tr>\n",
       "    <tr>\n",
       "      <th>24638943</th>\n",
       "      <td>False</td>\n",
       "      <td>True</td>\n",
       "      <td>489.635776</td>\n",
       "    </tr>\n",
       "    <tr>\n",
       "      <th>41292132</th>\n",
       "      <td>False</td>\n",
       "      <td>True</td>\n",
       "      <td>216.475806</td>\n",
       "    </tr>\n",
       "    <tr>\n",
       "      <th>11761997</th>\n",
       "      <td>False</td>\n",
       "      <td>True</td>\n",
       "      <td>3948.721261</td>\n",
       "    </tr>\n",
       "    <tr>\n",
       "      <th>3430037</th>\n",
       "      <td>False</td>\n",
       "      <td>True</td>\n",
       "      <td>1564.336043</td>\n",
       "    </tr>\n",
       "    <tr>\n",
       "      <th>41248198</th>\n",
       "      <td>False</td>\n",
       "      <td>True</td>\n",
       "      <td>55226.622395</td>\n",
       "    </tr>\n",
       "    <tr>\n",
       "      <th>38051047</th>\n",
       "      <td>False</td>\n",
       "      <td>True</td>\n",
       "      <td>12260.588140</td>\n",
       "    </tr>\n",
       "    <tr>\n",
       "      <th>22152351</th>\n",
       "      <td>False</td>\n",
       "      <td>True</td>\n",
       "      <td>96.746177</td>\n",
       "    </tr>\n",
       "    <tr>\n",
       "      <th>126491</th>\n",
       "      <td>False</td>\n",
       "      <td>False</td>\n",
       "      <td>30.297152</td>\n",
       "    </tr>\n",
       "    <tr>\n",
       "      <th>32193270</th>\n",
       "      <td>False</td>\n",
       "      <td>True</td>\n",
       "      <td>2010.604955</td>\n",
       "    </tr>\n",
       "    <tr>\n",
       "      <th>829931</th>\n",
       "      <td>False</td>\n",
       "      <td>False</td>\n",
       "      <td>2189.660045</td>\n",
       "    </tr>\n",
       "    <tr>\n",
       "      <th>30635601</th>\n",
       "      <td>False</td>\n",
       "      <td>True</td>\n",
       "      <td>5578.805521</td>\n",
       "    </tr>\n",
       "    <tr>\n",
       "      <th>22713922</th>\n",
       "      <td>False</td>\n",
       "      <td>True</td>\n",
       "      <td>1640.722932</td>\n",
       "    </tr>\n",
       "    <tr>\n",
       "      <th>17080256</th>\n",
       "      <td>False</td>\n",
       "      <td>True</td>\n",
       "      <td>2997.637857</td>\n",
       "    </tr>\n",
       "    <tr>\n",
       "      <th>7107004</th>\n",
       "      <td>False</td>\n",
       "      <td>False</td>\n",
       "      <td>22.005690</td>\n",
       "    </tr>\n",
       "    <tr>\n",
       "      <th>1339234</th>\n",
       "      <td>False</td>\n",
       "      <td>True</td>\n",
       "      <td>466.716446</td>\n",
       "    </tr>\n",
       "    <tr>\n",
       "      <th>9151597</th>\n",
       "      <td>False</td>\n",
       "      <td>True</td>\n",
       "      <td>16568.458793</td>\n",
       "    </tr>\n",
       "    <tr>\n",
       "      <th>9101198</th>\n",
       "      <td>False</td>\n",
       "      <td>True</td>\n",
       "      <td>5809.453910</td>\n",
       "    </tr>\n",
       "    <tr>\n",
       "      <th>26760610</th>\n",
       "      <td>False</td>\n",
       "      <td>True</td>\n",
       "      <td>7.084281</td>\n",
       "    </tr>\n",
       "    <tr>\n",
       "      <th>6749310</th>\n",
       "      <td>False</td>\n",
       "      <td>False</td>\n",
       "      <td>32322.870570</td>\n",
       "    </tr>\n",
       "    <tr>\n",
       "      <th>466591</th>\n",
       "      <td>False</td>\n",
       "      <td>False</td>\n",
       "      <td>34268.407000</td>\n",
       "    </tr>\n",
       "    <tr>\n",
       "      <th>3956471</th>\n",
       "      <td>False</td>\n",
       "      <td>False</td>\n",
       "      <td>15035.095000</td>\n",
       "    </tr>\n",
       "    <tr>\n",
       "      <th>12181884</th>\n",
       "      <td>False</td>\n",
       "      <td>True</td>\n",
       "      <td>23662.158105</td>\n",
       "    </tr>\n",
       "    <tr>\n",
       "      <th>2912361</th>\n",
       "      <td>False</td>\n",
       "      <td>False</td>\n",
       "      <td>28.065895</td>\n",
       "    </tr>\n",
       "    <tr>\n",
       "      <th>3956359</th>\n",
       "      <td>False</td>\n",
       "      <td>False</td>\n",
       "      <td>2.334000</td>\n",
       "    </tr>\n",
       "  </tbody>\n",
       "</table>\n",
       "</div>"
      ],
      "text/plain": [
       "           wifi  observed   diff_in_sec\n",
       "4133166   False      True   2010.799937\n",
       "38164052  False      True   1660.348313\n",
       "24638943  False      True    489.635776\n",
       "41292132  False      True    216.475806\n",
       "11761997  False      True   3948.721261\n",
       "3430037   False      True   1564.336043\n",
       "41248198  False      True  55226.622395\n",
       "38051047  False      True  12260.588140\n",
       "22152351  False      True     96.746177\n",
       "126491    False     False     30.297152\n",
       "32193270  False      True   2010.604955\n",
       "829931    False     False   2189.660045\n",
       "30635601  False      True   5578.805521\n",
       "22713922  False      True   1640.722932\n",
       "17080256  False      True   2997.637857\n",
       "7107004   False     False     22.005690\n",
       "1339234   False      True    466.716446\n",
       "9151597   False      True  16568.458793\n",
       "9101198   False      True   5809.453910\n",
       "26760610  False      True      7.084281\n",
       "6749310   False     False  32322.870570\n",
       "466591    False     False  34268.407000\n",
       "3956471   False     False  15035.095000\n",
       "12181884  False      True  23662.158105\n",
       "2912361   False     False     28.065895\n",
       "3956359   False     False      2.334000"
      ]
     },
     "execution_count": 220,
     "metadata": {},
     "output_type": "execute_result"
    }
   ],
   "source": [
    "a[['wifi','observed','diff_in_sec']].fillna(False)"
   ]
  },
  {
   "cell_type": "code",
   "execution_count": 223,
   "metadata": {},
   "outputs": [
    {
     "name": "stderr",
     "output_type": "stream",
     "text": [
      "/home/rozanecm/Documents/Univerza/UBA/7506 Organizacion de Datos/1c2019/tp2/venv/lib/python3.5/site-packages/lifelines/utils/__init__.py:945: ConvergenceWarning: Column(s) ['wifi'] have very low variance. This may harm convergence. Try dropping this redundant column before fitting if convergence fails.\n",
      "  warnings.warn(warning_text, ConvergenceWarning)\n"
     ]
    },
    {
     "ename": "ConvergenceError",
     "evalue": "delta contains nan value(s). Convergence halted. Please see the following tips in the lifelines documentation:\nhttps://lifelines.readthedocs.io/en/latest/Examples.html#problems-with-convergence-in-the-cox-proportional-hazard-model\n",
     "output_type": "error",
     "traceback": [
      "\u001b[0;31m---------------------------------------------------------------------------\u001b[0m",
      "\u001b[0;31mConvergenceError\u001b[0m                          Traceback (most recent call last)",
      "\u001b[0;32m<ipython-input-223-1b20d0afbc9b>\u001b[0m in \u001b[0;36m<module>\u001b[0;34m\u001b[0m\n\u001b[0;32m----> 1\u001b[0;31m \u001b[0mcph\u001b[0m\u001b[0;34m.\u001b[0m\u001b[0mfit\u001b[0m\u001b[0;34m(\u001b[0m\u001b[0ma\u001b[0m\u001b[0;34m[\u001b[0m\u001b[0;34m[\u001b[0m\u001b[0;34m'wifi'\u001b[0m\u001b[0;34m,\u001b[0m\u001b[0;34m'observed'\u001b[0m\u001b[0;34m,\u001b[0m\u001b[0;34m'diff_in_sec'\u001b[0m\u001b[0;34m]\u001b[0m\u001b[0;34m]\u001b[0m\u001b[0;34m.\u001b[0m\u001b[0mfillna\u001b[0m\u001b[0;34m(\u001b[0m\u001b[0;32mFalse\u001b[0m\u001b[0;34m)\u001b[0m\u001b[0;34m,\u001b[0m \u001b[0mduration_col\u001b[0m\u001b[0;34m=\u001b[0m\u001b[0;34m'diff_in_sec'\u001b[0m\u001b[0;34m,\u001b[0m \u001b[0mevent_col\u001b[0m\u001b[0;34m=\u001b[0m\u001b[0;34m'observed'\u001b[0m\u001b[0;34m,\u001b[0m \u001b[0mshow_progress\u001b[0m\u001b[0;34m=\u001b[0m\u001b[0;32mTrue\u001b[0m\u001b[0;34m)\u001b[0m\u001b[0;34m\u001b[0m\u001b[0m\n\u001b[0m\u001b[1;32m      2\u001b[0m \u001b[0mcph\u001b[0m\u001b[0;34m.\u001b[0m\u001b[0mprint_summary\u001b[0m\u001b[0;34m(\u001b[0m\u001b[0;34m)\u001b[0m\u001b[0;34m\u001b[0m\u001b[0m\n",
      "\u001b[0;32m~/Documents/Univerza/UBA/7506 Organizacion de Datos/1c2019/tp2/venv/lib/python3.5/site-packages/lifelines/utils/__init__.py\u001b[0m in \u001b[0;36mf\u001b[0;34m(self, *args, **kwargs)\u001b[0m\n\u001b[1;32m     43\u001b[0m         \u001b[0;32mdef\u001b[0m \u001b[0mf\u001b[0m\u001b[0;34m(\u001b[0m\u001b[0mself\u001b[0m\u001b[0;34m,\u001b[0m \u001b[0;34m*\u001b[0m\u001b[0margs\u001b[0m\u001b[0;34m,\u001b[0m \u001b[0;34m**\u001b[0m\u001b[0mkwargs\u001b[0m\u001b[0;34m)\u001b[0m\u001b[0;34m:\u001b[0m\u001b[0;34m\u001b[0m\u001b[0m\n\u001b[1;32m     44\u001b[0m             \u001b[0mself\u001b[0m\u001b[0;34m.\u001b[0m\u001b[0m_censoring_type\u001b[0m \u001b[0;34m=\u001b[0m \u001b[0mcls\u001b[0m\u001b[0;34m.\u001b[0m\u001b[0mRIGHT\u001b[0m\u001b[0;34m\u001b[0m\u001b[0m\n\u001b[0;32m---> 45\u001b[0;31m             \u001b[0;32mreturn\u001b[0m \u001b[0mfunction\u001b[0m\u001b[0;34m(\u001b[0m\u001b[0mself\u001b[0m\u001b[0;34m,\u001b[0m \u001b[0;34m*\u001b[0m\u001b[0margs\u001b[0m\u001b[0;34m,\u001b[0m \u001b[0;34m**\u001b[0m\u001b[0mkwargs\u001b[0m\u001b[0;34m)\u001b[0m\u001b[0;34m\u001b[0m\u001b[0m\n\u001b[0m\u001b[1;32m     46\u001b[0m \u001b[0;34m\u001b[0m\u001b[0m\n\u001b[1;32m     47\u001b[0m         \u001b[0;32mreturn\u001b[0m \u001b[0mf\u001b[0m\u001b[0;34m\u001b[0m\u001b[0m\n",
      "\u001b[0;32m~/Documents/Univerza/UBA/7506 Organizacion de Datos/1c2019/tp2/venv/lib/python3.5/site-packages/lifelines/fitters/coxph_fitter.py\u001b[0m in \u001b[0;36mfit\u001b[0;34m(self, df, duration_col, event_col, show_progress, initial_point, strata, step_size, weights_col, cluster_col, robust, batch_mode)\u001b[0m\n\u001b[1;32m    286\u001b[0m \u001b[0;34m\u001b[0m\u001b[0m\n\u001b[1;32m    287\u001b[0m         hazards_ = self._fit_model(\n\u001b[0;32m--> 288\u001b[0;31m             \u001b[0mX_norm\u001b[0m\u001b[0;34m,\u001b[0m \u001b[0mT\u001b[0m\u001b[0;34m,\u001b[0m \u001b[0mE\u001b[0m\u001b[0;34m,\u001b[0m \u001b[0mweights\u001b[0m\u001b[0;34m=\u001b[0m\u001b[0mweights\u001b[0m\u001b[0;34m,\u001b[0m \u001b[0minitial_point\u001b[0m\u001b[0;34m=\u001b[0m\u001b[0minitial_point\u001b[0m\u001b[0;34m,\u001b[0m \u001b[0mshow_progress\u001b[0m\u001b[0;34m=\u001b[0m\u001b[0mshow_progress\u001b[0m\u001b[0;34m,\u001b[0m \u001b[0mstep_size\u001b[0m\u001b[0;34m=\u001b[0m\u001b[0mstep_size\u001b[0m\u001b[0;34m\u001b[0m\u001b[0m\n\u001b[0m\u001b[1;32m    289\u001b[0m         )\n\u001b[1;32m    290\u001b[0m \u001b[0;34m\u001b[0m\u001b[0m\n",
      "\u001b[0;32m~/Documents/Univerza/UBA/7506 Organizacion de Datos/1c2019/tp2/venv/lib/python3.5/site-packages/lifelines/fitters/coxph_fitter.py\u001b[0m in \u001b[0;36m_fit_model\u001b[0;34m(self, X, T, E, weights, initial_point, step_size, precision, show_progress, max_steps)\u001b[0m\n\u001b[1;32m    495\u001b[0m                     \"\"\"delta contains nan value(s). Convergence halted. Please see the following tips in the lifelines documentation:\n\u001b[1;32m    496\u001b[0m \u001b[0mhttps\u001b[0m\u001b[0;34m:\u001b[0m\u001b[0;34m//\u001b[0m\u001b[0mlifelines\u001b[0m\u001b[0;34m.\u001b[0m\u001b[0mreadthedocs\u001b[0m\u001b[0;34m.\u001b[0m\u001b[0mio\u001b[0m\u001b[0;34m/\u001b[0m\u001b[0men\u001b[0m\u001b[0;34m/\u001b[0m\u001b[0mlatest\u001b[0m\u001b[0;34m/\u001b[0m\u001b[0mExamples\u001b[0m\u001b[0;34m.\u001b[0m\u001b[0mhtml\u001b[0m\u001b[0;31m#problems-with-convergence-in-the-cox-proportional-hazard-model\u001b[0m\u001b[0;34m\u001b[0m\u001b[0m\n\u001b[0;32m--> 497\u001b[0;31m \"\"\"\n\u001b[0m\u001b[1;32m    498\u001b[0m                 )\n\u001b[1;32m    499\u001b[0m \u001b[0;34m\u001b[0m\u001b[0m\n",
      "\u001b[0;31mConvergenceError\u001b[0m: delta contains nan value(s). Convergence halted. Please see the following tips in the lifelines documentation:\nhttps://lifelines.readthedocs.io/en/latest/Examples.html#problems-with-convergence-in-the-cox-proportional-hazard-model\n"
     ]
    }
   ],
   "source": [
    "cph.fit(a[['wifi','observed','diff_in_sec']].fillna(False), duration_col='diff_in_sec', event_col='observed', show_progress=True)\n",
    "cph.print_summary()"
   ]
  },
  {
   "cell_type": "code",
   "execution_count": 214,
   "metadata": {},
   "outputs": [
    {
     "data": {
      "image/png": "[encoded data removed]",
      "text/plain": [
       "<Figure size 432x288 with 1 Axes>"
      ]
     },
     "metadata": {
      "needs_background": "light"
     },
     "output_type": "display_data"
    }
   ],
   "source": [
    "cph.plot();"
   ]
  }
 ],
 "metadata": {
  "kernelspec": {
   "display_name": "Python 3",
   "language": "python",
   "name": "python3"
  },
  "language_info": {
   "codemirror_mode": {
    "name": "ipython",
    "version": 3
   },
   "file_extension": ".py",
   "mimetype": "text/x-python",
   "name": "python",
   "nbconvert_exporter": "python",
   "pygments_lexer": "ipython3",
   "version": "3.5.2"
  }
 },
 "nbformat": 4,
 "nbformat_minor": 2
}
