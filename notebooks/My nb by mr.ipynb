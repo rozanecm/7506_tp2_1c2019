{
 "cells": [
  {
   "cell_type": "markdown",
   "metadata": {
    "tags": [
     "essential_load_on_startup"
    ]
   },
   "source": [
    "# Introduction"
   ]
  },
  {
   "cell_type": "markdown",
   "metadata": {
    "tags": [
     "essential_load_on_startup"
    ]
   },
   "source": [
    "## Imports"
   ]
  },
  {
   "cell_type": "code",
   "execution_count": 1,
   "metadata": {
    "tags": [
     "essential_load_on_startup"
    ]
   },
   "outputs": [],
   "source": [
    "import pandas as pd\n",
    "\n",
    "import numpy as np\n",
    "\n",
    "import os"
   ]
  },
  {
   "cell_type": "code",
   "execution_count": 2,
   "metadata": {
    "tags": [
     "essential_load_on_startup"
    ]
   },
   "outputs": [],
   "source": [
    "# load target\n",
    "# I include this in the imports section because its as essential as an importa\n",
    "target = pd.read_csv('../data/target_competencia_ids.csv')\n",
    "\n",
    "# to avoid misunderstandings with data when predicting, and avoid accidentally predicting value zero\n",
    "target.obj = np.nan"
   ]
  },
  {
   "cell_type": "code",
   "execution_count": 3,
   "metadata": {
    "tags": [
     "essential_load_on_startup"
    ]
   },
   "outputs": [],
   "source": [
    "# days to consider\n",
    "all_days = [18,19,20,21,22,23,24,25,26]"
   ]
  },
  {
   "cell_type": "markdown",
   "metadata": {},
   "source": [
    "## Data info"
   ]
  },
  {
   "cell_type": "code",
   "execution_count": 4,
   "metadata": {
    "tags": [
     "essential_load_on_startup"
    ]
   },
   "outputs": [
    {
     "name": "stdout",
     "output_type": "stream",
     "text": [
      "auctions.csv\t\t\t\t\t\t2412.11824\n",
      ".ipynb_checkpoints\t\t\t\t\t\t0.004096\n",
      "target_competencia_ids.csv\t\t\t\t\t\t0.200915\n",
      "installs.csv\t\t\t\t\t\t123.502317\n",
      "desc.json\t\t\t\t\t\t0.009146\n",
      "Recomendaciones y aclaraciones.docx\t\t\t\t\t\t0.006909\n",
      "clicks.csv\t\t\t\t\t\t16.147446\n",
      "events.csv\t\t\t\t\t\t2252.988966\n"
     ]
    }
   ],
   "source": [
    "for file in os.listdir('../data/'):\n",
    "    print(file + '\\t\\t\\t\\t\\t\\t' + str(os.stat(\"../data/\" + file).st_size/1000000))"
   ]
  },
  {
   "cell_type": "markdown",
   "metadata": {},
   "source": [
    "# Useful functions"
   ]
  },
  {
   "cell_type": "markdown",
   "metadata": {},
   "source": [
    "## General"
   ]
  },
  {
   "cell_type": "code",
   "execution_count": 5,
   "metadata": {
    "tags": [
     "essential_load_on_startup"
    ]
   },
   "outputs": [],
   "source": [
    "# target ids related\n",
    "def get_target_ids():\n",
    "    \"\"\" get all target ids \"\"\"\n",
    "    return target['ref_hash'].apply(lambda x: x[:-3]).unique()\n",
    "\n",
    "def get_target_ids_chunk(chunk_num):\n",
    "    \"\"\" chunk num can go from 1 to 41 \"\"\"\n",
    "    chunk_size = 100\n",
    "    start = (chunk_num - 1) * chunk_size\n",
    "    stop = chunk_size * chunk_num\n",
    "    return get_target_ids()[start:stop]"
   ]
  },
  {
   "cell_type": "code",
   "execution_count": 6,
   "metadata": {
    "tags": [
     "essential_load_on_startup"
    ]
   },
   "outputs": [],
   "source": [
    "# para guardar predicciones\n",
    "import time\n",
    "def get_filename(my_name, timestamp):\n",
    "    return \"../predictions/\" + timestamp + \" by \" + my_name + \".csv\"\n",
    "\n",
    "def save_description(authors_name, timestamp, submission_description):\n",
    "    f = open(\"../predictions/\" + authors_name + \".txt\",\"a\")\n",
    "    f.write(timestamp + \": \" + submission_description + '\\n')\n",
    "    f.close()\n",
    "\n",
    "def save_submission(submission_df, authors_name, submission_description = \"no description\"):\n",
    "    timestamp = time.strftime(\"%Y.%m.%d - %H:%M:%S\")\n",
    "    submission_df.to_csv(get_filename(authors_name, timestamp), index=False)\n",
    "    save_description(authors_name, timestamp, submission_description)"
   ]
  },
  {
   "cell_type": "code",
   "execution_count": 7,
   "metadata": {
    "tags": [
     "essential_load_on_startup"
    ]
   },
   "outputs": [],
   "source": [
    "# play a sound when whole notebook finished executing\n",
    "import os\n",
    "def ring(duration = 1, freq = 1500):\n",
    "    \"\"\" play tone of duration in seconds and freq in Hz. \"\"\"\n",
    "    os.system('play --no-show-progress --null --channels 1 synth %s sine %f' % (duration, freq))"
   ]
  },
  {
   "cell_type": "markdown",
   "metadata": {},
   "source": [
    "## Dfs loading functions"
   ]
  },
  {
   "cell_type": "code",
   "execution_count": 8,
   "metadata": {
    "tags": [
     "essential_load_on_startup"
    ]
   },
   "outputs": [],
   "source": [
    "clicks_dtypes = {'advertiser_id':'category',\n",
    "                 'action_id':'category',\n",
    "                 'source_id':'category',\n",
    "                 'country_code':'category',\n",
    "                 'latitude':'float64',\n",
    "                 'longitude':'float64',\n",
    "                 'wifi_connection':'bool',\n",
    "                 'carrier_id':'category',\n",
    "                 'trans_id':'category',\n",
    "                 'os_minor':'category',\n",
    "                 'agent_device':'category',\n",
    "                 'os_major':'category',\n",
    "                 'specs_brand':'category',\n",
    "                 'brand':'category',\n",
    "                 'timeToClick':'float64',\n",
    "                 'touchX':'object',\n",
    "                 'touchY':'object',\n",
    "                 'ref_type':'category',\n",
    "                 'ref_hash':'category'}\n",
    "\n",
    "def load_clicks(users=get_target_ids(), days=all_days):\n",
    "    \"\"\" load clicks csv, only users and days specified in users and days lists.\n",
    "    If lists left empty, consider whole set of users and days respectively.\"\"\"\n",
    "    iter_clicks = pd.read_csv('../data/clicks.csv', engine='c', dtype=clicks_dtypes, parse_dates=['created'], chunksize=10000)\n",
    "    def load_condition(chunk):\n",
    "        return chunk['ref_hash'].isin(users) & chunk['created'].dt.day.isin(days)\n",
    "    df = pd.concat(chunk.loc[load_condition(chunk)] for chunk in iter_clicks)\n",
    "    return df"
   ]
  },
  {
   "cell_type": "code",
   "execution_count": 9,
   "metadata": {
    "tags": [
     "essential_load_on_startup"
    ]
   },
   "outputs": [],
   "source": [
    "installs_dtypes = {\"application_id\":          \"category\",\n",
    "                   \"ref_type\":                \"category\",\n",
    "                   \"ref_hash\":                \"category\",\n",
    "                   \"click_hash\":             \"category\",\n",
    "                   \"attributed\":               \"bool\",\n",
    "                   \"implicit\":                 \"bool\",\n",
    "                   \"device_countrycode\":      \"category\",\n",
    "                   \"device_brand\":          \"category\",\n",
    "                   \"device_model\":          \"category\",\n",
    "                   \"session_user_agent\":     \"category\",\n",
    "                   \"user_agent\":             \"category\",\n",
    "                   \"event_uuid\":             \"category\",\n",
    "                   \"kind\":                   \"category\",\n",
    "                   \"wifi\":                   \"category\",\n",
    "                   \"trans_id\":               \"category\",\n",
    "                   \"ip_address\":              \"category\",\n",
    "                   \"device_language\":       \"category\"}\n",
    "\n",
    "def load_installs(users=get_target_ids(), days=all_days):\n",
    "    \"\"\" load installs csv, only users and days specified in users and days lists.\n",
    "    If lists left empty, consider whole set of users and days respectively.\"\"\"\n",
    "    df_installs = pd.read_csv('../data/installs.csv', engine='c', dtype=installs_dtypes, parse_dates=['created'])\n",
    "    def load_condition(df):\n",
    "        return df['ref_hash'].isin(users) & df['created'].dt.day.isin(days)\n",
    "    df = df_installs.loc[load_condition(df_installs)]\n",
    "    return df"
   ]
  },
  {
   "cell_type": "code",
   "execution_count": 10,
   "metadata": {
    "tags": [
     "essential_load_on_startup"
    ]
   },
   "outputs": [],
   "source": [
    "events_dtypes = {\"index\":                   \"category\",\n",
    "                 \"event_id\":                \"category\",\n",
    "                 \"ref_type\":                \"category\",\n",
    "                 \"ref_hash\":                \"category\",\n",
    "                 \"application_id\":          \"category\",\n",
    "                 \"attributed\":               \"bool\",\n",
    "                 \"device_countrycode\":      \"category\",\n",
    "                 \"device_os_version\":     \"category\",\n",
    "                 \"device_brand\":          \"category\",\n",
    "                 \"device_model\":          \"category\",\n",
    "                 \"device_city\":           \"category\",\n",
    "                 \"session_user_agent\":    \"category\",\n",
    "                 \"trans_id\":               \"category\",\n",
    "                 \"user_agent\":            \"category\",\n",
    "                 \"event_uuid\":             \"category\",\n",
    "                 \"carrier\":               \"category\",\n",
    "                 \"kind\":                  \"category\",\n",
    "                 \"device_os\":             \"category\",\n",
    "                 \"wifi\":                     \"bool\",\n",
    "                 \"connection_type\":        \"category\",\n",
    "                 \"ip_address\":              \"category\",\n",
    "                 \"device_language\":       \"category\"}\n",
    "\n",
    "def load_events(users=get_target_ids(), days=all_days):\n",
    "    \"\"\" load events csv, only users and days specified in users and days lists.\n",
    "    If lists left empty, consider whole set of users and days respectively.\"\"\"\n",
    "    iter_events = pd.read_csv('../data/events.csv', engine='c', dtype=events_dtypes, parse_dates=['date'], chunksize=10000)\n",
    "    def load_condition(chunk):\n",
    "        return chunk['ref_hash'].isin(users) & chunk['date'].dt.day.isin(days)\n",
    "    df = pd.concat(chunk.loc[load_condition(chunk)] for chunk in iter_events)\n",
    "    return df"
   ]
  },
  {
   "cell_type": "code",
   "execution_count": 11,
   "metadata": {
    "tags": [
     "essential_load_on_startup"
    ]
   },
   "outputs": [],
   "source": [
    "auctions_dtypes = {'device_id':'category',\n",
    "                 'ref_type_id':'category',\n",
    "                 'source_id':'category'}\n",
    "\n",
    "def load_auctions(users=get_target_ids(), days=all_days):\n",
    "    \"\"\" load auctions csv, only users and days specified in users and days lists.\n",
    "    If lists left empty, consider whole set of users and days respectively.\"\"\"\n",
    "    iter_auctions = pd.read_csv('../data/auctions.csv', engine='c', dtype=auctions_dtypes, parse_dates=['date'], chunksize=10000)\n",
    "    def load_condition(chunk):\n",
    "        return chunk['device_id'].isin(users) & chunk['date'].dt.day.isin(days)\n",
    "    df = pd.concat(chunk.loc[load_condition(chunk)] for chunk in iter_auctions)\n",
    "    return df"
   ]
  },
  {
   "cell_type": "markdown",
   "metadata": {},
   "source": [
    "# Recommended bibliography"
   ]
  },
  {
   "cell_type": "markdown",
   "metadata": {},
   "source": [
    "- [Lifelines: Survival Analysis in Python](https://www.youtube.com/watch?v=XQfxndJH4UA): Introduction to survival analysis and the lifelines lib in python. Shows simple example (aka, theres code!!)\n",
    "- [Tristan Boudreault | Survival analysis for conversion rates](https://www.youtube.com/watch?v=oui1hx2bM2o): Estudio de caso: Shopify. From pyData conference in Amsterdam\n",
    "- [Introduction to survival analysis](https://lifelines.readthedocs.io/en/latest/Survival%20Analysis%20intro.html#introduction-to-survival-analysis): by lifelines"
   ]
  },
  {
   "cell_type": "markdown",
   "metadata": {},
   "source": [
    "#### Pseudo resumen de cosas utiles para aplicar\n",
    "Para survival analysis se necesitan dos cosas:\n",
    "- an array of durations\n",
    "- either a boolean or binary array representing whether the “death” was observed or not (alternatively an individual can be censored)."
   ]
  },
  {
   "cell_type": "markdown",
   "metadata": {},
   "source": [
    "# Un vistazo sobre los dfs"
   ]
  },
  {
   "cell_type": "markdown",
   "metadata": {},
   "source": [
    "## Clicks"
   ]
  },
  {
   "cell_type": "code",
   "execution_count": 136,
   "metadata": {},
   "outputs": [],
   "source": [
    "df = load_clicks(get_target_ids_chunk(1), all_days[:3])"
   ]
  },
  {
   "cell_type": "code",
   "execution_count": 137,
   "metadata": {},
   "outputs": [
    {
     "data": {
      "text/html": [
       "<div>\n",
       "<style scoped>\n",
       "    .dataframe tbody tr th:only-of-type {\n",
       "        vertical-align: middle;\n",
       "    }\n",
       "\n",
       "    .dataframe tbody tr th {\n",
       "        vertical-align: top;\n",
       "    }\n",
       "\n",
       "    .dataframe thead th {\n",
       "        text-align: right;\n",
       "    }\n",
       "</style>\n",
       "<table border=\"1\" class=\"dataframe\">\n",
       "  <thead>\n",
       "    <tr style=\"text-align: right;\">\n",
       "      <th></th>\n",
       "      <th>advertiser_id</th>\n",
       "      <th>action_id</th>\n",
       "      <th>source_id</th>\n",
       "      <th>created</th>\n",
       "      <th>country_code</th>\n",
       "      <th>latitude</th>\n",
       "      <th>longitude</th>\n",
       "      <th>wifi_connection</th>\n",
       "      <th>carrier_id</th>\n",
       "      <th>trans_id</th>\n",
       "      <th>os_minor</th>\n",
       "      <th>agent_device</th>\n",
       "      <th>os_major</th>\n",
       "      <th>specs_brand</th>\n",
       "      <th>brand</th>\n",
       "      <th>timeToClick</th>\n",
       "      <th>touchX</th>\n",
       "      <th>touchY</th>\n",
       "      <th>ref_type</th>\n",
       "      <th>ref_hash</th>\n",
       "    </tr>\n",
       "  </thead>\n",
       "  <tbody>\n",
       "    <tr>\n",
       "      <th>11899</th>\n",
       "      <td>2</td>\n",
       "      <td>NaN</td>\n",
       "      <td>1</td>\n",
       "      <td>2019-04-20 04:23:39.214000+00:00</td>\n",
       "      <td>6287817205707153877</td>\n",
       "      <td>1.771786</td>\n",
       "      <td>0.850556</td>\n",
       "      <td>True</td>\n",
       "      <td>1.0</td>\n",
       "      <td>2erPcX11IzP-xXiSiUTEOtMKiIKd9lQ</td>\n",
       "      <td>1.5176438893491397e+18</td>\n",
       "      <td>NaN</td>\n",
       "      <td>5.131615556736863e+18</td>\n",
       "      <td>3576558787748411622</td>\n",
       "      <td>NaN</td>\n",
       "      <td>NaN</td>\n",
       "      <td>NaN</td>\n",
       "      <td>NaN</td>\n",
       "      <td>1891515180541284343</td>\n",
       "      <td>1102680423242413676</td>\n",
       "    </tr>\n",
       "    <tr>\n",
       "      <th>11922</th>\n",
       "      <td>2</td>\n",
       "      <td>NaN</td>\n",
       "      <td>1</td>\n",
       "      <td>2019-04-20 04:30:28.785000+00:00</td>\n",
       "      <td>6287817205707153877</td>\n",
       "      <td>1.771786</td>\n",
       "      <td>0.850556</td>\n",
       "      <td>True</td>\n",
       "      <td>1.0</td>\n",
       "      <td>xXnQL1gGPzqGs-BFn45NS9i5gkZsIqU</td>\n",
       "      <td>1.5176438893491397e+18</td>\n",
       "      <td>NaN</td>\n",
       "      <td>5.131615556736863e+18</td>\n",
       "      <td>3576558787748411622</td>\n",
       "      <td>NaN</td>\n",
       "      <td>403.314</td>\n",
       "      <td>0.933</td>\n",
       "      <td>1.093</td>\n",
       "      <td>1891515180541284343</td>\n",
       "      <td>1102680423242413676</td>\n",
       "    </tr>\n",
       "    <tr>\n",
       "      <th>25085</th>\n",
       "      <td>2</td>\n",
       "      <td>NaN</td>\n",
       "      <td>1</td>\n",
       "      <td>2019-04-18 16:55:31.227000+00:00</td>\n",
       "      <td>6287817205707153877</td>\n",
       "      <td>1.791655</td>\n",
       "      <td>0.855685</td>\n",
       "      <td>True</td>\n",
       "      <td>1.0</td>\n",
       "      <td>2nebL7UP8AoozSeLGQW1p6f78TATevg</td>\n",
       "      <td>1.5176438893491397e+18</td>\n",
       "      <td>NaN</td>\n",
       "      <td>5.131615556736863e+18</td>\n",
       "      <td>3576558787748411622</td>\n",
       "      <td>NaN</td>\n",
       "      <td>115.522</td>\n",
       "      <td>0.579</td>\n",
       "      <td>1.407</td>\n",
       "      <td>1891515180541284343</td>\n",
       "      <td>1102680423242413676</td>\n",
       "    </tr>\n",
       "    <tr>\n",
       "      <th>61291</th>\n",
       "      <td>1</td>\n",
       "      <td>NaN</td>\n",
       "      <td>1</td>\n",
       "      <td>2019-04-20 19:53:18.984000+00:00</td>\n",
       "      <td>6287817205707153877</td>\n",
       "      <td>1.714538</td>\n",
       "      <td>0.871000</td>\n",
       "      <td>False</td>\n",
       "      <td>11.0</td>\n",
       "      <td>pXaVgJhWiXXTvNY3H0OgmA5V1HOjmWI</td>\n",
       "      <td>1.5176438893491397e+18</td>\n",
       "      <td>NaN</td>\n",
       "      <td>5.131615556736863e+18</td>\n",
       "      <td>71913840936116953</td>\n",
       "      <td>NaN</td>\n",
       "      <td>0.838</td>\n",
       "      <td>0.118</td>\n",
       "      <td>0.020</td>\n",
       "      <td>1891515180541284343</td>\n",
       "      <td>1058525390691423513</td>\n",
       "    </tr>\n",
       "    <tr>\n",
       "      <th>63806</th>\n",
       "      <td>1</td>\n",
       "      <td>NaN</td>\n",
       "      <td>1</td>\n",
       "      <td>2019-04-19 12:46:43.763000+00:00</td>\n",
       "      <td>6287817205707153877</td>\n",
       "      <td>1.713614</td>\n",
       "      <td>0.870279</td>\n",
       "      <td>True</td>\n",
       "      <td>1.0</td>\n",
       "      <td>-USvZQZBbN-CmUmaxwghWUUJA1dNnx4</td>\n",
       "      <td>1.5176438893491397e+18</td>\n",
       "      <td>NaN</td>\n",
       "      <td>5.131615556736863e+18</td>\n",
       "      <td>71913840936116953</td>\n",
       "      <td>NaN</td>\n",
       "      <td>17.752</td>\n",
       "      <td>0.359</td>\n",
       "      <td>1.247</td>\n",
       "      <td>1891515180541284343</td>\n",
       "      <td>1058525390691423513</td>\n",
       "    </tr>\n",
       "  </tbody>\n",
       "</table>\n",
       "</div>"
      ],
      "text/plain": [
       "      advertiser_id action_id source_id                          created  \\\n",
       "11899             2       NaN         1 2019-04-20 04:23:39.214000+00:00   \n",
       "11922             2       NaN         1 2019-04-20 04:30:28.785000+00:00   \n",
       "25085             2       NaN         1 2019-04-18 16:55:31.227000+00:00   \n",
       "61291             1       NaN         1 2019-04-20 19:53:18.984000+00:00   \n",
       "63806             1       NaN         1 2019-04-19 12:46:43.763000+00:00   \n",
       "\n",
       "              country_code  latitude  longitude  wifi_connection carrier_id  \\\n",
       "11899  6287817205707153877  1.771786   0.850556             True        1.0   \n",
       "11922  6287817205707153877  1.771786   0.850556             True        1.0   \n",
       "25085  6287817205707153877  1.791655   0.855685             True        1.0   \n",
       "61291  6287817205707153877  1.714538   0.871000            False       11.0   \n",
       "63806  6287817205707153877  1.713614   0.870279             True        1.0   \n",
       "\n",
       "                              trans_id                os_minor agent_device  \\\n",
       "11899  2erPcX11IzP-xXiSiUTEOtMKiIKd9lQ  1.5176438893491397e+18          NaN   \n",
       "11922  xXnQL1gGPzqGs-BFn45NS9i5gkZsIqU  1.5176438893491397e+18          NaN   \n",
       "25085  2nebL7UP8AoozSeLGQW1p6f78TATevg  1.5176438893491397e+18          NaN   \n",
       "61291  pXaVgJhWiXXTvNY3H0OgmA5V1HOjmWI  1.5176438893491397e+18          NaN   \n",
       "63806  -USvZQZBbN-CmUmaxwghWUUJA1dNnx4  1.5176438893491397e+18          NaN   \n",
       "\n",
       "                    os_major          specs_brand brand  timeToClick touchX  \\\n",
       "11899  5.131615556736863e+18  3576558787748411622   NaN          NaN    NaN   \n",
       "11922  5.131615556736863e+18  3576558787748411622   NaN      403.314  0.933   \n",
       "25085  5.131615556736863e+18  3576558787748411622   NaN      115.522  0.579   \n",
       "61291  5.131615556736863e+18    71913840936116953   NaN        0.838  0.118   \n",
       "63806  5.131615556736863e+18    71913840936116953   NaN       17.752  0.359   \n",
       "\n",
       "      touchY             ref_type             ref_hash  \n",
       "11899    NaN  1891515180541284343  1102680423242413676  \n",
       "11922  1.093  1891515180541284343  1102680423242413676  \n",
       "25085  1.407  1891515180541284343  1102680423242413676  \n",
       "61291  0.020  1891515180541284343  1058525390691423513  \n",
       "63806  1.247  1891515180541284343  1058525390691423513  "
      ]
     },
     "execution_count": 137,
     "metadata": {},
     "output_type": "execute_result"
    }
   ],
   "source": [
    "df.head()"
   ]
  },
  {
   "cell_type": "markdown",
   "metadata": {},
   "source": [
    "## Installs"
   ]
  },
  {
   "cell_type": "code",
   "execution_count": 141,
   "metadata": {},
   "outputs": [],
   "source": [
    "df = load_installs(get_target_ids_chunk(1), all_days[:3])"
   ]
  },
  {
   "cell_type": "code",
   "execution_count": 142,
   "metadata": {},
   "outputs": [
    {
     "data": {
      "text/html": [
       "<div>\n",
       "<style scoped>\n",
       "    .dataframe tbody tr th:only-of-type {\n",
       "        vertical-align: middle;\n",
       "    }\n",
       "\n",
       "    .dataframe tbody tr th {\n",
       "        vertical-align: top;\n",
       "    }\n",
       "\n",
       "    .dataframe thead th {\n",
       "        text-align: right;\n",
       "    }\n",
       "</style>\n",
       "<table border=\"1\" class=\"dataframe\">\n",
       "  <thead>\n",
       "    <tr style=\"text-align: right;\">\n",
       "      <th></th>\n",
       "      <th>created</th>\n",
       "      <th>application_id</th>\n",
       "      <th>ref_type</th>\n",
       "      <th>ref_hash</th>\n",
       "      <th>click_hash</th>\n",
       "      <th>attributed</th>\n",
       "      <th>implicit</th>\n",
       "      <th>device_countrycode</th>\n",
       "      <th>device_brand</th>\n",
       "      <th>device_model</th>\n",
       "      <th>session_user_agent</th>\n",
       "      <th>user_agent</th>\n",
       "      <th>event_uuid</th>\n",
       "      <th>kind</th>\n",
       "      <th>wifi</th>\n",
       "      <th>trans_id</th>\n",
       "      <th>ip_address</th>\n",
       "      <th>device_language</th>\n",
       "    </tr>\n",
       "  </thead>\n",
       "  <tbody>\n",
       "    <tr>\n",
       "      <th>7016</th>\n",
       "      <td>2019-04-19 02:37:34.033</td>\n",
       "      <td>14</td>\n",
       "      <td>1891515180541284343</td>\n",
       "      <td>1128814228344083814</td>\n",
       "      <td>NaN</td>\n",
       "      <td>False</td>\n",
       "      <td>False</td>\n",
       "      <td>6287817205707153877</td>\n",
       "      <td>2.208834667126999e+18</td>\n",
       "      <td>4.445013666528814e+18</td>\n",
       "      <td>NaN</td>\n",
       "      <td>NaN</td>\n",
       "      <td>NaN</td>\n",
       "      <td>NaN</td>\n",
       "      <td>NaN</td>\n",
       "      <td>NaN</td>\n",
       "      <td>2514363106721953847</td>\n",
       "      <td>3.3013777759776993e+18</td>\n",
       "    </tr>\n",
       "    <tr>\n",
       "      <th>7022</th>\n",
       "      <td>2019-04-19 02:37:34.101</td>\n",
       "      <td>14</td>\n",
       "      <td>1891515180541284343</td>\n",
       "      <td>1128814228344083814</td>\n",
       "      <td>NaN</td>\n",
       "      <td>False</td>\n",
       "      <td>True</td>\n",
       "      <td>6287817205707153877</td>\n",
       "      <td>2.208834667126999e+18</td>\n",
       "      <td>4.445013666528814e+18</td>\n",
       "      <td>HasOffers Mobile AppTracking v1.0</td>\n",
       "      <td>NaN</td>\n",
       "      <td>f4714013-b8aa-415e-aa58-fa98ebf64d23</td>\n",
       "      <td>Open</td>\n",
       "      <td>NaN</td>\n",
       "      <td>NaN</td>\n",
       "      <td>2514363106721953847</td>\n",
       "      <td>3.3013777759776993e+18</td>\n",
       "    </tr>\n",
       "    <tr>\n",
       "      <th>28381</th>\n",
       "      <td>2019-04-18 22:23:29.656</td>\n",
       "      <td>49</td>\n",
       "      <td>1494519392962156891</td>\n",
       "      <td>1048782984015604883</td>\n",
       "      <td>NaN</td>\n",
       "      <td>False</td>\n",
       "      <td>True</td>\n",
       "      <td>6287817205707153877</td>\n",
       "      <td>NaN</td>\n",
       "      <td>6.794880020077885e+18</td>\n",
       "      <td>http-kit/2.0</td>\n",
       "      <td>SinDelantal/1 CFNetwork/976 Darwin/18.2.0</td>\n",
       "      <td>834549e2-52f8-4d83-afd5-4dace2a4c50d</td>\n",
       "      <td>af_app_opened</td>\n",
       "      <td>true</td>\n",
       "      <td>NaN</td>\n",
       "      <td>7869038058745259581</td>\n",
       "      <td>8.441417429938962e+18</td>\n",
       "    </tr>\n",
       "    <tr>\n",
       "      <th>48676</th>\n",
       "      <td>2019-04-20 12:35:20.625</td>\n",
       "      <td>77</td>\n",
       "      <td>1891515180541284343</td>\n",
       "      <td>1054881396892383323</td>\n",
       "      <td>NaN</td>\n",
       "      <td>False</td>\n",
       "      <td>False</td>\n",
       "      <td>6287817205707153877</td>\n",
       "      <td>NaN</td>\n",
       "      <td>1.3445980799392305e+18</td>\n",
       "      <td>adjust.com</td>\n",
       "      <td>NaN</td>\n",
       "      <td>NaN</td>\n",
       "      <td>NaN</td>\n",
       "      <td>NaN</td>\n",
       "      <td>NaN</td>\n",
       "      <td>154615607683715141</td>\n",
       "      <td>4.060929664968129e+18</td>\n",
       "    </tr>\n",
       "    <tr>\n",
       "      <th>50673</th>\n",
       "      <td>2019-04-20 02:31:26.269</td>\n",
       "      <td>78</td>\n",
       "      <td>1891515180541284343</td>\n",
       "      <td>1010265377387765028</td>\n",
       "      <td>NaN</td>\n",
       "      <td>False</td>\n",
       "      <td>False</td>\n",
       "      <td>6287817205707153877</td>\n",
       "      <td>6.115025880051902e+18</td>\n",
       "      <td>1.670346184923358e+18</td>\n",
       "      <td>http-kit/2.0</td>\n",
       "      <td>Dalvik/2.1.0 (Linux; U; Android 8.1.0; JKM-LX3...</td>\n",
       "      <td>NaN</td>\n",
       "      <td>NaN</td>\n",
       "      <td>true</td>\n",
       "      <td>NaN</td>\n",
       "      <td>9101982838620332898</td>\n",
       "      <td>6.977049253562486e+18</td>\n",
       "    </tr>\n",
       "  </tbody>\n",
       "</table>\n",
       "</div>"
      ],
      "text/plain": [
       "                      created application_id             ref_type  \\\n",
       "7016  2019-04-19 02:37:34.033             14  1891515180541284343   \n",
       "7022  2019-04-19 02:37:34.101             14  1891515180541284343   \n",
       "28381 2019-04-18 22:23:29.656             49  1494519392962156891   \n",
       "48676 2019-04-20 12:35:20.625             77  1891515180541284343   \n",
       "50673 2019-04-20 02:31:26.269             78  1891515180541284343   \n",
       "\n",
       "                  ref_hash click_hash  attributed  implicit  \\\n",
       "7016   1128814228344083814        NaN       False     False   \n",
       "7022   1128814228344083814        NaN       False      True   \n",
       "28381  1048782984015604883        NaN       False      True   \n",
       "48676  1054881396892383323        NaN       False     False   \n",
       "50673  1010265377387765028        NaN       False     False   \n",
       "\n",
       "        device_countrycode           device_brand            device_model  \\\n",
       "7016   6287817205707153877  2.208834667126999e+18   4.445013666528814e+18   \n",
       "7022   6287817205707153877  2.208834667126999e+18   4.445013666528814e+18   \n",
       "28381  6287817205707153877                    NaN   6.794880020077885e+18   \n",
       "48676  6287817205707153877                    NaN  1.3445980799392305e+18   \n",
       "50673  6287817205707153877  6.115025880051902e+18   1.670346184923358e+18   \n",
       "\n",
       "                      session_user_agent  \\\n",
       "7016                                 NaN   \n",
       "7022   HasOffers Mobile AppTracking v1.0   \n",
       "28381                       http-kit/2.0   \n",
       "48676                         adjust.com   \n",
       "50673                       http-kit/2.0   \n",
       "\n",
       "                                              user_agent  \\\n",
       "7016                                                 NaN   \n",
       "7022                                                 NaN   \n",
       "28381          SinDelantal/1 CFNetwork/976 Darwin/18.2.0   \n",
       "48676                                                NaN   \n",
       "50673  Dalvik/2.1.0 (Linux; U; Android 8.1.0; JKM-LX3...   \n",
       "\n",
       "                                 event_uuid           kind  wifi trans_id  \\\n",
       "7016                                    NaN            NaN   NaN      NaN   \n",
       "7022   f4714013-b8aa-415e-aa58-fa98ebf64d23           Open   NaN      NaN   \n",
       "28381  834549e2-52f8-4d83-afd5-4dace2a4c50d  af_app_opened  true      NaN   \n",
       "48676                                   NaN            NaN   NaN      NaN   \n",
       "50673                                   NaN            NaN  true      NaN   \n",
       "\n",
       "                ip_address         device_language  \n",
       "7016   2514363106721953847  3.3013777759776993e+18  \n",
       "7022   2514363106721953847  3.3013777759776993e+18  \n",
       "28381  7869038058745259581   8.441417429938962e+18  \n",
       "48676   154615607683715141   4.060929664968129e+18  \n",
       "50673  9101982838620332898   6.977049253562486e+18  "
      ]
     },
     "execution_count": 142,
     "metadata": {},
     "output_type": "execute_result"
    }
   ],
   "source": [
    "df.head()"
   ]
  },
  {
   "cell_type": "markdown",
   "metadata": {},
   "source": [
    "## Events"
   ]
  },
  {
   "cell_type": "code",
   "execution_count": 143,
   "metadata": {},
   "outputs": [],
   "source": [
    "df = load_events(get_target_ids_chunk(1), all_days[:3])"
   ]
  },
  {
   "cell_type": "code",
   "execution_count": 144,
   "metadata": {},
   "outputs": [
    {
     "data": {
      "text/html": [
       "<div>\n",
       "<style scoped>\n",
       "    .dataframe tbody tr th:only-of-type {\n",
       "        vertical-align: middle;\n",
       "    }\n",
       "\n",
       "    .dataframe tbody tr th {\n",
       "        vertical-align: top;\n",
       "    }\n",
       "\n",
       "    .dataframe thead th {\n",
       "        text-align: right;\n",
       "    }\n",
       "</style>\n",
       "<table border=\"1\" class=\"dataframe\">\n",
       "  <thead>\n",
       "    <tr style=\"text-align: right;\">\n",
       "      <th></th>\n",
       "      <th>index</th>\n",
       "      <th>date</th>\n",
       "      <th>event_id</th>\n",
       "      <th>ref_type</th>\n",
       "      <th>ref_hash</th>\n",
       "      <th>application_id</th>\n",
       "      <th>attributed</th>\n",
       "      <th>device_countrycode</th>\n",
       "      <th>device_os_version</th>\n",
       "      <th>device_brand</th>\n",
       "      <th>...</th>\n",
       "      <th>trans_id</th>\n",
       "      <th>user_agent</th>\n",
       "      <th>event_uuid</th>\n",
       "      <th>carrier</th>\n",
       "      <th>kind</th>\n",
       "      <th>device_os</th>\n",
       "      <th>wifi</th>\n",
       "      <th>connection_type</th>\n",
       "      <th>ip_address</th>\n",
       "      <th>device_language</th>\n",
       "    </tr>\n",
       "  </thead>\n",
       "  <tbody>\n",
       "    <tr>\n",
       "      <th>170519</th>\n",
       "      <td>177561</td>\n",
       "      <td>2019-04-18 03:43:09.185</td>\n",
       "      <td>13</td>\n",
       "      <td>1891515180541284343</td>\n",
       "      <td>1106971792117053344</td>\n",
       "      <td>65</td>\n",
       "      <td>False</td>\n",
       "      <td>6287817205707153877</td>\n",
       "      <td>NaN</td>\n",
       "      <td>2.208834667126999e+18</td>\n",
       "      <td>...</td>\n",
       "      <td>NaN</td>\n",
       "      <td>4.0670089932515717e+18</td>\n",
       "      <td>a27f9076-4e31-42a4-8e28-bcf17e58fa98</td>\n",
       "      <td>NaN</td>\n",
       "      <td>4.853173252142275e+18</td>\n",
       "      <td>NaN</td>\n",
       "      <td>True</td>\n",
       "      <td>NaN</td>\n",
       "      <td>7209709704711395089</td>\n",
       "      <td>6.977049253562486e+18</td>\n",
       "    </tr>\n",
       "    <tr>\n",
       "      <th>170521</th>\n",
       "      <td>177563</td>\n",
       "      <td>2019-04-18 03:43:25.436</td>\n",
       "      <td>13</td>\n",
       "      <td>1891515180541284343</td>\n",
       "      <td>1106971792117053344</td>\n",
       "      <td>65</td>\n",
       "      <td>False</td>\n",
       "      <td>6287817205707153877</td>\n",
       "      <td>NaN</td>\n",
       "      <td>2.208834667126999e+18</td>\n",
       "      <td>...</td>\n",
       "      <td>NaN</td>\n",
       "      <td>4.0670089932515717e+18</td>\n",
       "      <td>ad49682d-5bd2-47b4-aaaa-6196ac417503</td>\n",
       "      <td>NaN</td>\n",
       "      <td>4.853173252142275e+18</td>\n",
       "      <td>NaN</td>\n",
       "      <td>True</td>\n",
       "      <td>NaN</td>\n",
       "      <td>7209709704711395089</td>\n",
       "      <td>6.977049253562486e+18</td>\n",
       "    </tr>\n",
       "    <tr>\n",
       "      <th>170525</th>\n",
       "      <td>177577</td>\n",
       "      <td>2019-04-18 03:43:21.320</td>\n",
       "      <td>13</td>\n",
       "      <td>1891515180541284343</td>\n",
       "      <td>1106971792117053344</td>\n",
       "      <td>65</td>\n",
       "      <td>False</td>\n",
       "      <td>6287817205707153877</td>\n",
       "      <td>NaN</td>\n",
       "      <td>2.208834667126999e+18</td>\n",
       "      <td>...</td>\n",
       "      <td>NaN</td>\n",
       "      <td>4.0670089932515717e+18</td>\n",
       "      <td>1e67b319-e2dd-4ac9-b6e6-879576320bd8</td>\n",
       "      <td>NaN</td>\n",
       "      <td>4.853173252142275e+18</td>\n",
       "      <td>NaN</td>\n",
       "      <td>True</td>\n",
       "      <td>NaN</td>\n",
       "      <td>7209709704711395089</td>\n",
       "      <td>6.977049253562486e+18</td>\n",
       "    </tr>\n",
       "    <tr>\n",
       "      <th>170529</th>\n",
       "      <td>177589</td>\n",
       "      <td>2019-04-18 03:43:08.996</td>\n",
       "      <td>13</td>\n",
       "      <td>1891515180541284343</td>\n",
       "      <td>1106971792117053344</td>\n",
       "      <td>65</td>\n",
       "      <td>False</td>\n",
       "      <td>6287817205707153877</td>\n",
       "      <td>NaN</td>\n",
       "      <td>2.208834667126999e+18</td>\n",
       "      <td>...</td>\n",
       "      <td>NaN</td>\n",
       "      <td>4.0670089932515717e+18</td>\n",
       "      <td>44e56660-8642-4541-8724-5a1503c23542</td>\n",
       "      <td>NaN</td>\n",
       "      <td>4.853173252142275e+18</td>\n",
       "      <td>NaN</td>\n",
       "      <td>True</td>\n",
       "      <td>NaN</td>\n",
       "      <td>7209709704711395089</td>\n",
       "      <td>6.977049253562486e+18</td>\n",
       "    </tr>\n",
       "    <tr>\n",
       "      <th>171835</th>\n",
       "      <td>180801</td>\n",
       "      <td>2019-04-19 17:01:38.181</td>\n",
       "      <td>15</td>\n",
       "      <td>1891515180541284343</td>\n",
       "      <td>1117811498061299916</td>\n",
       "      <td>65</td>\n",
       "      <td>False</td>\n",
       "      <td>6287817205707153877</td>\n",
       "      <td>NaN</td>\n",
       "      <td>2.208834667126999e+18</td>\n",
       "      <td>...</td>\n",
       "      <td>NaN</td>\n",
       "      <td>8.237820697921044e+18</td>\n",
       "      <td>ce425a21-4271-4b8f-89cb-371e67a128c5</td>\n",
       "      <td>NaN</td>\n",
       "      <td>5.500848327478996e+18</td>\n",
       "      <td>NaN</td>\n",
       "      <td>True</td>\n",
       "      <td>NaN</td>\n",
       "      <td>3382054713307838865</td>\n",
       "      <td>6.977049253562486e+18</td>\n",
       "    </tr>\n",
       "  </tbody>\n",
       "</table>\n",
       "<p>5 rows × 23 columns</p>\n",
       "</div>"
      ],
      "text/plain": [
       "         index                    date event_id             ref_type  \\\n",
       "170519  177561 2019-04-18 03:43:09.185       13  1891515180541284343   \n",
       "170521  177563 2019-04-18 03:43:25.436       13  1891515180541284343   \n",
       "170525  177577 2019-04-18 03:43:21.320       13  1891515180541284343   \n",
       "170529  177589 2019-04-18 03:43:08.996       13  1891515180541284343   \n",
       "171835  180801 2019-04-19 17:01:38.181       15  1891515180541284343   \n",
       "\n",
       "                   ref_hash application_id  attributed   device_countrycode  \\\n",
       "170519  1106971792117053344             65       False  6287817205707153877   \n",
       "170521  1106971792117053344             65       False  6287817205707153877   \n",
       "170525  1106971792117053344             65       False  6287817205707153877   \n",
       "170529  1106971792117053344             65       False  6287817205707153877   \n",
       "171835  1117811498061299916             65       False  6287817205707153877   \n",
       "\n",
       "       device_os_version           device_brand  ... trans_id  \\\n",
       "170519               NaN  2.208834667126999e+18  ...      NaN   \n",
       "170521               NaN  2.208834667126999e+18  ...      NaN   \n",
       "170525               NaN  2.208834667126999e+18  ...      NaN   \n",
       "170529               NaN  2.208834667126999e+18  ...      NaN   \n",
       "171835               NaN  2.208834667126999e+18  ...      NaN   \n",
       "\n",
       "                    user_agent                            event_uuid carrier  \\\n",
       "170519  4.0670089932515717e+18  a27f9076-4e31-42a4-8e28-bcf17e58fa98     NaN   \n",
       "170521  4.0670089932515717e+18  ad49682d-5bd2-47b4-aaaa-6196ac417503     NaN   \n",
       "170525  4.0670089932515717e+18  1e67b319-e2dd-4ac9-b6e6-879576320bd8     NaN   \n",
       "170529  4.0670089932515717e+18  44e56660-8642-4541-8724-5a1503c23542     NaN   \n",
       "171835   8.237820697921044e+18  ce425a21-4271-4b8f-89cb-371e67a128c5     NaN   \n",
       "\n",
       "                         kind device_os  wifi connection_type  \\\n",
       "170519  4.853173252142275e+18       NaN  True             NaN   \n",
       "170521  4.853173252142275e+18       NaN  True             NaN   \n",
       "170525  4.853173252142275e+18       NaN  True             NaN   \n",
       "170529  4.853173252142275e+18       NaN  True             NaN   \n",
       "171835  5.500848327478996e+18       NaN  True             NaN   \n",
       "\n",
       "                 ip_address        device_language  \n",
       "170519  7209709704711395089  6.977049253562486e+18  \n",
       "170521  7209709704711395089  6.977049253562486e+18  \n",
       "170525  7209709704711395089  6.977049253562486e+18  \n",
       "170529  7209709704711395089  6.977049253562486e+18  \n",
       "171835  3382054713307838865  6.977049253562486e+18  \n",
       "\n",
       "[5 rows x 23 columns]"
      ]
     },
     "execution_count": 144,
     "metadata": {},
     "output_type": "execute_result"
    }
   ],
   "source": [
    "df.head()"
   ]
  },
  {
   "cell_type": "markdown",
   "metadata": {},
   "source": [
    "## Auctions"
   ]
  },
  {
   "cell_type": "code",
   "execution_count": 147,
   "metadata": {},
   "outputs": [],
   "source": [
    "df = load_auctions(get_target_ids_chunk(1), all_days[:3])"
   ]
  },
  {
   "cell_type": "code",
   "execution_count": 148,
   "metadata": {},
   "outputs": [
    {
     "data": {
      "text/html": [
       "<div>\n",
       "<style scoped>\n",
       "    .dataframe tbody tr th:only-of-type {\n",
       "        vertical-align: middle;\n",
       "    }\n",
       "\n",
       "    .dataframe tbody tr th {\n",
       "        vertical-align: top;\n",
       "    }\n",
       "\n",
       "    .dataframe thead th {\n",
       "        text-align: right;\n",
       "    }\n",
       "</style>\n",
       "<table border=\"1\" class=\"dataframe\">\n",
       "  <thead>\n",
       "    <tr style=\"text-align: right;\">\n",
       "      <th></th>\n",
       "      <th>date</th>\n",
       "      <th>device_id</th>\n",
       "      <th>ref_type_id</th>\n",
       "      <th>source_id</th>\n",
       "    </tr>\n",
       "  </thead>\n",
       "  <tbody>\n",
       "    <tr>\n",
       "      <th>289649</th>\n",
       "      <td>2019-04-18 19:58:47.826462</td>\n",
       "      <td>1114026657194419748</td>\n",
       "      <td>1</td>\n",
       "      <td>0</td>\n",
       "    </tr>\n",
       "    <tr>\n",
       "      <th>317697</th>\n",
       "      <td>2019-04-18 23:34:28.216676</td>\n",
       "      <td>1102680423242413676</td>\n",
       "      <td>1</td>\n",
       "      <td>1</td>\n",
       "    </tr>\n",
       "    <tr>\n",
       "      <th>317713</th>\n",
       "      <td>2019-04-18 23:34:36.035822</td>\n",
       "      <td>1102680423242413676</td>\n",
       "      <td>1</td>\n",
       "      <td>1</td>\n",
       "    </tr>\n",
       "    <tr>\n",
       "      <th>317978</th>\n",
       "      <td>2019-04-18 23:42:35.347774</td>\n",
       "      <td>1102680423242413676</td>\n",
       "      <td>1</td>\n",
       "      <td>1</td>\n",
       "    </tr>\n",
       "    <tr>\n",
       "      <th>318297</th>\n",
       "      <td>2019-04-18 23:44:54.822177</td>\n",
       "      <td>1102680423242413676</td>\n",
       "      <td>1</td>\n",
       "      <td>1</td>\n",
       "    </tr>\n",
       "  </tbody>\n",
       "</table>\n",
       "</div>"
      ],
      "text/plain": [
       "                             date            device_id ref_type_id source_id\n",
       "289649 2019-04-18 19:58:47.826462  1114026657194419748           1         0\n",
       "317697 2019-04-18 23:34:28.216676  1102680423242413676           1         1\n",
       "317713 2019-04-18 23:34:36.035822  1102680423242413676           1         1\n",
       "317978 2019-04-18 23:42:35.347774  1102680423242413676           1         1\n",
       "318297 2019-04-18 23:44:54.822177  1102680423242413676           1         1"
      ]
     },
     "execution_count": 148,
     "metadata": {},
     "output_type": "execute_result"
    }
   ],
   "source": [
    "df.head()"
   ]
  },
  {
   "cell_type": "markdown",
   "metadata": {},
   "source": [
    "# ML"
   ]
  },
  {
   "cell_type": "markdown",
   "metadata": {},
   "source": [
    "### Probando cosas con subastas..."
   ]
  },
  {
   "cell_type": "code",
   "execution_count": 52,
   "metadata": {},
   "outputs": [],
   "source": [
    "def prepare_auctions_df(df):\n",
    "    asdf = df\n",
    "    \n",
    "    asdf = asdf.sort_values(['date'])\n",
    "    \n",
    "    asdf['diff'] = asdf['date'].diff()\n",
    "\n",
    "    asdf['diff'].fillna(value=asdf['date']-asdf['date'].dt.floor('d'), inplace=True)\n",
    "\n",
    "    asdf['diff_in_sec'] = asdf['diff'].dt.total_seconds()\n",
    "\n",
    "    asdf.drop('diff', axis='columns', inplace=True)\n",
    "\n",
    "    asdf['observed'] = True\n",
    "    \n",
    "    return asdf"
   ]
  },
  {
   "cell_type": "code",
   "execution_count": 53,
   "metadata": {},
   "outputs": [],
   "source": [
    "df = load_auctions(get_target_ids_chunk(1), all_days[:3])"
   ]
  },
  {
   "cell_type": "code",
   "execution_count": 54,
   "metadata": {},
   "outputs": [
    {
     "data": {
      "text/html": [
       "<div>\n",
       "<style scoped>\n",
       "    .dataframe tbody tr th:only-of-type {\n",
       "        vertical-align: middle;\n",
       "    }\n",
       "\n",
       "    .dataframe tbody tr th {\n",
       "        vertical-align: top;\n",
       "    }\n",
       "\n",
       "    .dataframe thead th {\n",
       "        text-align: right;\n",
       "    }\n",
       "</style>\n",
       "<table border=\"1\" class=\"dataframe\">\n",
       "  <thead>\n",
       "    <tr style=\"text-align: right;\">\n",
       "      <th></th>\n",
       "      <th>date</th>\n",
       "      <th>device_id</th>\n",
       "      <th>ref_type_id</th>\n",
       "      <th>source_id</th>\n",
       "    </tr>\n",
       "  </thead>\n",
       "  <tbody>\n",
       "    <tr>\n",
       "      <th>289649</th>\n",
       "      <td>2019-04-18 19:58:47.826462</td>\n",
       "      <td>1114026657194419748</td>\n",
       "      <td>1</td>\n",
       "      <td>0</td>\n",
       "    </tr>\n",
       "    <tr>\n",
       "      <th>317697</th>\n",
       "      <td>2019-04-18 23:34:28.216676</td>\n",
       "      <td>1102680423242413676</td>\n",
       "      <td>1</td>\n",
       "      <td>1</td>\n",
       "    </tr>\n",
       "    <tr>\n",
       "      <th>317713</th>\n",
       "      <td>2019-04-18 23:34:36.035822</td>\n",
       "      <td>1102680423242413676</td>\n",
       "      <td>1</td>\n",
       "      <td>1</td>\n",
       "    </tr>\n",
       "    <tr>\n",
       "      <th>317978</th>\n",
       "      <td>2019-04-18 23:42:35.347774</td>\n",
       "      <td>1102680423242413676</td>\n",
       "      <td>1</td>\n",
       "      <td>1</td>\n",
       "    </tr>\n",
       "    <tr>\n",
       "      <th>318297</th>\n",
       "      <td>2019-04-18 23:44:54.822177</td>\n",
       "      <td>1102680423242413676</td>\n",
       "      <td>1</td>\n",
       "      <td>1</td>\n",
       "    </tr>\n",
       "  </tbody>\n",
       "</table>\n",
       "</div>"
      ],
      "text/plain": [
       "                             date            device_id ref_type_id source_id\n",
       "289649 2019-04-18 19:58:47.826462  1114026657194419748           1         0\n",
       "317697 2019-04-18 23:34:28.216676  1102680423242413676           1         1\n",
       "317713 2019-04-18 23:34:36.035822  1102680423242413676           1         1\n",
       "317978 2019-04-18 23:42:35.347774  1102680423242413676           1         1\n",
       "318297 2019-04-18 23:44:54.822177  1102680423242413676           1         1"
      ]
     },
     "execution_count": 54,
     "metadata": {},
     "output_type": "execute_result"
    }
   ],
   "source": [
    "df.head()"
   ]
  },
  {
   "cell_type": "code",
   "execution_count": 58,
   "metadata": {},
   "outputs": [
    {
     "data": {
      "text/plain": [
       "[1, 7]\n",
       "Categories (2, object): [1, 7]"
      ]
     },
     "execution_count": 58,
     "metadata": {},
     "output_type": "execute_result"
    }
   ],
   "source": [
    "df.ref_type_id.get_dummies"
   ]
  },
  {
   "cell_type": "code",
   "execution_count": 57,
   "metadata": {},
   "outputs": [],
   "source": [
    "prepared = prepare_auctions_df(df)"
   ]
  },
  {
   "cell_type": "code",
   "execution_count": 56,
   "metadata": {},
   "outputs": [],
   "source": [
    "prepare_auctions_df"
   ]
  },
  {
   "cell_type": "markdown",
   "metadata": {},
   "source": [
    "### Probando Lifelines..."
   ]
  },
  {
   "cell_type": "code",
   "execution_count": 21,
   "metadata": {},
   "outputs": [],
   "source": [
    "T = reduced['diff_in_sec']\n",
    "E = reduced['observed']"
   ]
  },
  {
   "cell_type": "code",
   "execution_count": 35,
   "metadata": {},
   "outputs": [],
   "source": [
    "T = asdf['diff_in_sec']\n",
    "E = asdf['observed']"
   ]
  },
  {
   "cell_type": "markdown",
   "metadata": {},
   "source": [
    "#### Kaplan Meier"
   ]
  },
  {
   "cell_type": "code",
   "execution_count": 36,
   "metadata": {},
   "outputs": [
    {
     "data": {
      "text/plain": [
       "<lifelines.KaplanMeierFitter: fitted with 28 observations, 0 censored>"
      ]
     },
     "execution_count": 36,
     "metadata": {},
     "output_type": "execute_result"
    }
   ],
   "source": [
    "from lifelines import KaplanMeierFitter\n",
    "kmf = KaplanMeierFitter()\n",
    "kmf.fit(T, event_observed=E)  # or, more succinctly, kmf.fit(T, E)"
   ]
  },
  {
   "cell_type": "code",
   "execution_count": 38,
   "metadata": {},
   "outputs": [
    {
     "data": {
      "image/png": "[encoded data removed]",
      "text/plain": [
       "<Figure size 432x288 with 1 Axes>"
      ]
     },
     "metadata": {
      "needs_background": "light"
     },
     "output_type": "display_data"
    }
   ],
   "source": [
    "kmf.survival_function_\n",
    "kmf.cumulative_density_\n",
    "kmf.median_\n",
    "kmf.plot_survival_function(); # or just kmf.plot()"
   ]
  },
  {
   "cell_type": "code",
   "execution_count": 39,
   "metadata": {},
   "outputs": [
    {
     "data": {
      "image/png": "[encoded data removed]",
      "text/plain": [
       "<Figure size 432x288 with 1 Axes>"
      ]
     },
     "metadata": {
      "needs_background": "light"
     },
     "output_type": "display_data"
    }
   ],
   "source": [
    "kmf.plot_cumulative_density();"
   ]
  },
  {
   "cell_type": "markdown",
   "metadata": {},
   "source": [
    "#### CoxPHFitter"
   ]
  },
  {
   "cell_type": "code",
   "execution_count": 65,
   "metadata": {},
   "outputs": [],
   "source": [
    "from lifelines import CoxPHFitter\n",
    "cph = CoxPHFitter(penalizer=0.1)"
   ]
  },
  {
   "cell_type": "code",
   "execution_count": 24,
   "metadata": {},
   "outputs": [
    {
     "data": {
      "text/html": [
       "<div>\n",
       "<style scoped>\n",
       "    .dataframe tbody tr th:only-of-type {\n",
       "        vertical-align: middle;\n",
       "    }\n",
       "\n",
       "    .dataframe tbody tr th {\n",
       "        vertical-align: top;\n",
       "    }\n",
       "\n",
       "    .dataframe thead th {\n",
       "        text-align: right;\n",
       "    }\n",
       "</style>\n",
       "<table border=\"1\" class=\"dataframe\">\n",
       "  <thead>\n",
       "    <tr style=\"text-align: right;\">\n",
       "      <th></th>\n",
       "      <th>date</th>\n",
       "      <th>device_id</th>\n",
       "      <th>ref_type_id</th>\n",
       "      <th>source_id</th>\n",
       "      <th>diff</th>\n",
       "      <th>diff_in_sec</th>\n",
       "      <th>observed</th>\n",
       "    </tr>\n",
       "  </thead>\n",
       "  <tbody>\n",
       "    <tr>\n",
       "      <th>285338</th>\n",
       "      <td>2019-04-18 23:00:50.983090</td>\n",
       "      <td>3028036127478562480</td>\n",
       "      <td>1</td>\n",
       "      <td>0</td>\n",
       "      <td>23:00:50.983090</td>\n",
       "      <td>82850.983090</td>\n",
       "      <td>True</td>\n",
       "    </tr>\n",
       "    <tr>\n",
       "      <th>285339</th>\n",
       "      <td>2019-04-18 23:00:51.426613</td>\n",
       "      <td>7601431473174483609</td>\n",
       "      <td>1</td>\n",
       "      <td>0</td>\n",
       "      <td>23:00:51.426613</td>\n",
       "      <td>82851.426613</td>\n",
       "      <td>True</td>\n",
       "    </tr>\n",
       "    <tr>\n",
       "      <th>285340</th>\n",
       "      <td>2019-04-18 23:00:51.454013</td>\n",
       "      <td>5018235902686468387</td>\n",
       "      <td>1</td>\n",
       "      <td>0</td>\n",
       "      <td>23:00:51.454013</td>\n",
       "      <td>82851.454013</td>\n",
       "      <td>True</td>\n",
       "    </tr>\n",
       "    <tr>\n",
       "      <th>285341</th>\n",
       "      <td>2019-04-18 23:00:51.652223</td>\n",
       "      <td>5812445239233804650</td>\n",
       "      <td>7</td>\n",
       "      <td>0</td>\n",
       "      <td>23:00:51.652223</td>\n",
       "      <td>82851.652223</td>\n",
       "      <td>True</td>\n",
       "    </tr>\n",
       "    <tr>\n",
       "      <th>285342</th>\n",
       "      <td>2019-04-18 23:00:51.815673</td>\n",
       "      <td>8832711951922277816</td>\n",
       "      <td>7</td>\n",
       "      <td>0</td>\n",
       "      <td>23:00:51.815673</td>\n",
       "      <td>82851.815673</td>\n",
       "      <td>True</td>\n",
       "    </tr>\n",
       "  </tbody>\n",
       "</table>\n",
       "</div>"
      ],
      "text/plain": [
       "                             date            device_id ref_type_id source_id  \\\n",
       "285338 2019-04-18 23:00:50.983090  3028036127478562480           1         0   \n",
       "285339 2019-04-18 23:00:51.426613  7601431473174483609           1         0   \n",
       "285340 2019-04-18 23:00:51.454013  5018235902686468387           1         0   \n",
       "285341 2019-04-18 23:00:51.652223  5812445239233804650           7         0   \n",
       "285342 2019-04-18 23:00:51.815673  8832711951922277816           7         0   \n",
       "\n",
       "                  diff   diff_in_sec  observed  \n",
       "285338 23:00:50.983090  82850.983090      True  \n",
       "285339 23:00:51.426613  82851.426613      True  \n",
       "285340 23:00:51.454013  82851.454013      True  \n",
       "285341 23:00:51.652223  82851.652223      True  \n",
       "285342 23:00:51.815673  82851.815673      True  "
      ]
     },
     "execution_count": 24,
     "metadata": {},
     "output_type": "execute_result"
    }
   ],
   "source": [
    "reduced.head()"
   ]
  },
  {
   "cell_type": "code",
   "execution_count": 25,
   "metadata": {},
   "outputs": [
    {
     "data": {
      "text/plain": [
       "date            datetime64[ns]\n",
       "device_id               object\n",
       "ref_type_id           category\n",
       "source_id               object\n",
       "diff           timedelta64[ns]\n",
       "diff_in_sec            float64\n",
       "observed                  bool\n",
       "dtype: object"
      ]
     },
     "execution_count": 25,
     "metadata": {},
     "output_type": "execute_result"
    }
   ],
   "source": [
    "reduced.dtypes"
   ]
  },
  {
   "cell_type": "code",
   "execution_count": 66,
   "metadata": {},
   "outputs": [
    {
     "name": "stdout",
     "output_type": "stream",
     "text": [
      "Iteration 5: norm_delta = 0.00001, step_size = 1.0000, ll = -2463.99261, newton_decrement = 0.00000, seconds_since_start = 0.2Convergence completed after 5 iterations.\n",
      "<lifelines.CoxPHFitter: fitted with 500 observations, 0 censored>\n",
      "      duration col = 'diff_in_sec'\n",
      "         event col = 'observed'\n",
      "         penalizer = 0.1\n",
      "number of subjects = 500\n",
      "  number of events = 500\n",
      "partial log-likelihood = -2463.99\n",
      "  time fit was run = 2019-06-19 18:51:07 UTC\n",
      "\n",
      "---\n",
      "               coef exp(coef)  se(coef)      z      p  -log2(p)  lower 0.95  upper 0.95\n",
      "device_id     -0.00      1.00      0.00  -0.84   0.40      1.31       -0.00        0.00\n",
      "ref_type_id_1 -0.06      0.94      5.69  -0.01   0.99      0.01      -11.22       11.10\n",
      "ref_type_id_7  0.06      1.06      5.69   0.01   0.99      0.01      -11.10       11.22\n",
      "minute        -2.01      0.13      0.14 -14.54 <0.005    156.77       -2.28       -1.74\n",
      "second        -0.03      0.97      0.00  -9.99 <0.005     75.63       -0.04       -0.03\n",
      "---\n",
      "Concordance = 0.71\n",
      "Log-likelihood ratio test = 294.68 on 5 df, -log2(p)=202.16\n"
     ]
    }
   ],
   "source": [
    "cph.fit(reduced.drop(['date', 'diff', 'source_id', 'day_of_week', 'hour'], axis=1), duration_col='diff_in_sec', event_col='observed', show_progress=True)\n",
    "cph.print_summary()"
   ]
  },
  {
   "cell_type": "code",
   "execution_count": 69,
   "metadata": {},
   "outputs": [
    {
     "data": {
      "image/png": "[encoded data removed]",
      "text/plain": [
       "<Figure size 432x288 with 1 Axes>"
      ]
     },
     "metadata": {
      "needs_background": "light"
     },
     "output_type": "display_data"
    }
   ],
   "source": [
    "cph.plot();"
   ]
  }
 ],
 "metadata": {
  "kernelspec": {
   "display_name": "Python 3",
   "language": "python",
   "name": "python3"
  },
  "language_info": {
   "codemirror_mode": {
    "name": "ipython",
    "version": 3
   },
   "file_extension": ".py",
   "mimetype": "text/x-python",
   "name": "python",
   "nbconvert_exporter": "python",
   "pygments_lexer": "ipython3",
   "version": "3.5.2"
  }
 },
 "nbformat": 4,
 "nbformat_minor": 2
}
