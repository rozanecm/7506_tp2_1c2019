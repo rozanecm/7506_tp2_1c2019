{
 "cells": [
  {
   "cell_type": "markdown",
   "metadata": {
    "tags": [
     "essential_load_on_startup"
    ]
   },
   "source": [
    "# Introduction"
   ]
  },
  {
   "cell_type": "markdown",
   "metadata": {
    "tags": [
     "essential_load_on_startup"
    ]
   },
   "source": [
    "## Imports"
   ]
  },
  {
   "cell_type": "code",
   "execution_count": 1,
   "metadata": {
    "tags": [
     "essential_load_on_startup"
    ]
   },
   "outputs": [],
   "source": [
    "import pandas as pd\n",
    "\n",
    "import numpy as np\n",
    "\n",
    "import os"
   ]
  },
  {
   "cell_type": "code",
   "execution_count": 2,
   "metadata": {},
   "outputs": [],
   "source": [
    "# This will allow you to see all column names & rows when you are doing .head(). None of the column name will be truncated.\n",
    "# source: https://stackoverflow.com/questions/49188960/how-to-show-all-of-columns-name-on-pandas-dataframe\n",
    "\n",
    "pd.set_option('display.max_columns', None)\n",
    "# pd.set_option('display.max_rows', None)"
   ]
  },
  {
   "cell_type": "markdown",
   "metadata": {},
   "source": [
    "## Data info"
   ]
  },
  {
   "cell_type": "code",
   "execution_count": 3,
   "metadata": {
    "tags": [
     "essential_load_on_startup"
    ]
   },
   "outputs": [
    {
     "name": "stdout",
     "output_type": "stream",
     "text": [
      "auctions.csv\t\t\t\t\t\t2412.11824\n",
      ".ipynb_checkpoints\t\t\t\t\t\t0.004096\n",
      "target_competencia_ids.csv\t\t\t\t\t\t0.200915\n",
      "installs.csv\t\t\t\t\t\t123.502317\n",
      "desc.json\t\t\t\t\t\t0.009146\n",
      "Recomendaciones y aclaraciones.docx\t\t\t\t\t\t0.006909\n",
      "clicks.csv\t\t\t\t\t\t16.147446\n",
      "events.csv\t\t\t\t\t\t2252.988966\n"
     ]
    }
   ],
   "source": [
    "for file in os.listdir('../data/'):\n",
    "    print(file + '\\t\\t\\t\\t\\t\\t' + str(os.stat(\"../data/\" + file).st_size/1000000))"
   ]
  },
  {
   "cell_type": "markdown",
   "metadata": {},
   "source": [
    "# Useful functions"
   ]
  },
  {
   "cell_type": "markdown",
   "metadata": {},
   "source": [
    "## General"
   ]
  },
  {
   "cell_type": "code",
   "execution_count": 4,
   "metadata": {
    "tags": [
     "essential_load_on_startup"
    ]
   },
   "outputs": [],
   "source": [
    "# days to consider\n",
    "all_days = [18,19,20,21,22,23,24,25,26]"
   ]
  },
  {
   "cell_type": "code",
   "execution_count": 5,
   "metadata": {},
   "outputs": [],
   "source": [
    "def get_n_3_days(n):\n",
    "    \"\"\"\n",
    "    get nth block of 3 consecutive days\n",
    "    n can go from 1 to 7.\n",
    "    If n == 8, then last two days are given.\n",
    "    If n == 9, then last day is given.\n",
    "    \"\"\"\n",
    "    n -= 1\n",
    "    return all_days[n:n+3]"
   ]
  },
  {
   "cell_type": "markdown",
   "metadata": {},
   "source": [
    "### Target related"
   ]
  },
  {
   "cell_type": "code",
   "execution_count": 6,
   "metadata": {
    "tags": [
     "essential_load_on_startup"
    ]
   },
   "outputs": [],
   "source": [
    "# load target\n",
    "def load_target():\n",
    "    target = pd.read_csv('../data/target_competencia_ids.csv')\n",
    "\n",
    "    # to avoid misunderstandings with data when predicting, and avoid accidentally predicting value zero\n",
    "#     target.obj = np.nan\n",
    "    \n",
    "    return target\n",
    "\n",
    "# para que quede cargado desde el principio\n",
    "target = load_target()\n",
    "\n",
    "# target ids related\n",
    "def get_target_ids():\n",
    "    \"\"\" get all target ids \"\"\"\n",
    "    return target['ref_hash'].apply(lambda x: x[:-3]).unique()\n",
    "\n",
    "def get_target_ids_chunk(chunk_num):\n",
    "    \"\"\" chunk num can go from 1 to 41 \"\"\"\n",
    "    chunk_size = 100\n",
    "    start = (chunk_num - 1) * chunk_size\n",
    "    stop = chunk_size * chunk_num\n",
    "    return get_target_ids()[start:stop]"
   ]
  },
  {
   "cell_type": "markdown",
   "metadata": {},
   "source": [
    "### Predictions related"
   ]
  },
  {
   "cell_type": "code",
   "execution_count": 7,
   "metadata": {
    "tags": [
     "essential_load_on_startup"
    ]
   },
   "outputs": [],
   "source": [
    "# para guardar predicciones\n",
    "import time\n",
    "def _get_filename(my_name, timestamp):\n",
    "    return \"../predictions/\" + timestamp + \" by \" + my_name + \".csv\"\n",
    "\n",
    "def _save_description(authors_name, timestamp, submission_description):\n",
    "    f = open(\"../predictions/\" + authors_name + \".txt\",\"a\")\n",
    "    f.write(timestamp + \": \" + submission_description + '\\n')\n",
    "    f.close()\n",
    "\n",
    "def save_submission(submission_df, authors_name=\"mati\", description = \"no description\"):\n",
    "    timestamp = time.strftime(\"%Y.%m.%d - %H:%M:%S\")\n",
    "    submission_df.to_csv(_get_filename(authors_name, timestamp), index=False)\n",
    "    _save_description(authors_name, timestamp, description)"
   ]
  },
  {
   "cell_type": "code",
   "execution_count": 8,
   "metadata": {},
   "outputs": [],
   "source": [
    "def store_predictions(target_df, new_values, value_column_name, suffix):\n",
    "    \"\"\"\n",
    "    adds predictions from value_column_name from new_values df\n",
    "    to target_df merging by ref_hash and the given suffix \n",
    "    suffix: \"_st\" for auction prediction\n",
    "            \"_sc\" for conversion prediction\n",
    "    \"\"\"\n",
    "    new_values['ref_hash'] = new_values['ref_hash'] + suffix\n",
    "    \n",
    "    target_df = target_df.merge(new_values[['ref_hash',value_column_name]], how='left', on='ref_hash')\n",
    "    \n",
    "    target_df.fillna(0, inplace=True)\n",
    "    \n",
    "#     assign values to 'obj' column and remove the column added on merge.\n",
    "#     after sum, fillna is needed because there are values which are left as NaNs.\n",
    "    target_df['obj'] = target_df['obj'] + target_df[value_column_name]\n",
    "    \n",
    "    target_df.drop([value_column_name], axis='columns', inplace=True)\n",
    "    return target_df"
   ]
  },
  {
   "cell_type": "code",
   "execution_count": 9,
   "metadata": {
    "tags": [
     "essential_load_on_startup"
    ]
   },
   "outputs": [],
   "source": [
    "# play a sound\n",
    "import os\n",
    "def ring(duration = 1, freq = 1500):\n",
    "    \"\"\" play tone of duration in seconds and freq in Hz. \"\"\"\n",
    "    os.system('play --no-show-progress --null --channels 1 synth %s sine %f' % (duration, freq))"
   ]
  },
  {
   "cell_type": "markdown",
   "metadata": {},
   "source": [
    "### ML related"
   ]
  },
  {
   "cell_type": "code",
   "execution_count": 38,
   "metadata": {},
   "outputs": [],
   "source": [
    "def set_source_col(df, source):\n",
    "    \"\"\"\n",
    "    for a given dataframe, create a column indicating\n",
    "    from which csv file it originated\n",
    "    \"\"\"\n",
    "    df['source_csv'] = source\n",
    "\n",
    "    \n",
    "def process_time_diffs(df):\n",
    "    \"\"\"\n",
    "    create column indicating difference between two\n",
    "    consecutive registers for each device id\n",
    "    \"\"\"\n",
    "    asdf = df\n",
    "    \n",
    "    asdf = asdf.sort_values(['date'])\n",
    "    \n",
    "    asdf['diff'] = asdf.groupby(['ref_hash'])['date'].diff()\n",
    "\n",
    "    asdf['diff'].fillna(value=asdf['date']-asdf['date'].dt.floor('d'), inplace=True)\n",
    "\n",
    "    asdf['diff_in_sec'] = asdf['diff'].dt.total_seconds()\n",
    "\n",
    "    asdf.drop('diff', axis='columns', inplace=True)\n",
    "    \n",
    "    return asdf\n",
    "\n",
    "\n",
    "def process_time_diffs_vs_min_day(df):\n",
    "    \"\"\"\n",
    "    create column indicating difference between\n",
    "    time in registers and min day in df\n",
    "    \"\"\"\n",
    "    asdf = df\n",
    "\n",
    "    min_timestamp = asdf['date'].min().floor('d')\n",
    "\n",
    "    asdf['diff'] = asdf['date'] - min_timestamp\n",
    "\n",
    "    asdf['diff_in_sec'] = asdf['diff'].dt.total_seconds()\n",
    "\n",
    "    asdf.drop('diff', axis='columns', inplace=True)\n",
    "    \n",
    "    return asdf\n",
    "\n",
    "def is_source_that_defines_death(data, source_that_defines_death):\n",
    "    return data == source_that_defines_death\n",
    "\n",
    "def set_observed_column(df, csv_source_that_defines_death):\n",
    "    \"\"\"\n",
    "    create column indicating if death has been observed or not.\n",
    "    \"\"\"\n",
    "    asdf = df\n",
    "    \n",
    "    asdf['observed'] = asdf.source_csv.apply(lambda x: is_source_that_defines_death(x,csv_source_that_defines_death))\n",
    "    \n",
    "    return asdf\n",
    "\n",
    "\n",
    "def fill_with_mode(x):\n",
    "    \"\"\"\n",
    "    If there is any value present in group, fill nans with the mode of the group. \n",
    "    If there are all nans, leave them all as nans.\n",
    "    \"\"\"\n",
    "    if x.isnull().all():\n",
    "        return np.nan\n",
    "    else:\n",
    "        mode = x.mode()[0]\n",
    "        return x.fillna(mode)\n",
    "\n",
    "    \n",
    "def fill_all_nans(df):\n",
    "    \"\"\" Fill nan spaces with the mode of the group by ref_hash. \"\"\"\n",
    "    nans_filled = df.groupby('ref_hash', as_index=False, sort=False).transform(lambda x: fill_with_mode(x))\n",
    "    \n",
    "    for col in nans_filled.drop(['date','diff_in_sec'],axis='columns').columns:\n",
    "        col_mode = nans_filled[col].mode()[0]\n",
    "        nans_filled[col].fillna(col_mode, inplace=True)\n",
    "    \n",
    "    nans_filled['ref_hash'] = df['ref_hash']\n",
    "    return nans_filled\n",
    "\n",
    "# def object_to_categorical(df):\n",
    "#     \"\"\"\n",
    "#     Transform all 'object' dtypes to 'category'.\n",
    "#     The following answers helped address the issue:\n",
    "#         - https://stackoverflow.com/a/46762926\n",
    "#         - https://stackoverflow.com/a/39092877\n",
    "#     \"\"\"\n",
    "#     asdf = df\n",
    "    \n",
    "#     for col in asdf.columns:\n",
    "#         if asdf[col].dtype.kind == 'O':\n",
    "#             print(col)\n",
    "#             asdf[col] = asdf[col].astype('category')\n",
    "        \n",
    "#     return asdf"
   ]
  },
  {
   "cell_type": "markdown",
   "metadata": {},
   "source": [
    "## Dfs loading functions"
   ]
  },
  {
   "cell_type": "markdown",
   "metadata": {},
   "source": [
    "Luego de appendear los 4 dfs y rellenar los nans con la moda por cada grupo, se ha observado, con una muestra de device ids (ref_hashes), la siguiente proporcion de nans:\n",
    "\n",
    "> source_id has 0.0% of nans.<br>\n",
    "date has 0.0% of nans.<br>\n",
    "latitude has 68.65% of nans.<br>\n",
    "longitude has 68.65% of nans.<br>\n",
    "wifi_connection has 68.65% of nans.<br>\n",
    "carrier_id has 68.65% of nans.<br>\n",
    "os_minor has 68.65% of nans.<br>\n",
    "os_major has 68.65% of nans.<br>\n",
    "specs_brand has 68.65% of nans.<br>\n",
    "timeToClick has 68.65% of nans.<br>\n",
    "touchX has 68.65% of nans.<br>\n",
    "touchY has 68.65% of nans.<br>\n",
    "ref_type has 68.65% of nans.<br>\n",
    "diff_in_sec has 0.0% of nans.<br>\n",
    "source_csv has 0.0% of nans.<br>\n",
    "application_id has 0.0% of nans.<br>\n",
    "attributed has 0.0% of nans.<br>\n",
    "implicit has 0.0% of nans.<br>\n",
    "device_brand has 34.18% of nans.<br>\n",
    "device_model has 2.14% of nans.<br>\n",
    "session_user_agent has 0.13% of nans.<br>\n",
    "device_language has 3.31% of nans.<br>\n",
    "ip_address has 16.25% of nans.<br>\n",
    "ref_type_id has 0.0% of nans.<br>\n",
    "ref_hash has 0.0% of nans.<br>\n",
    "\n",
    "Se decide no trabajar con las columnas que tengan mas de 50% de nans.\n",
    "\n",
    "Codigo ejecutado:\n",
    "```python\n",
    "for col in nans_filled.columns:\n",
    "    total_rows = nans_filled.shape[0]\n",
    "    print(str(col) + \" has \" + str(100*nans_filled[col].isna().sum()/total_rows) + \"% of nans.\")\n",
    "```"
   ]
  },
  {
   "cell_type": "markdown",
   "metadata": {},
   "source": [
    "### Clicks"
   ]
  },
  {
   "cell_type": "code",
   "execution_count": 11,
   "metadata": {
    "tags": [
     "essential_load_on_startup"
    ]
   },
   "outputs": [],
   "source": [
    "clicks_cols = ['source_id','created','ref_hash',]\n",
    "\n",
    "clicks_dtypes = {\n",
    "#     'advertiser_id':'category',\n",
    "#                  'action_id':'category',\n",
    "                 'source_id':'category',\n",
    "#                  'country_code':'category',\n",
    "#                  'latitude':'float64',\n",
    "#                  'longitude':'float64',\n",
    "#                  'wifi_connection':'bool',\n",
    "#                  'carrier_id':'category',\n",
    "#                  'trans_id':'category',\n",
    "#                  'os_minor':'category',\n",
    "#                  'agent_device':'category',\n",
    "#                  'os_major':'category',\n",
    "#                  'specs_brand':'category',\n",
    "#                  'brand':'category',\n",
    "#                  'timeToClick':'float64',\n",
    "#                  'touchX':'object',\n",
    "#                  'touchY':'object',\n",
    "#                  'ref_type':'category',\n",
    "                 'ref_hash':'category'}\n",
    "\n",
    "def load_clicks(users=get_target_ids(), days=all_days):\n",
    "    \"\"\"\n",
    "    load clicks csv, only users and days specified in users and days lists.\n",
    "    If lists left empty, consider whole set of users and days respectively.\n",
    "    \"\"\"\n",
    "    \n",
    "    df_clicks = pd.read_csv('../data/clicks.csv', engine='c', dtype=clicks_dtypes, parse_dates=['created'], usecols=clicks_cols)\n",
    "    \n",
    "    def load_condition(chunk):\n",
    "        return chunk['ref_hash'].isin(users) & chunk['created'].dt.day.isin(days)\n",
    "    \n",
    "    df = df_clicks.loc[load_condition(df_clicks)].copy()\n",
    "    \n",
    "    df.rename(columns={'created':'date'}, inplace=True)\n",
    "    \n",
    "    df['date'] = df['date'].dt.tz_localize(None)\n",
    "    \n",
    "    return df"
   ]
  },
  {
   "cell_type": "markdown",
   "metadata": {},
   "source": [
    "### Installs"
   ]
  },
  {
   "cell_type": "code",
   "execution_count": 12,
   "metadata": {
    "tags": [
     "essential_load_on_startup"
    ]
   },
   "outputs": [],
   "source": [
    "installs_cols = ['created','application_id','ref_hash','attributed','implicit','device_brand','device_model','session_user_agent','device_language']\n",
    "\n",
    "installs_dtypes = {\"application_id\":          \"category\",\n",
    "#                    \"ref_type\":                \"category\",\n",
    "                   \"ref_hash\":                \"object\",\n",
    "#                    \"click_hash\":             \"category\",\n",
    "                   \"attributed\":               \"bool\",\n",
    "                   \"implicit\":                 \"bool\",\n",
    "#                    \"device_countrycode\":      \"category\",\n",
    "                   \"device_brand\":          \"category\",\n",
    "                   \"device_model\":          \"category\",\n",
    "                   \"session_user_agent\":     \"category\",\n",
    "#                    \"user_agent\":             \"category\",\n",
    "#                    \"event_uuid\":             \"category\",\n",
    "#                    \"kind\":                   \"category\",\n",
    "#                    \"wifi\":                   \"category\",\n",
    "#                    \"trans_id\":               \"category\",\n",
    "#                    \"ip_address\":              \"category\",\n",
    "                   \"device_language\":       \"category\"}\n",
    "\n",
    "def load_installs(users=get_target_ids(), days=all_days):\n",
    "    \"\"\"\n",
    "    load installs csv, only users and days specified in users and days lists.\n",
    "    If lists left empty, consider whole set of users and days respectively.\n",
    "    \"\"\"\n",
    "    \n",
    "    df_installs = pd.read_csv('../data/installs.csv', engine='c', dtype=installs_dtypes, parse_dates=['created'], usecols=installs_cols)\n",
    "    \n",
    "    def load_condition(df):\n",
    "        return df['ref_hash'].isin(users) & df['created'].dt.day.isin(days)\n",
    "    \n",
    "    df = df_installs.loc[load_condition(df_installs)].copy()\n",
    "    \n",
    "    df.rename(columns={'created':'date'}, inplace=True)\n",
    "    \n",
    "    return df"
   ]
  },
  {
   "cell_type": "markdown",
   "metadata": {},
   "source": [
    "### Events"
   ]
  },
  {
   "cell_type": "code",
   "execution_count": 13,
   "metadata": {
    "tags": [
     "essential_load_on_startup"
    ]
   },
   "outputs": [],
   "source": [
    "events_cols = ['date','ref_hash','application_id','attributed','device_model','ip_address']\n",
    "\n",
    "events_dtypes = {\n",
    "#     \"index\":                   \"category\",\n",
    "#                  \"event_id\":                \"category\",\n",
    "#                  \"ref_type\":                \"category\",\n",
    "                 \"ref_hash\":                \"category\",\n",
    "                 \"application_id\":          \"category\",\n",
    "                 \"attributed\":               \"bool\",\n",
    "#                  \"device_countrycode\":      \"category\",\n",
    "#                  \"device_os_version\":     \"category\",\n",
    "#                  \"device_brand\":          \"category\",\n",
    "                 \"device_model\":          \"category\",\n",
    "#                  \"device_city\":           \"category\",\n",
    "#                  \"session_user_agent\":    \"category\",\n",
    "#                  \"trans_id\":               \"category\",\n",
    "#                  \"user_agent\":            \"category\",\n",
    "#                  \"event_uuid\":             \"category\",\n",
    "#                  \"carrier\":               \"category\",\n",
    "#                  \"kind\":                  \"category\",\n",
    "#                  \"device_os\":             \"category\",\n",
    "#                  \"wifi\":                     \"bool\",\n",
    "#                  \"connection_type\":        \"category\",\n",
    "                 \"ip_address\":              \"category\",\n",
    "#                  \"device_language\":       \"category\"\n",
    "}\n",
    "\n",
    "def load_events(users=get_target_ids(), days=all_days):\n",
    "    \"\"\"\n",
    "    load events csv, only users and days specified in users and days lists.\n",
    "    If lists left empty, consider whole set of users and days respectively.\n",
    "    \"\"\"\n",
    "    \n",
    "    iter_events = pd.read_csv('../data/events.csv', engine='c', dtype=events_dtypes, parse_dates=['date'], chunksize=10000, usecols=events_cols)\n",
    "    \n",
    "    def load_condition(chunk):\n",
    "        return chunk['ref_hash'].isin(users) & chunk['date'].dt.day.isin(days)\n",
    "    \n",
    "    df = pd.concat(chunk.loc[load_condition(chunk)] for chunk in iter_events)\n",
    "    \n",
    "    return df"
   ]
  },
  {
   "cell_type": "markdown",
   "metadata": {},
   "source": [
    "### Auctions"
   ]
  },
  {
   "cell_type": "code",
   "execution_count": 14,
   "metadata": {
    "tags": [
     "essential_load_on_startup"
    ]
   },
   "outputs": [],
   "source": [
    "auctions_dtypes = {'device_id':'category',\n",
    "                 'ref_type_id':'category',\n",
    "                 'source_id':'category'}\n",
    "\n",
    "def load_auctions(users=get_target_ids(), days=all_days):\n",
    "    \"\"\" load auctions csv, only users and days specified in users and days lists.\n",
    "    If lists left empty, consider whole set of users and days respectively.\"\"\"\n",
    "    iter_auctions = pd.read_csv('../data/auctions.csv', engine='c', dtype=auctions_dtypes, parse_dates=['date'], chunksize=10000)\n",
    "    def load_condition(chunk):\n",
    "        return chunk['device_id'].isin(users) & chunk['date'].dt.day.isin(days)\n",
    "    df = pd.concat(chunk.loc[load_condition(chunk)] for chunk in iter_auctions)\n",
    "    \n",
    "    df.rename(columns={'device_id':'ref_hash'}, inplace=True)\n",
    "    \n",
    "    return df"
   ]
  },
  {
   "cell_type": "markdown",
   "metadata": {},
   "source": [
    "# Recommended bibliography"
   ]
  },
  {
   "cell_type": "markdown",
   "metadata": {},
   "source": [
    "appended"
   ]
  },
  {
   "cell_type": "markdown",
   "metadata": {},
   "source": [
    "#### Pseudo resumen de cosas utiles para aplicar\n",
    "Para survival analysis se necesitan dos cosas:\n",
    "- an array of durations\n",
    "- either a boolean or binary array representing whether the “death” was observed or not (alternatively an individual can be censored)."
   ]
  },
  {
   "cell_type": "markdown",
   "metadata": {},
   "source": [
    "# Un vistazo sobre los dfs"
   ]
  },
  {
   "cell_type": "markdown",
   "metadata": {},
   "source": [
    "## Clicks"
   ]
  },
  {
   "cell_type": "code",
   "execution_count": 14,
   "metadata": {},
   "outputs": [],
   "source": [
    "df = load_clicks(get_target_ids_chunk(1), all_days[:3])"
   ]
  },
  {
   "cell_type": "code",
   "execution_count": 15,
   "metadata": {},
   "outputs": [
    {
     "data": {
      "text/html": [
       "<div>\n",
       "<style scoped>\n",
       "    .dataframe tbody tr th:only-of-type {\n",
       "        vertical-align: middle;\n",
       "    }\n",
       "\n",
       "    .dataframe tbody tr th {\n",
       "        vertical-align: top;\n",
       "    }\n",
       "\n",
       "    .dataframe thead th {\n",
       "        text-align: right;\n",
       "    }\n",
       "</style>\n",
       "<table border=\"1\" class=\"dataframe\">\n",
       "  <thead>\n",
       "    <tr style=\"text-align: right;\">\n",
       "      <th></th>\n",
       "      <th>source_id</th>\n",
       "      <th>date</th>\n",
       "      <th>ref_hash</th>\n",
       "    </tr>\n",
       "  </thead>\n",
       "  <tbody>\n",
       "    <tr>\n",
       "      <th>11899</th>\n",
       "      <td>1</td>\n",
       "      <td>2019-04-20 04:23:39.214</td>\n",
       "      <td>1102680423242413676</td>\n",
       "    </tr>\n",
       "    <tr>\n",
       "      <th>11922</th>\n",
       "      <td>1</td>\n",
       "      <td>2019-04-20 04:30:28.785</td>\n",
       "      <td>1102680423242413676</td>\n",
       "    </tr>\n",
       "    <tr>\n",
       "      <th>25085</th>\n",
       "      <td>1</td>\n",
       "      <td>2019-04-18 16:55:31.227</td>\n",
       "      <td>1102680423242413676</td>\n",
       "    </tr>\n",
       "    <tr>\n",
       "      <th>61291</th>\n",
       "      <td>1</td>\n",
       "      <td>2019-04-20 19:53:18.984</td>\n",
       "      <td>1058525390691423513</td>\n",
       "    </tr>\n",
       "    <tr>\n",
       "      <th>63806</th>\n",
       "      <td>1</td>\n",
       "      <td>2019-04-19 12:46:43.763</td>\n",
       "      <td>1058525390691423513</td>\n",
       "    </tr>\n",
       "  </tbody>\n",
       "</table>\n",
       "</div>"
      ],
      "text/plain": [
       "      source_id                    date             ref_hash\n",
       "11899         1 2019-04-20 04:23:39.214  1102680423242413676\n",
       "11922         1 2019-04-20 04:30:28.785  1102680423242413676\n",
       "25085         1 2019-04-18 16:55:31.227  1102680423242413676\n",
       "61291         1 2019-04-20 19:53:18.984  1058525390691423513\n",
       "63806         1 2019-04-19 12:46:43.763  1058525390691423513"
      ]
     },
     "execution_count": 15,
     "metadata": {},
     "output_type": "execute_result"
    }
   ],
   "source": [
    "df.head()"
   ]
  },
  {
   "cell_type": "markdown",
   "metadata": {},
   "source": [
    "## Installs"
   ]
  },
  {
   "cell_type": "code",
   "execution_count": 16,
   "metadata": {},
   "outputs": [],
   "source": [
    "df = load_installs(get_target_ids_chunk(1), all_days[:3])"
   ]
  },
  {
   "cell_type": "code",
   "execution_count": 17,
   "metadata": {},
   "outputs": [
    {
     "data": {
      "text/html": [
       "<div>\n",
       "<style scoped>\n",
       "    .dataframe tbody tr th:only-of-type {\n",
       "        vertical-align: middle;\n",
       "    }\n",
       "\n",
       "    .dataframe tbody tr th {\n",
       "        vertical-align: top;\n",
       "    }\n",
       "\n",
       "    .dataframe thead th {\n",
       "        text-align: right;\n",
       "    }\n",
       "</style>\n",
       "<table border=\"1\" class=\"dataframe\">\n",
       "  <thead>\n",
       "    <tr style=\"text-align: right;\">\n",
       "      <th></th>\n",
       "      <th>date</th>\n",
       "      <th>application_id</th>\n",
       "      <th>ref_hash</th>\n",
       "      <th>attributed</th>\n",
       "      <th>implicit</th>\n",
       "      <th>device_brand</th>\n",
       "      <th>device_model</th>\n",
       "      <th>session_user_agent</th>\n",
       "      <th>device_language</th>\n",
       "    </tr>\n",
       "  </thead>\n",
       "  <tbody>\n",
       "    <tr>\n",
       "      <th>7016</th>\n",
       "      <td>2019-04-19 02:37:34.033</td>\n",
       "      <td>14</td>\n",
       "      <td>1128814228344083814</td>\n",
       "      <td>False</td>\n",
       "      <td>False</td>\n",
       "      <td>2.208834667126999e+18</td>\n",
       "      <td>4.445013666528814e+18</td>\n",
       "      <td>NaN</td>\n",
       "      <td>3.3013777759776993e+18</td>\n",
       "    </tr>\n",
       "    <tr>\n",
       "      <th>7022</th>\n",
       "      <td>2019-04-19 02:37:34.101</td>\n",
       "      <td>14</td>\n",
       "      <td>1128814228344083814</td>\n",
       "      <td>False</td>\n",
       "      <td>True</td>\n",
       "      <td>2.208834667126999e+18</td>\n",
       "      <td>4.445013666528814e+18</td>\n",
       "      <td>HasOffers Mobile AppTracking v1.0</td>\n",
       "      <td>3.3013777759776993e+18</td>\n",
       "    </tr>\n",
       "    <tr>\n",
       "      <th>28381</th>\n",
       "      <td>2019-04-18 22:23:29.656</td>\n",
       "      <td>49</td>\n",
       "      <td>1048782984015604883</td>\n",
       "      <td>False</td>\n",
       "      <td>True</td>\n",
       "      <td>NaN</td>\n",
       "      <td>6.794880020077885e+18</td>\n",
       "      <td>http-kit/2.0</td>\n",
       "      <td>8.441417429938962e+18</td>\n",
       "    </tr>\n",
       "    <tr>\n",
       "      <th>48676</th>\n",
       "      <td>2019-04-20 12:35:20.625</td>\n",
       "      <td>77</td>\n",
       "      <td>1054881396892383323</td>\n",
       "      <td>False</td>\n",
       "      <td>False</td>\n",
       "      <td>NaN</td>\n",
       "      <td>1.3445980799392305e+18</td>\n",
       "      <td>adjust.com</td>\n",
       "      <td>4.060929664968129e+18</td>\n",
       "    </tr>\n",
       "    <tr>\n",
       "      <th>50673</th>\n",
       "      <td>2019-04-20 02:31:26.269</td>\n",
       "      <td>78</td>\n",
       "      <td>1010265377387765028</td>\n",
       "      <td>False</td>\n",
       "      <td>False</td>\n",
       "      <td>6.115025880051902e+18</td>\n",
       "      <td>1.670346184923358e+18</td>\n",
       "      <td>http-kit/2.0</td>\n",
       "      <td>6.977049253562486e+18</td>\n",
       "    </tr>\n",
       "  </tbody>\n",
       "</table>\n",
       "</div>"
      ],
      "text/plain": [
       "                         date application_id             ref_hash  attributed  \\\n",
       "7016  2019-04-19 02:37:34.033             14  1128814228344083814       False   \n",
       "7022  2019-04-19 02:37:34.101             14  1128814228344083814       False   \n",
       "28381 2019-04-18 22:23:29.656             49  1048782984015604883       False   \n",
       "48676 2019-04-20 12:35:20.625             77  1054881396892383323       False   \n",
       "50673 2019-04-20 02:31:26.269             78  1010265377387765028       False   \n",
       "\n",
       "       implicit           device_brand            device_model  \\\n",
       "7016      False  2.208834667126999e+18   4.445013666528814e+18   \n",
       "7022       True  2.208834667126999e+18   4.445013666528814e+18   \n",
       "28381      True                    NaN   6.794880020077885e+18   \n",
       "48676     False                    NaN  1.3445980799392305e+18   \n",
       "50673     False  6.115025880051902e+18   1.670346184923358e+18   \n",
       "\n",
       "                      session_user_agent         device_language  \n",
       "7016                                 NaN  3.3013777759776993e+18  \n",
       "7022   HasOffers Mobile AppTracking v1.0  3.3013777759776993e+18  \n",
       "28381                       http-kit/2.0   8.441417429938962e+18  \n",
       "48676                         adjust.com   4.060929664968129e+18  \n",
       "50673                       http-kit/2.0   6.977049253562486e+18  "
      ]
     },
     "execution_count": 17,
     "metadata": {},
     "output_type": "execute_result"
    }
   ],
   "source": [
    "df.head()"
   ]
  },
  {
   "cell_type": "markdown",
   "metadata": {},
   "source": [
    "## Events"
   ]
  },
  {
   "cell_type": "code",
   "execution_count": 18,
   "metadata": {},
   "outputs": [],
   "source": [
    "df = load_events(get_target_ids_chunk(1), all_days[:3])"
   ]
  },
  {
   "cell_type": "code",
   "execution_count": 19,
   "metadata": {},
   "outputs": [
    {
     "data": {
      "text/html": [
       "<div>\n",
       "<style scoped>\n",
       "    .dataframe tbody tr th:only-of-type {\n",
       "        vertical-align: middle;\n",
       "    }\n",
       "\n",
       "    .dataframe tbody tr th {\n",
       "        vertical-align: top;\n",
       "    }\n",
       "\n",
       "    .dataframe thead th {\n",
       "        text-align: right;\n",
       "    }\n",
       "</style>\n",
       "<table border=\"1\" class=\"dataframe\">\n",
       "  <thead>\n",
       "    <tr style=\"text-align: right;\">\n",
       "      <th></th>\n",
       "      <th>date</th>\n",
       "      <th>ref_hash</th>\n",
       "      <th>application_id</th>\n",
       "      <th>attributed</th>\n",
       "      <th>device_model</th>\n",
       "      <th>ip_address</th>\n",
       "    </tr>\n",
       "  </thead>\n",
       "  <tbody>\n",
       "    <tr>\n",
       "      <th>170519</th>\n",
       "      <td>2019-04-18 03:43:09.185</td>\n",
       "      <td>1106971792117053344</td>\n",
       "      <td>65</td>\n",
       "      <td>False</td>\n",
       "      <td>5.186986602616849e+18</td>\n",
       "      <td>7209709704711395089</td>\n",
       "    </tr>\n",
       "    <tr>\n",
       "      <th>170521</th>\n",
       "      <td>2019-04-18 03:43:25.436</td>\n",
       "      <td>1106971792117053344</td>\n",
       "      <td>65</td>\n",
       "      <td>False</td>\n",
       "      <td>5.186986602616849e+18</td>\n",
       "      <td>7209709704711395089</td>\n",
       "    </tr>\n",
       "    <tr>\n",
       "      <th>170525</th>\n",
       "      <td>2019-04-18 03:43:21.320</td>\n",
       "      <td>1106971792117053344</td>\n",
       "      <td>65</td>\n",
       "      <td>False</td>\n",
       "      <td>5.186986602616849e+18</td>\n",
       "      <td>7209709704711395089</td>\n",
       "    </tr>\n",
       "    <tr>\n",
       "      <th>170529</th>\n",
       "      <td>2019-04-18 03:43:08.996</td>\n",
       "      <td>1106971792117053344</td>\n",
       "      <td>65</td>\n",
       "      <td>False</td>\n",
       "      <td>5.186986602616849e+18</td>\n",
       "      <td>7209709704711395089</td>\n",
       "    </tr>\n",
       "    <tr>\n",
       "      <th>171835</th>\n",
       "      <td>2019-04-19 17:01:38.181</td>\n",
       "      <td>1117811498061299916</td>\n",
       "      <td>65</td>\n",
       "      <td>False</td>\n",
       "      <td>3.0574023248014715e+18</td>\n",
       "      <td>3382054713307838865</td>\n",
       "    </tr>\n",
       "  </tbody>\n",
       "</table>\n",
       "</div>"
      ],
      "text/plain": [
       "                          date             ref_hash application_id  \\\n",
       "170519 2019-04-18 03:43:09.185  1106971792117053344             65   \n",
       "170521 2019-04-18 03:43:25.436  1106971792117053344             65   \n",
       "170525 2019-04-18 03:43:21.320  1106971792117053344             65   \n",
       "170529 2019-04-18 03:43:08.996  1106971792117053344             65   \n",
       "171835 2019-04-19 17:01:38.181  1117811498061299916             65   \n",
       "\n",
       "        attributed            device_model           ip_address  \n",
       "170519       False   5.186986602616849e+18  7209709704711395089  \n",
       "170521       False   5.186986602616849e+18  7209709704711395089  \n",
       "170525       False   5.186986602616849e+18  7209709704711395089  \n",
       "170529       False   5.186986602616849e+18  7209709704711395089  \n",
       "171835       False  3.0574023248014715e+18  3382054713307838865  "
      ]
     },
     "execution_count": 19,
     "metadata": {},
     "output_type": "execute_result"
    }
   ],
   "source": [
    "df.head()"
   ]
  },
  {
   "cell_type": "markdown",
   "metadata": {},
   "source": [
    "## Auctions"
   ]
  },
  {
   "cell_type": "code",
   "execution_count": 20,
   "metadata": {},
   "outputs": [],
   "source": [
    "df = load_auctions(get_target_ids_chunk(1), all_days[:3])"
   ]
  },
  {
   "cell_type": "code",
   "execution_count": 21,
   "metadata": {},
   "outputs": [
    {
     "data": {
      "text/html": [
       "<div>\n",
       "<style scoped>\n",
       "    .dataframe tbody tr th:only-of-type {\n",
       "        vertical-align: middle;\n",
       "    }\n",
       "\n",
       "    .dataframe tbody tr th {\n",
       "        vertical-align: top;\n",
       "    }\n",
       "\n",
       "    .dataframe thead th {\n",
       "        text-align: right;\n",
       "    }\n",
       "</style>\n",
       "<table border=\"1\" class=\"dataframe\">\n",
       "  <thead>\n",
       "    <tr style=\"text-align: right;\">\n",
       "      <th></th>\n",
       "      <th>date</th>\n",
       "      <th>ref_hash</th>\n",
       "      <th>ref_type_id</th>\n",
       "      <th>source_id</th>\n",
       "    </tr>\n",
       "  </thead>\n",
       "  <tbody>\n",
       "    <tr>\n",
       "      <th>289649</th>\n",
       "      <td>2019-04-18 19:58:47.826462</td>\n",
       "      <td>1114026657194419748</td>\n",
       "      <td>1</td>\n",
       "      <td>0</td>\n",
       "    </tr>\n",
       "    <tr>\n",
       "      <th>317697</th>\n",
       "      <td>2019-04-18 23:34:28.216676</td>\n",
       "      <td>1102680423242413676</td>\n",
       "      <td>1</td>\n",
       "      <td>1</td>\n",
       "    </tr>\n",
       "    <tr>\n",
       "      <th>317713</th>\n",
       "      <td>2019-04-18 23:34:36.035822</td>\n",
       "      <td>1102680423242413676</td>\n",
       "      <td>1</td>\n",
       "      <td>1</td>\n",
       "    </tr>\n",
       "    <tr>\n",
       "      <th>317978</th>\n",
       "      <td>2019-04-18 23:42:35.347774</td>\n",
       "      <td>1102680423242413676</td>\n",
       "      <td>1</td>\n",
       "      <td>1</td>\n",
       "    </tr>\n",
       "    <tr>\n",
       "      <th>318297</th>\n",
       "      <td>2019-04-18 23:44:54.822177</td>\n",
       "      <td>1102680423242413676</td>\n",
       "      <td>1</td>\n",
       "      <td>1</td>\n",
       "    </tr>\n",
       "  </tbody>\n",
       "</table>\n",
       "</div>"
      ],
      "text/plain": [
       "                             date             ref_hash ref_type_id source_id\n",
       "289649 2019-04-18 19:58:47.826462  1114026657194419748           1         0\n",
       "317697 2019-04-18 23:34:28.216676  1102680423242413676           1         1\n",
       "317713 2019-04-18 23:34:36.035822  1102680423242413676           1         1\n",
       "317978 2019-04-18 23:42:35.347774  1102680423242413676           1         1\n",
       "318297 2019-04-18 23:44:54.822177  1102680423242413676           1         1"
      ]
     },
     "execution_count": 21,
     "metadata": {},
     "output_type": "execute_result"
    }
   ],
   "source": [
    "df.head()"
   ]
  },
  {
   "cell_type": "markdown",
   "metadata": {},
   "source": [
    "# ML: Approaches"
   ]
  },
  {
   "cell_type": "markdown",
   "metadata": {},
   "source": [
    "***"
   ]
  },
  {
   "cell_type": "markdown",
   "metadata": {
    "toc-hr-collapsed": false
   },
   "source": [
    "## Approach 1: mean value per device"
   ]
  },
  {
   "cell_type": "markdown",
   "metadata": {},
   "source": [
    "### Auctions"
   ]
  },
  {
   "cell_type": "code",
   "execution_count": 48,
   "metadata": {},
   "outputs": [],
   "source": [
    "df_auctions = load_auctions()\n",
    "\n",
    "df_auctions2 = process_time_diffs(df_auctions)\n",
    "\n",
    "current_predictions = df_auctions2.groupby('ref_hash', as_index=False)[['diff_in_sec']].mean()\n",
    "\n",
    "target = store_predictions(target_df=target, new_values=current_predictions, value_column_name='diff_in_sec', suffix='_st')"
   ]
  },
  {
   "cell_type": "code",
   "execution_count": 49,
   "metadata": {},
   "outputs": [],
   "source": [
    "del df_auctions\n",
    "del df_auctions2"
   ]
  },
  {
   "cell_type": "markdown",
   "metadata": {},
   "source": [
    "### Installs"
   ]
  },
  {
   "cell_type": "code",
   "execution_count": 51,
   "metadata": {},
   "outputs": [],
   "source": [
    "df_installs = load_installs()\n",
    "\n",
    "df_installs2 = process_time_diffs(df_installs)\n",
    "\n",
    "current_predictions = df_installs2[['ref_hash','diff_in_sec']].groupby('ref_hash', as_index=False).mean()\n",
    "\n",
    "target = store_predictions(target_df=target, new_values=current_predictions, value_column_name='diff_in_sec', suffix='_sc')"
   ]
  },
  {
   "cell_type": "code",
   "execution_count": 50,
   "metadata": {},
   "outputs": [],
   "source": [
    "del df_installs\n",
    "del df_installs2"
   ]
  },
  {
   "cell_type": "markdown",
   "metadata": {},
   "source": [
    "***"
   ]
  },
  {
   "cell_type": "code",
   "execution_count": 57,
   "metadata": {},
   "outputs": [],
   "source": [
    "save_submission(target, description=\"por cada grupo, avg. de los tiempos entre cada registro.\")"
   ]
  },
  {
   "cell_type": "markdown",
   "metadata": {},
   "source": [
    "## End of Approach 1: mean value per device"
   ]
  },
  {
   "cell_type": "markdown",
   "metadata": {},
   "source": [
    "***"
   ]
  },
  {
   "cell_type": "markdown",
   "metadata": {
    "toc-hr-collapsed": false
   },
   "source": [
    "## Approach 2: mean value per device taking time from one common start"
   ]
  },
  {
   "cell_type": "markdown",
   "metadata": {},
   "source": [
    "### Auctions"
   ]
  },
  {
   "cell_type": "code",
   "execution_count": 15,
   "metadata": {},
   "outputs": [],
   "source": [
    "df_auctions = load_auctions(days=get_n_3_days(1))\n",
    "\n",
    "df_auctions2 = process_time_diffs_vs_min_day(df_auctions)\n",
    "\n",
    "current_predictions = df_auctions2.groupby('ref_hash', as_index=False)[['diff_in_sec']].mean()\n",
    "\n",
    "target = store_predictions(target_df=target, new_values=current_predictions, value_column_name='diff_in_sec', suffix='_st')"
   ]
  },
  {
   "cell_type": "code",
   "execution_count": 16,
   "metadata": {},
   "outputs": [],
   "source": [
    "del df_auctions\n",
    "del df_auctions2"
   ]
  },
  {
   "cell_type": "markdown",
   "metadata": {},
   "source": [
    "### Installs"
   ]
  },
  {
   "cell_type": "code",
   "execution_count": 17,
   "metadata": {},
   "outputs": [],
   "source": [
    "df_installs = load_installs(days=get_n_3_days(1))\n",
    "\n",
    "df_installs2 = process_time_diffs_vs_min_day(df_installs)\n",
    "\n",
    "current_predictions = df_installs2[['ref_hash','diff_in_sec']].groupby('ref_hash', as_index=False).mean()\n",
    "\n",
    "target = store_predictions(target_df=target, new_values=current_predictions, value_column_name='diff_in_sec', suffix='_sc')"
   ]
  },
  {
   "cell_type": "code",
   "execution_count": 18,
   "metadata": {},
   "outputs": [],
   "source": [
    "del df_installs\n",
    "del df_installs2"
   ]
  },
  {
   "cell_type": "markdown",
   "metadata": {},
   "source": [
    "***"
   ]
  },
  {
   "cell_type": "code",
   "execution_count": 19,
   "metadata": {},
   "outputs": [],
   "source": [
    "save_submission(target, description=\"por cada grupo, avg. de los tiempos tomados a partir del primer dia de los elegidos.\")"
   ]
  },
  {
   "cell_type": "markdown",
   "metadata": {
    "toc-hr-collapsed": false
   },
   "source": [
    "## End of Approach 2: mean value per device taking time from one common start"
   ]
  },
  {
   "cell_type": "markdown",
   "metadata": {},
   "source": [
    "***"
   ]
  },
  {
   "cell_type": "markdown",
   "metadata": {
    "toc-hr-collapsed": false
   },
   "source": [
    "## Approach 3:"
   ]
  },
  {
   "cell_type": "markdown",
   "metadata": {},
   "source": [
    "### Define current users/days"
   ]
  },
  {
   "cell_type": "code",
   "execution_count": 15,
   "metadata": {},
   "outputs": [],
   "source": [
    "current_users = get_target_ids()\n",
    "current_days = get_n_3_days(1)"
   ]
  },
  {
   "cell_type": "code",
   "execution_count": 16,
   "metadata": {},
   "outputs": [],
   "source": [
    "df_clicks = load_clicks(current_users, current_days)\n",
    "df_installs = load_installs(current_users, current_days)\n",
    "df_events = load_events(current_users, current_days)\n",
    "df_auctions = load_auctions(current_users, current_days)"
   ]
  },
  {
   "cell_type": "code",
   "execution_count": 17,
   "metadata": {},
   "outputs": [
    {
     "name": "stdout",
     "output_type": "stream",
     "text": [
      "3.727891\n",
      "2.071247\n",
      "6.177316\n",
      "25.952431\n"
     ]
    }
   ],
   "source": [
    "print(df_clicks.memory_usage(deep=True).sum()/1e6)\n",
    "print(df_installs.memory_usage(deep=True).sum()/1e6)\n",
    "print(df_events.memory_usage(deep=True).sum()/1e6)\n",
    "print(df_auctions.memory_usage(deep=True).sum()/1e6)"
   ]
  },
  {
   "cell_type": "markdown",
   "metadata": {},
   "source": [
    "### Calculate time diffs per ref hash"
   ]
  },
  {
   "cell_type": "code",
   "execution_count": 18,
   "metadata": {},
   "outputs": [],
   "source": [
    "df_clicks = process_time_diffs(df_clicks)\n",
    "df_installs = process_time_diffs(df_installs)\n",
    "df_events = process_time_diffs(df_events)\n",
    "df_auctions = process_time_diffs(df_auctions)"
   ]
  },
  {
   "cell_type": "markdown",
   "metadata": {},
   "source": [
    "### Append 'em!"
   ]
  },
  {
   "cell_type": "code",
   "execution_count": 19,
   "metadata": {},
   "outputs": [],
   "source": [
    "set_source_col(df_clicks, \"clicks\")\n",
    "set_source_col(df_installs, \"installs\")\n",
    "set_source_col(df_events, \"events\")\n",
    "set_source_col(df_auctions, \"auctions\")"
   ]
  },
  {
   "cell_type": "code",
   "execution_count": 20,
   "metadata": {},
   "outputs": [],
   "source": [
    "appended = df_clicks.append(df_installs, sort=False).append(df_events, sort=False).append(df_auctions, sort=False)"
   ]
  },
  {
   "cell_type": "code",
   "execution_count": 43,
   "metadata": {},
   "outputs": [
    {
     "ename": "ValueError",
     "evalue": "setting an array element with a sequence.",
     "output_type": "error",
     "traceback": [
      "\u001b[0;31m---------------------------------------------------------------------------\u001b[0m",
      "\u001b[0;31mValueError\u001b[0m                                Traceback (most recent call last)",
      "\u001b[0;32m<ipython-input-43-5254872a39b0>\u001b[0m in \u001b[0;36m<module>\u001b[0;34m\u001b[0m\n\u001b[0;32m----> 1\u001b[0;31m \u001b[0mappended\u001b[0m\u001b[0;34m.\u001b[0m\u001b[0mdiff_in_sec\u001b[0m \u001b[0;34m=\u001b[0m \u001b[0mappended\u001b[0m\u001b[0;34m.\u001b[0m\u001b[0mdiff_in_sec\u001b[0m\u001b[0;34m.\u001b[0m\u001b[0mastype\u001b[0m\u001b[0;34m(\u001b[0m\u001b[0;34m'float'\u001b[0m\u001b[0;34m)\u001b[0m\u001b[0;34m\u001b[0m\u001b[0m\n\u001b[0m",
      "\u001b[0;32m~/Documents/Univerza/UBA/7506 Organizacion de Datos/1c2019/tp2/venv/lib/python3.5/site-packages/pandas/util/_decorators.py\u001b[0m in \u001b[0;36mwrapper\u001b[0;34m(*args, **kwargs)\u001b[0m\n\u001b[1;32m    176\u001b[0m                 \u001b[0;32melse\u001b[0m\u001b[0;34m:\u001b[0m\u001b[0;34m\u001b[0m\u001b[0m\n\u001b[1;32m    177\u001b[0m                     \u001b[0mkwargs\u001b[0m\u001b[0;34m[\u001b[0m\u001b[0mnew_arg_name\u001b[0m\u001b[0;34m]\u001b[0m \u001b[0;34m=\u001b[0m \u001b[0mnew_arg_value\u001b[0m\u001b[0;34m\u001b[0m\u001b[0m\n\u001b[0;32m--> 178\u001b[0;31m             \u001b[0;32mreturn\u001b[0m \u001b[0mfunc\u001b[0m\u001b[0;34m(\u001b[0m\u001b[0;34m*\u001b[0m\u001b[0margs\u001b[0m\u001b[0;34m,\u001b[0m \u001b[0;34m**\u001b[0m\u001b[0mkwargs\u001b[0m\u001b[0;34m)\u001b[0m\u001b[0;34m\u001b[0m\u001b[0m\n\u001b[0m\u001b[1;32m    179\u001b[0m         \u001b[0;32mreturn\u001b[0m \u001b[0mwrapper\u001b[0m\u001b[0;34m\u001b[0m\u001b[0m\n\u001b[1;32m    180\u001b[0m     \u001b[0;32mreturn\u001b[0m \u001b[0m_deprecate_kwarg\u001b[0m\u001b[0;34m\u001b[0m\u001b[0m\n",
      "\u001b[0;32m~/Documents/Univerza/UBA/7506 Organizacion de Datos/1c2019/tp2/venv/lib/python3.5/site-packages/pandas/core/generic.py\u001b[0m in \u001b[0;36mastype\u001b[0;34m(self, dtype, copy, errors, **kwargs)\u001b[0m\n\u001b[1;32m   4999\u001b[0m             \u001b[0;31m# else, only a single dtype is given\u001b[0m\u001b[0;34m\u001b[0m\u001b[0;34m\u001b[0m\u001b[0m\n\u001b[1;32m   5000\u001b[0m             new_data = self._data.astype(dtype=dtype, copy=copy, errors=errors,\n\u001b[0;32m-> 5001\u001b[0;31m                                          **kwargs)\n\u001b[0m\u001b[1;32m   5002\u001b[0m             \u001b[0;32mreturn\u001b[0m \u001b[0mself\u001b[0m\u001b[0;34m.\u001b[0m\u001b[0m_constructor\u001b[0m\u001b[0;34m(\u001b[0m\u001b[0mnew_data\u001b[0m\u001b[0;34m)\u001b[0m\u001b[0;34m.\u001b[0m\u001b[0m__finalize__\u001b[0m\u001b[0;34m(\u001b[0m\u001b[0mself\u001b[0m\u001b[0;34m)\u001b[0m\u001b[0;34m\u001b[0m\u001b[0m\n\u001b[1;32m   5003\u001b[0m \u001b[0;34m\u001b[0m\u001b[0m\n",
      "\u001b[0;32m~/Documents/Univerza/UBA/7506 Organizacion de Datos/1c2019/tp2/venv/lib/python3.5/site-packages/pandas/core/internals.py\u001b[0m in \u001b[0;36mastype\u001b[0;34m(self, dtype, **kwargs)\u001b[0m\n\u001b[1;32m   3712\u001b[0m \u001b[0;34m\u001b[0m\u001b[0m\n\u001b[1;32m   3713\u001b[0m     \u001b[0;32mdef\u001b[0m \u001b[0mastype\u001b[0m\u001b[0;34m(\u001b[0m\u001b[0mself\u001b[0m\u001b[0;34m,\u001b[0m \u001b[0mdtype\u001b[0m\u001b[0;34m,\u001b[0m \u001b[0;34m**\u001b[0m\u001b[0mkwargs\u001b[0m\u001b[0;34m)\u001b[0m\u001b[0;34m:\u001b[0m\u001b[0;34m\u001b[0m\u001b[0m\n\u001b[0;32m-> 3714\u001b[0;31m         \u001b[0;32mreturn\u001b[0m \u001b[0mself\u001b[0m\u001b[0;34m.\u001b[0m\u001b[0mapply\u001b[0m\u001b[0;34m(\u001b[0m\u001b[0;34m'astype'\u001b[0m\u001b[0;34m,\u001b[0m \u001b[0mdtype\u001b[0m\u001b[0;34m=\u001b[0m\u001b[0mdtype\u001b[0m\u001b[0;34m,\u001b[0m \u001b[0;34m**\u001b[0m\u001b[0mkwargs\u001b[0m\u001b[0;34m)\u001b[0m\u001b[0;34m\u001b[0m\u001b[0m\n\u001b[0m\u001b[1;32m   3715\u001b[0m \u001b[0;34m\u001b[0m\u001b[0m\n\u001b[1;32m   3716\u001b[0m     \u001b[0;32mdef\u001b[0m \u001b[0mconvert\u001b[0m\u001b[0;34m(\u001b[0m\u001b[0mself\u001b[0m\u001b[0;34m,\u001b[0m \u001b[0;34m**\u001b[0m\u001b[0mkwargs\u001b[0m\u001b[0;34m)\u001b[0m\u001b[0;34m:\u001b[0m\u001b[0;34m\u001b[0m\u001b[0m\n",
      "\u001b[0;32m~/Documents/Univerza/UBA/7506 Organizacion de Datos/1c2019/tp2/venv/lib/python3.5/site-packages/pandas/core/internals.py\u001b[0m in \u001b[0;36mapply\u001b[0;34m(self, f, axes, filter, do_integrity_check, consolidate, **kwargs)\u001b[0m\n\u001b[1;32m   3579\u001b[0m \u001b[0;34m\u001b[0m\u001b[0m\n\u001b[1;32m   3580\u001b[0m             \u001b[0mkwargs\u001b[0m\u001b[0;34m[\u001b[0m\u001b[0;34m'mgr'\u001b[0m\u001b[0;34m]\u001b[0m \u001b[0;34m=\u001b[0m \u001b[0mself\u001b[0m\u001b[0;34m\u001b[0m\u001b[0m\n\u001b[0;32m-> 3581\u001b[0;31m             \u001b[0mapplied\u001b[0m \u001b[0;34m=\u001b[0m \u001b[0mgetattr\u001b[0m\u001b[0;34m(\u001b[0m\u001b[0mb\u001b[0m\u001b[0;34m,\u001b[0m \u001b[0mf\u001b[0m\u001b[0;34m)\u001b[0m\u001b[0;34m(\u001b[0m\u001b[0;34m**\u001b[0m\u001b[0mkwargs\u001b[0m\u001b[0;34m)\u001b[0m\u001b[0;34m\u001b[0m\u001b[0m\n\u001b[0m\u001b[1;32m   3582\u001b[0m             \u001b[0mresult_blocks\u001b[0m \u001b[0;34m=\u001b[0m \u001b[0m_extend_blocks\u001b[0m\u001b[0;34m(\u001b[0m\u001b[0mapplied\u001b[0m\u001b[0;34m,\u001b[0m \u001b[0mresult_blocks\u001b[0m\u001b[0;34m)\u001b[0m\u001b[0;34m\u001b[0m\u001b[0m\n\u001b[1;32m   3583\u001b[0m \u001b[0;34m\u001b[0m\u001b[0m\n",
      "\u001b[0;32m~/Documents/Univerza/UBA/7506 Organizacion de Datos/1c2019/tp2/venv/lib/python3.5/site-packages/pandas/core/internals.py\u001b[0m in \u001b[0;36mastype\u001b[0;34m(self, dtype, copy, errors, values, **kwargs)\u001b[0m\n\u001b[1;32m    573\u001b[0m     \u001b[0;32mdef\u001b[0m \u001b[0mastype\u001b[0m\u001b[0;34m(\u001b[0m\u001b[0mself\u001b[0m\u001b[0;34m,\u001b[0m \u001b[0mdtype\u001b[0m\u001b[0;34m,\u001b[0m \u001b[0mcopy\u001b[0m\u001b[0;34m=\u001b[0m\u001b[0;32mFalse\u001b[0m\u001b[0;34m,\u001b[0m \u001b[0merrors\u001b[0m\u001b[0;34m=\u001b[0m\u001b[0;34m'raise'\u001b[0m\u001b[0;34m,\u001b[0m \u001b[0mvalues\u001b[0m\u001b[0;34m=\u001b[0m\u001b[0;32mNone\u001b[0m\u001b[0;34m,\u001b[0m \u001b[0;34m**\u001b[0m\u001b[0mkwargs\u001b[0m\u001b[0;34m)\u001b[0m\u001b[0;34m:\u001b[0m\u001b[0;34m\u001b[0m\u001b[0m\n\u001b[1;32m    574\u001b[0m         return self._astype(dtype, copy=copy, errors=errors, values=values,\n\u001b[0;32m--> 575\u001b[0;31m                             **kwargs)\n\u001b[0m\u001b[1;32m    576\u001b[0m \u001b[0;34m\u001b[0m\u001b[0m\n\u001b[1;32m    577\u001b[0m     def _astype(self, dtype, copy=False, errors='raise', values=None,\n",
      "\u001b[0;32m~/Documents/Univerza/UBA/7506 Organizacion de Datos/1c2019/tp2/venv/lib/python3.5/site-packages/pandas/core/internals.py\u001b[0m in \u001b[0;36m_astype\u001b[0;34m(self, dtype, copy, errors, values, klass, mgr, **kwargs)\u001b[0m\n\u001b[1;32m    662\u001b[0m \u001b[0;34m\u001b[0m\u001b[0m\n\u001b[1;32m    663\u001b[0m                 \u001b[0;31m# _astype_nansafe works fine with 1-d only\u001b[0m\u001b[0;34m\u001b[0m\u001b[0;34m\u001b[0m\u001b[0m\n\u001b[0;32m--> 664\u001b[0;31m                 \u001b[0mvalues\u001b[0m \u001b[0;34m=\u001b[0m \u001b[0mastype_nansafe\u001b[0m\u001b[0;34m(\u001b[0m\u001b[0mvalues\u001b[0m\u001b[0;34m.\u001b[0m\u001b[0mravel\u001b[0m\u001b[0;34m(\u001b[0m\u001b[0;34m)\u001b[0m\u001b[0;34m,\u001b[0m \u001b[0mdtype\u001b[0m\u001b[0;34m,\u001b[0m \u001b[0mcopy\u001b[0m\u001b[0;34m=\u001b[0m\u001b[0;32mTrue\u001b[0m\u001b[0;34m)\u001b[0m\u001b[0;34m\u001b[0m\u001b[0m\n\u001b[0m\u001b[1;32m    665\u001b[0m                 \u001b[0mvalues\u001b[0m \u001b[0;34m=\u001b[0m \u001b[0mvalues\u001b[0m\u001b[0;34m.\u001b[0m\u001b[0mreshape\u001b[0m\u001b[0;34m(\u001b[0m\u001b[0mself\u001b[0m\u001b[0;34m.\u001b[0m\u001b[0mshape\u001b[0m\u001b[0;34m)\u001b[0m\u001b[0;34m\u001b[0m\u001b[0m\n\u001b[1;32m    666\u001b[0m \u001b[0;34m\u001b[0m\u001b[0m\n",
      "\u001b[0;32m~/Documents/Univerza/UBA/7506 Organizacion de Datos/1c2019/tp2/venv/lib/python3.5/site-packages/pandas/core/dtypes/cast.py\u001b[0m in \u001b[0;36mastype_nansafe\u001b[0;34m(arr, dtype, copy)\u001b[0m\n\u001b[1;32m    728\u001b[0m \u001b[0;34m\u001b[0m\u001b[0m\n\u001b[1;32m    729\u001b[0m     \u001b[0;32mif\u001b[0m \u001b[0mcopy\u001b[0m\u001b[0;34m:\u001b[0m\u001b[0;34m\u001b[0m\u001b[0m\n\u001b[0;32m--> 730\u001b[0;31m         \u001b[0;32mreturn\u001b[0m \u001b[0marr\u001b[0m\u001b[0;34m.\u001b[0m\u001b[0mastype\u001b[0m\u001b[0;34m(\u001b[0m\u001b[0mdtype\u001b[0m\u001b[0;34m,\u001b[0m \u001b[0mcopy\u001b[0m\u001b[0;34m=\u001b[0m\u001b[0;32mTrue\u001b[0m\u001b[0;34m)\u001b[0m\u001b[0;34m\u001b[0m\u001b[0m\n\u001b[0m\u001b[1;32m    731\u001b[0m     \u001b[0;32mreturn\u001b[0m \u001b[0marr\u001b[0m\u001b[0;34m.\u001b[0m\u001b[0mview\u001b[0m\u001b[0;34m(\u001b[0m\u001b[0mdtype\u001b[0m\u001b[0;34m)\u001b[0m\u001b[0;34m\u001b[0m\u001b[0m\n\u001b[1;32m    732\u001b[0m \u001b[0;34m\u001b[0m\u001b[0m\n",
      "\u001b[0;31mValueError\u001b[0m: setting an array element with a sequence."
     ]
    }
   ],
   "source": [
    "appended.diff_in_sec = appended.diff_in_sec.astype('float')"
   ]
  },
  {
   "cell_type": "code",
   "execution_count": 21,
   "metadata": {},
   "outputs": [],
   "source": [
    "appended = fill_all_nans(appended)"
   ]
  },
  {
   "cell_type": "code",
   "execution_count": 24,
   "metadata": {},
   "outputs": [],
   "source": [
    "appended = set_observed_column(appended, \"auctions\")"
   ]
  },
  {
   "cell_type": "code",
   "execution_count": 27,
   "metadata": {},
   "outputs": [
    {
     "data": {
      "text/plain": [
       "(185944, 15)"
      ]
     },
     "execution_count": 27,
     "metadata": {},
     "output_type": "execute_result"
    }
   ],
   "source": [
    "appended.shape"
   ]
  },
  {
   "cell_type": "code",
   "execution_count": 28,
   "metadata": {},
   "outputs": [
    {
     "data": {
      "text/html": [
       "<div>\n",
       "<style scoped>\n",
       "    .dataframe tbody tr th:only-of-type {\n",
       "        vertical-align: middle;\n",
       "    }\n",
       "\n",
       "    .dataframe tbody tr th {\n",
       "        vertical-align: top;\n",
       "    }\n",
       "\n",
       "    .dataframe thead th {\n",
       "        text-align: right;\n",
       "    }\n",
       "</style>\n",
       "<table border=\"1\" class=\"dataframe\">\n",
       "  <thead>\n",
       "    <tr style=\"text-align: right;\">\n",
       "      <th></th>\n",
       "      <th>source_id</th>\n",
       "      <th>date</th>\n",
       "      <th>diff_in_sec</th>\n",
       "      <th>source_csv</th>\n",
       "      <th>application_id</th>\n",
       "      <th>attributed</th>\n",
       "      <th>implicit</th>\n",
       "      <th>device_brand</th>\n",
       "      <th>device_model</th>\n",
       "      <th>session_user_agent</th>\n",
       "      <th>device_language</th>\n",
       "      <th>ip_address</th>\n",
       "      <th>ref_type_id</th>\n",
       "      <th>ref_hash</th>\n",
       "      <th>observed</th>\n",
       "    </tr>\n",
       "  </thead>\n",
       "  <tbody>\n",
       "    <tr>\n",
       "      <th>33018</th>\n",
       "      <td>3</td>\n",
       "      <td>2019-04-18 01:02:00.017000</td>\n",
       "      <td>3720.02</td>\n",
       "      <td>clicks</td>\n",
       "      <td>121</td>\n",
       "      <td>False</td>\n",
       "      <td>False</td>\n",
       "      <td>3.083058605577787e+17</td>\n",
       "      <td>6.794880020077885e+18</td>\n",
       "      <td>http-kit/2.0</td>\n",
       "      <td>6.977049253562486e+18</td>\n",
       "      <td>122333228432993925</td>\n",
       "      <td>1</td>\n",
       "      <td>4930339542874672704</td>\n",
       "      <td>False</td>\n",
       "    </tr>\n",
       "    <tr>\n",
       "      <th>49949</th>\n",
       "      <td>6</td>\n",
       "      <td>2019-04-18 02:43:16.846000</td>\n",
       "      <td>9796.85</td>\n",
       "      <td>clicks</td>\n",
       "      <td>155</td>\n",
       "      <td>False</td>\n",
       "      <td>False</td>\n",
       "      <td>3.083058605577787e+17</td>\n",
       "      <td>6.763740053215609e+18</td>\n",
       "      <td>Dalvik/2.1.0 (Linux; U; Android 8.1.0; Moto G ...</td>\n",
       "      <td>3.3013777759776993e+18</td>\n",
       "      <td>4895837933346976094</td>\n",
       "      <td>1</td>\n",
       "      <td>3771983116796703908</td>\n",
       "      <td>False</td>\n",
       "    </tr>\n",
       "    <tr>\n",
       "      <th>23476</th>\n",
       "      <td>1</td>\n",
       "      <td>2019-04-18 04:09:34.771000</td>\n",
       "      <td>14974.8</td>\n",
       "      <td>clicks</td>\n",
       "      <td>121</td>\n",
       "      <td>True</td>\n",
       "      <td>False</td>\n",
       "      <td>3.083058605577787e+17</td>\n",
       "      <td>2.8270958855039072e+17</td>\n",
       "      <td>http-kit/2.0</td>\n",
       "      <td>6.977049253562486e+18</td>\n",
       "      <td>6994170261213942349</td>\n",
       "      <td>1</td>\n",
       "      <td>4946561368831200632</td>\n",
       "      <td>False</td>\n",
       "    </tr>\n",
       "    <tr>\n",
       "      <th>20650</th>\n",
       "      <td>1</td>\n",
       "      <td>2019-04-18 04:15:54.342000</td>\n",
       "      <td>15354.3</td>\n",
       "      <td>clicks</td>\n",
       "      <td>68</td>\n",
       "      <td>False</td>\n",
       "      <td>False</td>\n",
       "      <td>3.083058605577787e+17</td>\n",
       "      <td>6.794880020077885e+18</td>\n",
       "      <td>http-kit/2.0</td>\n",
       "      <td>6.977049253562486e+18</td>\n",
       "      <td>8340590322107167529</td>\n",
       "      <td>7</td>\n",
       "      <td>7941354333070342782</td>\n",
       "      <td>False</td>\n",
       "    </tr>\n",
       "    <tr>\n",
       "      <th>27907</th>\n",
       "      <td>0</td>\n",
       "      <td>2019-04-18 04:16:23.970000</td>\n",
       "      <td>15384</td>\n",
       "      <td>clicks</td>\n",
       "      <td>121</td>\n",
       "      <td>False</td>\n",
       "      <td>False</td>\n",
       "      <td>3.083058605577787e+17</td>\n",
       "      <td>6.794880020077885e+18</td>\n",
       "      <td>http-kit/2.0</td>\n",
       "      <td>6.977049253562486e+18</td>\n",
       "      <td>122333228432993925</td>\n",
       "      <td>1</td>\n",
       "      <td>3412530511093741752</td>\n",
       "      <td>False</td>\n",
       "    </tr>\n",
       "  </tbody>\n",
       "</table>\n",
       "</div>"
      ],
      "text/plain": [
       "      source_id                        date diff_in_sec source_csv  \\\n",
       "33018         3  2019-04-18 01:02:00.017000     3720.02     clicks   \n",
       "49949         6  2019-04-18 02:43:16.846000     9796.85     clicks   \n",
       "23476         1  2019-04-18 04:09:34.771000     14974.8     clicks   \n",
       "20650         1  2019-04-18 04:15:54.342000     15354.3     clicks   \n",
       "27907         0  2019-04-18 04:16:23.970000       15384     clicks   \n",
       "\n",
       "      application_id attributed implicit           device_brand  \\\n",
       "33018            121      False    False  3.083058605577787e+17   \n",
       "49949            155      False    False  3.083058605577787e+17   \n",
       "23476            121       True    False  3.083058605577787e+17   \n",
       "20650             68      False    False  3.083058605577787e+17   \n",
       "27907            121      False    False  3.083058605577787e+17   \n",
       "\n",
       "                 device_model  \\\n",
       "33018   6.794880020077885e+18   \n",
       "49949   6.763740053215609e+18   \n",
       "23476  2.8270958855039072e+17   \n",
       "20650   6.794880020077885e+18   \n",
       "27907   6.794880020077885e+18   \n",
       "\n",
       "                                      session_user_agent  \\\n",
       "33018                                       http-kit/2.0   \n",
       "49949  Dalvik/2.1.0 (Linux; U; Android 8.1.0; Moto G ...   \n",
       "23476                                       http-kit/2.0   \n",
       "20650                                       http-kit/2.0   \n",
       "27907                                       http-kit/2.0   \n",
       "\n",
       "              device_language           ip_address ref_type_id  \\\n",
       "33018   6.977049253562486e+18   122333228432993925           1   \n",
       "49949  3.3013777759776993e+18  4895837933346976094           1   \n",
       "23476   6.977049253562486e+18  6994170261213942349           1   \n",
       "20650   6.977049253562486e+18  8340590322107167529           7   \n",
       "27907   6.977049253562486e+18   122333228432993925           1   \n",
       "\n",
       "                  ref_hash observed  \n",
       "33018  4930339542874672704    False  \n",
       "49949  3771983116796703908    False  \n",
       "23476  4946561368831200632    False  \n",
       "20650  7941354333070342782    False  \n",
       "27907  3412530511093741752    False  "
      ]
     },
     "execution_count": 28,
     "metadata": {},
     "output_type": "execute_result"
    }
   ],
   "source": [
    "appended.head()"
   ]
  },
  {
   "cell_type": "code",
   "execution_count": 39,
   "metadata": {},
   "outputs": [],
   "source": [
    "X_train = appended.drop(['diff_in_sec','observed','date'], axis='columns')"
   ]
  },
  {
   "cell_type": "code",
   "execution_count": 41,
   "metadata": {},
   "outputs": [
    {
     "data": {
      "text/plain": [
       "source_id             object\n",
       "date                  object\n",
       "diff_in_sec           object\n",
       "source_csv            object\n",
       "application_id        object\n",
       "attributed            object\n",
       "implicit              object\n",
       "device_brand          object\n",
       "device_model          object\n",
       "session_user_agent    object\n",
       "device_language       object\n",
       "ip_address            object\n",
       "ref_type_id           object\n",
       "ref_hash              object\n",
       "observed              object\n",
       "dtype: object"
      ]
     },
     "execution_count": 41,
     "metadata": {},
     "output_type": "execute_result"
    }
   ],
   "source": [
    "appended.dtypes"
   ]
  },
  {
   "cell_type": "code",
   "execution_count": 40,
   "metadata": {},
   "outputs": [
    {
     "ename": "ValueError",
     "evalue": "setting an array element with a sequence.",
     "output_type": "error",
     "traceback": [
      "\u001b[0;31m---------------------------------------------------------------------------\u001b[0m",
      "\u001b[0;31mValueError\u001b[0m                                Traceback (most recent call last)",
      "\u001b[0;32m<ipython-input-40-7ed0db2933b3>\u001b[0m in \u001b[0;36m<module>\u001b[0;34m\u001b[0m\n\u001b[1;32m      5\u001b[0m \u001b[0mhelper\u001b[0m \u001b[0;34m=\u001b[0m \u001b[0mSurv\u001b[0m\u001b[0;34m(\u001b[0m\u001b[0;34m)\u001b[0m\u001b[0;34m\u001b[0m\u001b[0m\n\u001b[1;32m      6\u001b[0m \u001b[0;34m\u001b[0m\u001b[0m\n\u001b[0;32m----> 7\u001b[0;31m \u001b[0my_train\u001b[0m \u001b[0;34m=\u001b[0m \u001b[0mhelper\u001b[0m\u001b[0;34m.\u001b[0m\u001b[0mfrom_dataframe\u001b[0m\u001b[0;34m(\u001b[0m\u001b[0;34m'observed'\u001b[0m\u001b[0;34m,\u001b[0m\u001b[0;34m'diff_in_sec'\u001b[0m\u001b[0;34m,\u001b[0m \u001b[0mappended\u001b[0m\u001b[0;34m)\u001b[0m\u001b[0;34m\u001b[0m\u001b[0m\n\u001b[0m",
      "\u001b[0;32m~/Documents/Univerza/UBA/7506 Organizacion de Datos/1c2019/tp2/venv/lib/python3.5/site-packages/sksurv/util.py\u001b[0m in \u001b[0;36mfrom_dataframe\u001b[0;34m(event, time, data)\u001b[0m\n\u001b[1;32m     99\u001b[0m             \u001b[0mdata\u001b[0m\u001b[0;34m.\u001b[0m\u001b[0mloc\u001b[0m\u001b[0;34m[\u001b[0m\u001b[0;34m:\u001b[0m\u001b[0;34m,\u001b[0m \u001b[0mtime\u001b[0m\u001b[0;34m]\u001b[0m\u001b[0;34m.\u001b[0m\u001b[0mvalues\u001b[0m\u001b[0;34m,\u001b[0m\u001b[0;34m\u001b[0m\u001b[0m\n\u001b[1;32m    100\u001b[0m             \u001b[0mname_event\u001b[0m\u001b[0;34m=\u001b[0m\u001b[0mstr\u001b[0m\u001b[0;34m(\u001b[0m\u001b[0mevent\u001b[0m\u001b[0;34m)\u001b[0m\u001b[0;34m,\u001b[0m\u001b[0;34m\u001b[0m\u001b[0m\n\u001b[0;32m--> 101\u001b[0;31m             name_time=str(time))\n\u001b[0m\u001b[1;32m    102\u001b[0m \u001b[0;34m\u001b[0m\u001b[0m\n\u001b[1;32m    103\u001b[0m \u001b[0;34m\u001b[0m\u001b[0m\n",
      "\u001b[0;32m~/Documents/Univerza/UBA/7506 Organizacion de Datos/1c2019/tp2/venv/lib/python3.5/site-packages/sksurv/util.py\u001b[0m in \u001b[0;36mfrom_arrays\u001b[0;34m(event, time, name_event, name_time)\u001b[0m\n\u001b[1;32m     50\u001b[0m             \u001b[0;32mraise\u001b[0m \u001b[0mValueError\u001b[0m\u001b[0;34m(\u001b[0m\u001b[0;34m'name_time must be different from name_event'\u001b[0m\u001b[0;34m)\u001b[0m\u001b[0;34m\u001b[0m\u001b[0m\n\u001b[1;32m     51\u001b[0m \u001b[0;34m\u001b[0m\u001b[0m\n\u001b[0;32m---> 52\u001b[0;31m         \u001b[0mtime\u001b[0m \u001b[0;34m=\u001b[0m \u001b[0mnumpy\u001b[0m\u001b[0;34m.\u001b[0m\u001b[0masanyarray\u001b[0m\u001b[0;34m(\u001b[0m\u001b[0mtime\u001b[0m\u001b[0;34m,\u001b[0m \u001b[0mdtype\u001b[0m\u001b[0;34m=\u001b[0m\u001b[0mnumpy\u001b[0m\u001b[0;34m.\u001b[0m\u001b[0mfloat_\u001b[0m\u001b[0;34m)\u001b[0m\u001b[0;34m\u001b[0m\u001b[0m\n\u001b[0m\u001b[1;32m     53\u001b[0m         y = numpy.empty(time.shape[0],\n\u001b[1;32m     54\u001b[0m                         dtype=[(name_event, numpy.bool_), (name_time, numpy.float_)])\n",
      "\u001b[0;32m~/Documents/Univerza/UBA/7506 Organizacion de Datos/1c2019/tp2/venv/lib/python3.5/site-packages/numpy/core/numeric.py\u001b[0m in \u001b[0;36masanyarray\u001b[0;34m(a, dtype, order)\u001b[0m\n\u001b[1;32m    589\u001b[0m \u001b[0;34m\u001b[0m\u001b[0m\n\u001b[1;32m    590\u001b[0m     \"\"\"\n\u001b[0;32m--> 591\u001b[0;31m     \u001b[0;32mreturn\u001b[0m \u001b[0marray\u001b[0m\u001b[0;34m(\u001b[0m\u001b[0ma\u001b[0m\u001b[0;34m,\u001b[0m \u001b[0mdtype\u001b[0m\u001b[0;34m,\u001b[0m \u001b[0mcopy\u001b[0m\u001b[0;34m=\u001b[0m\u001b[0;32mFalse\u001b[0m\u001b[0;34m,\u001b[0m \u001b[0morder\u001b[0m\u001b[0;34m=\u001b[0m\u001b[0morder\u001b[0m\u001b[0;34m,\u001b[0m \u001b[0msubok\u001b[0m\u001b[0;34m=\u001b[0m\u001b[0;32mTrue\u001b[0m\u001b[0;34m)\u001b[0m\u001b[0;34m\u001b[0m\u001b[0m\n\u001b[0m\u001b[1;32m    592\u001b[0m \u001b[0;34m\u001b[0m\u001b[0m\n\u001b[1;32m    593\u001b[0m \u001b[0;34m\u001b[0m\u001b[0m\n",
      "\u001b[0;31mValueError\u001b[0m: setting an array element with a sequence."
     ]
    }
   ],
   "source": [
    "# construct y_train array of tuples as needed.\n",
    "# To understand this, see: https://scikit-survival.readthedocs.io/en/latest/generated/sksurv.util.Surv.html#sksurv.util.Surv.from_dataframe\n",
    "from sksurv.util import Surv\n",
    "\n",
    "helper = Surv()\n",
    "\n",
    "y_train = helper.from_dataframe('observed','diff_in_sec', appended)"
   ]
  },
  {
   "cell_type": "code",
   "execution_count": null,
   "metadata": {},
   "outputs": [],
   "source": [
    "from sksurv.preprocessing import OneHotEncoder\n",
    "\n",
    "X_train_numeric = OneHotEncoder().fit_transform(X_train)\n",
    "X_train_numeric.head()"
   ]
  },
  {
   "cell_type": "code",
   "execution_count": null,
   "metadata": {},
   "outputs": [],
   "source": [
    "from sksurv.linear_model import CoxPHSurvivalAnalysis\n",
    "\n",
    "estimator = CoxPHSurvivalAnalysis(alpha=0.001)\n",
    "estimator.fit(X_train_numeric, y_train)"
   ]
  },
  {
   "cell_type": "code",
   "execution_count": 111,
   "metadata": {},
   "outputs": [],
   "source": [
    "# pd.Series(estimator.coef_, index=X_train_numeric.columns)"
   ]
  },
  {
   "cell_type": "markdown",
   "metadata": {},
   "source": [
    "## Predict zone..."
   ]
  },
  {
   "cell_type": "markdown",
   "metadata": {},
   "source": [
    "### Define current users/days"
   ]
  },
  {
   "cell_type": "code",
   "execution_count": 112,
   "metadata": {},
   "outputs": [],
   "source": [
    "current_users = get_target_ids_chunk(1)\n",
    "current_days = get_n_3_days(7)"
   ]
  },
  {
   "cell_type": "code",
   "execution_count": 113,
   "metadata": {},
   "outputs": [
    {
     "ename": "KeyboardInterrupt",
     "evalue": "",
     "output_type": "error",
     "traceback": [
      "\u001b[0;31m---------------------------------------------------------------------------\u001b[0m",
      "\u001b[0;31mKeyboardInterrupt\u001b[0m                         Traceback (most recent call last)",
      "\u001b[0;32m<ipython-input-113-593ff3567edd>\u001b[0m in \u001b[0;36m<module>\u001b[0;34m\u001b[0m\n\u001b[1;32m      2\u001b[0m \u001b[0mdf_installs\u001b[0m \u001b[0;34m=\u001b[0m \u001b[0mload_installs\u001b[0m\u001b[0;34m(\u001b[0m\u001b[0mcurrent_users\u001b[0m\u001b[0;34m,\u001b[0m \u001b[0mcurrent_days\u001b[0m\u001b[0;34m)\u001b[0m\u001b[0;34m\u001b[0m\u001b[0m\n\u001b[1;32m      3\u001b[0m \u001b[0mdf_events\u001b[0m \u001b[0;34m=\u001b[0m \u001b[0mload_events\u001b[0m\u001b[0;34m(\u001b[0m\u001b[0mcurrent_users\u001b[0m\u001b[0;34m,\u001b[0m \u001b[0mcurrent_days\u001b[0m\u001b[0;34m)\u001b[0m\u001b[0;34m\u001b[0m\u001b[0m\n\u001b[0;32m----> 4\u001b[0;31m \u001b[0mdf_auctions\u001b[0m \u001b[0;34m=\u001b[0m \u001b[0mload_auctions\u001b[0m\u001b[0;34m(\u001b[0m\u001b[0mcurrent_users\u001b[0m\u001b[0;34m,\u001b[0m \u001b[0mcurrent_days\u001b[0m\u001b[0;34m)\u001b[0m\u001b[0;34m\u001b[0m\u001b[0m\n\u001b[0m",
      "\u001b[0;32m<ipython-input-14-962f0491e246>\u001b[0m in \u001b[0;36mload_auctions\u001b[0;34m(users, days)\u001b[0m\n\u001b[1;32m      9\u001b[0m     \u001b[0;32mdef\u001b[0m \u001b[0mload_condition\u001b[0m\u001b[0;34m(\u001b[0m\u001b[0mchunk\u001b[0m\u001b[0;34m)\u001b[0m\u001b[0;34m:\u001b[0m\u001b[0;34m\u001b[0m\u001b[0m\n\u001b[1;32m     10\u001b[0m         \u001b[0;32mreturn\u001b[0m \u001b[0mchunk\u001b[0m\u001b[0;34m[\u001b[0m\u001b[0;34m'device_id'\u001b[0m\u001b[0;34m]\u001b[0m\u001b[0;34m.\u001b[0m\u001b[0misin\u001b[0m\u001b[0;34m(\u001b[0m\u001b[0musers\u001b[0m\u001b[0;34m)\u001b[0m \u001b[0;34m&\u001b[0m \u001b[0mchunk\u001b[0m\u001b[0;34m[\u001b[0m\u001b[0;34m'date'\u001b[0m\u001b[0;34m]\u001b[0m\u001b[0;34m.\u001b[0m\u001b[0mdt\u001b[0m\u001b[0;34m.\u001b[0m\u001b[0mday\u001b[0m\u001b[0;34m.\u001b[0m\u001b[0misin\u001b[0m\u001b[0;34m(\u001b[0m\u001b[0mdays\u001b[0m\u001b[0;34m)\u001b[0m\u001b[0;34m\u001b[0m\u001b[0m\n\u001b[0;32m---> 11\u001b[0;31m     \u001b[0mdf\u001b[0m \u001b[0;34m=\u001b[0m \u001b[0mpd\u001b[0m\u001b[0;34m.\u001b[0m\u001b[0mconcat\u001b[0m\u001b[0;34m(\u001b[0m\u001b[0mchunk\u001b[0m\u001b[0;34m.\u001b[0m\u001b[0mloc\u001b[0m\u001b[0;34m[\u001b[0m\u001b[0mload_condition\u001b[0m\u001b[0;34m(\u001b[0m\u001b[0mchunk\u001b[0m\u001b[0;34m)\u001b[0m\u001b[0;34m]\u001b[0m \u001b[0;32mfor\u001b[0m \u001b[0mchunk\u001b[0m \u001b[0;32min\u001b[0m \u001b[0miter_auctions\u001b[0m\u001b[0;34m)\u001b[0m\u001b[0;34m\u001b[0m\u001b[0m\n\u001b[0m\u001b[1;32m     12\u001b[0m \u001b[0;34m\u001b[0m\u001b[0m\n\u001b[1;32m     13\u001b[0m     \u001b[0mdf\u001b[0m\u001b[0;34m.\u001b[0m\u001b[0mrename\u001b[0m\u001b[0;34m(\u001b[0m\u001b[0mcolumns\u001b[0m\u001b[0;34m=\u001b[0m\u001b[0;34m{\u001b[0m\u001b[0;34m'device_id'\u001b[0m\u001b[0;34m:\u001b[0m\u001b[0;34m'ref_hash'\u001b[0m\u001b[0;34m}\u001b[0m\u001b[0;34m,\u001b[0m \u001b[0minplace\u001b[0m\u001b[0;34m=\u001b[0m\u001b[0;32mTrue\u001b[0m\u001b[0;34m)\u001b[0m\u001b[0;34m\u001b[0m\u001b[0m\n",
      "\u001b[0;32m~/Documents/Univerza/UBA/7506 Organizacion de Datos/1c2019/tp2/venv/lib/python3.5/site-packages/pandas/core/reshape/concat.py\u001b[0m in \u001b[0;36mconcat\u001b[0;34m(objs, axis, join, join_axes, ignore_index, keys, levels, names, verify_integrity, sort, copy)\u001b[0m\n\u001b[1;32m    223\u001b[0m                        \u001b[0mkeys\u001b[0m\u001b[0;34m=\u001b[0m\u001b[0mkeys\u001b[0m\u001b[0;34m,\u001b[0m \u001b[0mlevels\u001b[0m\u001b[0;34m=\u001b[0m\u001b[0mlevels\u001b[0m\u001b[0;34m,\u001b[0m \u001b[0mnames\u001b[0m\u001b[0;34m=\u001b[0m\u001b[0mnames\u001b[0m\u001b[0;34m,\u001b[0m\u001b[0;34m\u001b[0m\u001b[0m\n\u001b[1;32m    224\u001b[0m                        \u001b[0mverify_integrity\u001b[0m\u001b[0;34m=\u001b[0m\u001b[0mverify_integrity\u001b[0m\u001b[0;34m,\u001b[0m\u001b[0;34m\u001b[0m\u001b[0m\n\u001b[0;32m--> 225\u001b[0;31m                        copy=copy, sort=sort)\n\u001b[0m\u001b[1;32m    226\u001b[0m     \u001b[0;32mreturn\u001b[0m \u001b[0mop\u001b[0m\u001b[0;34m.\u001b[0m\u001b[0mget_result\u001b[0m\u001b[0;34m(\u001b[0m\u001b[0;34m)\u001b[0m\u001b[0;34m\u001b[0m\u001b[0m\n\u001b[1;32m    227\u001b[0m \u001b[0;34m\u001b[0m\u001b[0m\n",
      "\u001b[0;32m~/Documents/Univerza/UBA/7506 Organizacion de Datos/1c2019/tp2/venv/lib/python3.5/site-packages/pandas/core/reshape/concat.py\u001b[0m in \u001b[0;36m__init__\u001b[0;34m(self, objs, axis, join, join_axes, keys, levels, names, ignore_index, verify_integrity, copy, sort)\u001b[0m\n\u001b[1;32m    254\u001b[0m             \u001b[0mobjs\u001b[0m \u001b[0;34m=\u001b[0m \u001b[0;34m[\u001b[0m\u001b[0mobjs\u001b[0m\u001b[0;34m[\u001b[0m\u001b[0mk\u001b[0m\u001b[0;34m]\u001b[0m \u001b[0;32mfor\u001b[0m \u001b[0mk\u001b[0m \u001b[0;32min\u001b[0m \u001b[0mkeys\u001b[0m\u001b[0;34m]\u001b[0m\u001b[0;34m\u001b[0m\u001b[0m\n\u001b[1;32m    255\u001b[0m         \u001b[0;32melse\u001b[0m\u001b[0;34m:\u001b[0m\u001b[0;34m\u001b[0m\u001b[0m\n\u001b[0;32m--> 256\u001b[0;31m             \u001b[0mobjs\u001b[0m \u001b[0;34m=\u001b[0m \u001b[0mlist\u001b[0m\u001b[0;34m(\u001b[0m\u001b[0mobjs\u001b[0m\u001b[0;34m)\u001b[0m\u001b[0;34m\u001b[0m\u001b[0m\n\u001b[0m\u001b[1;32m    257\u001b[0m \u001b[0;34m\u001b[0m\u001b[0m\n\u001b[1;32m    258\u001b[0m         \u001b[0;32mif\u001b[0m \u001b[0mlen\u001b[0m\u001b[0;34m(\u001b[0m\u001b[0mobjs\u001b[0m\u001b[0;34m)\u001b[0m \u001b[0;34m==\u001b[0m \u001b[0;36m0\u001b[0m\u001b[0;34m:\u001b[0m\u001b[0;34m\u001b[0m\u001b[0m\n",
      "\u001b[0;32m<ipython-input-14-962f0491e246>\u001b[0m in \u001b[0;36m<genexpr>\u001b[0;34m(.0)\u001b[0m\n\u001b[1;32m      9\u001b[0m     \u001b[0;32mdef\u001b[0m \u001b[0mload_condition\u001b[0m\u001b[0;34m(\u001b[0m\u001b[0mchunk\u001b[0m\u001b[0;34m)\u001b[0m\u001b[0;34m:\u001b[0m\u001b[0;34m\u001b[0m\u001b[0m\n\u001b[1;32m     10\u001b[0m         \u001b[0;32mreturn\u001b[0m \u001b[0mchunk\u001b[0m\u001b[0;34m[\u001b[0m\u001b[0;34m'device_id'\u001b[0m\u001b[0;34m]\u001b[0m\u001b[0;34m.\u001b[0m\u001b[0misin\u001b[0m\u001b[0;34m(\u001b[0m\u001b[0musers\u001b[0m\u001b[0;34m)\u001b[0m \u001b[0;34m&\u001b[0m \u001b[0mchunk\u001b[0m\u001b[0;34m[\u001b[0m\u001b[0;34m'date'\u001b[0m\u001b[0;34m]\u001b[0m\u001b[0;34m.\u001b[0m\u001b[0mdt\u001b[0m\u001b[0;34m.\u001b[0m\u001b[0mday\u001b[0m\u001b[0;34m.\u001b[0m\u001b[0misin\u001b[0m\u001b[0;34m(\u001b[0m\u001b[0mdays\u001b[0m\u001b[0;34m)\u001b[0m\u001b[0;34m\u001b[0m\u001b[0m\n\u001b[0;32m---> 11\u001b[0;31m     \u001b[0mdf\u001b[0m \u001b[0;34m=\u001b[0m \u001b[0mpd\u001b[0m\u001b[0;34m.\u001b[0m\u001b[0mconcat\u001b[0m\u001b[0;34m(\u001b[0m\u001b[0mchunk\u001b[0m\u001b[0;34m.\u001b[0m\u001b[0mloc\u001b[0m\u001b[0;34m[\u001b[0m\u001b[0mload_condition\u001b[0m\u001b[0;34m(\u001b[0m\u001b[0mchunk\u001b[0m\u001b[0;34m)\u001b[0m\u001b[0;34m]\u001b[0m \u001b[0;32mfor\u001b[0m \u001b[0mchunk\u001b[0m \u001b[0;32min\u001b[0m \u001b[0miter_auctions\u001b[0m\u001b[0;34m)\u001b[0m\u001b[0;34m\u001b[0m\u001b[0m\n\u001b[0m\u001b[1;32m     12\u001b[0m \u001b[0;34m\u001b[0m\u001b[0m\n\u001b[1;32m     13\u001b[0m     \u001b[0mdf\u001b[0m\u001b[0;34m.\u001b[0m\u001b[0mrename\u001b[0m\u001b[0;34m(\u001b[0m\u001b[0mcolumns\u001b[0m\u001b[0;34m=\u001b[0m\u001b[0;34m{\u001b[0m\u001b[0;34m'device_id'\u001b[0m\u001b[0;34m:\u001b[0m\u001b[0;34m'ref_hash'\u001b[0m\u001b[0;34m}\u001b[0m\u001b[0;34m,\u001b[0m \u001b[0minplace\u001b[0m\u001b[0;34m=\u001b[0m\u001b[0;32mTrue\u001b[0m\u001b[0;34m)\u001b[0m\u001b[0;34m\u001b[0m\u001b[0m\n",
      "\u001b[0;32m~/Documents/Univerza/UBA/7506 Organizacion de Datos/1c2019/tp2/venv/lib/python3.5/site-packages/pandas/io/parsers.py\u001b[0m in \u001b[0;36m__next__\u001b[0;34m(self)\u001b[0m\n\u001b[1;32m   1005\u001b[0m     \u001b[0;32mdef\u001b[0m \u001b[0m__next__\u001b[0m\u001b[0;34m(\u001b[0m\u001b[0mself\u001b[0m\u001b[0;34m)\u001b[0m\u001b[0;34m:\u001b[0m\u001b[0;34m\u001b[0m\u001b[0m\n\u001b[1;32m   1006\u001b[0m         \u001b[0;32mtry\u001b[0m\u001b[0;34m:\u001b[0m\u001b[0;34m\u001b[0m\u001b[0m\n\u001b[0;32m-> 1007\u001b[0;31m             \u001b[0;32mreturn\u001b[0m \u001b[0mself\u001b[0m\u001b[0;34m.\u001b[0m\u001b[0mget_chunk\u001b[0m\u001b[0;34m(\u001b[0m\u001b[0;34m)\u001b[0m\u001b[0;34m\u001b[0m\u001b[0m\n\u001b[0m\u001b[1;32m   1008\u001b[0m         \u001b[0;32mexcept\u001b[0m \u001b[0mStopIteration\u001b[0m\u001b[0;34m:\u001b[0m\u001b[0;34m\u001b[0m\u001b[0m\n\u001b[1;32m   1009\u001b[0m             \u001b[0mself\u001b[0m\u001b[0;34m.\u001b[0m\u001b[0mclose\u001b[0m\u001b[0;34m(\u001b[0m\u001b[0;34m)\u001b[0m\u001b[0;34m\u001b[0m\u001b[0m\n",
      "\u001b[0;32m~/Documents/Univerza/UBA/7506 Organizacion de Datos/1c2019/tp2/venv/lib/python3.5/site-packages/pandas/io/parsers.py\u001b[0m in \u001b[0;36mget_chunk\u001b[0;34m(self, size)\u001b[0m\n\u001b[1;32m   1068\u001b[0m                 \u001b[0;32mraise\u001b[0m \u001b[0mStopIteration\u001b[0m\u001b[0;34m\u001b[0m\u001b[0m\n\u001b[1;32m   1069\u001b[0m             \u001b[0msize\u001b[0m \u001b[0;34m=\u001b[0m \u001b[0mmin\u001b[0m\u001b[0;34m(\u001b[0m\u001b[0msize\u001b[0m\u001b[0;34m,\u001b[0m \u001b[0mself\u001b[0m\u001b[0;34m.\u001b[0m\u001b[0mnrows\u001b[0m \u001b[0;34m-\u001b[0m \u001b[0mself\u001b[0m\u001b[0;34m.\u001b[0m\u001b[0m_currow\u001b[0m\u001b[0;34m)\u001b[0m\u001b[0;34m\u001b[0m\u001b[0m\n\u001b[0;32m-> 1070\u001b[0;31m         \u001b[0;32mreturn\u001b[0m \u001b[0mself\u001b[0m\u001b[0;34m.\u001b[0m\u001b[0mread\u001b[0m\u001b[0;34m(\u001b[0m\u001b[0mnrows\u001b[0m\u001b[0;34m=\u001b[0m\u001b[0msize\u001b[0m\u001b[0;34m)\u001b[0m\u001b[0;34m\u001b[0m\u001b[0m\n\u001b[0m\u001b[1;32m   1071\u001b[0m \u001b[0;34m\u001b[0m\u001b[0m\n\u001b[1;32m   1072\u001b[0m \u001b[0;34m\u001b[0m\u001b[0m\n",
      "\u001b[0;32m~/Documents/Univerza/UBA/7506 Organizacion de Datos/1c2019/tp2/venv/lib/python3.5/site-packages/pandas/io/parsers.py\u001b[0m in \u001b[0;36mread\u001b[0;34m(self, nrows)\u001b[0m\n\u001b[1;32m   1034\u001b[0m                 \u001b[0;32mraise\u001b[0m \u001b[0mValueError\u001b[0m\u001b[0;34m(\u001b[0m\u001b[0;34m'skipfooter not supported for iteration'\u001b[0m\u001b[0;34m)\u001b[0m\u001b[0;34m\u001b[0m\u001b[0m\n\u001b[1;32m   1035\u001b[0m \u001b[0;34m\u001b[0m\u001b[0m\n\u001b[0;32m-> 1036\u001b[0;31m         \u001b[0mret\u001b[0m \u001b[0;34m=\u001b[0m \u001b[0mself\u001b[0m\u001b[0;34m.\u001b[0m\u001b[0m_engine\u001b[0m\u001b[0;34m.\u001b[0m\u001b[0mread\u001b[0m\u001b[0;34m(\u001b[0m\u001b[0mnrows\u001b[0m\u001b[0;34m)\u001b[0m\u001b[0;34m\u001b[0m\u001b[0m\n\u001b[0m\u001b[1;32m   1037\u001b[0m \u001b[0;34m\u001b[0m\u001b[0m\n\u001b[1;32m   1038\u001b[0m         \u001b[0;31m# May alter columns / col_dict\u001b[0m\u001b[0;34m\u001b[0m\u001b[0;34m\u001b[0m\u001b[0m\n",
      "\u001b[0;32m~/Documents/Univerza/UBA/7506 Organizacion de Datos/1c2019/tp2/venv/lib/python3.5/site-packages/pandas/io/parsers.py\u001b[0m in \u001b[0;36mread\u001b[0;34m(self, nrows)\u001b[0m\n\u001b[1;32m   1919\u001b[0m             \u001b[0mdata\u001b[0m \u001b[0;34m=\u001b[0m \u001b[0;34m{\u001b[0m\u001b[0mk\u001b[0m\u001b[0;34m:\u001b[0m \u001b[0mv\u001b[0m \u001b[0;32mfor\u001b[0m \u001b[0mk\u001b[0m\u001b[0;34m,\u001b[0m \u001b[0;34m(\u001b[0m\u001b[0mi\u001b[0m\u001b[0;34m,\u001b[0m \u001b[0mv\u001b[0m\u001b[0;34m)\u001b[0m \u001b[0;32min\u001b[0m \u001b[0mzip\u001b[0m\u001b[0;34m(\u001b[0m\u001b[0mnames\u001b[0m\u001b[0;34m,\u001b[0m \u001b[0mdata\u001b[0m\u001b[0;34m)\u001b[0m\u001b[0;34m}\u001b[0m\u001b[0;34m\u001b[0m\u001b[0m\n\u001b[1;32m   1920\u001b[0m \u001b[0;34m\u001b[0m\u001b[0m\n\u001b[0;32m-> 1921\u001b[0;31m             \u001b[0mnames\u001b[0m\u001b[0;34m,\u001b[0m \u001b[0mdata\u001b[0m \u001b[0;34m=\u001b[0m \u001b[0mself\u001b[0m\u001b[0;34m.\u001b[0m\u001b[0m_do_date_conversions\u001b[0m\u001b[0;34m(\u001b[0m\u001b[0mnames\u001b[0m\u001b[0;34m,\u001b[0m \u001b[0mdata\u001b[0m\u001b[0;34m)\u001b[0m\u001b[0;34m\u001b[0m\u001b[0m\n\u001b[0m\u001b[1;32m   1922\u001b[0m             \u001b[0mindex\u001b[0m\u001b[0;34m,\u001b[0m \u001b[0mnames\u001b[0m \u001b[0;34m=\u001b[0m \u001b[0mself\u001b[0m\u001b[0;34m.\u001b[0m\u001b[0m_make_index\u001b[0m\u001b[0;34m(\u001b[0m\u001b[0mdata\u001b[0m\u001b[0;34m,\u001b[0m \u001b[0malldata\u001b[0m\u001b[0;34m,\u001b[0m \u001b[0mnames\u001b[0m\u001b[0;34m)\u001b[0m\u001b[0;34m\u001b[0m\u001b[0m\n\u001b[1;32m   1923\u001b[0m \u001b[0;34m\u001b[0m\u001b[0m\n",
      "\u001b[0;32m~/Documents/Univerza/UBA/7506 Organizacion de Datos/1c2019/tp2/venv/lib/python3.5/site-packages/pandas/io/parsers.py\u001b[0m in \u001b[0;36m_do_date_conversions\u001b[0;34m(self, names, data)\u001b[0m\n\u001b[1;32m   1673\u001b[0m             data, names = _process_date_conversion(\n\u001b[1;32m   1674\u001b[0m                 \u001b[0mdata\u001b[0m\u001b[0;34m,\u001b[0m \u001b[0mself\u001b[0m\u001b[0;34m.\u001b[0m\u001b[0m_date_conv\u001b[0m\u001b[0;34m,\u001b[0m \u001b[0mself\u001b[0m\u001b[0;34m.\u001b[0m\u001b[0mparse_dates\u001b[0m\u001b[0;34m,\u001b[0m \u001b[0mself\u001b[0m\u001b[0;34m.\u001b[0m\u001b[0mindex_col\u001b[0m\u001b[0;34m,\u001b[0m\u001b[0;34m\u001b[0m\u001b[0m\n\u001b[0;32m-> 1675\u001b[0;31m                 self.index_names, names, keep_date_col=self.keep_date_col)\n\u001b[0m\u001b[1;32m   1676\u001b[0m \u001b[0;34m\u001b[0m\u001b[0m\n\u001b[1;32m   1677\u001b[0m         \u001b[0;32mreturn\u001b[0m \u001b[0mnames\u001b[0m\u001b[0;34m,\u001b[0m \u001b[0mdata\u001b[0m\u001b[0;34m\u001b[0m\u001b[0m\n",
      "\u001b[0;32m~/Documents/Univerza/UBA/7506 Organizacion de Datos/1c2019/tp2/venv/lib/python3.5/site-packages/pandas/io/parsers.py\u001b[0m in \u001b[0;36m_process_date_conversion\u001b[0;34m(data_dict, converter, parse_spec, index_col, index_names, columns, keep_date_col)\u001b[0m\n\u001b[1;32m   3064\u001b[0m                 \u001b[0;32mif\u001b[0m \u001b[0m_isindex\u001b[0m\u001b[0;34m(\u001b[0m\u001b[0mcolspec\u001b[0m\u001b[0;34m)\u001b[0m\u001b[0;34m:\u001b[0m\u001b[0;34m\u001b[0m\u001b[0m\n\u001b[1;32m   3065\u001b[0m                     \u001b[0;32mcontinue\u001b[0m\u001b[0;34m\u001b[0m\u001b[0m\n\u001b[0;32m-> 3066\u001b[0;31m                 \u001b[0mdata_dict\u001b[0m\u001b[0;34m[\u001b[0m\u001b[0mcolspec\u001b[0m\u001b[0;34m]\u001b[0m \u001b[0;34m=\u001b[0m \u001b[0mconverter\u001b[0m\u001b[0;34m(\u001b[0m\u001b[0mdata_dict\u001b[0m\u001b[0;34m[\u001b[0m\u001b[0mcolspec\u001b[0m\u001b[0;34m]\u001b[0m\u001b[0;34m)\u001b[0m\u001b[0;34m\u001b[0m\u001b[0m\n\u001b[0m\u001b[1;32m   3067\u001b[0m             \u001b[0;32melse\u001b[0m\u001b[0;34m:\u001b[0m\u001b[0;34m\u001b[0m\u001b[0m\n\u001b[1;32m   3068\u001b[0m                 new_name, col, old_names = _try_convert_dates(\n",
      "\u001b[0;32m~/Documents/Univerza/UBA/7506 Organizacion de Datos/1c2019/tp2/venv/lib/python3.5/site-packages/pandas/io/parsers.py\u001b[0m in \u001b[0;36mconverter\u001b[0;34m(*date_cols)\u001b[0m\n\u001b[1;32m   3002\u001b[0m     \u001b[0;32mdef\u001b[0m \u001b[0mconverter\u001b[0m\u001b[0;34m(\u001b[0m\u001b[0;34m*\u001b[0m\u001b[0mdate_cols\u001b[0m\u001b[0;34m)\u001b[0m\u001b[0;34m:\u001b[0m\u001b[0;34m\u001b[0m\u001b[0m\n\u001b[1;32m   3003\u001b[0m         \u001b[0;32mif\u001b[0m \u001b[0mdate_parser\u001b[0m \u001b[0;32mis\u001b[0m \u001b[0;32mNone\u001b[0m\u001b[0;34m:\u001b[0m\u001b[0;34m\u001b[0m\u001b[0m\n\u001b[0;32m-> 3004\u001b[0;31m             \u001b[0mstrs\u001b[0m \u001b[0;34m=\u001b[0m \u001b[0m_concat_date_cols\u001b[0m\u001b[0;34m(\u001b[0m\u001b[0mdate_cols\u001b[0m\u001b[0;34m)\u001b[0m\u001b[0;34m\u001b[0m\u001b[0m\n\u001b[0m\u001b[1;32m   3005\u001b[0m \u001b[0;34m\u001b[0m\u001b[0m\n\u001b[1;32m   3006\u001b[0m             \u001b[0;32mtry\u001b[0m\u001b[0;34m:\u001b[0m\u001b[0;34m\u001b[0m\u001b[0m\n",
      "\u001b[0;32m~/Documents/Univerza/UBA/7506 Organizacion de Datos/1c2019/tp2/venv/lib/python3.5/site-packages/pandas/io/parsers.py\u001b[0m in \u001b[0;36m_concat_date_cols\u001b[0;34m(date_cols)\u001b[0m\n\u001b[1;32m   3323\u001b[0m     \u001b[0;32mif\u001b[0m \u001b[0mlen\u001b[0m\u001b[0;34m(\u001b[0m\u001b[0mdate_cols\u001b[0m\u001b[0;34m)\u001b[0m \u001b[0;34m==\u001b[0m \u001b[0;36m1\u001b[0m\u001b[0;34m:\u001b[0m\u001b[0;34m\u001b[0m\u001b[0m\n\u001b[1;32m   3324\u001b[0m         \u001b[0;32mif\u001b[0m \u001b[0mcompat\u001b[0m\u001b[0;34m.\u001b[0m\u001b[0mPY3\u001b[0m\u001b[0;34m:\u001b[0m\u001b[0;34m\u001b[0m\u001b[0m\n\u001b[0;32m-> 3325\u001b[0;31m             return np.array([compat.text_type(x) for x in date_cols[0]],\n\u001b[0m\u001b[1;32m   3326\u001b[0m                             dtype=object)\n\u001b[1;32m   3327\u001b[0m         \u001b[0;32melse\u001b[0m\u001b[0;34m:\u001b[0m\u001b[0;34m\u001b[0m\u001b[0m\n",
      "\u001b[0;32m~/Documents/Univerza/UBA/7506 Organizacion de Datos/1c2019/tp2/venv/lib/python3.5/site-packages/pandas/io/parsers.py\u001b[0m in \u001b[0;36m<listcomp>\u001b[0;34m(.0)\u001b[0m\n\u001b[1;32m   3323\u001b[0m     \u001b[0;32mif\u001b[0m \u001b[0mlen\u001b[0m\u001b[0;34m(\u001b[0m\u001b[0mdate_cols\u001b[0m\u001b[0;34m)\u001b[0m \u001b[0;34m==\u001b[0m \u001b[0;36m1\u001b[0m\u001b[0;34m:\u001b[0m\u001b[0;34m\u001b[0m\u001b[0m\n\u001b[1;32m   3324\u001b[0m         \u001b[0;32mif\u001b[0m \u001b[0mcompat\u001b[0m\u001b[0;34m.\u001b[0m\u001b[0mPY3\u001b[0m\u001b[0;34m:\u001b[0m\u001b[0;34m\u001b[0m\u001b[0m\n\u001b[0;32m-> 3325\u001b[0;31m             return np.array([compat.text_type(x) for x in date_cols[0]],\n\u001b[0m\u001b[1;32m   3326\u001b[0m                             dtype=object)\n\u001b[1;32m   3327\u001b[0m         \u001b[0;32melse\u001b[0m\u001b[0;34m:\u001b[0m\u001b[0;34m\u001b[0m\u001b[0m\n",
      "\u001b[0;31mKeyboardInterrupt\u001b[0m: "
     ]
    }
   ],
   "source": [
    "df_clicks = load_clicks(current_users, current_days)\n",
    "df_installs = load_installs(current_users, current_days)\n",
    "df_events = load_events(current_users, current_days)\n",
    "df_auctions = load_auctions(current_users, current_days)"
   ]
  },
  {
   "cell_type": "code",
   "execution_count": null,
   "metadata": {},
   "outputs": [],
   "source": [
    "print(df_clicks.memory_usage(deep=True).sum()/1e6)\n",
    "print(df_installs.memory_usage(deep=True).sum()/1e6)\n",
    "print(df_events.memory_usage(deep=True).sum()/1e6)\n",
    "print(df_auctions.memory_usage(deep=True).sum()/1e6)"
   ]
  },
  {
   "cell_type": "markdown",
   "metadata": {},
   "source": [
    "### Calculate time diffs per ref hash"
   ]
  },
  {
   "cell_type": "code",
   "execution_count": null,
   "metadata": {},
   "outputs": [],
   "source": [
    "df_clicks = process_time_diffs(df_clicks)\n",
    "df_installs = process_time_diffs(df_installs)\n",
    "df_events = process_time_diffs(df_events)\n",
    "df_auctions = process_time_diffs(df_auctions)"
   ]
  },
  {
   "cell_type": "markdown",
   "metadata": {},
   "source": [
    "### Append 'em!"
   ]
  },
  {
   "cell_type": "code",
   "execution_count": null,
   "metadata": {},
   "outputs": [],
   "source": [
    "set_source_col(df_clicks, \"clicks\")\n",
    "set_source_col(df_installs, \"installs\")\n",
    "set_source_col(df_events, \"events\")\n",
    "set_source_col(df_auctions, \"auctions\")"
   ]
  },
  {
   "cell_type": "code",
   "execution_count": null,
   "metadata": {},
   "outputs": [],
   "source": [
    "appended = df_clicks.append(df_installs, sort=False).append(df_events, sort=False).append(df_auctions, sort=False)"
   ]
  },
  {
   "cell_type": "code",
   "execution_count": null,
   "metadata": {},
   "outputs": [],
   "source": [
    "appended = fill_all_nans(appended)"
   ]
  },
  {
   "cell_type": "code",
   "execution_count": null,
   "metadata": {},
   "outputs": [],
   "source": [
    "appended = set_observed_column(appended, \"auctions\")"
   ]
  },
  {
   "cell_type": "code",
   "execution_count": null,
   "metadata": {},
   "outputs": [],
   "source": [
    "appended.shape"
   ]
  },
  {
   "cell_type": "code",
   "execution_count": null,
   "metadata": {},
   "outputs": [],
   "source": [
    "appended.head()"
   ]
  },
  {
   "cell_type": "markdown",
   "metadata": {
    "toc-hr-collapsed": false
   },
   "source": [
    "## End of Approach 3"
   ]
  }
 ],
 "metadata": {
  "kernelspec": {
   "display_name": "Python 3",
   "language": "python",
   "name": "python3"
  },
  "language_info": {
   "codemirror_mode": {
    "name": "ipython",
    "version": 3
   },
   "file_extension": ".py",
   "mimetype": "text/x-python",
   "name": "python",
   "nbconvert_exporter": "python",
   "pygments_lexer": "ipython3",
   "version": "3.5.2"
  }
 },
 "nbformat": 4,
 "nbformat_minor": 2
}
