{
 "cells": [
  {
   "cell_type": "markdown",
   "metadata": {},
   "source": [
    "# Introduction"
   ]
  },
  {
   "cell_type": "markdown",
   "metadata": {},
   "source": [
    "## Imports"
   ]
  },
  {
   "cell_type": "code",
   "execution_count": 1,
   "metadata": {},
   "outputs": [],
   "source": [
    "import pandas as pd\n",
    "\n",
    "import numpy as np\n",
    "\n",
    "import os"
   ]
  },
  {
   "cell_type": "markdown",
   "metadata": {},
   "source": [
    "## Data info"
   ]
  },
  {
   "cell_type": "code",
   "execution_count": 2,
   "metadata": {},
   "outputs": [
    {
     "name": "stdout",
     "output_type": "stream",
     "text": [
      "auctions.csv\t\t\t\t\t\t2412.11824\n",
      ".ipynb_checkpoints\t\t\t\t\t\t0.004096\n",
      "installs.csv\t\t\t\t\t\t123.502317\n",
      "desc.json\t\t\t\t\t\t0.009146\n",
      "Recomendaciones y aclaraciones.docx\t\t\t\t\t\t0.006909\n",
      "clicks.csv\t\t\t\t\t\t16.147446\n",
      "events.csv\t\t\t\t\t\t2252.988966\n",
      "target_final_competencia_revamped.csv\t\t\t\t\t\t0.147415\n"
     ]
    }
   ],
   "source": [
    "for file in os.listdir('../data/'):\n",
    "    print(file + '\\t\\t\\t\\t\\t\\t' + str(os.stat(\"../data/\" + file).st_size/1000000))"
   ]
  },
  {
   "cell_type": "code",
   "execution_count": 3,
   "metadata": {},
   "outputs": [],
   "source": [
    "import time\n",
    "def get_filename(my_name):\n",
    "    return time.strftime(\"%Y.%m.%d - %H:%M:%S by \") + my_name"
   ]
  },
  {
   "cell_type": "code",
   "execution_count": 13,
   "metadata": {},
   "outputs": [],
   "source": [
    "# play a sound when whole notebook finished executing\n",
    "import os\n",
    "def ring(duration = 1, freq = 1500):\n",
    "    \"\"\" play tone of duration in seconds and freq in Hz. \"\"\"\n",
    "    os.system('play --no-show-progress --null --channels 1 synth %s sine %f' % (duration, freq))"
   ]
  },
  {
   "cell_type": "markdown",
   "metadata": {
    "toc-hr-collapsed": false
   },
   "source": [
    "# Df loading"
   ]
  },
  {
   "cell_type": "markdown",
   "metadata": {
    "toc-hr-collapsed": false
   },
   "source": [
    "## Clicks"
   ]
  },
  {
   "cell_type": "code",
   "execution_count": 4,
   "metadata": {},
   "outputs": [],
   "source": [
    "clicks_dtypes = {'advertiser_id':'category',\n",
    "                 'action_id':'category',\n",
    "                 'source_id':'category',\n",
    "                 'country_code':'category',\n",
    "                 'latitude':'float64',\n",
    "                 'longitude':'float64',\n",
    "                 'wifi_connection':'bool',\n",
    "                 'carrier_id':'category',\n",
    "                 'trans_id':'category',\n",
    "                 'os_minor':'category',\n",
    "                 'agent_device':'category',\n",
    "                 'os_major':'category',\n",
    "                 'specs_brand':'category',\n",
    "                 'brand':'category',\n",
    "                 'timeToClick':'float64',\n",
    "                 'touchX':'object',\n",
    "                 'touchY':'object',\n",
    "                 'ref_type':'category',\n",
    "                 'ref_hash':'category'}"
   ]
  },
  {
   "cell_type": "markdown",
   "metadata": {},
   "source": [
    "El siguiente codigo carga el csv entero. Se reemplaza por las celdas que le siguen que arman un df por dia.\n",
    "```python\n",
    "df_clicks = pd.read_csv('../data/clicks.csv.gzip', compression='gzip', engine='c', dtype=clicks_dtypes, parse_dates=['created'])\n",
    "\n",
    "# Eliminar valor \"Infinity\" de touchX y touchY, y dejar datos como floats.\n",
    "df_clicks.loc[df_clicks['touchX'] == 'Infinity', 'touchX'] = np.inf\n",
    "\n",
    "df_clicks.loc[df_clicks['touchY'] == 'Infinity', 'touchY'] = np.inf\n",
    "\n",
    "df_clicks['touchX'] = df_clicks['touchX'].astype('float32')\n",
    "\n",
    "df_clicks['touchY'] = df_clicks['touchY'].astype('float32')\n",
    "```"
   ]
  },
  {
   "cell_type": "markdown",
   "metadata": {},
   "source": [
    "### Carga df por dia"
   ]
  },
  {
   "cell_type": "code",
   "execution_count": 5,
   "metadata": {},
   "outputs": [],
   "source": [
    "iter_clicks = pd.read_csv('../data/clicks.csv', engine='c', dtype=clicks_dtypes, parse_dates=['created'], chunksize=10000)\n",
    "df_clicks_day_18 = pd.concat(chunk.loc[chunk['created'].dt.day == 18] for chunk in iter_clicks)\n",
    "\n",
    "# Eliminar valor \"Infinity\" de touchX y touchY, y dejar datos como floats.\n",
    "df_clicks_day_18.loc[df_clicks_day_18['touchX'] == 'Infinity', 'touchX'] = np.inf\n",
    "\n",
    "df_clicks_day_18.loc[df_clicks_day_18['touchY'] == 'Infinity', 'touchY'] = np.inf\n",
    "\n",
    "df_clicks_day_18['touchX'] = df_clicks_day_18['touchX'].astype('float32')\n",
    "\n",
    "df_clicks_day_18['touchY'] = df_clicks_day_18['touchY'].astype('float32')"
   ]
  },
  {
   "cell_type": "code",
   "execution_count": 14,
   "metadata": {},
   "outputs": [],
   "source": [
    "iter_clicks = pd.read_csv('../data/clicks.csv', engine='c', dtype=clicks_dtypes, parse_dates=['created'], chunksize=10000)\n",
    "df_clicks_day_19 = pd.concat(chunk.loc[chunk['created'].dt.day == 19] for chunk in iter_clicks)\n",
    "\n",
    "# Eliminar valor \"Infinity\" de touchX y touchY, y dejar datos como floats.\n",
    "df_clicks_day_19.loc[df_clicks_day_19['touchX'] == 'Infinity', 'touchX'] = np.inf\n",
    "\n",
    "df_clicks_day_19.loc[df_clicks_day_19['touchY'] == 'Infinity', 'touchY'] = np.inf\n",
    "\n",
    "df_clicks_day_19['touchX'] = df_clicks_day_19['touchX'].astype('float32')\n",
    "\n",
    "df_clicks_day_19['touchY'] = df_clicks_day_19['touchY'].astype('float32')"
   ]
  },
  {
   "cell_type": "code",
   "execution_count": 16,
   "metadata": {},
   "outputs": [],
   "source": [
    "iter_clicks = pd.read_csv('../data/clicks.csv', engine='c', dtype=clicks_dtypes, parse_dates=['created'], chunksize=10000)\n",
    "df_clicks_day_20 = pd.concat(chunk.loc[chunk['created'].dt.day == 20] for chunk in iter_clicks)\n",
    "\n",
    "# Eliminar valor \"Infinity\" de touchX y touchY, y dejar datos como floats.\n",
    "df_clicks_day_20.loc[df_clicks_day_20['touchX'] == 'Infinity', 'touchX'] = np.inf\n",
    "\n",
    "df_clicks_day_20.loc[df_clicks_day_20['touchY'] == 'Infinity', 'touchY'] = np.inf\n",
    "\n",
    "df_clicks_day_20['touchX'] = df_clicks_day_20['touchX'].astype('float32')\n",
    "\n",
    "df_clicks_day_20['touchY'] = df_clicks_day_20['touchY'].astype('float32')"
   ]
  },
  {
   "cell_type": "code",
   "execution_count": 18,
   "metadata": {},
   "outputs": [],
   "source": [
    "iter_clicks = pd.read_csv('../data/clicks.csv', engine='c', dtype=clicks_dtypes, parse_dates=['created'], chunksize=10000)\n",
    "df_clicks_day_21 = pd.concat(chunk.loc[chunk['created'].dt.day == 21] for chunk in iter_clicks)\n",
    "\n",
    "# Eliminar valor \"Infinity\" de touchX y touchY, y dejar datos como floats.\n",
    "df_clicks_day_21.loc[df_clicks_day_21['touchX'] == 'Infinity', 'touchX'] = np.inf\n",
    "\n",
    "df_clicks_day_21.loc[df_clicks_day_21['touchY'] == 'Infinity', 'touchY'] = np.inf\n",
    "\n",
    "df_clicks_day_21['touchX'] = df_clicks_day_21['touchX'].astype('float32')\n",
    "\n",
    "df_clicks_day_21['touchY'] = df_clicks_day_21['touchY'].astype('float32')"
   ]
  },
  {
   "cell_type": "code",
   "execution_count": 20,
   "metadata": {},
   "outputs": [],
   "source": [
    "iter_clicks = pd.read_csv('../data/clicks.csv', engine='c', dtype=clicks_dtypes, parse_dates=['created'], chunksize=10000)\n",
    "df_clicks_day_22 = pd.concat(chunk.loc[chunk['created'].dt.day == 22] for chunk in iter_clicks)\n",
    "\n",
    "# Eliminar valor \"Infinity\" de touchX y touchY, y dejar datos como floats.\n",
    "df_clicks_day_22.loc[df_clicks_day_22['touchX'] == 'Infinity', 'touchX'] = np.inf\n",
    "\n",
    "df_clicks_day_22.loc[df_clicks_day_22['touchY'] == 'Infinity', 'touchY'] = np.inf\n",
    "\n",
    "df_clicks_day_22['touchX'] = df_clicks_day_22['touchX'].astype('float32')\n",
    "\n",
    "df_clicks_day_22['touchY'] = df_clicks_day_22['touchY'].astype('float32')"
   ]
  },
  {
   "cell_type": "code",
   "execution_count": 22,
   "metadata": {},
   "outputs": [],
   "source": [
    "iter_clicks = pd.read_csv('../data/clicks.csv', engine='c', dtype=clicks_dtypes, parse_dates=['created'], chunksize=10000)\n",
    "df_clicks_day_23 = pd.concat(chunk.loc[chunk['created'].dt.day == 23] for chunk in iter_clicks)\n",
    "\n",
    "# Eliminar valor \"Infinity\" de touchX y touchY, y dejar datos como floats.\n",
    "df_clicks_day_23.loc[df_clicks_day_23['touchX'] == 'Infinity', 'touchX'] = np.inf\n",
    "\n",
    "df_clicks_day_23.loc[df_clicks_day_23['touchY'] == 'Infinity', 'touchY'] = np.inf\n",
    "\n",
    "df_clicks_day_23['touchX'] = df_clicks_day_23['touchX'].astype('float32')\n",
    "\n",
    "df_clicks_day_23['touchY'] = df_clicks_day_23['touchY'].astype('float32')"
   ]
  },
  {
   "cell_type": "code",
   "execution_count": 24,
   "metadata": {},
   "outputs": [],
   "source": [
    "iter_clicks = pd.read_csv('../data/clicks.csv', engine='c', dtype=clicks_dtypes, parse_dates=['created'], chunksize=10000)\n",
    "df_clicks_day_24 = pd.concat(chunk.loc[chunk['created'].dt.day == 24] for chunk in iter_clicks)\n",
    "\n",
    "# Eliminar valor \"Infinity\" de touchX y touchY, y dejar datos como floats.\n",
    "df_clicks_day_24.loc[df_clicks_day_24['touchX'] == 'Infinity', 'touchX'] = np.inf\n",
    "\n",
    "df_clicks_day_24.loc[df_clicks_day_24['touchY'] == 'Infinity', 'touchY'] = np.inf\n",
    "\n",
    "df_clicks_day_24['touchX'] = df_clicks_day_24['touchX'].astype('float32')\n",
    "\n",
    "df_clicks_day_24['touchY'] = df_clicks_day_24['touchY'].astype('float32')"
   ]
  },
  {
   "cell_type": "code",
   "execution_count": 26,
   "metadata": {},
   "outputs": [],
   "source": [
    "iter_clicks = pd.read_csv('../data/clicks.csv', engine='c', dtype=clicks_dtypes, parse_dates=['created'], chunksize=10000)\n",
    "df_clicks_day_25 = pd.concat(chunk.loc[chunk['created'].dt.day == 25] for chunk in iter_clicks)\n",
    "\n",
    "# Eliminar valor \"Infinity\" de touchX y touchY, y dejar datos como floats.\n",
    "df_clicks_day_25.loc[df_clicks_day_25['touchX'] == 'Infinity', 'touchX'] = np.inf\n",
    "\n",
    "df_clicks_day_25.loc[df_clicks_day_25['touchY'] == 'Infinity', 'touchY'] = np.inf\n",
    "\n",
    "df_clicks_day_25['touchX'] = df_clicks_day_25['touchX'].astype('float32')\n",
    "\n",
    "df_clicks_day_25['touchY'] = df_clicks_day_25['touchY'].astype('float32')"
   ]
  },
  {
   "cell_type": "code",
   "execution_count": 28,
   "metadata": {},
   "outputs": [],
   "source": [
    "iter_clicks = pd.read_csv('../data/clicks.csv', engine='c', dtype=clicks_dtypes, parse_dates=['created'], chunksize=10000)\n",
    "df_clicks_day_26 = pd.concat(chunk.loc[chunk['created'].dt.day == 26] for chunk in iter_clicks)\n",
    "\n",
    "# Eliminar valor \"Infinity\" de touchX y touchY, y dejar datos como floats.\n",
    "df_clicks_day_26.loc[df_clicks_day_26['touchX'] == 'Infinity', 'touchX'] = np.inf\n",
    "\n",
    "df_clicks_day_26.loc[df_clicks_day_26['touchY'] == 'Infinity', 'touchY'] = np.inf\n",
    "\n",
    "df_clicks_day_26['touchX'] = df_clicks_day_26['touchX'].astype('float32')\n",
    "\n",
    "df_clicks_day_26['touchY'] = df_clicks_day_26['touchY'].astype('float32')"
   ]
  },
  {
   "cell_type": "code",
   "execution_count": 84,
   "metadata": {},
   "outputs": [
    {
     "data": {
      "text/html": [
       "<div>\n",
       "<style scoped>\n",
       "    .dataframe tbody tr th:only-of-type {\n",
       "        vertical-align: middle;\n",
       "    }\n",
       "\n",
       "    .dataframe tbody tr th {\n",
       "        vertical-align: top;\n",
       "    }\n",
       "\n",
       "    .dataframe thead th {\n",
       "        text-align: right;\n",
       "    }\n",
       "</style>\n",
       "<table border=\"1\" class=\"dataframe\">\n",
       "  <thead>\n",
       "    <tr style=\"text-align: right;\">\n",
       "      <th></th>\n",
       "      <th>advertiser_id</th>\n",
       "      <th>action_id</th>\n",
       "      <th>source_id</th>\n",
       "      <th>created</th>\n",
       "      <th>country_code</th>\n",
       "      <th>latitude</th>\n",
       "      <th>longitude</th>\n",
       "      <th>wifi_connection</th>\n",
       "      <th>carrier_id</th>\n",
       "      <th>trans_id</th>\n",
       "      <th>os_minor</th>\n",
       "      <th>agent_device</th>\n",
       "      <th>os_major</th>\n",
       "      <th>specs_brand</th>\n",
       "      <th>brand</th>\n",
       "      <th>timeToClick</th>\n",
       "      <th>touchX</th>\n",
       "      <th>touchY</th>\n",
       "      <th>ref_type</th>\n",
       "      <th>ref_hash</th>\n",
       "    </tr>\n",
       "  </thead>\n",
       "  <tbody>\n",
       "    <tr>\n",
       "      <th>0</th>\n",
       "      <td>1</td>\n",
       "      <td>NaN</td>\n",
       "      <td>2</td>\n",
       "      <td>2019-04-18 05:27:42.197000+00:00</td>\n",
       "      <td>6287817205707153877</td>\n",
       "      <td>1.714547</td>\n",
       "      <td>0.871535</td>\n",
       "      <td>False</td>\n",
       "      <td>3.0</td>\n",
       "      <td>9JMAfrb-b9cSEVCJb0P9JfihGthaS7E</td>\n",
       "      <td>1.5176438893491397e+18</td>\n",
       "      <td>NaN</td>\n",
       "      <td>5.131615556736863e+18</td>\n",
       "      <td>71913840936116953</td>\n",
       "      <td>0.0</td>\n",
       "      <td>2.317</td>\n",
       "      <td>0.968</td>\n",
       "      <td>0.503</td>\n",
       "      <td>1891515180541284343</td>\n",
       "      <td>1293710398598742392</td>\n",
       "    </tr>\n",
       "    <tr>\n",
       "      <th>1</th>\n",
       "      <td>1</td>\n",
       "      <td>NaN</td>\n",
       "      <td>1</td>\n",
       "      <td>2019-04-18 05:27:03.164000+00:00</td>\n",
       "      <td>6287817205707153877</td>\n",
       "      <td>1.714512</td>\n",
       "      <td>0.871062</td>\n",
       "      <td>True</td>\n",
       "      <td>2.0</td>\n",
       "      <td>r3xtTRv2lInfiXG8JI3NQsNcBo8GyFQ</td>\n",
       "      <td>1.2885781261232225e+18</td>\n",
       "      <td>NaN</td>\n",
       "      <td>3.908390200756879e+18</td>\n",
       "      <td>3576558787748411622</td>\n",
       "      <td>1.0</td>\n",
       "      <td>7.653</td>\n",
       "      <td>0.712</td>\n",
       "      <td>1.689</td>\n",
       "      <td>1891515180541284343</td>\n",
       "      <td>1663930990551616564</td>\n",
       "    </tr>\n",
       "    <tr>\n",
       "      <th>2</th>\n",
       "      <td>1</td>\n",
       "      <td>NaN</td>\n",
       "      <td>1</td>\n",
       "      <td>2019-04-18 05:42:07.926000+00:00</td>\n",
       "      <td>6287817205707153877</td>\n",
       "      <td>1.714547</td>\n",
       "      <td>0.871535</td>\n",
       "      <td>True</td>\n",
       "      <td>4.0</td>\n",
       "      <td>WOnHFqQtY48z_ygKZ-030U_g0TMGVMw</td>\n",
       "      <td>2.2387361390161664e+18</td>\n",
       "      <td>NaN</td>\n",
       "      <td>3.581232574980917e+18</td>\n",
       "      <td>3576558787748411622</td>\n",
       "      <td>NaN</td>\n",
       "      <td>464.796</td>\n",
       "      <td>0.227</td>\n",
       "      <td>0.251</td>\n",
       "      <td>1891515180541284343</td>\n",
       "      <td>8488038938665586188</td>\n",
       "    </tr>\n",
       "    <tr>\n",
       "      <th>3</th>\n",
       "      <td>1</td>\n",
       "      <td>NaN</td>\n",
       "      <td>1</td>\n",
       "      <td>2019-04-18 05:26:04.446000+00:00</td>\n",
       "      <td>6287817205707153877</td>\n",
       "      <td>1.708041</td>\n",
       "      <td>0.870772</td>\n",
       "      <td>True</td>\n",
       "      <td>1.0</td>\n",
       "      <td>wQMLLmYqiFhSuha9p9B13PMtcyBW_vM</td>\n",
       "      <td>2.411639939918313e+18</td>\n",
       "      <td>NaN</td>\n",
       "      <td>3.908390200756879e+18</td>\n",
       "      <td>3576558787748411622</td>\n",
       "      <td>NaN</td>\n",
       "      <td>225.311</td>\n",
       "      <td>0.696</td>\n",
       "      <td>6.587</td>\n",
       "      <td>1891515180541284343</td>\n",
       "      <td>6488361690105189959</td>\n",
       "    </tr>\n",
       "    <tr>\n",
       "      <th>4</th>\n",
       "      <td>1</td>\n",
       "      <td>NaN</td>\n",
       "      <td>1</td>\n",
       "      <td>2019-04-18 05:23:37.764000+00:00</td>\n",
       "      <td>6287817205707153877</td>\n",
       "      <td>1.715514</td>\n",
       "      <td>0.870772</td>\n",
       "      <td>True</td>\n",
       "      <td>2.0</td>\n",
       "      <td>GeFoyBzMA7taylMxxjzlNPTU-n4FXFs</td>\n",
       "      <td>1.5176438893491397e+18</td>\n",
       "      <td>NaN</td>\n",
       "      <td>5.131615556736863e+18</td>\n",
       "      <td>3576558787748411622</td>\n",
       "      <td>0.0</td>\n",
       "      <td>84.736</td>\n",
       "      <td>0.059</td>\n",
       "      <td>0.142</td>\n",
       "      <td>1891515180541284343</td>\n",
       "      <td>1348993302102753419</td>\n",
       "    </tr>\n",
       "  </tbody>\n",
       "</table>\n",
       "</div>"
      ],
      "text/plain": [
       "  advertiser_id action_id source_id                          created  \\\n",
       "0             1       NaN         2 2019-04-18 05:27:42.197000+00:00   \n",
       "1             1       NaN         1 2019-04-18 05:27:03.164000+00:00   \n",
       "2             1       NaN         1 2019-04-18 05:42:07.926000+00:00   \n",
       "3             1       NaN         1 2019-04-18 05:26:04.446000+00:00   \n",
       "4             1       NaN         1 2019-04-18 05:23:37.764000+00:00   \n",
       "\n",
       "          country_code  latitude  longitude  wifi_connection carrier_id  \\\n",
       "0  6287817205707153877  1.714547   0.871535            False        3.0   \n",
       "1  6287817205707153877  1.714512   0.871062             True        2.0   \n",
       "2  6287817205707153877  1.714547   0.871535             True        4.0   \n",
       "3  6287817205707153877  1.708041   0.870772             True        1.0   \n",
       "4  6287817205707153877  1.715514   0.870772             True        2.0   \n",
       "\n",
       "                          trans_id                os_minor agent_device  \\\n",
       "0  9JMAfrb-b9cSEVCJb0P9JfihGthaS7E  1.5176438893491397e+18          NaN   \n",
       "1  r3xtTRv2lInfiXG8JI3NQsNcBo8GyFQ  1.2885781261232225e+18          NaN   \n",
       "2  WOnHFqQtY48z_ygKZ-030U_g0TMGVMw  2.2387361390161664e+18          NaN   \n",
       "3  wQMLLmYqiFhSuha9p9B13PMtcyBW_vM   2.411639939918313e+18          NaN   \n",
       "4  GeFoyBzMA7taylMxxjzlNPTU-n4FXFs  1.5176438893491397e+18          NaN   \n",
       "\n",
       "                os_major          specs_brand brand  timeToClick touchX  \\\n",
       "0  5.131615556736863e+18    71913840936116953   0.0        2.317  0.968   \n",
       "1  3.908390200756879e+18  3576558787748411622   1.0        7.653  0.712   \n",
       "2  3.581232574980917e+18  3576558787748411622   NaN      464.796  0.227   \n",
       "3  3.908390200756879e+18  3576558787748411622   NaN      225.311  0.696   \n",
       "4  5.131615556736863e+18  3576558787748411622   0.0       84.736  0.059   \n",
       "\n",
       "  touchY             ref_type             ref_hash  \n",
       "0  0.503  1891515180541284343  1293710398598742392  \n",
       "1  1.689  1891515180541284343  1663930990551616564  \n",
       "2  0.251  1891515180541284343  8488038938665586188  \n",
       "3  6.587  1891515180541284343  6488361690105189959  \n",
       "4  0.142  1891515180541284343  1348993302102753419  "
      ]
     },
     "execution_count": 84,
     "metadata": {},
     "output_type": "execute_result"
    }
   ],
   "source": [
    "df_clicks.head()"
   ]
  },
  {
   "cell_type": "markdown",
   "metadata": {},
   "source": [
    "## Installs"
   ]
  },
  {
   "cell_type": "code",
   "execution_count": 43,
   "metadata": {},
   "outputs": [],
   "source": [
    "installs_dtypes = {\"application_id\":          \"category\",\n",
    "                   \"ref_type\":                \"category\",\n",
    "                   \"ref_hash\":                \"category\",\n",
    "                   \"click_hash\":             \"category\",\n",
    "                   \"attributed\":               \"bool\",\n",
    "                   \"implicit\":                 \"bool\",\n",
    "                   \"device_countrycode\":      \"category\",\n",
    "                   \"device_brand\":          \"category\",\n",
    "                   \"device_model\":          \"category\",\n",
    "                   \"session_user_agent\":     \"category\",\n",
    "                   \"user_agent\":             \"category\",\n",
    "                   \"event_uuid\":             \"category\",\n",
    "                   \"kind\":                   \"category\",\n",
    "                   \"wifi\":                   \"category\",\n",
    "                   \"trans_id\":               \"category\",\n",
    "                   \"ip_address\":              \"category\",\n",
    "                   \"device_language\":       \"category\"}"
   ]
  },
  {
   "cell_type": "code",
   "execution_count": 45,
   "metadata": {},
   "outputs": [],
   "source": [
    "df_installs = pd.read_csv('../data/installs.csv', engine='c', dtype=installs_dtypes, parse_dates=['created'])"
   ]
  },
  {
   "cell_type": "markdown",
   "metadata": {},
   "source": [
    "### Carga df por dia"
   ]
  },
  {
   "cell_type": "code",
   "execution_count": 46,
   "metadata": {},
   "outputs": [],
   "source": [
    "df_installs_day_18 = df_installs.loc[df_installs['created'].dt.day == 18]"
   ]
  },
  {
   "cell_type": "code",
   "execution_count": 48,
   "metadata": {},
   "outputs": [],
   "source": [
    "df_installs_day_19 = df_installs.loc[df_installs['created'].dt.day == 19]"
   ]
  },
  {
   "cell_type": "code",
   "execution_count": 50,
   "metadata": {},
   "outputs": [],
   "source": [
    "df_installs_day_20 = df_installs.loc[df_installs['created'].dt.day == 20]"
   ]
  },
  {
   "cell_type": "code",
   "execution_count": 52,
   "metadata": {},
   "outputs": [],
   "source": [
    "df_installs_day_21 = df_installs.loc[df_installs['created'].dt.day == 21]"
   ]
  },
  {
   "cell_type": "code",
   "execution_count": 54,
   "metadata": {},
   "outputs": [],
   "source": [
    "df_installs_day_22 = df_installs.loc[df_installs['created'].dt.day == 22]"
   ]
  },
  {
   "cell_type": "code",
   "execution_count": 56,
   "metadata": {},
   "outputs": [],
   "source": [
    "df_installs_day_23 = df_installs.loc[df_installs['created'].dt.day == 23]"
   ]
  },
  {
   "cell_type": "code",
   "execution_count": 58,
   "metadata": {},
   "outputs": [],
   "source": [
    "df_installs_day_24 = df_installs.loc[df_installs['created'].dt.day == 24]"
   ]
  },
  {
   "cell_type": "code",
   "execution_count": 60,
   "metadata": {},
   "outputs": [],
   "source": [
    "df_installs_day_25 = df_installs.loc[df_installs['created'].dt.day == 25]"
   ]
  },
  {
   "cell_type": "code",
   "execution_count": 62,
   "metadata": {},
   "outputs": [],
   "source": [
    "df_installs_day_26 = df_installs.loc[df_installs['created'].dt.day == 26]"
   ]
  },
  {
   "cell_type": "code",
   "execution_count": 103,
   "metadata": {},
   "outputs": [
    {
     "data": {
      "text/html": [
       "<div>\n",
       "<style scoped>\n",
       "    .dataframe tbody tr th:only-of-type {\n",
       "        vertical-align: middle;\n",
       "    }\n",
       "\n",
       "    .dataframe tbody tr th {\n",
       "        vertical-align: top;\n",
       "    }\n",
       "\n",
       "    .dataframe thead th {\n",
       "        text-align: right;\n",
       "    }\n",
       "</style>\n",
       "<table border=\"1\" class=\"dataframe\">\n",
       "  <thead>\n",
       "    <tr style=\"text-align: right;\">\n",
       "      <th></th>\n",
       "      <th>created</th>\n",
       "      <th>application_id</th>\n",
       "      <th>ref_type</th>\n",
       "      <th>ref_hash</th>\n",
       "      <th>click_hash</th>\n",
       "      <th>attributed</th>\n",
       "      <th>implicit</th>\n",
       "      <th>device_countrycode</th>\n",
       "      <th>device_brand</th>\n",
       "      <th>device_model</th>\n",
       "      <th>session_user_agent</th>\n",
       "      <th>user_agent</th>\n",
       "      <th>event_uuid</th>\n",
       "      <th>kind</th>\n",
       "      <th>wifi</th>\n",
       "      <th>trans_id</th>\n",
       "      <th>ip_address</th>\n",
       "      <th>device_language</th>\n",
       "    </tr>\n",
       "  </thead>\n",
       "  <tbody>\n",
       "    <tr>\n",
       "      <th>0</th>\n",
       "      <td>2019-04-24 06:23:29.495</td>\n",
       "      <td>1</td>\n",
       "      <td>1494519392962156891</td>\n",
       "      <td>4716708407362582887</td>\n",
       "      <td>NaN</td>\n",
       "      <td>False</td>\n",
       "      <td>True</td>\n",
       "      <td>6287817205707153877</td>\n",
       "      <td>NaN</td>\n",
       "      <td>3.739127126472163e+17</td>\n",
       "      <td>adjust.com</td>\n",
       "      <td>NaN</td>\n",
       "      <td>79837499-2f2a-4605-a663-e322f759424f</td>\n",
       "      <td>app_open</td>\n",
       "      <td>NaN</td>\n",
       "      <td>NaN</td>\n",
       "      <td>4243443387795468703</td>\n",
       "      <td>3.3013777759776993e+18</td>\n",
       "    </tr>\n",
       "    <tr>\n",
       "      <th>1</th>\n",
       "      <td>2019-04-24 02:06:01.032</td>\n",
       "      <td>1</td>\n",
       "      <td>1494519392962156891</td>\n",
       "      <td>7143568733100935872</td>\n",
       "      <td>NaN</td>\n",
       "      <td>False</td>\n",
       "      <td>False</td>\n",
       "      <td>6287817205707153877</td>\n",
       "      <td>NaN</td>\n",
       "      <td>7.80553892759877e+18</td>\n",
       "      <td>adjust.com</td>\n",
       "      <td>NaN</td>\n",
       "      <td>NaN</td>\n",
       "      <td>NaN</td>\n",
       "      <td>NaN</td>\n",
       "      <td>NaN</td>\n",
       "      <td>4724288679627032761</td>\n",
       "      <td>3.3013777759776993e+18</td>\n",
       "    </tr>\n",
       "    <tr>\n",
       "      <th>2</th>\n",
       "      <td>2019-04-20 10:15:36.274</td>\n",
       "      <td>1</td>\n",
       "      <td>1494519392962156891</td>\n",
       "      <td>5230323462636548010</td>\n",
       "      <td>NaN</td>\n",
       "      <td>False</td>\n",
       "      <td>True</td>\n",
       "      <td>6287817205707153877</td>\n",
       "      <td>NaN</td>\n",
       "      <td>8.355495513718673e+18</td>\n",
       "      <td>adjust.com</td>\n",
       "      <td>NaN</td>\n",
       "      <td>dda99e3c-9c4b-487d-891c-79f0a02cb4a8</td>\n",
       "      <td>app_open</td>\n",
       "      <td>NaN</td>\n",
       "      <td>NaN</td>\n",
       "      <td>8291809486355890410</td>\n",
       "      <td>4.060929664968129e+18</td>\n",
       "    </tr>\n",
       "    <tr>\n",
       "      <th>3</th>\n",
       "      <td>2019-04-20 21:56:47.151</td>\n",
       "      <td>1</td>\n",
       "      <td>1494519392962156891</td>\n",
       "      <td>5097163995161606833</td>\n",
       "      <td>NaN</td>\n",
       "      <td>False</td>\n",
       "      <td>True</td>\n",
       "      <td>6287817205707153877</td>\n",
       "      <td>NaN</td>\n",
       "      <td>2.3557720913769155e+18</td>\n",
       "      <td>adjust.com</td>\n",
       "      <td>NaN</td>\n",
       "      <td>7010c3ce-0fcf-46c6-9be8-374cc0e20af4</td>\n",
       "      <td>app_open</td>\n",
       "      <td>NaN</td>\n",
       "      <td>NaN</td>\n",
       "      <td>4006811922873399949</td>\n",
       "      <td>3.3013777759776993e+18</td>\n",
       "    </tr>\n",
       "    <tr>\n",
       "      <th>4</th>\n",
       "      <td>2019-04-20 22:40:41.239</td>\n",
       "      <td>1</td>\n",
       "      <td>1494519392962156891</td>\n",
       "      <td>6328027616411983332</td>\n",
       "      <td>NaN</td>\n",
       "      <td>False</td>\n",
       "      <td>False</td>\n",
       "      <td>6287817205707153877</td>\n",
       "      <td>NaN</td>\n",
       "      <td>6.156971151807135e+18</td>\n",
       "      <td>adjust.com</td>\n",
       "      <td>NaN</td>\n",
       "      <td>NaN</td>\n",
       "      <td>NaN</td>\n",
       "      <td>NaN</td>\n",
       "      <td>NaN</td>\n",
       "      <td>3386455054590810771</td>\n",
       "      <td>3.3013777759776993e+18</td>\n",
       "    </tr>\n",
       "  </tbody>\n",
       "</table>\n",
       "</div>"
      ],
      "text/plain": [
       "                  created application_id             ref_type  \\\n",
       "0 2019-04-24 06:23:29.495              1  1494519392962156891   \n",
       "1 2019-04-24 02:06:01.032              1  1494519392962156891   \n",
       "2 2019-04-20 10:15:36.274              1  1494519392962156891   \n",
       "3 2019-04-20 21:56:47.151              1  1494519392962156891   \n",
       "4 2019-04-20 22:40:41.239              1  1494519392962156891   \n",
       "\n",
       "              ref_hash click_hash  attributed  implicit   device_countrycode  \\\n",
       "0  4716708407362582887        NaN       False      True  6287817205707153877   \n",
       "1  7143568733100935872        NaN       False     False  6287817205707153877   \n",
       "2  5230323462636548010        NaN       False      True  6287817205707153877   \n",
       "3  5097163995161606833        NaN       False      True  6287817205707153877   \n",
       "4  6328027616411983332        NaN       False     False  6287817205707153877   \n",
       "\n",
       "  device_brand            device_model session_user_agent user_agent  \\\n",
       "0          NaN   3.739127126472163e+17         adjust.com        NaN   \n",
       "1          NaN    7.80553892759877e+18         adjust.com        NaN   \n",
       "2          NaN   8.355495513718673e+18         adjust.com        NaN   \n",
       "3          NaN  2.3557720913769155e+18         adjust.com        NaN   \n",
       "4          NaN   6.156971151807135e+18         adjust.com        NaN   \n",
       "\n",
       "                             event_uuid      kind wifi trans_id  \\\n",
       "0  79837499-2f2a-4605-a663-e322f759424f  app_open  NaN      NaN   \n",
       "1                                   NaN       NaN  NaN      NaN   \n",
       "2  dda99e3c-9c4b-487d-891c-79f0a02cb4a8  app_open  NaN      NaN   \n",
       "3  7010c3ce-0fcf-46c6-9be8-374cc0e20af4  app_open  NaN      NaN   \n",
       "4                                   NaN       NaN  NaN      NaN   \n",
       "\n",
       "            ip_address         device_language  \n",
       "0  4243443387795468703  3.3013777759776993e+18  \n",
       "1  4724288679627032761  3.3013777759776993e+18  \n",
       "2  8291809486355890410   4.060929664968129e+18  \n",
       "3  4006811922873399949  3.3013777759776993e+18  \n",
       "4  3386455054590810771  3.3013777759776993e+18  "
      ]
     },
     "execution_count": 103,
     "metadata": {},
     "output_type": "execute_result"
    }
   ],
   "source": [
    "df_installs.head()"
   ]
  },
  {
   "cell_type": "markdown",
   "metadata": {},
   "source": [
    "## Events"
   ]
  },
  {
   "cell_type": "code",
   "execution_count": 8,
   "metadata": {},
   "outputs": [],
   "source": [
    "events_dtypes = {\"index\":                   \"category\",\n",
    "                 \"event_id\":                \"category\",\n",
    "                 \"ref_type\":                \"category\",\n",
    "                 \"ref_hash\":                \"category\",\n",
    "                 \"application_id\":          \"category\",\n",
    "                 \"attributed\":               \"bool\",\n",
    "                 \"device_countrycode\":      \"category\",\n",
    "                 \"device_os_version\":     \"category\",\n",
    "                 \"device_brand\":          \"category\",\n",
    "                 \"device_model\":          \"category\",\n",
    "                 \"device_city\":           \"category\",\n",
    "                 \"session_user_agent\":    \"category\",\n",
    "                 \"trans_id\":               \"category\",\n",
    "                 \"user_agent\":            \"category\",\n",
    "                 \"event_uuid\":             \"category\",\n",
    "                 \"carrier\":               \"category\",\n",
    "                 \"kind\":                  \"category\",\n",
    "                 \"device_os\":             \"category\",\n",
    "                 \"wifi\":                     \"bool\",\n",
    "                 \"connection_type\":        \"category\",\n",
    "                 \"ip_address\":              \"category\",\n",
    "                 \"device_language\":       \"category\"}"
   ]
  },
  {
   "cell_type": "code",
   "execution_count": null,
   "metadata": {},
   "outputs": [],
   "source": [
    "# df_events = pd.read_csv('../data/events.csv', engine='c', dtype=events_dtypes, parse_dates=['date'])"
   ]
  },
  {
   "cell_type": "markdown",
   "metadata": {},
   "source": [
    "### Carga df por dia"
   ]
  },
  {
   "cell_type": "code",
   "execution_count": 7,
   "metadata": {},
   "outputs": [],
   "source": [
    "iter_events = pd.read_csv('../data/events.csv', engine='c', dtype=events_dtypes, parse_dates=['date'], chunksize=10000)\n",
    "df_events_day_18 = pd.concat(chunk.loc[chunk['date'].dt.day == 18] for chunk in iter_events)"
   ]
  },
  {
   "cell_type": "code",
   "execution_count": 7,
   "metadata": {},
   "outputs": [],
   "source": [
    "iter_events = pd.read_csv('../data/events.csv', engine='c', dtype=events_dtypes, parse_dates=['date'], chunksize=10000)\n",
    "df_events_day_19 = pd.concat(chunk.loc[chunk['date'].dt.day == 19] for chunk in iter_events)"
   ]
  },
  {
   "cell_type": "code",
   "execution_count": 7,
   "metadata": {},
   "outputs": [],
   "source": [
    "iter_events = pd.read_csv('../data/events.csv', engine='c', dtype=events_dtypes, parse_dates=['date'], chunksize=10000)\n",
    "df_events_day_20 = pd.concat(chunk.loc[chunk['date'].dt.day == 20] for chunk in iter_events)"
   ]
  },
  {
   "cell_type": "code",
   "execution_count": 7,
   "metadata": {},
   "outputs": [],
   "source": [
    "iter_events = pd.read_csv('../data/events.csv', engine='c', dtype=events_dtypes, parse_dates=['date'], chunksize=10000)\n",
    "df_events_day_21 = pd.concat(chunk.loc[chunk['date'].dt.day == 21] for chunk in iter_events)"
   ]
  },
  {
   "cell_type": "code",
   "execution_count": 7,
   "metadata": {},
   "outputs": [],
   "source": [
    "iter_events = pd.read_csv('../data/events.csv', engine='c', dtype=events_dtypes, parse_dates=['date'], chunksize=10000)\n",
    "df_events_day_22 = pd.concat(chunk.loc[chunk['date'].dt.day == 22] for chunk in iter_events)"
   ]
  },
  {
   "cell_type": "code",
   "execution_count": 7,
   "metadata": {},
   "outputs": [],
   "source": [
    "iter_events = pd.read_csv('../data/events.csv', engine='c', dtype=events_dtypes, parse_dates=['date'], chunksize=10000)\n",
    "df_events_day_23 = pd.concat(chunk.loc[chunk['date'].dt.day == 23] for chunk in iter_events)"
   ]
  },
  {
   "cell_type": "code",
   "execution_count": 7,
   "metadata": {},
   "outputs": [],
   "source": [
    "iter_events = pd.read_csv('../data/events.csv', engine='c', dtype=events_dtypes, parse_dates=['date'], chunksize=10000)\n",
    "df_events_day_24 = pd.concat(chunk.loc[chunk['date'].dt.day == 24] for chunk in iter_events)"
   ]
  },
  {
   "cell_type": "code",
   "execution_count": 7,
   "metadata": {},
   "outputs": [],
   "source": [
    "iter_events = pd.read_csv('../data/events.csv', engine='c', dtype=events_dtypes, parse_dates=['date'], chunksize=10000)\n",
    "df_events_day_25 = pd.concat(chunk.loc[chunk['date'].dt.day == 25] for chunk in iter_events)"
   ]
  },
  {
   "cell_type": "code",
   "execution_count": 21,
   "metadata": {},
   "outputs": [],
   "source": [
    "iter_events = pd.read_csv('../data/events.csv', engine='c', dtype=events_dtypes, parse_dates=['date'], chunksize=10000)\n",
    "df_events_day_26 = pd.concat(chunk.loc[chunk['date'].dt.day == 26] for chunk in iter_events)"
   ]
  },
  {
   "cell_type": "code",
   "execution_count": 114,
   "metadata": {},
   "outputs": [
    {
     "data": {
      "text/html": [
       "<div>\n",
       "<style scoped>\n",
       "    .dataframe tbody tr th:only-of-type {\n",
       "        vertical-align: middle;\n",
       "    }\n",
       "\n",
       "    .dataframe tbody tr th {\n",
       "        vertical-align: top;\n",
       "    }\n",
       "\n",
       "    .dataframe thead th {\n",
       "        text-align: right;\n",
       "    }\n",
       "</style>\n",
       "<table border=\"1\" class=\"dataframe\">\n",
       "  <thead>\n",
       "    <tr style=\"text-align: right;\">\n",
       "      <th></th>\n",
       "      <th>index</th>\n",
       "      <th>date</th>\n",
       "      <th>event_id</th>\n",
       "      <th>ref_type</th>\n",
       "      <th>ref_hash</th>\n",
       "      <th>application_id</th>\n",
       "      <th>attributed</th>\n",
       "      <th>device_countrycode</th>\n",
       "      <th>device_os_version</th>\n",
       "      <th>device_brand</th>\n",
       "      <th>...</th>\n",
       "      <th>trans_id</th>\n",
       "      <th>user_agent</th>\n",
       "      <th>event_uuid</th>\n",
       "      <th>carrier</th>\n",
       "      <th>kind</th>\n",
       "      <th>device_os</th>\n",
       "      <th>wifi</th>\n",
       "      <th>connection_type</th>\n",
       "      <th>ip_address</th>\n",
       "      <th>device_language</th>\n",
       "    </tr>\n",
       "  </thead>\n",
       "  <tbody>\n",
       "    <tr>\n",
       "      <th>0</th>\n",
       "      <td>2130678</td>\n",
       "      <td>2019-04-20 01:42:49.120</td>\n",
       "      <td>0</td>\n",
       "      <td>1891515180541284343</td>\n",
       "      <td>5857744372586891366</td>\n",
       "      <td>210</td>\n",
       "      <td>False</td>\n",
       "      <td>6287817205707153877</td>\n",
       "      <td>NaN</td>\n",
       "      <td>NaN</td>\n",
       "      <td>...</td>\n",
       "      <td>NaN</td>\n",
       "      <td>5.046185273150854e+18</td>\n",
       "      <td>5b506964-5f47-4b28-a8c2-8a92d6c23379</td>\n",
       "      <td>NaN</td>\n",
       "      <td>5.882882097123621e+18</td>\n",
       "      <td>NaN</td>\n",
       "      <td>False</td>\n",
       "      <td>NaN</td>\n",
       "      <td>7544543351571901618</td>\n",
       "      <td>3.3013777759776993e+18</td>\n",
       "    </tr>\n",
       "    <tr>\n",
       "      <th>1</th>\n",
       "      <td>2130680</td>\n",
       "      <td>2019-04-20 01:42:49.340</td>\n",
       "      <td>1</td>\n",
       "      <td>1891515180541284343</td>\n",
       "      <td>7642521036780133571</td>\n",
       "      <td>210</td>\n",
       "      <td>False</td>\n",
       "      <td>6287817205707153877</td>\n",
       "      <td>NaN</td>\n",
       "      <td>NaN</td>\n",
       "      <td>...</td>\n",
       "      <td>NaN</td>\n",
       "      <td>NaN</td>\n",
       "      <td>f1fb9d15-1a7b-4116-8d3b-c4c403e197e2</td>\n",
       "      <td>NaN</td>\n",
       "      <td>4.0176741840411725e+18</td>\n",
       "      <td>NaN</td>\n",
       "      <td>False</td>\n",
       "      <td>NaN</td>\n",
       "      <td>6949523255335024165</td>\n",
       "      <td>NaN</td>\n",
       "    </tr>\n",
       "    <tr>\n",
       "      <th>2</th>\n",
       "      <td>2130681</td>\n",
       "      <td>2019-04-20 01:42:49.365</td>\n",
       "      <td>1</td>\n",
       "      <td>1891515180541284343</td>\n",
       "      <td>2548841562898283198</td>\n",
       "      <td>210</td>\n",
       "      <td>False</td>\n",
       "      <td>6287817205707153877</td>\n",
       "      <td>NaN</td>\n",
       "      <td>NaN</td>\n",
       "      <td>...</td>\n",
       "      <td>NaN</td>\n",
       "      <td>NaN</td>\n",
       "      <td>c85a0b15-a5d7-472e-8116-6bfa3db19687</td>\n",
       "      <td>NaN</td>\n",
       "      <td>4.0176741840411725e+18</td>\n",
       "      <td>NaN</td>\n",
       "      <td>False</td>\n",
       "      <td>NaN</td>\n",
       "      <td>6428537280982666957</td>\n",
       "      <td>NaN</td>\n",
       "    </tr>\n",
       "    <tr>\n",
       "      <th>3</th>\n",
       "      <td>2130684</td>\n",
       "      <td>2019-04-20 01:42:51.438</td>\n",
       "      <td>2</td>\n",
       "      <td>1891515180541284343</td>\n",
       "      <td>609402887625919085</td>\n",
       "      <td>210</td>\n",
       "      <td>False</td>\n",
       "      <td>6287817205707153877</td>\n",
       "      <td>NaN</td>\n",
       "      <td>NaN</td>\n",
       "      <td>...</td>\n",
       "      <td>NaN</td>\n",
       "      <td>NaN</td>\n",
       "      <td>f4aa0a97-2de6-4f22-95c6-1b3150112cb9</td>\n",
       "      <td>NaN</td>\n",
       "      <td>6.168308581888314e+18</td>\n",
       "      <td>NaN</td>\n",
       "      <td>False</td>\n",
       "      <td>NaN</td>\n",
       "      <td>7607371352198017145</td>\n",
       "      <td>NaN</td>\n",
       "    </tr>\n",
       "    <tr>\n",
       "      <th>4</th>\n",
       "      <td>2130688</td>\n",
       "      <td>2019-04-20 01:42:51.838</td>\n",
       "      <td>1</td>\n",
       "      <td>1891515180541284343</td>\n",
       "      <td>9114651763556439823</td>\n",
       "      <td>210</td>\n",
       "      <td>False</td>\n",
       "      <td>6287817205707153877</td>\n",
       "      <td>NaN</td>\n",
       "      <td>NaN</td>\n",
       "      <td>...</td>\n",
       "      <td>NaN</td>\n",
       "      <td>NaN</td>\n",
       "      <td>08e2f7f7-875f-4aa0-b337-b9b87b0d83ea</td>\n",
       "      <td>NaN</td>\n",
       "      <td>4.0176741840411725e+18</td>\n",
       "      <td>NaN</td>\n",
       "      <td>False</td>\n",
       "      <td>NaN</td>\n",
       "      <td>2901772839007473756</td>\n",
       "      <td>NaN</td>\n",
       "    </tr>\n",
       "  </tbody>\n",
       "</table>\n",
       "<p>5 rows × 23 columns</p>\n",
       "</div>"
      ],
      "text/plain": [
       "     index                    date event_id             ref_type  \\\n",
       "0  2130678 2019-04-20 01:42:49.120        0  1891515180541284343   \n",
       "1  2130680 2019-04-20 01:42:49.340        1  1891515180541284343   \n",
       "2  2130681 2019-04-20 01:42:49.365        1  1891515180541284343   \n",
       "3  2130684 2019-04-20 01:42:51.438        2  1891515180541284343   \n",
       "4  2130688 2019-04-20 01:42:51.838        1  1891515180541284343   \n",
       "\n",
       "              ref_hash application_id  attributed   device_countrycode  \\\n",
       "0  5857744372586891366            210       False  6287817205707153877   \n",
       "1  7642521036780133571            210       False  6287817205707153877   \n",
       "2  2548841562898283198            210       False  6287817205707153877   \n",
       "3   609402887625919085            210       False  6287817205707153877   \n",
       "4  9114651763556439823            210       False  6287817205707153877   \n",
       "\n",
       "  device_os_version device_brand  ... trans_id             user_agent  \\\n",
       "0               NaN          NaN  ...      NaN  5.046185273150854e+18   \n",
       "1               NaN          NaN  ...      NaN                    NaN   \n",
       "2               NaN          NaN  ...      NaN                    NaN   \n",
       "3               NaN          NaN  ...      NaN                    NaN   \n",
       "4               NaN          NaN  ...      NaN                    NaN   \n",
       "\n",
       "                             event_uuid carrier                    kind  \\\n",
       "0  5b506964-5f47-4b28-a8c2-8a92d6c23379     NaN   5.882882097123621e+18   \n",
       "1  f1fb9d15-1a7b-4116-8d3b-c4c403e197e2     NaN  4.0176741840411725e+18   \n",
       "2  c85a0b15-a5d7-472e-8116-6bfa3db19687     NaN  4.0176741840411725e+18   \n",
       "3  f4aa0a97-2de6-4f22-95c6-1b3150112cb9     NaN   6.168308581888314e+18   \n",
       "4  08e2f7f7-875f-4aa0-b337-b9b87b0d83ea     NaN  4.0176741840411725e+18   \n",
       "\n",
       "  device_os   wifi connection_type           ip_address  \\\n",
       "0       NaN  False             NaN  7544543351571901618   \n",
       "1       NaN  False             NaN  6949523255335024165   \n",
       "2       NaN  False             NaN  6428537280982666957   \n",
       "3       NaN  False             NaN  7607371352198017145   \n",
       "4       NaN  False             NaN  2901772839007473756   \n",
       "\n",
       "          device_language  \n",
       "0  3.3013777759776993e+18  \n",
       "1                     NaN  \n",
       "2                     NaN  \n",
       "3                     NaN  \n",
       "4                     NaN  \n",
       "\n",
       "[5 rows x 23 columns]"
      ]
     },
     "execution_count": 114,
     "metadata": {},
     "output_type": "execute_result"
    }
   ],
   "source": [
    "df_events.head()"
   ]
  },
  {
   "cell_type": "markdown",
   "metadata": {
    "toc-hr-collapsed": false
   },
   "source": [
    "## Auctions"
   ]
  },
  {
   "cell_type": "markdown",
   "metadata": {},
   "source": [
    "`$ wc -l data/auctions.csv`\n",
    "\n",
    "`47409529 data/auctions.csv`\n",
    "\n",
    "Hay 47409529 filas en auctions.csv"
   ]
  },
  {
   "cell_type": "markdown",
   "metadata": {},
   "source": [
    "Lo que se hace es crear un df por dia. \n",
    "\n",
    "**Cargar unicamente los dfs de los dias que se quiera usar. El tp precisa analizar ventanas de a 3 dias.**"
   ]
  },
  {
   "cell_type": "code",
   "execution_count": 24,
   "metadata": {},
   "outputs": [],
   "source": [
    "auctions_dtypes = {'device_id':'category',\n",
    "                 'ref_type_id':'category',\n",
    "                 'source_id':'category'}"
   ]
  },
  {
   "cell_type": "markdown",
   "metadata": {},
   "source": [
    "### Carga df por dia"
   ]
  },
  {
   "cell_type": "code",
   "execution_count": 7,
   "metadata": {},
   "outputs": [],
   "source": [
    "iter_auctions = pd.read_csv('../data/auctions.csv', engine='c', dtype=auctions_dtypes, parse_dates=['date'], chunksize=10000)\n",
    "df_auctions_day_18 = pd.concat(chunk.loc[chunk['date'].dt.day == 18] for chunk in iter_auctions)"
   ]
  },
  {
   "cell_type": "code",
   "execution_count": 24,
   "metadata": {},
   "outputs": [],
   "source": [
    "iter_auctions = pd.read_csv('../data/auctions.csv', engine='c', dtype=auctions_dtypes, parse_dates=['date'], chunksize=10000)\n",
    "df_auctions_day_19 = pd.concat(chunk.loc[chunk['date'].dt.day == 19] for chunk in iter_auctions)"
   ]
  },
  {
   "cell_type": "code",
   "execution_count": 24,
   "metadata": {},
   "outputs": [],
   "source": [
    "iter_auctions = pd.read_csv('../data/auctions.csv', engine='c', dtype=auctions_dtypes, parse_dates=['date'], chunksize=10000)\n",
    "df_auctions_day_20 = pd.concat(chunk.loc[chunk['date'].dt.day == 20] for chunk in iter_auctions)"
   ]
  },
  {
   "cell_type": "code",
   "execution_count": 24,
   "metadata": {},
   "outputs": [],
   "source": [
    "iter_auctions = pd.read_csv('../data/auctions.csv', engine='c', dtype=auctions_dtypes, parse_dates=['date'], chunksize=10000)\n",
    "df_auctions_day_21 = pd.concat(chunk.loc[chunk['date'].dt.day == 21] for chunk in iter_auctions)"
   ]
  },
  {
   "cell_type": "code",
   "execution_count": 24,
   "metadata": {},
   "outputs": [],
   "source": [
    "iter_auctions = pd.read_csv('../data/auctions.csv', engine='c', dtype=auctions_dtypes, parse_dates=['date'], chunksize=10000)\n",
    "df_auctions_day_22 = pd.concat(chunk.loc[chunk['date'].dt.day == 22] for chunk in iter_auctions)"
   ]
  },
  {
   "cell_type": "code",
   "execution_count": 24,
   "metadata": {},
   "outputs": [],
   "source": [
    "iter_auctions = pd.read_csv('../data/auctions.csv', engine='c', dtype=auctions_dtypes, parse_dates=['date'], chunksize=10000)\n",
    "df_auctions_day_23 = pd.concat(chunk.loc[chunk['date'].dt.day == 23] for chunk in iter_auctions)"
   ]
  },
  {
   "cell_type": "code",
   "execution_count": 24,
   "metadata": {},
   "outputs": [],
   "source": [
    "iter_auctions = pd.read_csv('../data/auctions.csv', engine='c', dtype=auctions_dtypes, parse_dates=['date'], chunksize=10000)\n",
    "df_auctions_day_24 = pd.concat(chunk.loc[chunk['date'].dt.day == 24] for chunk in iter_auctions)"
   ]
  },
  {
   "cell_type": "code",
   "execution_count": 24,
   "metadata": {},
   "outputs": [],
   "source": [
    "iter_auctions = pd.read_csv('../data/auctions.csv', engine='c', dtype=auctions_dtypes, parse_dates=['date'], chunksize=10000)\n",
    "df_auctions_day_25 = pd.concat(chunk.loc[chunk['date'].dt.day == 25] for chunk in iter_auctions)"
   ]
  },
  {
   "cell_type": "code",
   "execution_count": 28,
   "metadata": {},
   "outputs": [],
   "source": [
    "iter_auctions = pd.read_csv('../data/auctions.csv', engine='c', dtype=auctions_dtypes, parse_dates=['date'], chunksize=10000)\n",
    "df_auctions_day_26 = pd.concat(chunk.loc[chunk['date'].dt.day == 26] for chunk in iter_auctions)"
   ]
  }
 ],
 "metadata": {
  "kernelspec": {
   "display_name": "Python 3",
   "language": "python",
   "name": "python3"
  },
  "language_info": {
   "codemirror_mode": {
    "name": "ipython",
    "version": 3
   },
   "file_extension": ".py",
   "mimetype": "text/x-python",
   "name": "python",
   "nbconvert_exporter": "python",
   "pygments_lexer": "ipython3",
   "version": "3.5.2"
  }
 },
 "nbformat": 4,
 "nbformat_minor": 2
}
