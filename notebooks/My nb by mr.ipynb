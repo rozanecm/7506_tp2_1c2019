{
 "cells": [
  {
   "cell_type": "markdown",
   "metadata": {},
   "source": [
    "# Introduction"
   ]
  },
  {
   "cell_type": "markdown",
   "metadata": {},
   "source": [
    "## Imports"
   ]
  },
  {
   "cell_type": "code",
   "execution_count": 1,
   "metadata": {},
   "outputs": [],
   "source": [
    "import pandas as pd\n",
    "\n",
    "import numpy as np\n",
    "\n",
    "import os"
   ]
  },
  {
   "cell_type": "code",
   "execution_count": 2,
   "metadata": {},
   "outputs": [],
   "source": [
    "# load target\n",
    "# I include this in the imports section because its as essential as an importa\n",
    "target = pd.read_csv('../data/target_competencia_ids.csv')\n",
    "\n",
    "# to avoid misunderstandings with data when predicting, and avoid accidentally predicting value zero\n",
    "target.obj = np.nan"
   ]
  },
  {
   "cell_type": "code",
   "execution_count": 127,
   "metadata": {},
   "outputs": [],
   "source": [
    "# days to consider\n",
    "all_days = [18,19,20,21,22,23,24,25,26]"
   ]
  },
  {
   "cell_type": "markdown",
   "metadata": {},
   "source": [
    "## Data info"
   ]
  },
  {
   "cell_type": "code",
   "execution_count": 3,
   "metadata": {},
   "outputs": [
    {
     "name": "stdout",
     "output_type": "stream",
     "text": [
      "auctions.csv\t\t\t\t\t\t2412.11824\n",
      ".ipynb_checkpoints\t\t\t\t\t\t0.004096\n",
      "target_competencia_ids.csv\t\t\t\t\t\t0.200915\n",
      "installs.csv\t\t\t\t\t\t123.502317\n",
      "desc.json\t\t\t\t\t\t0.009146\n",
      "Recomendaciones y aclaraciones.docx\t\t\t\t\t\t0.006909\n",
      "clicks.csv\t\t\t\t\t\t16.147446\n",
      "events.csv\t\t\t\t\t\t2252.988966\n"
     ]
    }
   ],
   "source": [
    "for file in os.listdir('../data/'):\n",
    "    print(file + '\\t\\t\\t\\t\\t\\t' + str(os.stat(\"../data/\" + file).st_size/1000000))"
   ]
  },
  {
   "cell_type": "markdown",
   "metadata": {},
   "source": [
    "# Useful functions"
   ]
  },
  {
   "cell_type": "markdown",
   "metadata": {},
   "source": [
    "## General"
   ]
  },
  {
   "cell_type": "code",
   "execution_count": 110,
   "metadata": {},
   "outputs": [],
   "source": [
    "# target ids related\n",
    "def get_target_ids():\n",
    "    return target['ref_hash'].apply(lambda x: x[:-3]).unique()\n",
    "\n",
    "def get_target_ids_chunk(chunk_num):\n",
    "    \"\"\" chunk num can go from 1 to 41\"\"\"\n",
    "    chunk_size = 100\n",
    "    start = (chunk_num - 1) * chunk_size\n",
    "    stop = chunk_size * chunk_num\n",
    "    return get_target_ids()[start:stop]"
   ]
  },
  {
   "cell_type": "code",
   "execution_count": 4,
   "metadata": {},
   "outputs": [],
   "source": [
    "# para guardar predicciones\n",
    "import time\n",
    "def get_filename(my_name, timestamp):\n",
    "    return \"../predictions/\" + timestamp + \" by \" + my_name + \".csv\"\n",
    "\n",
    "def save_description(authors_name, timestamp, submission_description):\n",
    "    f = open(\"../predictions/\" + authors_name + \".txt\",\"a\")\n",
    "    f.write(timestamp + \": \" + submission_description + '\\n')\n",
    "    f.close()\n",
    "\n",
    "def save_submission(submission_df, authors_name, submission_description = \"no description\"):\n",
    "    timestamp = time.strftime(\"%Y.%m.%d - %H:%M:%S\")\n",
    "    submission_df.to_csv(get_filename(authors_name, timestamp), index=False)\n",
    "    save_description(authors_name, timestamp, submission_description)"
   ]
  },
  {
   "cell_type": "code",
   "execution_count": 5,
   "metadata": {},
   "outputs": [],
   "source": [
    "# play a sound when whole notebook finished executing\n",
    "import os\n",
    "def ring(duration = 1, freq = 1500):\n",
    "    \"\"\" play tone of duration in seconds and freq in Hz. \"\"\"\n",
    "    os.system('play --no-show-progress --null --channels 1 synth %s sine %f' % (duration, freq))"
   ]
  },
  {
   "cell_type": "markdown",
   "metadata": {},
   "source": [
    "## Dfs loading functions"
   ]
  },
  {
   "cell_type": "code",
   "execution_count": 128,
   "metadata": {},
   "outputs": [],
   "source": [
    "clicks_dtypes = {'advertiser_id':'category',\n",
    "                 'action_id':'category',\n",
    "                 'source_id':'category',\n",
    "                 'country_code':'category',\n",
    "                 'latitude':'float64',\n",
    "                 'longitude':'float64',\n",
    "                 'wifi_connection':'bool',\n",
    "                 'carrier_id':'category',\n",
    "                 'trans_id':'category',\n",
    "                 'os_minor':'category',\n",
    "                 'agent_device':'category',\n",
    "                 'os_major':'category',\n",
    "                 'specs_brand':'category',\n",
    "                 'brand':'category',\n",
    "                 'timeToClick':'float64',\n",
    "                 'touchX':'object',\n",
    "                 'touchY':'object',\n",
    "                 'ref_type':'category',\n",
    "                 'ref_hash':'category'}\n",
    "\n",
    "def load_clicks(users=get_target_ids(), days=all_days):\n",
    "    \"\"\" load clicks csv, only users and days specified in users and days lists.\n",
    "    If lists left empty, consider whole set of users and days respectively.\"\"\"\n",
    "    iter_clicks = pd.read_csv('../data/clicks.csv', engine='c', dtype=clicks_dtypes, parse_dates=['created'], chunksize=10000)\n",
    "    def load_condition(chunk):\n",
    "        return chunk['ref_hash'].isin(users) & chunk['date'].dt.day.isin(days)\n",
    "    df = pd.concat(chunk.loc[load_condition(chunk)] for chunk in iter_clicks)\n",
    "    return df"
   ]
  },
  {
   "cell_type": "code",
   "execution_count": 129,
   "metadata": {},
   "outputs": [],
   "source": [
    "installs_dtypes = {\"application_id\":          \"category\",\n",
    "                   \"ref_type\":                \"category\",\n",
    "                   \"ref_hash\":                \"category\",\n",
    "                   \"click_hash\":             \"category\",\n",
    "                   \"attributed\":               \"bool\",\n",
    "                   \"implicit\":                 \"bool\",\n",
    "                   \"device_countrycode\":      \"category\",\n",
    "                   \"device_brand\":          \"category\",\n",
    "                   \"device_model\":          \"category\",\n",
    "                   \"session_user_agent\":     \"category\",\n",
    "                   \"user_agent\":             \"category\",\n",
    "                   \"event_uuid\":             \"category\",\n",
    "                   \"kind\":                   \"category\",\n",
    "                   \"wifi\":                   \"category\",\n",
    "                   \"trans_id\":               \"category\",\n",
    "                   \"ip_address\":              \"category\",\n",
    "                   \"device_language\":       \"category\"}\n",
    "\n",
    "def load_installs(users=get_target_ids(), days=all_days):\n",
    "    \"\"\" load installs csv, only users and days specified in users and days lists.\n",
    "    If lists left empty, consider whole set of users and days respectively.\"\"\"\n",
    "    df_installs = pd.read_csv('../data/installs.csv', engine='c', dtype=installs_dtypes, parse_dates=['created'])\n",
    "    def load_condition(df):\n",
    "        return df['ref_hash'].isin(users) & df['date'].dt.day.isin(days)\n",
    "    df = df_installs.loc[condition(df_installs)]\n",
    "    return df"
   ]
  },
  {
   "cell_type": "code",
   "execution_count": 130,
   "metadata": {},
   "outputs": [],
   "source": [
    "events_dtypes = {\"index\":                   \"category\",\n",
    "                 \"event_id\":                \"category\",\n",
    "                 \"ref_type\":                \"category\",\n",
    "                 \"ref_hash\":                \"category\",\n",
    "                 \"application_id\":          \"category\",\n",
    "                 \"attributed\":               \"bool\",\n",
    "                 \"device_countrycode\":      \"category\",\n",
    "                 \"device_os_version\":     \"category\",\n",
    "                 \"device_brand\":          \"category\",\n",
    "                 \"device_model\":          \"category\",\n",
    "                 \"device_city\":           \"category\",\n",
    "                 \"session_user_agent\":    \"category\",\n",
    "                 \"trans_id\":               \"category\",\n",
    "                 \"user_agent\":            \"category\",\n",
    "                 \"event_uuid\":             \"category\",\n",
    "                 \"carrier\":               \"category\",\n",
    "                 \"kind\":                  \"category\",\n",
    "                 \"device_os\":             \"category\",\n",
    "                 \"wifi\":                     \"bool\",\n",
    "                 \"connection_type\":        \"category\",\n",
    "                 \"ip_address\":              \"category\",\n",
    "                 \"device_language\":       \"category\"}\n",
    "\n",
    "def load_events(users=get_target_ids(), days=all_days):\n",
    "    \"\"\" load events csv, only users and days specified in users and days lists.\n",
    "    If lists left empty, consider whole set of users and days respectively.\"\"\"\n",
    "    iter_events = pd.read_csv('../data/events.csv', engine='c', dtype=events_dtypes, parse_dates=['date'], chunksize=10000)\n",
    "    def load_condition(chunk):\n",
    "        return chunk['ref_hash'].isin(users) & chunk['date'].dt.day.isin(days)\n",
    "    df = pd.concat(chunk.loc[load_condition(chunk)] for chunk in iter_events)\n",
    "    return df"
   ]
  },
  {
   "cell_type": "code",
   "execution_count": 131,
   "metadata": {},
   "outputs": [],
   "source": [
    "auctions_dtypes = {'device_id':'category',\n",
    "                 'ref_type_id':'category',\n",
    "                 'source_id':'category'}\n",
    "\n",
    "def load_auctions(users=get_target_ids(), days=all_days):\n",
    "    \"\"\" load auctions csv, only users and days specified in users and days lists.\n",
    "    If lists left empty, consider whole set of users and days respectively.\"\"\"\n",
    "    iter_auctions = pd.read_csv('../data/auctions.csv', engine='c', dtype=auctions_dtypes, parse_dates=['date'], chunksize=10000)\n",
    "    def load_condition(chunk):\n",
    "        return chunk['device_id'].isin(users) & chunk['date'].dt.day.isin(days)\n",
    "    df = pd.concat(chunk.loc[load_condition(chunk)] for chunk in iter_auctions)\n",
    "    return df"
   ]
  },
  {
   "cell_type": "markdown",
   "metadata": {},
   "source": [
    "# Recommended bibliography"
   ]
  },
  {
   "cell_type": "markdown",
   "metadata": {},
   "source": [
    "- [Lifelines: Survival Analysis in Python](https://www.youtube.com/watch?v=XQfxndJH4UA): Introduction to survival analysis and the lifelines lib in python. Shows simple example (aka, theres code!!)\n",
    "- [Tristan Boudreault | Survival analysis for conversion rates](https://www.youtube.com/watch?v=oui1hx2bM2o): Estudio de caso: Shopify. From pyData conference in Amsterdam\n",
    "- [Introduction to survival analysis](https://lifelines.readthedocs.io/en/latest/Survival%20Analysis%20intro.html#introduction-to-survival-analysis): by lifelines"
   ]
  },
  {
   "cell_type": "markdown",
   "metadata": {},
   "source": [
    "#### Pseudo resumen de cosas utiles para aplicar\n",
    "Para survival analysis se necesitan dos cosas:\n",
    "- an array of durations\n",
    "- either a boolean or binary array representing whether the “death” was observed or not (alternatively an individual can be censored)."
   ]
  },
  {
   "cell_type": "markdown",
   "metadata": {
    "toc-hr-collapsed": false
   },
   "source": [
    "# Df loading"
   ]
  },
  {
   "cell_type": "markdown",
   "metadata": {
    "toc-hr-collapsed": false
   },
   "source": [
    "## Clicks"
   ]
  },
  {
   "cell_type": "code",
   "execution_count": 4,
   "metadata": {},
   "outputs": [],
   "source": [
    "clicks_dtypes = {'advertiser_id':'category',\n",
    "                 'action_id':'category',\n",
    "                 'source_id':'category',\n",
    "                 'country_code':'category',\n",
    "                 'latitude':'float64',\n",
    "                 'longitude':'float64',\n",
    "                 'wifi_connection':'bool',\n",
    "                 'carrier_id':'category',\n",
    "                 'trans_id':'category',\n",
    "                 'os_minor':'category',\n",
    "                 'agent_device':'category',\n",
    "                 'os_major':'category',\n",
    "                 'specs_brand':'category',\n",
    "                 'brand':'category',\n",
    "                 'timeToClick':'float64',\n",
    "                 'touchX':'object',\n",
    "                 'touchY':'object',\n",
    "                 'ref_type':'category',\n",
    "                 'ref_hash':'category'}"
   ]
  },
  {
   "cell_type": "markdown",
   "metadata": {},
   "source": [
    "El siguiente codigo carga el csv entero. Se reemplaza por las celdas que le siguen que arman un df por dia.\n",
    "```python\n",
    "df_clicks = pd.read_csv('../data/clicks.csv.gzip', compression='gzip', engine='c', dtype=clicks_dtypes, parse_dates=['created'])\n",
    "\n",
    "# Eliminar valor \"Infinity\" de touchX y touchY, y dejar datos como floats.\n",
    "df_clicks.loc[df_clicks['touchX'] == 'Infinity', 'touchX'] = np.inf\n",
    "\n",
    "df_clicks.loc[df_clicks['touchY'] == 'Infinity', 'touchY'] = np.inf\n",
    "\n",
    "df_clicks['touchX'] = df_clicks['touchX'].astype('float32')\n",
    "\n",
    "df_clicks['touchY'] = df_clicks['touchY'].astype('float32')\n",
    "```"
   ]
  },
  {
   "cell_type": "markdown",
   "metadata": {},
   "source": [
    "### Carga df por dia"
   ]
  },
  {
   "cell_type": "code",
   "execution_count": 33,
   "metadata": {},
   "outputs": [],
   "source": [
    "iter_clicks = pd.read_csv('../data/clicks.csv', engine='c', dtype=clicks_dtypes, parse_dates=['created'], chunksize=10000)\n",
    "df_clicks_day_18 = pd.concat(chunk.loc[chunk['created'].dt.day == 18] for chunk in iter_clicks)\n",
    "\n",
    "# Eliminar valor \"Infinity\" de touchX y touchY, y dejar datos como floats.\n",
    "df_clicks_day_18.loc[df_clicks_day_18['touchX'] == 'Infinity', 'touchX'] = np.inf\n",
    "\n",
    "df_clicks_day_18.loc[df_clicks_day_18['touchY'] == 'Infinity', 'touchY'] = np.inf\n",
    "\n",
    "df_clicks_day_18['touchX'] = df_clicks_day_18['touchX'].astype('float32')\n",
    "\n",
    "df_clicks_day_18['touchY'] = df_clicks_day_18['touchY'].astype('float32')"
   ]
  },
  {
   "cell_type": "code",
   "execution_count": 14,
   "metadata": {},
   "outputs": [],
   "source": [
    "iter_clicks = pd.read_csv('../data/clicks.csv', engine='c', dtype=clicks_dtypes, parse_dates=['created'], chunksize=10000)\n",
    "df_clicks_day_19 = pd.concat(chunk.loc[chunk['created'].dt.day == 19] for chunk in iter_clicks)\n",
    "\n",
    "# Eliminar valor \"Infinity\" de touchX y touchY, y dejar datos como floats.\n",
    "df_clicks_day_19.loc[df_clicks_day_19['touchX'] == 'Infinity', 'touchX'] = np.inf\n",
    "\n",
    "df_clicks_day_19.loc[df_clicks_day_19['touchY'] == 'Infinity', 'touchY'] = np.inf\n",
    "\n",
    "df_clicks_day_19['touchX'] = df_clicks_day_19['touchX'].astype('float32')\n",
    "\n",
    "df_clicks_day_19['touchY'] = df_clicks_day_19['touchY'].astype('float32')"
   ]
  },
  {
   "cell_type": "code",
   "execution_count": 16,
   "metadata": {},
   "outputs": [],
   "source": [
    "iter_clicks = pd.read_csv('../data/clicks.csv', engine='c', dtype=clicks_dtypes, parse_dates=['created'], chunksize=10000)\n",
    "df_clicks_day_20 = pd.concat(chunk.loc[chunk['created'].dt.day == 20] for chunk in iter_clicks)\n",
    "\n",
    "# Eliminar valor \"Infinity\" de touchX y touchY, y dejar datos como floats.\n",
    "df_clicks_day_20.loc[df_clicks_day_20['touchX'] == 'Infinity', 'touchX'] = np.inf\n",
    "\n",
    "df_clicks_day_20.loc[df_clicks_day_20['touchY'] == 'Infinity', 'touchY'] = np.inf\n",
    "\n",
    "df_clicks_day_20['touchX'] = df_clicks_day_20['touchX'].astype('float32')\n",
    "\n",
    "df_clicks_day_20['touchY'] = df_clicks_day_20['touchY'].astype('float32')"
   ]
  },
  {
   "cell_type": "code",
   "execution_count": 18,
   "metadata": {},
   "outputs": [],
   "source": [
    "iter_clicks = pd.read_csv('../data/clicks.csv', engine='c', dtype=clicks_dtypes, parse_dates=['created'], chunksize=10000)\n",
    "df_clicks_day_21 = pd.concat(chunk.loc[chunk['created'].dt.day == 21] for chunk in iter_clicks)\n",
    "\n",
    "# Eliminar valor \"Infinity\" de touchX y touchY, y dejar datos como floats.\n",
    "df_clicks_day_21.loc[df_clicks_day_21['touchX'] == 'Infinity', 'touchX'] = np.inf\n",
    "\n",
    "df_clicks_day_21.loc[df_clicks_day_21['touchY'] == 'Infinity', 'touchY'] = np.inf\n",
    "\n",
    "df_clicks_day_21['touchX'] = df_clicks_day_21['touchX'].astype('float32')\n",
    "\n",
    "df_clicks_day_21['touchY'] = df_clicks_day_21['touchY'].astype('float32')"
   ]
  },
  {
   "cell_type": "code",
   "execution_count": 20,
   "metadata": {},
   "outputs": [],
   "source": [
    "iter_clicks = pd.read_csv('../data/clicks.csv', engine='c', dtype=clicks_dtypes, parse_dates=['created'], chunksize=10000)\n",
    "df_clicks_day_22 = pd.concat(chunk.loc[chunk['created'].dt.day == 22] for chunk in iter_clicks)\n",
    "\n",
    "# Eliminar valor \"Infinity\" de touchX y touchY, y dejar datos como floats.\n",
    "df_clicks_day_22.loc[df_clicks_day_22['touchX'] == 'Infinity', 'touchX'] = np.inf\n",
    "\n",
    "df_clicks_day_22.loc[df_clicks_day_22['touchY'] == 'Infinity', 'touchY'] = np.inf\n",
    "\n",
    "df_clicks_day_22['touchX'] = df_clicks_day_22['touchX'].astype('float32')\n",
    "\n",
    "df_clicks_day_22['touchY'] = df_clicks_day_22['touchY'].astype('float32')"
   ]
  },
  {
   "cell_type": "code",
   "execution_count": 22,
   "metadata": {},
   "outputs": [],
   "source": [
    "iter_clicks = pd.read_csv('../data/clicks.csv', engine='c', dtype=clicks_dtypes, parse_dates=['created'], chunksize=10000)\n",
    "df_clicks_day_23 = pd.concat(chunk.loc[chunk['created'].dt.day == 23] for chunk in iter_clicks)\n",
    "\n",
    "# Eliminar valor \"Infinity\" de touchX y touchY, y dejar datos como floats.\n",
    "df_clicks_day_23.loc[df_clicks_day_23['touchX'] == 'Infinity', 'touchX'] = np.inf\n",
    "\n",
    "df_clicks_day_23.loc[df_clicks_day_23['touchY'] == 'Infinity', 'touchY'] = np.inf\n",
    "\n",
    "df_clicks_day_23['touchX'] = df_clicks_day_23['touchX'].astype('float32')\n",
    "\n",
    "df_clicks_day_23['touchY'] = df_clicks_day_23['touchY'].astype('float32')"
   ]
  },
  {
   "cell_type": "code",
   "execution_count": 24,
   "metadata": {},
   "outputs": [],
   "source": [
    "iter_clicks = pd.read_csv('../data/clicks.csv', engine='c', dtype=clicks_dtypes, parse_dates=['created'], chunksize=10000)\n",
    "df_clicks_day_24 = pd.concat(chunk.loc[chunk['created'].dt.day == 24] for chunk in iter_clicks)\n",
    "\n",
    "# Eliminar valor \"Infinity\" de touchX y touchY, y dejar datos como floats.\n",
    "df_clicks_day_24.loc[df_clicks_day_24['touchX'] == 'Infinity', 'touchX'] = np.inf\n",
    "\n",
    "df_clicks_day_24.loc[df_clicks_day_24['touchY'] == 'Infinity', 'touchY'] = np.inf\n",
    "\n",
    "df_clicks_day_24['touchX'] = df_clicks_day_24['touchX'].astype('float32')\n",
    "\n",
    "df_clicks_day_24['touchY'] = df_clicks_day_24['touchY'].astype('float32')"
   ]
  },
  {
   "cell_type": "code",
   "execution_count": 26,
   "metadata": {},
   "outputs": [],
   "source": [
    "iter_clicks = pd.read_csv('../data/clicks.csv', engine='c', dtype=clicks_dtypes, parse_dates=['created'], chunksize=10000)\n",
    "df_clicks_day_25 = pd.concat(chunk.loc[chunk['created'].dt.day == 25] for chunk in iter_clicks)\n",
    "\n",
    "# Eliminar valor \"Infinity\" de touchX y touchY, y dejar datos como floats.\n",
    "df_clicks_day_25.loc[df_clicks_day_25['touchX'] == 'Infinity', 'touchX'] = np.inf\n",
    "\n",
    "df_clicks_day_25.loc[df_clicks_day_25['touchY'] == 'Infinity', 'touchY'] = np.inf\n",
    "\n",
    "df_clicks_day_25['touchX'] = df_clicks_day_25['touchX'].astype('float32')\n",
    "\n",
    "df_clicks_day_25['touchY'] = df_clicks_day_25['touchY'].astype('float32')"
   ]
  },
  {
   "cell_type": "code",
   "execution_count": 28,
   "metadata": {},
   "outputs": [],
   "source": [
    "iter_clicks = pd.read_csv('../data/clicks.csv', engine='c', dtype=clicks_dtypes, parse_dates=['created'], chunksize=10000)\n",
    "df_clicks_day_26 = pd.concat(chunk.loc[chunk['created'].dt.day == 26] for chunk in iter_clicks)\n",
    "\n",
    "# Eliminar valor \"Infinity\" de touchX y touchY, y dejar datos como floats.\n",
    "df_clicks_day_26.loc[df_clicks_day_26['touchX'] == 'Infinity', 'touchX'] = np.inf\n",
    "\n",
    "df_clicks_day_26.loc[df_clicks_day_26['touchY'] == 'Infinity', 'touchY'] = np.inf\n",
    "\n",
    "df_clicks_day_26['touchX'] = df_clicks_day_26['touchX'].astype('float32')\n",
    "\n",
    "df_clicks_day_26['touchY'] = df_clicks_day_26['touchY'].astype('float32')"
   ]
  },
  {
   "cell_type": "code",
   "execution_count": 84,
   "metadata": {},
   "outputs": [
    {
     "data": {
      "text/html": [
       "<div>\n",
       "<style scoped>\n",
       "    .dataframe tbody tr th:only-of-type {\n",
       "        vertical-align: middle;\n",
       "    }\n",
       "\n",
       "    .dataframe tbody tr th {\n",
       "        vertical-align: top;\n",
       "    }\n",
       "\n",
       "    .dataframe thead th {\n",
       "        text-align: right;\n",
       "    }\n",
       "</style>\n",
       "<table border=\"1\" class=\"dataframe\">\n",
       "  <thead>\n",
       "    <tr style=\"text-align: right;\">\n",
       "      <th></th>\n",
       "      <th>advertiser_id</th>\n",
       "      <th>action_id</th>\n",
       "      <th>source_id</th>\n",
       "      <th>created</th>\n",
       "      <th>country_code</th>\n",
       "      <th>latitude</th>\n",
       "      <th>longitude</th>\n",
       "      <th>wifi_connection</th>\n",
       "      <th>carrier_id</th>\n",
       "      <th>trans_id</th>\n",
       "      <th>os_minor</th>\n",
       "      <th>agent_device</th>\n",
       "      <th>os_major</th>\n",
       "      <th>specs_brand</th>\n",
       "      <th>brand</th>\n",
       "      <th>timeToClick</th>\n",
       "      <th>touchX</th>\n",
       "      <th>touchY</th>\n",
       "      <th>ref_type</th>\n",
       "      <th>ref_hash</th>\n",
       "    </tr>\n",
       "  </thead>\n",
       "  <tbody>\n",
       "    <tr>\n",
       "      <th>0</th>\n",
       "      <td>1</td>\n",
       "      <td>NaN</td>\n",
       "      <td>2</td>\n",
       "      <td>2019-04-18 05:27:42.197000+00:00</td>\n",
       "      <td>6287817205707153877</td>\n",
       "      <td>1.714547</td>\n",
       "      <td>0.871535</td>\n",
       "      <td>False</td>\n",
       "      <td>3.0</td>\n",
       "      <td>9JMAfrb-b9cSEVCJb0P9JfihGthaS7E</td>\n",
       "      <td>1.5176438893491397e+18</td>\n",
       "      <td>NaN</td>\n",
       "      <td>5.131615556736863e+18</td>\n",
       "      <td>71913840936116953</td>\n",
       "      <td>0.0</td>\n",
       "      <td>2.317</td>\n",
       "      <td>0.968</td>\n",
       "      <td>0.503</td>\n",
       "      <td>1891515180541284343</td>\n",
       "      <td>1293710398598742392</td>\n",
       "    </tr>\n",
       "    <tr>\n",
       "      <th>1</th>\n",
       "      <td>1</td>\n",
       "      <td>NaN</td>\n",
       "      <td>1</td>\n",
       "      <td>2019-04-18 05:27:03.164000+00:00</td>\n",
       "      <td>6287817205707153877</td>\n",
       "      <td>1.714512</td>\n",
       "      <td>0.871062</td>\n",
       "      <td>True</td>\n",
       "      <td>2.0</td>\n",
       "      <td>r3xtTRv2lInfiXG8JI3NQsNcBo8GyFQ</td>\n",
       "      <td>1.2885781261232225e+18</td>\n",
       "      <td>NaN</td>\n",
       "      <td>3.908390200756879e+18</td>\n",
       "      <td>3576558787748411622</td>\n",
       "      <td>1.0</td>\n",
       "      <td>7.653</td>\n",
       "      <td>0.712</td>\n",
       "      <td>1.689</td>\n",
       "      <td>1891515180541284343</td>\n",
       "      <td>1663930990551616564</td>\n",
       "    </tr>\n",
       "    <tr>\n",
       "      <th>2</th>\n",
       "      <td>1</td>\n",
       "      <td>NaN</td>\n",
       "      <td>1</td>\n",
       "      <td>2019-04-18 05:42:07.926000+00:00</td>\n",
       "      <td>6287817205707153877</td>\n",
       "      <td>1.714547</td>\n",
       "      <td>0.871535</td>\n",
       "      <td>True</td>\n",
       "      <td>4.0</td>\n",
       "      <td>WOnHFqQtY48z_ygKZ-030U_g0TMGVMw</td>\n",
       "      <td>2.2387361390161664e+18</td>\n",
       "      <td>NaN</td>\n",
       "      <td>3.581232574980917e+18</td>\n",
       "      <td>3576558787748411622</td>\n",
       "      <td>NaN</td>\n",
       "      <td>464.796</td>\n",
       "      <td>0.227</td>\n",
       "      <td>0.251</td>\n",
       "      <td>1891515180541284343</td>\n",
       "      <td>8488038938665586188</td>\n",
       "    </tr>\n",
       "    <tr>\n",
       "      <th>3</th>\n",
       "      <td>1</td>\n",
       "      <td>NaN</td>\n",
       "      <td>1</td>\n",
       "      <td>2019-04-18 05:26:04.446000+00:00</td>\n",
       "      <td>6287817205707153877</td>\n",
       "      <td>1.708041</td>\n",
       "      <td>0.870772</td>\n",
       "      <td>True</td>\n",
       "      <td>1.0</td>\n",
       "      <td>wQMLLmYqiFhSuha9p9B13PMtcyBW_vM</td>\n",
       "      <td>2.411639939918313e+18</td>\n",
       "      <td>NaN</td>\n",
       "      <td>3.908390200756879e+18</td>\n",
       "      <td>3576558787748411622</td>\n",
       "      <td>NaN</td>\n",
       "      <td>225.311</td>\n",
       "      <td>0.696</td>\n",
       "      <td>6.587</td>\n",
       "      <td>1891515180541284343</td>\n",
       "      <td>6488361690105189959</td>\n",
       "    </tr>\n",
       "    <tr>\n",
       "      <th>4</th>\n",
       "      <td>1</td>\n",
       "      <td>NaN</td>\n",
       "      <td>1</td>\n",
       "      <td>2019-04-18 05:23:37.764000+00:00</td>\n",
       "      <td>6287817205707153877</td>\n",
       "      <td>1.715514</td>\n",
       "      <td>0.870772</td>\n",
       "      <td>True</td>\n",
       "      <td>2.0</td>\n",
       "      <td>GeFoyBzMA7taylMxxjzlNPTU-n4FXFs</td>\n",
       "      <td>1.5176438893491397e+18</td>\n",
       "      <td>NaN</td>\n",
       "      <td>5.131615556736863e+18</td>\n",
       "      <td>3576558787748411622</td>\n",
       "      <td>0.0</td>\n",
       "      <td>84.736</td>\n",
       "      <td>0.059</td>\n",
       "      <td>0.142</td>\n",
       "      <td>1891515180541284343</td>\n",
       "      <td>1348993302102753419</td>\n",
       "    </tr>\n",
       "  </tbody>\n",
       "</table>\n",
       "</div>"
      ],
      "text/plain": [
       "  advertiser_id action_id source_id                          created  \\\n",
       "0             1       NaN         2 2019-04-18 05:27:42.197000+00:00   \n",
       "1             1       NaN         1 2019-04-18 05:27:03.164000+00:00   \n",
       "2             1       NaN         1 2019-04-18 05:42:07.926000+00:00   \n",
       "3             1       NaN         1 2019-04-18 05:26:04.446000+00:00   \n",
       "4             1       NaN         1 2019-04-18 05:23:37.764000+00:00   \n",
       "\n",
       "          country_code  latitude  longitude  wifi_connection carrier_id  \\\n",
       "0  6287817205707153877  1.714547   0.871535            False        3.0   \n",
       "1  6287817205707153877  1.714512   0.871062             True        2.0   \n",
       "2  6287817205707153877  1.714547   0.871535             True        4.0   \n",
       "3  6287817205707153877  1.708041   0.870772             True        1.0   \n",
       "4  6287817205707153877  1.715514   0.870772             True        2.0   \n",
       "\n",
       "                          trans_id                os_minor agent_device  \\\n",
       "0  9JMAfrb-b9cSEVCJb0P9JfihGthaS7E  1.5176438893491397e+18          NaN   \n",
       "1  r3xtTRv2lInfiXG8JI3NQsNcBo8GyFQ  1.2885781261232225e+18          NaN   \n",
       "2  WOnHFqQtY48z_ygKZ-030U_g0TMGVMw  2.2387361390161664e+18          NaN   \n",
       "3  wQMLLmYqiFhSuha9p9B13PMtcyBW_vM   2.411639939918313e+18          NaN   \n",
       "4  GeFoyBzMA7taylMxxjzlNPTU-n4FXFs  1.5176438893491397e+18          NaN   \n",
       "\n",
       "                os_major          specs_brand brand  timeToClick touchX  \\\n",
       "0  5.131615556736863e+18    71913840936116953   0.0        2.317  0.968   \n",
       "1  3.908390200756879e+18  3576558787748411622   1.0        7.653  0.712   \n",
       "2  3.581232574980917e+18  3576558787748411622   NaN      464.796  0.227   \n",
       "3  3.908390200756879e+18  3576558787748411622   NaN      225.311  0.696   \n",
       "4  5.131615556736863e+18  3576558787748411622   0.0       84.736  0.059   \n",
       "\n",
       "  touchY             ref_type             ref_hash  \n",
       "0  0.503  1891515180541284343  1293710398598742392  \n",
       "1  1.689  1891515180541284343  1663930990551616564  \n",
       "2  0.251  1891515180541284343  8488038938665586188  \n",
       "3  6.587  1891515180541284343  6488361690105189959  \n",
       "4  0.142  1891515180541284343  1348993302102753419  "
      ]
     },
     "execution_count": 84,
     "metadata": {},
     "output_type": "execute_result"
    }
   ],
   "source": [
    "df_clicks.head()"
   ]
  },
  {
   "cell_type": "markdown",
   "metadata": {},
   "source": [
    "### Analysis with 1 day"
   ]
  },
  {
   "cell_type": "code",
   "execution_count": 47,
   "metadata": {},
   "outputs": [
    {
     "name": "stdout",
     "output_type": "stream",
     "text": [
      "advertiser_id\n",
      "action_id\n",
      "source_id\n",
      "created\n",
      "country_code\n",
      "latitude\n",
      "longitude\n",
      "wifi_connection\n",
      "carrier_id\n",
      "trans_id\n",
      "os_minor\n",
      "agent_device\n",
      "os_major\n",
      "specs_brand\n",
      "brand\n",
      "timeToClick\n",
      "touchX\n",
      "touchY\n",
      "ref_type\n",
      "ref_hash\n",
      "day\n"
     ]
    }
   ],
   "source": [
    "for col in df_clicks_day_18.columns:\n",
    "    print(col)"
   ]
  },
  {
   "cell_type": "code",
   "execution_count": 54,
   "metadata": {},
   "outputs": [
    {
     "data": {
      "text/plain": [
       "advertiser_id\n",
       "0           NaN\n",
       "1    234.764801\n",
       "2    155.362470\n",
       "3           NaN\n",
       "Name: timeToClick, dtype: float64"
      ]
     },
     "execution_count": 54,
     "metadata": {},
     "output_type": "execute_result"
    }
   ],
   "source": [
    "df_clicks_day_18.groupby('advertiser_id')['timeToClick'].mean()"
   ]
  },
  {
   "cell_type": "markdown",
   "metadata": {},
   "source": [
    "## Installs"
   ]
  },
  {
   "cell_type": "code",
   "execution_count": 43,
   "metadata": {},
   "outputs": [],
   "source": [
    "installs_dtypes = {\"application_id\":          \"category\",\n",
    "                   \"ref_type\":                \"category\",\n",
    "                   \"ref_hash\":                \"category\",\n",
    "                   \"click_hash\":             \"category\",\n",
    "                   \"attributed\":               \"bool\",\n",
    "                   \"implicit\":                 \"bool\",\n",
    "                   \"device_countrycode\":      \"category\",\n",
    "                   \"device_brand\":          \"category\",\n",
    "                   \"device_model\":          \"category\",\n",
    "                   \"session_user_agent\":     \"category\",\n",
    "                   \"user_agent\":             \"category\",\n",
    "                   \"event_uuid\":             \"category\",\n",
    "                   \"kind\":                   \"category\",\n",
    "                   \"wifi\":                   \"category\",\n",
    "                   \"trans_id\":               \"category\",\n",
    "                   \"ip_address\":              \"category\",\n",
    "                   \"device_language\":       \"category\"}"
   ]
  },
  {
   "cell_type": "code",
   "execution_count": 45,
   "metadata": {},
   "outputs": [],
   "source": [
    "df_installs = pd.read_csv('../data/installs.csv', engine='c', dtype=installs_dtypes, parse_dates=['created'])"
   ]
  },
  {
   "cell_type": "markdown",
   "metadata": {},
   "source": [
    "### Carga df por dia"
   ]
  },
  {
   "cell_type": "code",
   "execution_count": 46,
   "metadata": {},
   "outputs": [],
   "source": [
    "df_installs_day_18 = df_installs.loc[df_installs['created'].dt.day == 18]"
   ]
  },
  {
   "cell_type": "code",
   "execution_count": 48,
   "metadata": {},
   "outputs": [],
   "source": [
    "df_installs_day_19 = df_installs.loc[df_installs['created'].dt.day == 19]"
   ]
  },
  {
   "cell_type": "code",
   "execution_count": 50,
   "metadata": {},
   "outputs": [],
   "source": [
    "df_installs_day_20 = df_installs.loc[df_installs['created'].dt.day == 20]"
   ]
  },
  {
   "cell_type": "code",
   "execution_count": 52,
   "metadata": {},
   "outputs": [],
   "source": [
    "df_installs_day_21 = df_installs.loc[df_installs['created'].dt.day == 21]"
   ]
  },
  {
   "cell_type": "code",
   "execution_count": 54,
   "metadata": {},
   "outputs": [],
   "source": [
    "df_installs_day_22 = df_installs.loc[df_installs['created'].dt.day == 22]"
   ]
  },
  {
   "cell_type": "code",
   "execution_count": 56,
   "metadata": {},
   "outputs": [],
   "source": [
    "df_installs_day_23 = df_installs.loc[df_installs['created'].dt.day == 23]"
   ]
  },
  {
   "cell_type": "code",
   "execution_count": 58,
   "metadata": {},
   "outputs": [],
   "source": [
    "df_installs_day_24 = df_installs.loc[df_installs['created'].dt.day == 24]"
   ]
  },
  {
   "cell_type": "code",
   "execution_count": 60,
   "metadata": {},
   "outputs": [],
   "source": [
    "df_installs_day_25 = df_installs.loc[df_installs['created'].dt.day == 25]"
   ]
  },
  {
   "cell_type": "code",
   "execution_count": 62,
   "metadata": {},
   "outputs": [],
   "source": [
    "df_installs_day_26 = df_installs.loc[df_installs['created'].dt.day == 26]"
   ]
  },
  {
   "cell_type": "code",
   "execution_count": 103,
   "metadata": {},
   "outputs": [
    {
     "data": {
      "text/html": [
       "<div>\n",
       "<style scoped>\n",
       "    .dataframe tbody tr th:only-of-type {\n",
       "        vertical-align: middle;\n",
       "    }\n",
       "\n",
       "    .dataframe tbody tr th {\n",
       "        vertical-align: top;\n",
       "    }\n",
       "\n",
       "    .dataframe thead th {\n",
       "        text-align: right;\n",
       "    }\n",
       "</style>\n",
       "<table border=\"1\" class=\"dataframe\">\n",
       "  <thead>\n",
       "    <tr style=\"text-align: right;\">\n",
       "      <th></th>\n",
       "      <th>created</th>\n",
       "      <th>application_id</th>\n",
       "      <th>ref_type</th>\n",
       "      <th>ref_hash</th>\n",
       "      <th>click_hash</th>\n",
       "      <th>attributed</th>\n",
       "      <th>implicit</th>\n",
       "      <th>device_countrycode</th>\n",
       "      <th>device_brand</th>\n",
       "      <th>device_model</th>\n",
       "      <th>session_user_agent</th>\n",
       "      <th>user_agent</th>\n",
       "      <th>event_uuid</th>\n",
       "      <th>kind</th>\n",
       "      <th>wifi</th>\n",
       "      <th>trans_id</th>\n",
       "      <th>ip_address</th>\n",
       "      <th>device_language</th>\n",
       "    </tr>\n",
       "  </thead>\n",
       "  <tbody>\n",
       "    <tr>\n",
       "      <th>0</th>\n",
       "      <td>2019-04-24 06:23:29.495</td>\n",
       "      <td>1</td>\n",
       "      <td>1494519392962156891</td>\n",
       "      <td>4716708407362582887</td>\n",
       "      <td>NaN</td>\n",
       "      <td>False</td>\n",
       "      <td>True</td>\n",
       "      <td>6287817205707153877</td>\n",
       "      <td>NaN</td>\n",
       "      <td>3.739127126472163e+17</td>\n",
       "      <td>adjust.com</td>\n",
       "      <td>NaN</td>\n",
       "      <td>79837499-2f2a-4605-a663-e322f759424f</td>\n",
       "      <td>app_open</td>\n",
       "      <td>NaN</td>\n",
       "      <td>NaN</td>\n",
       "      <td>4243443387795468703</td>\n",
       "      <td>3.3013777759776993e+18</td>\n",
       "    </tr>\n",
       "    <tr>\n",
       "      <th>1</th>\n",
       "      <td>2019-04-24 02:06:01.032</td>\n",
       "      <td>1</td>\n",
       "      <td>1494519392962156891</td>\n",
       "      <td>7143568733100935872</td>\n",
       "      <td>NaN</td>\n",
       "      <td>False</td>\n",
       "      <td>False</td>\n",
       "      <td>6287817205707153877</td>\n",
       "      <td>NaN</td>\n",
       "      <td>7.80553892759877e+18</td>\n",
       "      <td>adjust.com</td>\n",
       "      <td>NaN</td>\n",
       "      <td>NaN</td>\n",
       "      <td>NaN</td>\n",
       "      <td>NaN</td>\n",
       "      <td>NaN</td>\n",
       "      <td>4724288679627032761</td>\n",
       "      <td>3.3013777759776993e+18</td>\n",
       "    </tr>\n",
       "    <tr>\n",
       "      <th>2</th>\n",
       "      <td>2019-04-20 10:15:36.274</td>\n",
       "      <td>1</td>\n",
       "      <td>1494519392962156891</td>\n",
       "      <td>5230323462636548010</td>\n",
       "      <td>NaN</td>\n",
       "      <td>False</td>\n",
       "      <td>True</td>\n",
       "      <td>6287817205707153877</td>\n",
       "      <td>NaN</td>\n",
       "      <td>8.355495513718673e+18</td>\n",
       "      <td>adjust.com</td>\n",
       "      <td>NaN</td>\n",
       "      <td>dda99e3c-9c4b-487d-891c-79f0a02cb4a8</td>\n",
       "      <td>app_open</td>\n",
       "      <td>NaN</td>\n",
       "      <td>NaN</td>\n",
       "      <td>8291809486355890410</td>\n",
       "      <td>4.060929664968129e+18</td>\n",
       "    </tr>\n",
       "    <tr>\n",
       "      <th>3</th>\n",
       "      <td>2019-04-20 21:56:47.151</td>\n",
       "      <td>1</td>\n",
       "      <td>1494519392962156891</td>\n",
       "      <td>5097163995161606833</td>\n",
       "      <td>NaN</td>\n",
       "      <td>False</td>\n",
       "      <td>True</td>\n",
       "      <td>6287817205707153877</td>\n",
       "      <td>NaN</td>\n",
       "      <td>2.3557720913769155e+18</td>\n",
       "      <td>adjust.com</td>\n",
       "      <td>NaN</td>\n",
       "      <td>7010c3ce-0fcf-46c6-9be8-374cc0e20af4</td>\n",
       "      <td>app_open</td>\n",
       "      <td>NaN</td>\n",
       "      <td>NaN</td>\n",
       "      <td>4006811922873399949</td>\n",
       "      <td>3.3013777759776993e+18</td>\n",
       "    </tr>\n",
       "    <tr>\n",
       "      <th>4</th>\n",
       "      <td>2019-04-20 22:40:41.239</td>\n",
       "      <td>1</td>\n",
       "      <td>1494519392962156891</td>\n",
       "      <td>6328027616411983332</td>\n",
       "      <td>NaN</td>\n",
       "      <td>False</td>\n",
       "      <td>False</td>\n",
       "      <td>6287817205707153877</td>\n",
       "      <td>NaN</td>\n",
       "      <td>6.156971151807135e+18</td>\n",
       "      <td>adjust.com</td>\n",
       "      <td>NaN</td>\n",
       "      <td>NaN</td>\n",
       "      <td>NaN</td>\n",
       "      <td>NaN</td>\n",
       "      <td>NaN</td>\n",
       "      <td>3386455054590810771</td>\n",
       "      <td>3.3013777759776993e+18</td>\n",
       "    </tr>\n",
       "  </tbody>\n",
       "</table>\n",
       "</div>"
      ],
      "text/plain": [
       "                  created application_id             ref_type  \\\n",
       "0 2019-04-24 06:23:29.495              1  1494519392962156891   \n",
       "1 2019-04-24 02:06:01.032              1  1494519392962156891   \n",
       "2 2019-04-20 10:15:36.274              1  1494519392962156891   \n",
       "3 2019-04-20 21:56:47.151              1  1494519392962156891   \n",
       "4 2019-04-20 22:40:41.239              1  1494519392962156891   \n",
       "\n",
       "              ref_hash click_hash  attributed  implicit   device_countrycode  \\\n",
       "0  4716708407362582887        NaN       False      True  6287817205707153877   \n",
       "1  7143568733100935872        NaN       False     False  6287817205707153877   \n",
       "2  5230323462636548010        NaN       False      True  6287817205707153877   \n",
       "3  5097163995161606833        NaN       False      True  6287817205707153877   \n",
       "4  6328027616411983332        NaN       False     False  6287817205707153877   \n",
       "\n",
       "  device_brand            device_model session_user_agent user_agent  \\\n",
       "0          NaN   3.739127126472163e+17         adjust.com        NaN   \n",
       "1          NaN    7.80553892759877e+18         adjust.com        NaN   \n",
       "2          NaN   8.355495513718673e+18         adjust.com        NaN   \n",
       "3          NaN  2.3557720913769155e+18         adjust.com        NaN   \n",
       "4          NaN   6.156971151807135e+18         adjust.com        NaN   \n",
       "\n",
       "                             event_uuid      kind wifi trans_id  \\\n",
       "0  79837499-2f2a-4605-a663-e322f759424f  app_open  NaN      NaN   \n",
       "1                                   NaN       NaN  NaN      NaN   \n",
       "2  dda99e3c-9c4b-487d-891c-79f0a02cb4a8  app_open  NaN      NaN   \n",
       "3  7010c3ce-0fcf-46c6-9be8-374cc0e20af4  app_open  NaN      NaN   \n",
       "4                                   NaN       NaN  NaN      NaN   \n",
       "\n",
       "            ip_address         device_language  \n",
       "0  4243443387795468703  3.3013777759776993e+18  \n",
       "1  4724288679627032761  3.3013777759776993e+18  \n",
       "2  8291809486355890410   4.060929664968129e+18  \n",
       "3  4006811922873399949  3.3013777759776993e+18  \n",
       "4  3386455054590810771  3.3013777759776993e+18  "
      ]
     },
     "execution_count": 103,
     "metadata": {},
     "output_type": "execute_result"
    }
   ],
   "source": [
    "df_installs.head()"
   ]
  },
  {
   "cell_type": "markdown",
   "metadata": {},
   "source": [
    "## Events"
   ]
  },
  {
   "cell_type": "code",
   "execution_count": 9,
   "metadata": {},
   "outputs": [],
   "source": [
    "events_dtypes = {\"index\":                   \"category\",\n",
    "                 \"event_id\":                \"category\",\n",
    "                 \"ref_type\":                \"category\",\n",
    "                 \"ref_hash\":                \"category\",\n",
    "                 \"application_id\":          \"category\",\n",
    "                 \"attributed\":               \"bool\",\n",
    "                 \"device_countrycode\":      \"category\",\n",
    "                 \"device_os_version\":     \"category\",\n",
    "                 \"device_brand\":          \"category\",\n",
    "                 \"device_model\":          \"category\",\n",
    "                 \"device_city\":           \"category\",\n",
    "                 \"session_user_agent\":    \"category\",\n",
    "                 \"trans_id\":               \"category\",\n",
    "                 \"user_agent\":            \"category\",\n",
    "                 \"event_uuid\":             \"category\",\n",
    "                 \"carrier\":               \"category\",\n",
    "                 \"kind\":                  \"category\",\n",
    "                 \"device_os\":             \"category\",\n",
    "                 \"wifi\":                     \"bool\",\n",
    "                 \"connection_type\":        \"category\",\n",
    "                 \"ip_address\":              \"category\",\n",
    "                 \"device_language\":       \"category\"}"
   ]
  },
  {
   "cell_type": "code",
   "execution_count": 10,
   "metadata": {},
   "outputs": [],
   "source": [
    "# df_events = pd.read_csv('../data/events.csv', engine='c', dtype=events_dtypes, parse_dates=['date'])"
   ]
  },
  {
   "cell_type": "markdown",
   "metadata": {},
   "source": [
    "### Carga df por dia"
   ]
  },
  {
   "cell_type": "code",
   "execution_count": 11,
   "metadata": {},
   "outputs": [],
   "source": [
    "iter_events = pd.read_csv('../data/events.csv', engine='c', dtype=events_dtypes, parse_dates=['date'], chunksize=10000)\n",
    "df_events_day_18 = pd.concat(chunk.loc[chunk['date'].dt.day == 18] for chunk in iter_events)"
   ]
  },
  {
   "cell_type": "code",
   "execution_count": 7,
   "metadata": {},
   "outputs": [],
   "source": [
    "iter_events = pd.read_csv('../data/events.csv', engine='c', dtype=events_dtypes, parse_dates=['date'], chunksize=10000)\n",
    "df_events_day_19 = pd.concat(chunk.loc[chunk['date'].dt.day == 19] for chunk in iter_events)"
   ]
  },
  {
   "cell_type": "code",
   "execution_count": 7,
   "metadata": {},
   "outputs": [],
   "source": [
    "iter_events = pd.read_csv('../data/events.csv', engine='c', dtype=events_dtypes, parse_dates=['date'], chunksize=10000)\n",
    "df_events_day_20 = pd.concat(chunk.loc[chunk['date'].dt.day == 20] for chunk in iter_events)"
   ]
  },
  {
   "cell_type": "code",
   "execution_count": 7,
   "metadata": {},
   "outputs": [],
   "source": [
    "iter_events = pd.read_csv('../data/events.csv', engine='c', dtype=events_dtypes, parse_dates=['date'], chunksize=10000)\n",
    "df_events_day_21 = pd.concat(chunk.loc[chunk['date'].dt.day == 21] for chunk in iter_events)"
   ]
  },
  {
   "cell_type": "code",
   "execution_count": 7,
   "metadata": {},
   "outputs": [],
   "source": [
    "iter_events = pd.read_csv('../data/events.csv', engine='c', dtype=events_dtypes, parse_dates=['date'], chunksize=10000)\n",
    "df_events_day_22 = pd.concat(chunk.loc[chunk['date'].dt.day == 22] for chunk in iter_events)"
   ]
  },
  {
   "cell_type": "code",
   "execution_count": 7,
   "metadata": {},
   "outputs": [],
   "source": [
    "iter_events = pd.read_csv('../data/events.csv', engine='c', dtype=events_dtypes, parse_dates=['date'], chunksize=10000)\n",
    "df_events_day_23 = pd.concat(chunk.loc[chunk['date'].dt.day == 23] for chunk in iter_events)"
   ]
  },
  {
   "cell_type": "code",
   "execution_count": 7,
   "metadata": {},
   "outputs": [],
   "source": [
    "iter_events = pd.read_csv('../data/events.csv', engine='c', dtype=events_dtypes, parse_dates=['date'], chunksize=10000)\n",
    "df_events_day_24 = pd.concat(chunk.loc[chunk['date'].dt.day == 24] for chunk in iter_events)"
   ]
  },
  {
   "cell_type": "code",
   "execution_count": 7,
   "metadata": {},
   "outputs": [],
   "source": [
    "iter_events = pd.read_csv('../data/events.csv', engine='c', dtype=events_dtypes, parse_dates=['date'], chunksize=10000)\n",
    "df_events_day_25 = pd.concat(chunk.loc[chunk['date'].dt.day == 25] for chunk in iter_events)"
   ]
  },
  {
   "cell_type": "code",
   "execution_count": 21,
   "metadata": {},
   "outputs": [],
   "source": [
    "iter_events = pd.read_csv('../data/events.csv', engine='c', dtype=events_dtypes, parse_dates=['date'], chunksize=10000)\n",
    "df_events_day_26 = pd.concat(chunk.loc[chunk['date'].dt.day == 26] for chunk in iter_events)"
   ]
  },
  {
   "cell_type": "code",
   "execution_count": 114,
   "metadata": {},
   "outputs": [
    {
     "data": {
      "text/html": [
       "<div>\n",
       "<style scoped>\n",
       "    .dataframe tbody tr th:only-of-type {\n",
       "        vertical-align: middle;\n",
       "    }\n",
       "\n",
       "    .dataframe tbody tr th {\n",
       "        vertical-align: top;\n",
       "    }\n",
       "\n",
       "    .dataframe thead th {\n",
       "        text-align: right;\n",
       "    }\n",
       "</style>\n",
       "<table border=\"1\" class=\"dataframe\">\n",
       "  <thead>\n",
       "    <tr style=\"text-align: right;\">\n",
       "      <th></th>\n",
       "      <th>index</th>\n",
       "      <th>date</th>\n",
       "      <th>event_id</th>\n",
       "      <th>ref_type</th>\n",
       "      <th>ref_hash</th>\n",
       "      <th>application_id</th>\n",
       "      <th>attributed</th>\n",
       "      <th>device_countrycode</th>\n",
       "      <th>device_os_version</th>\n",
       "      <th>device_brand</th>\n",
       "      <th>...</th>\n",
       "      <th>trans_id</th>\n",
       "      <th>user_agent</th>\n",
       "      <th>event_uuid</th>\n",
       "      <th>carrier</th>\n",
       "      <th>kind</th>\n",
       "      <th>device_os</th>\n",
       "      <th>wifi</th>\n",
       "      <th>connection_type</th>\n",
       "      <th>ip_address</th>\n",
       "      <th>device_language</th>\n",
       "    </tr>\n",
       "  </thead>\n",
       "  <tbody>\n",
       "    <tr>\n",
       "      <th>0</th>\n",
       "      <td>2130678</td>\n",
       "      <td>2019-04-20 01:42:49.120</td>\n",
       "      <td>0</td>\n",
       "      <td>1891515180541284343</td>\n",
       "      <td>5857744372586891366</td>\n",
       "      <td>210</td>\n",
       "      <td>False</td>\n",
       "      <td>6287817205707153877</td>\n",
       "      <td>NaN</td>\n",
       "      <td>NaN</td>\n",
       "      <td>...</td>\n",
       "      <td>NaN</td>\n",
       "      <td>5.046185273150854e+18</td>\n",
       "      <td>5b506964-5f47-4b28-a8c2-8a92d6c23379</td>\n",
       "      <td>NaN</td>\n",
       "      <td>5.882882097123621e+18</td>\n",
       "      <td>NaN</td>\n",
       "      <td>False</td>\n",
       "      <td>NaN</td>\n",
       "      <td>7544543351571901618</td>\n",
       "      <td>3.3013777759776993e+18</td>\n",
       "    </tr>\n",
       "    <tr>\n",
       "      <th>1</th>\n",
       "      <td>2130680</td>\n",
       "      <td>2019-04-20 01:42:49.340</td>\n",
       "      <td>1</td>\n",
       "      <td>1891515180541284343</td>\n",
       "      <td>7642521036780133571</td>\n",
       "      <td>210</td>\n",
       "      <td>False</td>\n",
       "      <td>6287817205707153877</td>\n",
       "      <td>NaN</td>\n",
       "      <td>NaN</td>\n",
       "      <td>...</td>\n",
       "      <td>NaN</td>\n",
       "      <td>NaN</td>\n",
       "      <td>f1fb9d15-1a7b-4116-8d3b-c4c403e197e2</td>\n",
       "      <td>NaN</td>\n",
       "      <td>4.0176741840411725e+18</td>\n",
       "      <td>NaN</td>\n",
       "      <td>False</td>\n",
       "      <td>NaN</td>\n",
       "      <td>6949523255335024165</td>\n",
       "      <td>NaN</td>\n",
       "    </tr>\n",
       "    <tr>\n",
       "      <th>2</th>\n",
       "      <td>2130681</td>\n",
       "      <td>2019-04-20 01:42:49.365</td>\n",
       "      <td>1</td>\n",
       "      <td>1891515180541284343</td>\n",
       "      <td>2548841562898283198</td>\n",
       "      <td>210</td>\n",
       "      <td>False</td>\n",
       "      <td>6287817205707153877</td>\n",
       "      <td>NaN</td>\n",
       "      <td>NaN</td>\n",
       "      <td>...</td>\n",
       "      <td>NaN</td>\n",
       "      <td>NaN</td>\n",
       "      <td>c85a0b15-a5d7-472e-8116-6bfa3db19687</td>\n",
       "      <td>NaN</td>\n",
       "      <td>4.0176741840411725e+18</td>\n",
       "      <td>NaN</td>\n",
       "      <td>False</td>\n",
       "      <td>NaN</td>\n",
       "      <td>6428537280982666957</td>\n",
       "      <td>NaN</td>\n",
       "    </tr>\n",
       "    <tr>\n",
       "      <th>3</th>\n",
       "      <td>2130684</td>\n",
       "      <td>2019-04-20 01:42:51.438</td>\n",
       "      <td>2</td>\n",
       "      <td>1891515180541284343</td>\n",
       "      <td>609402887625919085</td>\n",
       "      <td>210</td>\n",
       "      <td>False</td>\n",
       "      <td>6287817205707153877</td>\n",
       "      <td>NaN</td>\n",
       "      <td>NaN</td>\n",
       "      <td>...</td>\n",
       "      <td>NaN</td>\n",
       "      <td>NaN</td>\n",
       "      <td>f4aa0a97-2de6-4f22-95c6-1b3150112cb9</td>\n",
       "      <td>NaN</td>\n",
       "      <td>6.168308581888314e+18</td>\n",
       "      <td>NaN</td>\n",
       "      <td>False</td>\n",
       "      <td>NaN</td>\n",
       "      <td>7607371352198017145</td>\n",
       "      <td>NaN</td>\n",
       "    </tr>\n",
       "    <tr>\n",
       "      <th>4</th>\n",
       "      <td>2130688</td>\n",
       "      <td>2019-04-20 01:42:51.838</td>\n",
       "      <td>1</td>\n",
       "      <td>1891515180541284343</td>\n",
       "      <td>9114651763556439823</td>\n",
       "      <td>210</td>\n",
       "      <td>False</td>\n",
       "      <td>6287817205707153877</td>\n",
       "      <td>NaN</td>\n",
       "      <td>NaN</td>\n",
       "      <td>...</td>\n",
       "      <td>NaN</td>\n",
       "      <td>NaN</td>\n",
       "      <td>08e2f7f7-875f-4aa0-b337-b9b87b0d83ea</td>\n",
       "      <td>NaN</td>\n",
       "      <td>4.0176741840411725e+18</td>\n",
       "      <td>NaN</td>\n",
       "      <td>False</td>\n",
       "      <td>NaN</td>\n",
       "      <td>2901772839007473756</td>\n",
       "      <td>NaN</td>\n",
       "    </tr>\n",
       "  </tbody>\n",
       "</table>\n",
       "<p>5 rows × 23 columns</p>\n",
       "</div>"
      ],
      "text/plain": [
       "     index                    date event_id             ref_type  \\\n",
       "0  2130678 2019-04-20 01:42:49.120        0  1891515180541284343   \n",
       "1  2130680 2019-04-20 01:42:49.340        1  1891515180541284343   \n",
       "2  2130681 2019-04-20 01:42:49.365        1  1891515180541284343   \n",
       "3  2130684 2019-04-20 01:42:51.438        2  1891515180541284343   \n",
       "4  2130688 2019-04-20 01:42:51.838        1  1891515180541284343   \n",
       "\n",
       "              ref_hash application_id  attributed   device_countrycode  \\\n",
       "0  5857744372586891366            210       False  6287817205707153877   \n",
       "1  7642521036780133571            210       False  6287817205707153877   \n",
       "2  2548841562898283198            210       False  6287817205707153877   \n",
       "3   609402887625919085            210       False  6287817205707153877   \n",
       "4  9114651763556439823            210       False  6287817205707153877   \n",
       "\n",
       "  device_os_version device_brand  ... trans_id             user_agent  \\\n",
       "0               NaN          NaN  ...      NaN  5.046185273150854e+18   \n",
       "1               NaN          NaN  ...      NaN                    NaN   \n",
       "2               NaN          NaN  ...      NaN                    NaN   \n",
       "3               NaN          NaN  ...      NaN                    NaN   \n",
       "4               NaN          NaN  ...      NaN                    NaN   \n",
       "\n",
       "                             event_uuid carrier                    kind  \\\n",
       "0  5b506964-5f47-4b28-a8c2-8a92d6c23379     NaN   5.882882097123621e+18   \n",
       "1  f1fb9d15-1a7b-4116-8d3b-c4c403e197e2     NaN  4.0176741840411725e+18   \n",
       "2  c85a0b15-a5d7-472e-8116-6bfa3db19687     NaN  4.0176741840411725e+18   \n",
       "3  f4aa0a97-2de6-4f22-95c6-1b3150112cb9     NaN   6.168308581888314e+18   \n",
       "4  08e2f7f7-875f-4aa0-b337-b9b87b0d83ea     NaN  4.0176741840411725e+18   \n",
       "\n",
       "  device_os   wifi connection_type           ip_address  \\\n",
       "0       NaN  False             NaN  7544543351571901618   \n",
       "1       NaN  False             NaN  6949523255335024165   \n",
       "2       NaN  False             NaN  6428537280982666957   \n",
       "3       NaN  False             NaN  7607371352198017145   \n",
       "4       NaN  False             NaN  2901772839007473756   \n",
       "\n",
       "          device_language  \n",
       "0  3.3013777759776993e+18  \n",
       "1                     NaN  \n",
       "2                     NaN  \n",
       "3                     NaN  \n",
       "4                     NaN  \n",
       "\n",
       "[5 rows x 23 columns]"
      ]
     },
     "execution_count": 114,
     "metadata": {},
     "output_type": "execute_result"
    }
   ],
   "source": [
    "df_events.head()"
   ]
  },
  {
   "cell_type": "markdown",
   "metadata": {
    "toc-hr-collapsed": false
   },
   "source": [
    "## Auctions"
   ]
  },
  {
   "cell_type": "markdown",
   "metadata": {},
   "source": [
    "`$ wc -l data/auctions.csv`\n",
    "\n",
    "`47409529 data/auctions.csv`\n",
    "\n",
    "Hay 47409529 filas en auctions.csv"
   ]
  },
  {
   "cell_type": "markdown",
   "metadata": {},
   "source": [
    "Lo que se hace es crear un df por dia. \n",
    "\n",
    "**Cargar unicamente los dfs de los dias que se quiera usar. El tp precisa analizar ventanas de a 3 dias.**"
   ]
  },
  {
   "cell_type": "code",
   "execution_count": 8,
   "metadata": {},
   "outputs": [],
   "source": [
    "auctions_dtypes = {'device_id':'category',\n",
    "                 'ref_type_id':'category',\n",
    "                 'source_id':'category'}\n",
    "\n",
    "def load_auctions(users, days):\n",
    "    iter_auctions = pd.read_csv('../data/auctions.csv', engine='c', dtype=auctions_dtypes, parse_dates=['date'], chunksize=10000)\n",
    "    def load_condition(chunk):\n",
    "        return chunk['device_id'].isin(users) & chunk['date'].dt.day.isin(days)\n",
    "    df = pd.concat(chunk.loc[load_condition(chunk)] for chunk in iter_auctions)\n",
    "    return df"
   ]
  },
  {
   "cell_type": "markdown",
   "metadata": {},
   "source": [
    "### Carga df por dia"
   ]
  },
  {
   "cell_type": "code",
   "execution_count": 55,
   "metadata": {},
   "outputs": [],
   "source": [
    "asdf2 = load_df()"
   ]
  },
  {
   "cell_type": "code",
   "execution_count": 56,
   "metadata": {},
   "outputs": [],
   "source": [
    "ring()"
   ]
  },
  {
   "cell_type": "code",
   "execution_count": 57,
   "metadata": {},
   "outputs": [
    {
     "data": {
      "text/html": [
       "<div>\n",
       "<style scoped>\n",
       "    .dataframe tbody tr th:only-of-type {\n",
       "        vertical-align: middle;\n",
       "    }\n",
       "\n",
       "    .dataframe tbody tr th {\n",
       "        vertical-align: top;\n",
       "    }\n",
       "\n",
       "    .dataframe thead th {\n",
       "        text-align: right;\n",
       "    }\n",
       "</style>\n",
       "<table border=\"1\" class=\"dataframe\">\n",
       "  <thead>\n",
       "    <tr style=\"text-align: right;\">\n",
       "      <th></th>\n",
       "      <th>date</th>\n",
       "      <th>device_id</th>\n",
       "      <th>ref_type_id</th>\n",
       "      <th>source_id</th>\n",
       "    </tr>\n",
       "  </thead>\n",
       "  <tbody>\n",
       "    <tr>\n",
       "      <th>1309331</th>\n",
       "      <td>2019-04-19 05:37:40.603480</td>\n",
       "      <td>1000169251625791246</td>\n",
       "      <td>1</td>\n",
       "      <td>1</td>\n",
       "    </tr>\n",
       "    <tr>\n",
       "      <th>17050320</th>\n",
       "      <td>2019-04-19 05:37:46.207578</td>\n",
       "      <td>1000169251625791246</td>\n",
       "      <td>1</td>\n",
       "      <td>3</td>\n",
       "    </tr>\n",
       "    <tr>\n",
       "      <th>17093469</th>\n",
       "      <td>2019-04-19 05:39:44.110657</td>\n",
       "      <td>1000169251625791246</td>\n",
       "      <td>1</td>\n",
       "      <td>1</td>\n",
       "    </tr>\n",
       "    <tr>\n",
       "      <th>22726271</th>\n",
       "      <td>2019-04-19 02:55:42.312520</td>\n",
       "      <td>1000169251625791246</td>\n",
       "      <td>1</td>\n",
       "      <td>1</td>\n",
       "    </tr>\n",
       "    <tr>\n",
       "      <th>30324432</th>\n",
       "      <td>2019-04-19 05:38:28.038678</td>\n",
       "      <td>1000169251625791246</td>\n",
       "      <td>1</td>\n",
       "      <td>3</td>\n",
       "    </tr>\n",
       "    <tr>\n",
       "      <th>37822595</th>\n",
       "      <td>2019-04-19 02:55:09.519448</td>\n",
       "      <td>1000169251625791246</td>\n",
       "      <td>1</td>\n",
       "      <td>6</td>\n",
       "    </tr>\n",
       "    <tr>\n",
       "      <th>40952833</th>\n",
       "      <td>2019-04-19 02:55:54.465516</td>\n",
       "      <td>1000169251625791246</td>\n",
       "      <td>1</td>\n",
       "      <td>1</td>\n",
       "    </tr>\n",
       "  </tbody>\n",
       "</table>\n",
       "</div>"
      ],
      "text/plain": [
       "                               date            device_id ref_type_id source_id\n",
       "1309331  2019-04-19 05:37:40.603480  1000169251625791246           1         1\n",
       "17050320 2019-04-19 05:37:46.207578  1000169251625791246           1         3\n",
       "17093469 2019-04-19 05:39:44.110657  1000169251625791246           1         1\n",
       "22726271 2019-04-19 02:55:42.312520  1000169251625791246           1         1\n",
       "30324432 2019-04-19 05:38:28.038678  1000169251625791246           1         3\n",
       "37822595 2019-04-19 02:55:09.519448  1000169251625791246           1         6\n",
       "40952833 2019-04-19 02:55:54.465516  1000169251625791246           1         1"
      ]
     },
     "execution_count": 57,
     "metadata": {},
     "output_type": "execute_result"
    }
   ],
   "source": [
    "asdf2"
   ]
  },
  {
   "cell_type": "code",
   "execution_count": 18,
   "metadata": {},
   "outputs": [],
   "source": [
    "asdf = load_df()"
   ]
  },
  {
   "cell_type": "code",
   "execution_count": 45,
   "metadata": {},
   "outputs": [
    {
     "data": {
      "text/html": [
       "<div>\n",
       "<style scoped>\n",
       "    .dataframe tbody tr th:only-of-type {\n",
       "        vertical-align: middle;\n",
       "    }\n",
       "\n",
       "    .dataframe tbody tr th {\n",
       "        vertical-align: top;\n",
       "    }\n",
       "\n",
       "    .dataframe thead th {\n",
       "        text-align: right;\n",
       "    }\n",
       "</style>\n",
       "<table border=\"1\" class=\"dataframe\">\n",
       "  <thead>\n",
       "    <tr style=\"text-align: right;\">\n",
       "      <th></th>\n",
       "      <th>date</th>\n",
       "      <th>device_id</th>\n",
       "      <th>ref_type_id</th>\n",
       "      <th>source_id</th>\n",
       "      <th>diff_in_sec</th>\n",
       "      <th>observed</th>\n",
       "    </tr>\n",
       "  </thead>\n",
       "  <tbody>\n",
       "    <tr>\n",
       "      <th>37822595</th>\n",
       "      <td>2019-04-19 02:55:09.519448</td>\n",
       "      <td>1000169251625791246</td>\n",
       "      <td>1</td>\n",
       "      <td>6</td>\n",
       "      <td>10509.519448</td>\n",
       "      <td>True</td>\n",
       "    </tr>\n",
       "    <tr>\n",
       "      <th>22726271</th>\n",
       "      <td>2019-04-19 02:55:42.312520</td>\n",
       "      <td>1000169251625791246</td>\n",
       "      <td>1</td>\n",
       "      <td>1</td>\n",
       "      <td>32.793072</td>\n",
       "      <td>True</td>\n",
       "    </tr>\n",
       "    <tr>\n",
       "      <th>40952833</th>\n",
       "      <td>2019-04-19 02:55:54.465516</td>\n",
       "      <td>1000169251625791246</td>\n",
       "      <td>1</td>\n",
       "      <td>1</td>\n",
       "      <td>12.152996</td>\n",
       "      <td>True</td>\n",
       "    </tr>\n",
       "    <tr>\n",
       "      <th>1309331</th>\n",
       "      <td>2019-04-19 05:37:40.603480</td>\n",
       "      <td>1000169251625791246</td>\n",
       "      <td>1</td>\n",
       "      <td>1</td>\n",
       "      <td>9706.137964</td>\n",
       "      <td>True</td>\n",
       "    </tr>\n",
       "    <tr>\n",
       "      <th>17050320</th>\n",
       "      <td>2019-04-19 05:37:46.207578</td>\n",
       "      <td>1000169251625791246</td>\n",
       "      <td>1</td>\n",
       "      <td>3</td>\n",
       "      <td>5.604098</td>\n",
       "      <td>True</td>\n",
       "    </tr>\n",
       "    <tr>\n",
       "      <th>30324432</th>\n",
       "      <td>2019-04-19 05:38:28.038678</td>\n",
       "      <td>1000169251625791246</td>\n",
       "      <td>1</td>\n",
       "      <td>3</td>\n",
       "      <td>41.831100</td>\n",
       "      <td>True</td>\n",
       "    </tr>\n",
       "    <tr>\n",
       "      <th>17093469</th>\n",
       "      <td>2019-04-19 05:39:44.110657</td>\n",
       "      <td>1000169251625791246</td>\n",
       "      <td>1</td>\n",
       "      <td>1</td>\n",
       "      <td>76.071979</td>\n",
       "      <td>True</td>\n",
       "    </tr>\n",
       "    <tr>\n",
       "      <th>41473231</th>\n",
       "      <td>2019-04-20 03:07:55.349980</td>\n",
       "      <td>1000169251625791246</td>\n",
       "      <td>1</td>\n",
       "      <td>1</td>\n",
       "      <td>77291.239323</td>\n",
       "      <td>True</td>\n",
       "    </tr>\n",
       "    <tr>\n",
       "      <th>20283218</th>\n",
       "      <td>2019-04-20 03:09:30.503016</td>\n",
       "      <td>1000169251625791246</td>\n",
       "      <td>1</td>\n",
       "      <td>1</td>\n",
       "      <td>95.153036</td>\n",
       "      <td>True</td>\n",
       "    </tr>\n",
       "    <tr>\n",
       "      <th>3060655</th>\n",
       "      <td>2019-04-20 19:35:01.935170</td>\n",
       "      <td>1000169251625791246</td>\n",
       "      <td>1</td>\n",
       "      <td>3</td>\n",
       "      <td>59131.432154</td>\n",
       "      <td>True</td>\n",
       "    </tr>\n",
       "    <tr>\n",
       "      <th>31864281</th>\n",
       "      <td>2019-04-21 07:19:06.707184</td>\n",
       "      <td>1000169251625791246</td>\n",
       "      <td>1</td>\n",
       "      <td>1</td>\n",
       "      <td>42244.772014</td>\n",
       "      <td>True</td>\n",
       "    </tr>\n",
       "    <tr>\n",
       "      <th>14585832</th>\n",
       "      <td>2019-04-22 06:35:58.338103</td>\n",
       "      <td>1000169251625791246</td>\n",
       "      <td>1</td>\n",
       "      <td>1</td>\n",
       "      <td>83811.630919</td>\n",
       "      <td>True</td>\n",
       "    </tr>\n",
       "    <tr>\n",
       "      <th>26186447</th>\n",
       "      <td>2019-04-23 12:56:21.029283</td>\n",
       "      <td>1000169251625791246</td>\n",
       "      <td>1</td>\n",
       "      <td>1</td>\n",
       "      <td>109222.691180</td>\n",
       "      <td>True</td>\n",
       "    </tr>\n",
       "    <tr>\n",
       "      <th>33625259</th>\n",
       "      <td>2019-04-23 16:51:40.237943</td>\n",
       "      <td>1000169251625791246</td>\n",
       "      <td>1</td>\n",
       "      <td>1</td>\n",
       "      <td>14119.208660</td>\n",
       "      <td>True</td>\n",
       "    </tr>\n",
       "    <tr>\n",
       "      <th>44731387</th>\n",
       "      <td>2019-04-23 21:18:18.405114</td>\n",
       "      <td>1000169251625791246</td>\n",
       "      <td>1</td>\n",
       "      <td>1</td>\n",
       "      <td>15998.167171</td>\n",
       "      <td>True</td>\n",
       "    </tr>\n",
       "    <tr>\n",
       "      <th>18813338</th>\n",
       "      <td>2019-04-24 21:08:34.647428</td>\n",
       "      <td>1000169251625791246</td>\n",
       "      <td>1</td>\n",
       "      <td>1</td>\n",
       "      <td>85816.242314</td>\n",
       "      <td>True</td>\n",
       "    </tr>\n",
       "    <tr>\n",
       "      <th>42990255</th>\n",
       "      <td>2019-04-24 21:59:19.278136</td>\n",
       "      <td>1000169251625791246</td>\n",
       "      <td>1</td>\n",
       "      <td>1</td>\n",
       "      <td>3044.630708</td>\n",
       "      <td>True</td>\n",
       "    </tr>\n",
       "    <tr>\n",
       "      <th>16503966</th>\n",
       "      <td>2019-04-25 03:13:09.736159</td>\n",
       "      <td>1000169251625791246</td>\n",
       "      <td>1</td>\n",
       "      <td>1</td>\n",
       "      <td>18830.458023</td>\n",
       "      <td>True</td>\n",
       "    </tr>\n",
       "    <tr>\n",
       "      <th>10994414</th>\n",
       "      <td>2019-04-25 21:41:08.330055</td>\n",
       "      <td>1000169251625791246</td>\n",
       "      <td>1</td>\n",
       "      <td>1</td>\n",
       "      <td>66478.593896</td>\n",
       "      <td>True</td>\n",
       "    </tr>\n",
       "    <tr>\n",
       "      <th>24942990</th>\n",
       "      <td>2019-04-26 04:20:28.084514</td>\n",
       "      <td>1000169251625791246</td>\n",
       "      <td>1</td>\n",
       "      <td>1</td>\n",
       "      <td>23959.754459</td>\n",
       "      <td>True</td>\n",
       "    </tr>\n",
       "    <tr>\n",
       "      <th>28836627</th>\n",
       "      <td>2019-04-26 04:21:02.636902</td>\n",
       "      <td>1000169251625791246</td>\n",
       "      <td>1</td>\n",
       "      <td>1</td>\n",
       "      <td>34.552388</td>\n",
       "      <td>True</td>\n",
       "    </tr>\n",
       "    <tr>\n",
       "      <th>28862416</th>\n",
       "      <td>2019-04-26 04:21:30.810403</td>\n",
       "      <td>1000169251625791246</td>\n",
       "      <td>1</td>\n",
       "      <td>1</td>\n",
       "      <td>28.173501</td>\n",
       "      <td>True</td>\n",
       "    </tr>\n",
       "    <tr>\n",
       "      <th>42095392</th>\n",
       "      <td>2019-04-26 04:23:05.389855</td>\n",
       "      <td>1000169251625791246</td>\n",
       "      <td>1</td>\n",
       "      <td>1</td>\n",
       "      <td>94.579452</td>\n",
       "      <td>True</td>\n",
       "    </tr>\n",
       "    <tr>\n",
       "      <th>32568785</th>\n",
       "      <td>2019-04-26 04:33:04.797220</td>\n",
       "      <td>1000169251625791246</td>\n",
       "      <td>1</td>\n",
       "      <td>1</td>\n",
       "      <td>599.407365</td>\n",
       "      <td>True</td>\n",
       "    </tr>\n",
       "    <tr>\n",
       "      <th>28863266</th>\n",
       "      <td>2019-04-26 04:37:21.151782</td>\n",
       "      <td>1000169251625791246</td>\n",
       "      <td>1</td>\n",
       "      <td>1</td>\n",
       "      <td>256.354562</td>\n",
       "      <td>True</td>\n",
       "    </tr>\n",
       "    <tr>\n",
       "      <th>37918271</th>\n",
       "      <td>2019-04-26 13:08:17.111838</td>\n",
       "      <td>1000169251625791246</td>\n",
       "      <td>1</td>\n",
       "      <td>1</td>\n",
       "      <td>30655.960056</td>\n",
       "      <td>True</td>\n",
       "    </tr>\n",
       "    <tr>\n",
       "      <th>28778210</th>\n",
       "      <td>2019-04-26 16:32:03.713348</td>\n",
       "      <td>1000169251625791246</td>\n",
       "      <td>1</td>\n",
       "      <td>1</td>\n",
       "      <td>12226.601510</td>\n",
       "      <td>True</td>\n",
       "    </tr>\n",
       "    <tr>\n",
       "      <th>42311059</th>\n",
       "      <td>2019-04-26 23:02:22.213270</td>\n",
       "      <td>1000169251625791246</td>\n",
       "      <td>1</td>\n",
       "      <td>1</td>\n",
       "      <td>23418.499922</td>\n",
       "      <td>True</td>\n",
       "    </tr>\n",
       "  </tbody>\n",
       "</table>\n",
       "</div>"
      ],
      "text/plain": [
       "                               date            device_id ref_type_id  \\\n",
       "37822595 2019-04-19 02:55:09.519448  1000169251625791246           1   \n",
       "22726271 2019-04-19 02:55:42.312520  1000169251625791246           1   \n",
       "40952833 2019-04-19 02:55:54.465516  1000169251625791246           1   \n",
       "1309331  2019-04-19 05:37:40.603480  1000169251625791246           1   \n",
       "17050320 2019-04-19 05:37:46.207578  1000169251625791246           1   \n",
       "30324432 2019-04-19 05:38:28.038678  1000169251625791246           1   \n",
       "17093469 2019-04-19 05:39:44.110657  1000169251625791246           1   \n",
       "41473231 2019-04-20 03:07:55.349980  1000169251625791246           1   \n",
       "20283218 2019-04-20 03:09:30.503016  1000169251625791246           1   \n",
       "3060655  2019-04-20 19:35:01.935170  1000169251625791246           1   \n",
       "31864281 2019-04-21 07:19:06.707184  1000169251625791246           1   \n",
       "14585832 2019-04-22 06:35:58.338103  1000169251625791246           1   \n",
       "26186447 2019-04-23 12:56:21.029283  1000169251625791246           1   \n",
       "33625259 2019-04-23 16:51:40.237943  1000169251625791246           1   \n",
       "44731387 2019-04-23 21:18:18.405114  1000169251625791246           1   \n",
       "18813338 2019-04-24 21:08:34.647428  1000169251625791246           1   \n",
       "42990255 2019-04-24 21:59:19.278136  1000169251625791246           1   \n",
       "16503966 2019-04-25 03:13:09.736159  1000169251625791246           1   \n",
       "10994414 2019-04-25 21:41:08.330055  1000169251625791246           1   \n",
       "24942990 2019-04-26 04:20:28.084514  1000169251625791246           1   \n",
       "28836627 2019-04-26 04:21:02.636902  1000169251625791246           1   \n",
       "28862416 2019-04-26 04:21:30.810403  1000169251625791246           1   \n",
       "42095392 2019-04-26 04:23:05.389855  1000169251625791246           1   \n",
       "32568785 2019-04-26 04:33:04.797220  1000169251625791246           1   \n",
       "28863266 2019-04-26 04:37:21.151782  1000169251625791246           1   \n",
       "37918271 2019-04-26 13:08:17.111838  1000169251625791246           1   \n",
       "28778210 2019-04-26 16:32:03.713348  1000169251625791246           1   \n",
       "42311059 2019-04-26 23:02:22.213270  1000169251625791246           1   \n",
       "\n",
       "         source_id    diff_in_sec  observed  \n",
       "37822595         6   10509.519448      True  \n",
       "22726271         1      32.793072      True  \n",
       "40952833         1      12.152996      True  \n",
       "1309331          1    9706.137964      True  \n",
       "17050320         3       5.604098      True  \n",
       "30324432         3      41.831100      True  \n",
       "17093469         1      76.071979      True  \n",
       "41473231         1   77291.239323      True  \n",
       "20283218         1      95.153036      True  \n",
       "3060655          3   59131.432154      True  \n",
       "31864281         1   42244.772014      True  \n",
       "14585832         1   83811.630919      True  \n",
       "26186447         1  109222.691180      True  \n",
       "33625259         1   14119.208660      True  \n",
       "44731387         1   15998.167171      True  \n",
       "18813338         1   85816.242314      True  \n",
       "42990255         1    3044.630708      True  \n",
       "16503966         1   18830.458023      True  \n",
       "10994414         1   66478.593896      True  \n",
       "24942990         1   23959.754459      True  \n",
       "28836627         1      34.552388      True  \n",
       "28862416         1      28.173501      True  \n",
       "42095392         1      94.579452      True  \n",
       "32568785         1     599.407365      True  \n",
       "28863266         1     256.354562      True  \n",
       "37918271         1   30655.960056      True  \n",
       "28778210         1   12226.601510      True  \n",
       "42311059         1   23418.499922      True  "
      ]
     },
     "execution_count": 45,
     "metadata": {},
     "output_type": "execute_result"
    }
   ],
   "source": [
    "asdf"
   ]
  },
  {
   "cell_type": "code",
   "execution_count": 24,
   "metadata": {},
   "outputs": [
    {
     "data": {
      "text/plain": [
       "(8074, 2)"
      ]
     },
     "execution_count": 24,
     "metadata": {},
     "output_type": "execute_result"
    }
   ],
   "source": [
    "target.shape"
   ]
  },
  {
   "cell_type": "code",
   "execution_count": 9,
   "metadata": {},
   "outputs": [],
   "source": [
    "iter_auctions = pd.read_csv('../data/auctions.csv', engine='c', dtype=auctions_dtypes, parse_dates=['date'], chunksize=10000)\n",
    "df_auctions_day_18 = pd.concat(chunk.loc[chunk['device_id'] == '1000169251625791246'] for chunk in iter_auctions)"
   ]
  },
  {
   "cell_type": "code",
   "execution_count": 9,
   "metadata": {},
   "outputs": [],
   "source": [
    "iter_auctions = pd.read_csv('../data/auctions.csv', engine='c', dtype=auctions_dtypes, parse_dates=['date'], chunksize=10000)\n",
    "df_auctions_day_18 = pd.concat(chunk.loc[chunk['date'].dt.day == 18] for chunk in iter_auctions)"
   ]
  },
  {
   "cell_type": "code",
   "execution_count": 24,
   "metadata": {},
   "outputs": [],
   "source": [
    "iter_auctions = pd.read_csv('../data/auctions.csv', engine='c', dtype=auctions_dtypes, parse_dates=['date'], chunksize=10000)\n",
    "df_auctions_day_19 = pd.concat(chunk.loc[chunk['date'].dt.day == 19] for chunk in iter_auctions)"
   ]
  },
  {
   "cell_type": "code",
   "execution_count": 24,
   "metadata": {},
   "outputs": [],
   "source": [
    "iter_auctions = pd.read_csv('../data/auctions.csv', engine='c', dtype=auctions_dtypes, parse_dates=['date'], chunksize=10000)\n",
    "df_auctions_day_20 = pd.concat(chunk.loc[chunk['date'].dt.day == 20] for chunk in iter_auctions)"
   ]
  },
  {
   "cell_type": "code",
   "execution_count": 24,
   "metadata": {},
   "outputs": [],
   "source": [
    "iter_auctions = pd.read_csv('../data/auctions.csv', engine='c', dtype=auctions_dtypes, parse_dates=['date'], chunksize=10000)\n",
    "df_auctions_day_21 = pd.concat(chunk.loc[chunk['date'].dt.day == 21] for chunk in iter_auctions)"
   ]
  },
  {
   "cell_type": "code",
   "execution_count": 24,
   "metadata": {},
   "outputs": [],
   "source": [
    "iter_auctions = pd.read_csv('../data/auctions.csv', engine='c', dtype=auctions_dtypes, parse_dates=['date'], chunksize=10000)\n",
    "df_auctions_day_22 = pd.concat(chunk.loc[chunk['date'].dt.day == 22] for chunk in iter_auctions)"
   ]
  },
  {
   "cell_type": "code",
   "execution_count": 24,
   "metadata": {},
   "outputs": [],
   "source": [
    "iter_auctions = pd.read_csv('../data/auctions.csv', engine='c', dtype=auctions_dtypes, parse_dates=['date'], chunksize=10000)\n",
    "df_auctions_day_23 = pd.concat(chunk.loc[chunk['date'].dt.day == 23] for chunk in iter_auctions)"
   ]
  },
  {
   "cell_type": "code",
   "execution_count": 24,
   "metadata": {},
   "outputs": [],
   "source": [
    "iter_auctions = pd.read_csv('../data/auctions.csv', engine='c', dtype=auctions_dtypes, parse_dates=['date'], chunksize=10000)\n",
    "df_auctions_day_24 = pd.concat(chunk.loc[chunk['date'].dt.day == 24] for chunk in iter_auctions)"
   ]
  },
  {
   "cell_type": "code",
   "execution_count": 24,
   "metadata": {},
   "outputs": [],
   "source": [
    "iter_auctions = pd.read_csv('../data/auctions.csv', engine='c', dtype=auctions_dtypes, parse_dates=['date'], chunksize=10000)\n",
    "df_auctions_day_25 = pd.concat(chunk.loc[chunk['date'].dt.day == 25] for chunk in iter_auctions)"
   ]
  },
  {
   "cell_type": "code",
   "execution_count": 28,
   "metadata": {},
   "outputs": [],
   "source": [
    "iter_auctions = pd.read_csv('../data/auctions.csv', engine='c', dtype=auctions_dtypes, parse_dates=['date'], chunksize=10000)\n",
    "df_auctions_day_26 = pd.concat(chunk.loc[chunk['date'].dt.day == 26] for chunk in iter_auctions)"
   ]
  },
  {
   "cell_type": "markdown",
   "metadata": {},
   "source": [
    "### Probando cosas con subastas..."
   ]
  },
  {
   "cell_type": "code",
   "execution_count": 10,
   "metadata": {},
   "outputs": [],
   "source": [
    "reduced = df_auctions_day_18.head(500)"
   ]
  },
  {
   "cell_type": "code",
   "execution_count": 12,
   "metadata": {},
   "outputs": [],
   "source": [
    "reduced = reduced.sort_values(['date'])\n",
    "\n",
    "reduced['diff'] = reduced.groupby('device_id')['date'].diff()\n",
    "\n",
    "reduced['diff'].fillna(value=reduced['date']-reduced['date'].dt.floor('d'), inplace=True)\n",
    "\n",
    "reduced['diff_in_sec'] = reduced['diff'].dt.total_seconds()\n",
    "\n",
    "reduced['observed'] = True"
   ]
  },
  {
   "cell_type": "code",
   "execution_count": 29,
   "metadata": {},
   "outputs": [],
   "source": [
    "asdf = asdf.sort_values(['date'])\n",
    "\n",
    "asdf['diff'] = asdf['date'].diff()\n",
    "\n",
    "asdf['diff'].fillna(value=asdf['date']-asdf['date'].dt.floor('d'), inplace=True)\n",
    "\n",
    "asdf['diff_in_sec'] = asdf['diff'].dt.total_seconds()\n",
    "\n",
    "asdf.drop('diff', axis='columns', inplace=True)\n",
    "\n",
    "asdf['observed'] = True"
   ]
  },
  {
   "cell_type": "code",
   "execution_count": 22,
   "metadata": {},
   "outputs": [
    {
     "data": {
      "text/html": [
       "<div>\n",
       "<style scoped>\n",
       "    .dataframe tbody tr th:only-of-type {\n",
       "        vertical-align: middle;\n",
       "    }\n",
       "\n",
       "    .dataframe tbody tr th {\n",
       "        vertical-align: top;\n",
       "    }\n",
       "\n",
       "    .dataframe thead th {\n",
       "        text-align: right;\n",
       "    }\n",
       "</style>\n",
       "<table border=\"1\" class=\"dataframe\">\n",
       "  <thead>\n",
       "    <tr style=\"text-align: right;\">\n",
       "      <th></th>\n",
       "      <th>date</th>\n",
       "      <th>device_id</th>\n",
       "      <th>ref_type_id</th>\n",
       "      <th>source_id</th>\n",
       "      <th>diff</th>\n",
       "      <th>diff_in_sec</th>\n",
       "      <th>observed</th>\n",
       "    </tr>\n",
       "  </thead>\n",
       "  <tbody>\n",
       "    <tr>\n",
       "      <th>285338</th>\n",
       "      <td>2019-04-18 23:00:50.983090</td>\n",
       "      <td>3028036127478562480</td>\n",
       "      <td>1</td>\n",
       "      <td>0</td>\n",
       "      <td>23:00:50.983090</td>\n",
       "      <td>82850.983090</td>\n",
       "      <td>True</td>\n",
       "    </tr>\n",
       "    <tr>\n",
       "      <th>285339</th>\n",
       "      <td>2019-04-18 23:00:51.426613</td>\n",
       "      <td>7601431473174483609</td>\n",
       "      <td>1</td>\n",
       "      <td>0</td>\n",
       "      <td>23:00:51.426613</td>\n",
       "      <td>82851.426613</td>\n",
       "      <td>True</td>\n",
       "    </tr>\n",
       "    <tr>\n",
       "      <th>285340</th>\n",
       "      <td>2019-04-18 23:00:51.454013</td>\n",
       "      <td>5018235902686468387</td>\n",
       "      <td>1</td>\n",
       "      <td>0</td>\n",
       "      <td>23:00:51.454013</td>\n",
       "      <td>82851.454013</td>\n",
       "      <td>True</td>\n",
       "    </tr>\n",
       "    <tr>\n",
       "      <th>285341</th>\n",
       "      <td>2019-04-18 23:00:51.652223</td>\n",
       "      <td>5812445239233804650</td>\n",
       "      <td>7</td>\n",
       "      <td>0</td>\n",
       "      <td>23:00:51.652223</td>\n",
       "      <td>82851.652223</td>\n",
       "      <td>True</td>\n",
       "    </tr>\n",
       "    <tr>\n",
       "      <th>285342</th>\n",
       "      <td>2019-04-18 23:00:51.815673</td>\n",
       "      <td>8832711951922277816</td>\n",
       "      <td>7</td>\n",
       "      <td>0</td>\n",
       "      <td>23:00:51.815673</td>\n",
       "      <td>82851.815673</td>\n",
       "      <td>True</td>\n",
       "    </tr>\n",
       "  </tbody>\n",
       "</table>\n",
       "</div>"
      ],
      "text/plain": [
       "                             date            device_id ref_type_id source_id  \\\n",
       "285338 2019-04-18 23:00:50.983090  3028036127478562480           1         0   \n",
       "285339 2019-04-18 23:00:51.426613  7601431473174483609           1         0   \n",
       "285340 2019-04-18 23:00:51.454013  5018235902686468387           1         0   \n",
       "285341 2019-04-18 23:00:51.652223  5812445239233804650           7         0   \n",
       "285342 2019-04-18 23:00:51.815673  8832711951922277816           7         0   \n",
       "\n",
       "                  diff   diff_in_sec  observed  \n",
       "285338 23:00:50.983090  82850.983090      True  \n",
       "285339 23:00:51.426613  82851.426613      True  \n",
       "285340 23:00:51.454013  82851.454013      True  \n",
       "285341 23:00:51.652223  82851.652223      True  \n",
       "285342 23:00:51.815673  82851.815673      True  "
      ]
     },
     "execution_count": 22,
     "metadata": {},
     "output_type": "execute_result"
    }
   ],
   "source": [
    "reduced.head()"
   ]
  },
  {
   "cell_type": "code",
   "execution_count": 33,
   "metadata": {},
   "outputs": [],
   "source": [
    "reduced = pd.get_dummies(reduced, columns=['ref_type_id'], prefix='ref_type_id')"
   ]
  },
  {
   "cell_type": "code",
   "execution_count": 55,
   "metadata": {},
   "outputs": [],
   "source": [
    "reduced['day_of_week'] = reduced.date.dt.dayofweek\n",
    "reduced['hour'] = reduced.date.dt.hour\n",
    "reduced['minute'] = reduced.date.dt.minute\n",
    "reduced['second'] = reduced.date.dt.second"
   ]
  },
  {
   "cell_type": "code",
   "execution_count": 56,
   "metadata": {},
   "outputs": [
    {
     "data": {
      "text/html": [
       "<div>\n",
       "<style scoped>\n",
       "    .dataframe tbody tr th:only-of-type {\n",
       "        vertical-align: middle;\n",
       "    }\n",
       "\n",
       "    .dataframe tbody tr th {\n",
       "        vertical-align: top;\n",
       "    }\n",
       "\n",
       "    .dataframe thead th {\n",
       "        text-align: right;\n",
       "    }\n",
       "</style>\n",
       "<table border=\"1\" class=\"dataframe\">\n",
       "  <thead>\n",
       "    <tr style=\"text-align: right;\">\n",
       "      <th></th>\n",
       "      <th>date</th>\n",
       "      <th>device_id</th>\n",
       "      <th>source_id</th>\n",
       "      <th>diff</th>\n",
       "      <th>diff_in_sec</th>\n",
       "      <th>observed</th>\n",
       "      <th>ref_type_id_1</th>\n",
       "      <th>ref_type_id_7</th>\n",
       "      <th>day_of_week</th>\n",
       "      <th>hour</th>\n",
       "      <th>minute</th>\n",
       "      <th>second</th>\n",
       "    </tr>\n",
       "  </thead>\n",
       "  <tbody>\n",
       "    <tr>\n",
       "      <th>285338</th>\n",
       "      <td>2019-04-18 23:00:50.983090</td>\n",
       "      <td>3028036127478562480</td>\n",
       "      <td>0</td>\n",
       "      <td>23:00:50.983090</td>\n",
       "      <td>82850.983090</td>\n",
       "      <td>True</td>\n",
       "      <td>1</td>\n",
       "      <td>0</td>\n",
       "      <td>3</td>\n",
       "      <td>23</td>\n",
       "      <td>0</td>\n",
       "      <td>50</td>\n",
       "    </tr>\n",
       "    <tr>\n",
       "      <th>285339</th>\n",
       "      <td>2019-04-18 23:00:51.426613</td>\n",
       "      <td>7601431473174483609</td>\n",
       "      <td>0</td>\n",
       "      <td>23:00:51.426613</td>\n",
       "      <td>82851.426613</td>\n",
       "      <td>True</td>\n",
       "      <td>1</td>\n",
       "      <td>0</td>\n",
       "      <td>3</td>\n",
       "      <td>23</td>\n",
       "      <td>0</td>\n",
       "      <td>51</td>\n",
       "    </tr>\n",
       "    <tr>\n",
       "      <th>285340</th>\n",
       "      <td>2019-04-18 23:00:51.454013</td>\n",
       "      <td>5018235902686468387</td>\n",
       "      <td>0</td>\n",
       "      <td>23:00:51.454013</td>\n",
       "      <td>82851.454013</td>\n",
       "      <td>True</td>\n",
       "      <td>1</td>\n",
       "      <td>0</td>\n",
       "      <td>3</td>\n",
       "      <td>23</td>\n",
       "      <td>0</td>\n",
       "      <td>51</td>\n",
       "    </tr>\n",
       "    <tr>\n",
       "      <th>285341</th>\n",
       "      <td>2019-04-18 23:00:51.652223</td>\n",
       "      <td>5812445239233804650</td>\n",
       "      <td>0</td>\n",
       "      <td>23:00:51.652223</td>\n",
       "      <td>82851.652223</td>\n",
       "      <td>True</td>\n",
       "      <td>0</td>\n",
       "      <td>1</td>\n",
       "      <td>3</td>\n",
       "      <td>23</td>\n",
       "      <td>0</td>\n",
       "      <td>51</td>\n",
       "    </tr>\n",
       "    <tr>\n",
       "      <th>285342</th>\n",
       "      <td>2019-04-18 23:00:51.815673</td>\n",
       "      <td>8832711951922277816</td>\n",
       "      <td>0</td>\n",
       "      <td>23:00:51.815673</td>\n",
       "      <td>82851.815673</td>\n",
       "      <td>True</td>\n",
       "      <td>0</td>\n",
       "      <td>1</td>\n",
       "      <td>3</td>\n",
       "      <td>23</td>\n",
       "      <td>0</td>\n",
       "      <td>51</td>\n",
       "    </tr>\n",
       "  </tbody>\n",
       "</table>\n",
       "</div>"
      ],
      "text/plain": [
       "                             date            device_id source_id  \\\n",
       "285338 2019-04-18 23:00:50.983090  3028036127478562480         0   \n",
       "285339 2019-04-18 23:00:51.426613  7601431473174483609         0   \n",
       "285340 2019-04-18 23:00:51.454013  5018235902686468387         0   \n",
       "285341 2019-04-18 23:00:51.652223  5812445239233804650         0   \n",
       "285342 2019-04-18 23:00:51.815673  8832711951922277816         0   \n",
       "\n",
       "                  diff   diff_in_sec  observed  ref_type_id_1  ref_type_id_7  \\\n",
       "285338 23:00:50.983090  82850.983090      True              1              0   \n",
       "285339 23:00:51.426613  82851.426613      True              1              0   \n",
       "285340 23:00:51.454013  82851.454013      True              1              0   \n",
       "285341 23:00:51.652223  82851.652223      True              0              1   \n",
       "285342 23:00:51.815673  82851.815673      True              0              1   \n",
       "\n",
       "        day_of_week  hour  minute  second  \n",
       "285338            3    23       0      50  \n",
       "285339            3    23       0      51  \n",
       "285340            3    23       0      51  \n",
       "285341            3    23       0      51  \n",
       "285342            3    23       0      51  "
      ]
     },
     "execution_count": 56,
     "metadata": {},
     "output_type": "execute_result"
    }
   ],
   "source": [
    "reduced.head()"
   ]
  },
  {
   "cell_type": "markdown",
   "metadata": {},
   "source": [
    "### Probando Lifelines..."
   ]
  },
  {
   "cell_type": "code",
   "execution_count": 21,
   "metadata": {},
   "outputs": [],
   "source": [
    "T = reduced['diff_in_sec']\n",
    "E = reduced['observed']"
   ]
  },
  {
   "cell_type": "code",
   "execution_count": 35,
   "metadata": {},
   "outputs": [],
   "source": [
    "T = asdf['diff_in_sec']\n",
    "E = asdf['observed']"
   ]
  },
  {
   "cell_type": "markdown",
   "metadata": {},
   "source": [
    "#### Kaplan Meier"
   ]
  },
  {
   "cell_type": "code",
   "execution_count": 36,
   "metadata": {},
   "outputs": [
    {
     "data": {
      "text/plain": [
       "<lifelines.KaplanMeierFitter: fitted with 28 observations, 0 censored>"
      ]
     },
     "execution_count": 36,
     "metadata": {},
     "output_type": "execute_result"
    }
   ],
   "source": [
    "from lifelines import KaplanMeierFitter\n",
    "kmf = KaplanMeierFitter()\n",
    "kmf.fit(T, event_observed=E)  # or, more succinctly, kmf.fit(T, E)"
   ]
  },
  {
   "cell_type": "code",
   "execution_count": 38,
   "metadata": {},
   "outputs": [
    {
     "data": {
      "image/png": "[encoded data removed]",
      "text/plain": [
       "<Figure size 432x288 with 1 Axes>"
      ]
     },
     "metadata": {
      "needs_background": "light"
     },
     "output_type": "display_data"
    }
   ],
   "source": [
    "kmf.survival_function_\n",
    "kmf.cumulative_density_\n",
    "kmf.median_\n",
    "kmf.plot_survival_function(); # or just kmf.plot()"
   ]
  },
  {
   "cell_type": "code",
   "execution_count": 39,
   "metadata": {},
   "outputs": [
    {
     "data": {
      "image/png": "[encoded data removed]",
      "text/plain": [
       "<Figure size 432x288 with 1 Axes>"
      ]
     },
     "metadata": {
      "needs_background": "light"
     },
     "output_type": "display_data"
    }
   ],
   "source": [
    "kmf.plot_cumulative_density();"
   ]
  },
  {
   "cell_type": "markdown",
   "metadata": {},
   "source": [
    "#### CoxPHFitter"
   ]
  },
  {
   "cell_type": "code",
   "execution_count": 65,
   "metadata": {},
   "outputs": [],
   "source": [
    "from lifelines import CoxPHFitter\n",
    "cph = CoxPHFitter(penalizer=0.1)"
   ]
  },
  {
   "cell_type": "code",
   "execution_count": 24,
   "metadata": {},
   "outputs": [
    {
     "data": {
      "text/html": [
       "<div>\n",
       "<style scoped>\n",
       "    .dataframe tbody tr th:only-of-type {\n",
       "        vertical-align: middle;\n",
       "    }\n",
       "\n",
       "    .dataframe tbody tr th {\n",
       "        vertical-align: top;\n",
       "    }\n",
       "\n",
       "    .dataframe thead th {\n",
       "        text-align: right;\n",
       "    }\n",
       "</style>\n",
       "<table border=\"1\" class=\"dataframe\">\n",
       "  <thead>\n",
       "    <tr style=\"text-align: right;\">\n",
       "      <th></th>\n",
       "      <th>date</th>\n",
       "      <th>device_id</th>\n",
       "      <th>ref_type_id</th>\n",
       "      <th>source_id</th>\n",
       "      <th>diff</th>\n",
       "      <th>diff_in_sec</th>\n",
       "      <th>observed</th>\n",
       "    </tr>\n",
       "  </thead>\n",
       "  <tbody>\n",
       "    <tr>\n",
       "      <th>285338</th>\n",
       "      <td>2019-04-18 23:00:50.983090</td>\n",
       "      <td>3028036127478562480</td>\n",
       "      <td>1</td>\n",
       "      <td>0</td>\n",
       "      <td>23:00:50.983090</td>\n",
       "      <td>82850.983090</td>\n",
       "      <td>True</td>\n",
       "    </tr>\n",
       "    <tr>\n",
       "      <th>285339</th>\n",
       "      <td>2019-04-18 23:00:51.426613</td>\n",
       "      <td>7601431473174483609</td>\n",
       "      <td>1</td>\n",
       "      <td>0</td>\n",
       "      <td>23:00:51.426613</td>\n",
       "      <td>82851.426613</td>\n",
       "      <td>True</td>\n",
       "    </tr>\n",
       "    <tr>\n",
       "      <th>285340</th>\n",
       "      <td>2019-04-18 23:00:51.454013</td>\n",
       "      <td>5018235902686468387</td>\n",
       "      <td>1</td>\n",
       "      <td>0</td>\n",
       "      <td>23:00:51.454013</td>\n",
       "      <td>82851.454013</td>\n",
       "      <td>True</td>\n",
       "    </tr>\n",
       "    <tr>\n",
       "      <th>285341</th>\n",
       "      <td>2019-04-18 23:00:51.652223</td>\n",
       "      <td>5812445239233804650</td>\n",
       "      <td>7</td>\n",
       "      <td>0</td>\n",
       "      <td>23:00:51.652223</td>\n",
       "      <td>82851.652223</td>\n",
       "      <td>True</td>\n",
       "    </tr>\n",
       "    <tr>\n",
       "      <th>285342</th>\n",
       "      <td>2019-04-18 23:00:51.815673</td>\n",
       "      <td>8832711951922277816</td>\n",
       "      <td>7</td>\n",
       "      <td>0</td>\n",
       "      <td>23:00:51.815673</td>\n",
       "      <td>82851.815673</td>\n",
       "      <td>True</td>\n",
       "    </tr>\n",
       "  </tbody>\n",
       "</table>\n",
       "</div>"
      ],
      "text/plain": [
       "                             date            device_id ref_type_id source_id  \\\n",
       "285338 2019-04-18 23:00:50.983090  3028036127478562480           1         0   \n",
       "285339 2019-04-18 23:00:51.426613  7601431473174483609           1         0   \n",
       "285340 2019-04-18 23:00:51.454013  5018235902686468387           1         0   \n",
       "285341 2019-04-18 23:00:51.652223  5812445239233804650           7         0   \n",
       "285342 2019-04-18 23:00:51.815673  8832711951922277816           7         0   \n",
       "\n",
       "                  diff   diff_in_sec  observed  \n",
       "285338 23:00:50.983090  82850.983090      True  \n",
       "285339 23:00:51.426613  82851.426613      True  \n",
       "285340 23:00:51.454013  82851.454013      True  \n",
       "285341 23:00:51.652223  82851.652223      True  \n",
       "285342 23:00:51.815673  82851.815673      True  "
      ]
     },
     "execution_count": 24,
     "metadata": {},
     "output_type": "execute_result"
    }
   ],
   "source": [
    "reduced.head()"
   ]
  },
  {
   "cell_type": "code",
   "execution_count": 25,
   "metadata": {},
   "outputs": [
    {
     "data": {
      "text/plain": [
       "date            datetime64[ns]\n",
       "device_id               object\n",
       "ref_type_id           category\n",
       "source_id               object\n",
       "diff           timedelta64[ns]\n",
       "diff_in_sec            float64\n",
       "observed                  bool\n",
       "dtype: object"
      ]
     },
     "execution_count": 25,
     "metadata": {},
     "output_type": "execute_result"
    }
   ],
   "source": [
    "reduced.dtypes"
   ]
  },
  {
   "cell_type": "code",
   "execution_count": 66,
   "metadata": {},
   "outputs": [
    {
     "name": "stdout",
     "output_type": "stream",
     "text": [
      "Iteration 5: norm_delta = 0.00001, step_size = 1.0000, ll = -2463.99261, newton_decrement = 0.00000, seconds_since_start = 0.2Convergence completed after 5 iterations.\n",
      "<lifelines.CoxPHFitter: fitted with 500 observations, 0 censored>\n",
      "      duration col = 'diff_in_sec'\n",
      "         event col = 'observed'\n",
      "         penalizer = 0.1\n",
      "number of subjects = 500\n",
      "  number of events = 500\n",
      "partial log-likelihood = -2463.99\n",
      "  time fit was run = 2019-06-19 18:51:07 UTC\n",
      "\n",
      "---\n",
      "               coef exp(coef)  se(coef)      z      p  -log2(p)  lower 0.95  upper 0.95\n",
      "device_id     -0.00      1.00      0.00  -0.84   0.40      1.31       -0.00        0.00\n",
      "ref_type_id_1 -0.06      0.94      5.69  -0.01   0.99      0.01      -11.22       11.10\n",
      "ref_type_id_7  0.06      1.06      5.69   0.01   0.99      0.01      -11.10       11.22\n",
      "minute        -2.01      0.13      0.14 -14.54 <0.005    156.77       -2.28       -1.74\n",
      "second        -0.03      0.97      0.00  -9.99 <0.005     75.63       -0.04       -0.03\n",
      "---\n",
      "Concordance = 0.71\n",
      "Log-likelihood ratio test = 294.68 on 5 df, -log2(p)=202.16\n"
     ]
    }
   ],
   "source": [
    "cph.fit(reduced.drop(['date', 'diff', 'source_id', 'day_of_week', 'hour'], axis=1), duration_col='diff_in_sec', event_col='observed', show_progress=True)\n",
    "cph.print_summary()"
   ]
  },
  {
   "cell_type": "code",
   "execution_count": 69,
   "metadata": {},
   "outputs": [
    {
     "data": {
      "image/png": "[encoded data removed]",
      "text/plain": [
       "<Figure size 432x288 with 1 Axes>"
      ]
     },
     "metadata": {
      "needs_background": "light"
     },
     "output_type": "display_data"
    }
   ],
   "source": [
    "cph.plot();"
   ]
  }
 ],
 "metadata": {
  "kernelspec": {
   "display_name": "Python 3",
   "language": "python",
   "name": "python3"
  },
  "language_info": {
   "codemirror_mode": {
    "name": "ipython",
    "version": 3
   },
   "file_extension": ".py",
   "mimetype": "text/x-python",
   "name": "python",
   "nbconvert_exporter": "python",
   "pygments_lexer": "ipython3",
   "version": "3.5.2"
  }
 },
 "nbformat": 4,
 "nbformat_minor": 2
}
